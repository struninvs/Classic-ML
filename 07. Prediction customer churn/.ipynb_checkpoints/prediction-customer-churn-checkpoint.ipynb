{
 "cells": [
  {
   "cell_type": "markdown",
   "metadata": {
    "toc": true
   },
   "source": [
    "<h1>Содержание<span class=\"tocSkip\"></span></h1>\n",
    "<div class=\"toc\"><ul class=\"toc-item\"><li><span><a href=\"#Постановка-задачи\" data-toc-modified-id=\"Постановка-задачи-1\"><span class=\"toc-item-num\">1&nbsp;&nbsp;</span>Постановка задачи</a></span></li><li><span><a href=\"#Исходные-данные\" data-toc-modified-id=\"Исходные-данные-2\"><span class=\"toc-item-num\">2&nbsp;&nbsp;</span>Исходные данные</a></span></li><li><span><a href=\"#Импорт-библиотек\" data-toc-modified-id=\"Импорт-библиотек-3\"><span class=\"toc-item-num\">3&nbsp;&nbsp;</span>Импорт библиотек</a></span></li><li><span><a href=\"#Собственные-функции\" data-toc-modified-id=\"Собственные-функции-4\"><span class=\"toc-item-num\">4&nbsp;&nbsp;</span>Собственные функции</a></span></li><li><span><a href=\"#Обзор-данных\" data-toc-modified-id=\"Обзор-данных-5\"><span class=\"toc-item-num\">5&nbsp;&nbsp;</span>Обзор данных</a></span></li><li><span><a href=\"#Предварительная-обработка-данных\" data-toc-modified-id=\"Предварительная-обработка-данных-6\"><span class=\"toc-item-num\">6&nbsp;&nbsp;</span>Предварительная обработка данных</a></span><ul class=\"toc-item\"><li><span><a href=\"#Переименование-столбцов\" data-toc-modified-id=\"Переименование-столбцов-6.1\"><span class=\"toc-item-num\">6.1&nbsp;&nbsp;</span>Переименование столбцов</a></span></li><li><span><a href=\"#Проверка-на-дубликаты-и-пропущенные-значения\" data-toc-modified-id=\"Проверка-на-дубликаты-и-пропущенные-значения-6.2\"><span class=\"toc-item-num\">6.2&nbsp;&nbsp;</span>Проверка на дубликаты и пропущенные значения</a></span></li><li><span><a href=\"#Удаление-неинформативных-полей\" data-toc-modified-id=\"Удаление-неинформативных-полей-6.3\"><span class=\"toc-item-num\">6.3&nbsp;&nbsp;</span>Удаление неинформативных полей</a></span></li><li><span><a href=\"#Разделение-данных-по-целевому-признаку\" data-toc-modified-id=\"Разделение-данных-по-целевому-признаку-6.4\"><span class=\"toc-item-num\">6.4&nbsp;&nbsp;</span>Разделение данных по целевому признаку</a></span></li><li><span><a href=\"#Выводы\" data-toc-modified-id=\"Выводы-6.5\"><span class=\"toc-item-num\">6.5&nbsp;&nbsp;</span>Выводы</a></span></li></ul></li><li><span><a href=\"#Разведочный-анализ-данных-(EDA)\" data-toc-modified-id=\"Разведочный-анализ-данных-(EDA)-7\"><span class=\"toc-item-num\">7&nbsp;&nbsp;</span>Разведочный анализ данных (EDA)</a></span><ul class=\"toc-item\"><li><span><a href=\"#Одномерный-анализ\" data-toc-modified-id=\"Одномерный-анализ-7.1\"><span class=\"toc-item-num\">7.1&nbsp;&nbsp;</span>Одномерный анализ</a></span></li><li><span><a href=\"#Двумерный-анализ\" data-toc-modified-id=\"Двумерный-анализ-7.2\"><span class=\"toc-item-num\">7.2&nbsp;&nbsp;</span>Двумерный анализ</a></span></li><li><span><a href=\"#Обработка-пропущенных-значений\" data-toc-modified-id=\"Обработка-пропущенных-значений-7.3\"><span class=\"toc-item-num\">7.3&nbsp;&nbsp;</span>Обработка пропущенных значений</a></span></li><li><span><a href=\"#Аномальные-значения-заработной-платы\" data-toc-modified-id=\"Аномальные-значения-заработной-платы-7.4\"><span class=\"toc-item-num\">7.4&nbsp;&nbsp;</span>Аномальные значения заработной платы</a></span></li><li><span><a href=\"#Обработка-выбросов-и-редких-значений\" data-toc-modified-id=\"Обработка-выбросов-и-редких-значений-7.5\"><span class=\"toc-item-num\">7.5&nbsp;&nbsp;</span>Обработка выбросов и редких значений</a></span></li><li><span><a href=\"#Выводы\" data-toc-modified-id=\"Выводы-7.6\"><span class=\"toc-item-num\">7.6&nbsp;&nbsp;</span>Выводы</a></span></li></ul></li><li><span><a href=\"#Подготовка-данных-для-обучения-модели\" data-toc-modified-id=\"Подготовка-данных-для-обучения-модели-8\"><span class=\"toc-item-num\">8&nbsp;&nbsp;</span>Подготовка данных для обучения модели</a></span><ul class=\"toc-item\"><li><span><a href=\"#Прямое-кодирование-категориальных-признаков\" data-toc-modified-id=\"Прямое-кодирование-категориальных-признаков-8.1\"><span class=\"toc-item-num\">8.1&nbsp;&nbsp;</span>Прямое кодирование категориальных признаков</a></span></li><li><span><a href=\"#Разбивка-данных\" data-toc-modified-id=\"Разбивка-данных-8.2\"><span class=\"toc-item-num\">8.2&nbsp;&nbsp;</span>Разбивка данных</a></span></li><li><span><a href=\"#Масштабирование-численных-признаков\" data-toc-modified-id=\"Масштабирование-численных-признаков-8.3\"><span class=\"toc-item-num\">8.3&nbsp;&nbsp;</span>Масштабирование численных признаков</a></span></li><li><span><a href=\"#Выводы\" data-toc-modified-id=\"Выводы-8.4\"><span class=\"toc-item-num\">8.4&nbsp;&nbsp;</span>Выводы</a></span></li></ul></li><li><span><a href=\"#Пробное-обучение-моделей\" data-toc-modified-id=\"Пробное-обучение-моделей-9\"><span class=\"toc-item-num\">9&nbsp;&nbsp;</span>Пробное обучение моделей</a></span><ul class=\"toc-item\"><li><span><a href=\"#Логистическая-регрессия\" data-toc-modified-id=\"Логистическая-регрессия-9.1\"><span class=\"toc-item-num\">9.1&nbsp;&nbsp;</span>Логистическая регрессия</a></span></li><li><span><a href=\"#Решающее-дерево\" data-toc-modified-id=\"Решающее-дерево-9.2\"><span class=\"toc-item-num\">9.2&nbsp;&nbsp;</span>Решающее дерево</a></span></li><li><span><a href=\"#Случайный-лес\" data-toc-modified-id=\"Случайный-лес-9.3\"><span class=\"toc-item-num\">9.3&nbsp;&nbsp;</span>Случайный лес</a></span></li><li><span><a href=\"#Выводы\" data-toc-modified-id=\"Выводы-9.4\"><span class=\"toc-item-num\">9.4&nbsp;&nbsp;</span>Выводы</a></span></li></ul></li><li><span><a href=\"#Борьба-с-дисбалансом\" data-toc-modified-id=\"Борьба-с-дисбалансом-10\"><span class=\"toc-item-num\">10&nbsp;&nbsp;</span>Борьба с дисбалансом</a></span><ul class=\"toc-item\"><li><span><a href=\"#Логистическая-регрессия\" data-toc-modified-id=\"Логистическая-регрессия-10.1\"><span class=\"toc-item-num\">10.1&nbsp;&nbsp;</span>Логистическая регрессия</a></span></li><li><span><a href=\"#Решающее-дерево\" data-toc-modified-id=\"Решающее-дерево-10.2\"><span class=\"toc-item-num\">10.2&nbsp;&nbsp;</span>Решающее дерево</a></span></li><li><span><a href=\"#Случайный-лес\" data-toc-modified-id=\"Случайный-лес-10.3\"><span class=\"toc-item-num\">10.3&nbsp;&nbsp;</span>Случайный лес</a></span></li><li><span><a href=\"#Выводы\" data-toc-modified-id=\"Выводы-10.4\"><span class=\"toc-item-num\">10.4&nbsp;&nbsp;</span>Выводы</a></span></li></ul></li><li><span><a href=\"#Подбор-гиперпараметров\" data-toc-modified-id=\"Подбор-гиперпараметров-11\"><span class=\"toc-item-num\">11&nbsp;&nbsp;</span>Подбор гиперпараметров</a></span><ul class=\"toc-item\"><li><span><a href=\"#Логистическая-регрессия\" data-toc-modified-id=\"Логистическая-регрессия-11.1\"><span class=\"toc-item-num\">11.1&nbsp;&nbsp;</span>Логистическая регрессия</a></span></li><li><span><a href=\"#Решающее-дерево\" data-toc-modified-id=\"Решающее-дерево-11.2\"><span class=\"toc-item-num\">11.2&nbsp;&nbsp;</span>Решающее дерево</a></span></li><li><span><a href=\"#Случайный-лес\" data-toc-modified-id=\"Случайный-лес-11.3\"><span class=\"toc-item-num\">11.3&nbsp;&nbsp;</span>Случайный лес</a></span></li><li><span><a href=\"#Выводы\" data-toc-modified-id=\"Выводы-11.4\"><span class=\"toc-item-num\">11.4&nbsp;&nbsp;</span>Выводы</a></span></li></ul></li><li><span><a href=\"#Тестирование-модели\" data-toc-modified-id=\"Тестирование-модели-12\"><span class=\"toc-item-num\">12&nbsp;&nbsp;</span>Тестирование модели</a></span></li><li><span><a href=\"#Проверка-модели-на-адекватность\" data-toc-modified-id=\"Проверка-модели-на-адекватность-13\"><span class=\"toc-item-num\">13&nbsp;&nbsp;</span>Проверка модели на адекватность</a></span></li><li><span><a href=\"#Выводы\" data-toc-modified-id=\"Выводы-14\"><span class=\"toc-item-num\">14&nbsp;&nbsp;</span>Выводы</a></span></li><li><span><a href=\"#Чек-лист-готовности-проекта\" data-toc-modified-id=\"Чек-лист-готовности-проекта-15\"><span class=\"toc-item-num\">15&nbsp;&nbsp;</span>Чек-лист готовности проекта</a></span></li></ul></div>"
   ]
  },
  {
   "cell_type": "markdown",
   "metadata": {},
   "source": [
    "# Моделирование оттока клиентов"
   ]
  },
  {
   "cell_type": "markdown",
   "metadata": {},
   "source": [
    "## Постановка задачи"
   ]
  },
  {
   "cell_type": "markdown",
   "metadata": {},
   "source": [
    "Из «Бета-Банка» стали уходить клиенты. Каждый месяц. Немного, но заметно. Банковские маркетологи посчитали: сохранять текущих клиентов дешевле, чем привлекать новых.\n",
    "\n",
    "Нужно спрогнозировать, уйдёт клиент из банка в ближайшее время или нет. Для проекта предоставлены исторические данные о поведении клиентов и расторжении договоров с банком. \n",
    "\n",
    "Задача: построить модель для решения задачи классификации с предельно большим значением *F1*-меры (минимум 0.59) и проверить *F1*-меру на тестовой выборке. Дополнительно измерять *AUC-ROC* для сравнения её значения с *F1*-мерой.\n",
    "\n",
    "Источник данных: [https://www.kaggle.com/barelydedicated/bank-customer-churn-modeling](https://www.kaggle.com/barelydedicated/bank-customer-churn-modeling)"
   ]
  },
  {
   "cell_type": "markdown",
   "metadata": {},
   "source": [
    "## Исходные данные"
   ]
  },
  {
   "cell_type": "markdown",
   "metadata": {},
   "source": [
    "В нашем распоряжении исторические данные о поведении клиентов и расторжении договоров с банком. Данные находятся в файле `Churn.csv`, отдельной тестовой выборки нет, значит, исходные данные будет необходимо разбить на три части: обучающую, валидационную и тестовую.\n",
    "\n",
    "**Признаки:**\n",
    "* `RowNumber` — индекс строки в данных;\n",
    "* `CustomerId` — уникальный идентификатор клиента;\n",
    "* `Surname` — фамилия;\n",
    "* `CreditScore` — кредитный рейтинг;\n",
    "* `Geography` — страна проживания;\n",
    "* `Gender` — пол;\n",
    "* `Age` — возраст;\n",
    "* `Tenure` — сколько лет человек является клиентом банка;\n",
    "* `Balance` — баланс на счёте;\n",
    "* `NumOfProducts` — количество продуктов банка, используемых клиентом;\n",
    "* `HasCrCard` — наличие кредитной карты;\n",
    "* `IsActiveMember` — активность клиента;\n",
    "* `EstimatedSalary` — предполагаемая зарплата.\n",
    "\n",
    "**Целевые признаки:**\n",
    "* `Exited` — факт ухода клиента."
   ]
  },
  {
   "cell_type": "markdown",
   "metadata": {},
   "source": [
    "## Импорт библиотек"
   ]
  },
  {
   "cell_type": "markdown",
   "metadata": {},
   "source": [
    "Это технический раздел. Можно сразу перейти к [обзору данных](#Обзор-данных)"
   ]
  },
  {
   "cell_type": "code",
   "execution_count": 1,
   "metadata": {},
   "outputs": [],
   "source": [
    "# библиотеки для анализа и визуализации данных\n",
    "import pandas as pd\n",
    "import numpy as np\n",
    "import matplotlib.pyplot as plt\n",
    "import seaborn as sns\n",
    "import math\n",
    "\n",
    "# библиотеки для машинного обучения..\n",
    "# .. подготовка датасета\n",
    "from sklearn.model_selection import train_test_split\n",
    "from sklearn.preprocessing import StandardScaler\n",
    "from sklearn.preprocessing import OneHotEncoder\n",
    "from sklearn.preprocessing import LabelEncoder\n",
    "\n",
    "# .. классификаторы\n",
    "from sklearn.dummy import DummyClassifier\n",
    "from sklearn.tree import DecisionTreeClassifier\n",
    "from sklearn.ensemble import RandomForestClassifier\n",
    "from sklearn.linear_model import LogisticRegression\n",
    "\n",
    "# .. метрики классификаторов\n",
    "from sklearn.metrics import accuracy_score\n",
    "from sklearn.metrics import precision_score\n",
    "from sklearn.metrics import recall_score\n",
    "from sklearn.metrics import f1_score\n",
    "from sklearn.metrics import roc_auc_score\n",
    "from sklearn.metrics import roc_curve\n",
    "\n",
    "#.. утилиты\n",
    "from sklearn.utils import shuffle"
   ]
  },
  {
   "cell_type": "markdown",
   "metadata": {},
   "source": [
    "## Собственные функции"
   ]
  },
  {
   "cell_type": "markdown",
   "metadata": {},
   "source": [
    "Это технический раздел. Можно сразу перейти к [обзору данных](#Обзор-данных)"
   ]
  },
  {
   "cell_type": "markdown",
   "metadata": {},
   "source": [
    "В работе над проектом применены некоторые собственные функции:"
   ]
  },
  {
   "cell_type": "code",
   "execution_count": 2,
   "metadata": {},
   "outputs": [],
   "source": [
    "# построение гистограмм для сравнения метрик из списка [subset] из двух датасетов\n",
    "def compare_hist(df1, df2, df_names, subset, axes, density = True) -> None:\n",
    "    bins1 = int(1 + np.floor(math.log2(df1.shape[0])))\n",
    "    bins2 = int(1 + np.floor(math.log2(df2.shape[0])))\n",
    "    row, col = 1, 1\n",
    "    if type(axes) == np.ndarray:\n",
    "        row = axes.shape[0]\n",
    "        col = axes.shape[1] if len(axes.shape) == 2 else 1  \n",
    "    subset_cnt = 0\n",
    "    for y in range(0, row):\n",
    "        axes_row = axes if row == 1 else axes[y]\n",
    "        for x in range(0, col):\n",
    "            axe = axes_row if col == 1 else axes_row[x]            \n",
    "            axe.set_xlabel(subset[subset_cnt], color = 'darkblue', fontsize = 14)\n",
    "            axe.hist(df1[subset[subset_cnt]], bins1, edgecolor = 'black', color= 'cornflowerblue', \n",
    "                     density = density, label = df_names[0], lw = 1.5)\n",
    "            axe.hist(df2[subset[subset_cnt]], bins2, alpha = 0.75, edgecolor = 'black', color= 'orange', \n",
    "                     density = density, label = df_names[1], lw = 1.5)\n",
    "            axe.legend()\n",
    "            subset_cnt = subset_cnt + 1\n",
    "            if subset_cnt == len(subset): break\n",
    "    return None\n",
    "\n",
    "# построение столбчатых диаграмм для сравнения групп внутри признака [feature] из двух датасетов\n",
    "# функция самостоятельно выделяет группы внутри признака\n",
    "# для каждой группы считает соотношение dfi_elem/(df1_elem + df2_elem), где i - номер датасета\n",
    "def compare_bar(df1, df2, df_names, feature, axes) -> None:\n",
    "    width = 0.3\n",
    "    compare_list = list(pd.concat([df1, df2])[feature].unique())\n",
    "    compare_list.sort()\n",
    "    df1_list = []\n",
    "    df2_list = []\n",
    "    for elem in compare_list:\n",
    "        df1_elem = df1.loc[df1[feature] == elem, feature].count()\n",
    "        df2_elem = df2.loc[df2[feature] == elem, feature].count()\n",
    "        df1_list.append(round(df1_elem/(df1_elem + df2_elem)*100, 2))\n",
    "        df2_list.append(round(df2_elem/(df1_elem + df2_elem)*100, 2))\n",
    "    row, col = 1, 1\n",
    "    if type(axes) == np.ndarray:\n",
    "        row = axes.shape[0]\n",
    "        col = axes.shape[1] if len(axes.shape) == 2 else 1  \n",
    "    compare_cnt = 0\n",
    "    for y in range(0, row):\n",
    "        axes_row = axes if row == 1 else axes[y]\n",
    "        for x in range(0, col):\n",
    "            axe = axes_row if col == 1 else axes_row[x]\n",
    "            axe.bar(x = 0 - width/2, height = df1_list[compare_cnt], width = width, label = df_names[0])\n",
    "            axe.bar(x = 0 + width/2, height = df2_list[compare_cnt], width = width, label = df_names[1])\n",
    "            axe.tick_params(axis='x', which='both', bottom=False, top=False, labelbottom=False)\n",
    "            axe.tick_params(axis='y', which='both', reset=True, left = True, right = False)\n",
    "            axe.set_xlabel(compare_list[compare_cnt], color = 'darkblue', fontsize = 14)\n",
    "            axe.legend()\n",
    "            print(f\"{compare_list[compare_cnt]:>15} \\\n",
    "            {df_names[0]} - {df1_list[compare_cnt]:6.2f}%, {df_names[1]} - {(df2_list[compare_cnt]):6.2f}%\")\n",
    "            compare_cnt = compare_cnt + 1 \n",
    "            if compare_cnt == len(compare_list): break\n",
    "    return None\n",
    "\n",
    "# исключает выбросы датасета [df] в признаках из списка [subset]\n",
    "def out_exclusion(df, subset) -> pd.DataFrame:\n",
    "    old_rows = df.shape[0]\n",
    "    print(f\"{old_rows:7d} записей в наборе данных до очистки выбивающихся значений\")\n",
    "    iter_rows = 0    \n",
    "    while iter_rows != df.shape[0]:\n",
    "        iter_rows = df.shape[0]\n",
    "        for col in subset:\n",
    "            Q1 = df[col].quantile(0.25)\n",
    "            Q3 = df[col].quantile(0.75)\n",
    "            df = df.loc[(df[col] >= Q1-(Q3-Q1)*1.5) & (df[col] <= Q3+(Q3-Q1)*1.5)]           \n",
    "    df = df.reset_index(drop = True)   \n",
    "    print(f\"{(old_rows - df.shape[0]):7d} записей удалено из набора ({round((1-df.shape[0]/old_rows)*100, 2)}%)\")\n",
    "    print(f'{df.shape[0]:7d} записей осталось в наборе после очистки выбивающихся значений')\n",
    "    return df\n",
    "\n",
    "# визуализация результата исключения выбросов из датасета - оболочка для def out_exclusion(df, subset)\n",
    "def out_ex_vis(df, subset, title = '') -> pd.DataFrame:\n",
    "    df_prep = out_exclusion(df, subset)    \n",
    "    fig, axes = plt.subplots(len(subset), 2, figsize = (16, len(subset)*4))\n",
    "    fig.suptitle(title, y = 1.04 - (len(subset) - 1)/25, color = 'darkblue', fontsize = 16)\n",
    "    axes_col_0 = axes[0] if len(subset) == 1 else axes[:, 0]\n",
    "    compare_hist(df, df_prep, ['Исходное распределение', 'После исключения выбросов'], subset, axes_col_0, False)\n",
    "    axes_col_1 = axes[1] if len(subset) == 1 else axes[:, 1]\n",
    "    y = 0\n",
    "    for metric in subset:\n",
    "        if len(subset) > 1:\n",
    "            axes_col_1[y].boxplot(df[metric], vert = False)\n",
    "        else:\n",
    "            axes_col_1.boxplot(df[metric], vert = False)\n",
    "        y += 1\n",
    "    plt.show()    \n",
    "    return df_prep\n",
    "\n",
    "# визуализация матрицы df.corr()\n",
    "def plotCorrelationMatrix(df, graphWidth, title = ''):\n",
    "    #df = df.dropna('columns') # drop columns with NaN\n",
    "    df = df[[col for col in df if df[col].nunique() > 1]] # оставим только столбцы, в которых есть более 1 уникального элемента\n",
    "    if df.shape[1] < 2:\n",
    "        print(f'No correlation plots shown: The number of non-NaN or constant columns ({df.shape[1]}) is less than 2')\n",
    "        return\n",
    "    corr = df.corr()\n",
    "    plt.figure(num=None, figsize=(graphWidth, graphWidth), dpi=80, facecolor='w', edgecolor='k')\n",
    "    corrMat = plt.matshow(corr, fignum = 1)\n",
    "    plt.xticks(range(len(corr.columns)), corr.columns, rotation=90)\n",
    "    plt.yticks(range(len(corr.columns)), corr.columns)\n",
    "    plt.gca().xaxis.tick_bottom()\n",
    "    plt.colorbar(corrMat)\n",
    "    plt.title(f'Correlation Matrix for {title}', fontsize=15)\n",
    "    index = corr.index.to_list()\n",
    "    corr = corr.round(2)\n",
    "    for i in range(0, len(index)):\n",
    "        for j in range(0, len(index)):\n",
    "            if abs(corr.loc[index[i], index[j]]) >= 0.1 and abs(corr.loc[index[i], index[j]]) < 1:\n",
    "                plt.text(j, i, corr.loc[index[i], index[j]], color='white', ha='center', va='center', weight = 'bold')\n",
    "    \n",
    "    plt.show()\n",
    "\n",
    "# оверсэмплинг набора данных для обучения модели\n",
    "def upsample(features, target):\n",
    "    features_zeros = features[target == 0].copy()\n",
    "    features_ones = features[target == 1].copy()\n",
    "    target_zeros = target[target == 0].copy()\n",
    "    target_ones = target[target == 1].copy()\n",
    "    \n",
    "    zeros_len = len(features_zeros)\n",
    "    ones_len = len(features_ones) \n",
    "    \n",
    "    if zeros_len > ones_len:\n",
    "        repeat = round(zeros_len/ones_len)\n",
    "        features_upsampled = pd.concat([features_zeros] + [features_ones] * repeat)\n",
    "        target_upsampled = pd.concat([target_zeros] + [target_ones] * repeat)\n",
    "        #features_upsampled = pd.concat([features_zeros, features_ones.sample(n = zeros_len, random_state = 12345, replace=True)])\n",
    "        #target_upsampled = pd.concat([target_zeros, target_ones.sample(n = zeros_len, random_state = 12345, replace=True)])\n",
    "    else:\n",
    "        repeat = round(ones_len/zeros_len)\n",
    "        features_upsampled = pd.concat([features_ones] + [features_zeros] * repeat)\n",
    "        target_upsampled = pd.concat([target_ones] + [target_zeros] * repeat)\n",
    "        #features_upsampled = pd.concat([features_ones, features_zeros.sample(n = ones_len, random_state = 12345, replace=True)])\n",
    "        #target_upsampled = pd.concat([target_ones, target_zeros.sample(n = ones_len, random_state = 12345, replace=True)])\n",
    "    \n",
    "    features_upsampled, target_upsampled = shuffle(features_upsampled, target_upsampled, random_state=12345)\n",
    "    \n",
    "    return features_upsampled, target_upsampled"
   ]
  },
  {
   "cell_type": "markdown",
   "metadata": {},
   "source": [
    "## Обзор данных"
   ]
  },
  {
   "cell_type": "code",
   "execution_count": 3,
   "metadata": {},
   "outputs": [
    {
     "data": {
      "text/html": [
       "<div>\n",
       "<style scoped>\n",
       "    .dataframe tbody tr th:only-of-type {\n",
       "        vertical-align: middle;\n",
       "    }\n",
       "\n",
       "    .dataframe tbody tr th {\n",
       "        vertical-align: top;\n",
       "    }\n",
       "\n",
       "    .dataframe thead th {\n",
       "        text-align: right;\n",
       "    }\n",
       "</style>\n",
       "<table border=\"1\" class=\"dataframe\">\n",
       "  <thead>\n",
       "    <tr style=\"text-align: right;\">\n",
       "      <th></th>\n",
       "      <th>RowNumber</th>\n",
       "      <th>CustomerId</th>\n",
       "      <th>Surname</th>\n",
       "      <th>CreditScore</th>\n",
       "      <th>Geography</th>\n",
       "      <th>Gender</th>\n",
       "      <th>Age</th>\n",
       "      <th>Tenure</th>\n",
       "      <th>Balance</th>\n",
       "      <th>NumOfProducts</th>\n",
       "      <th>HasCrCard</th>\n",
       "      <th>IsActiveMember</th>\n",
       "      <th>EstimatedSalary</th>\n",
       "      <th>Exited</th>\n",
       "    </tr>\n",
       "  </thead>\n",
       "  <tbody>\n",
       "    <tr>\n",
       "      <th>0</th>\n",
       "      <td>1</td>\n",
       "      <td>15634602</td>\n",
       "      <td>Hargrave</td>\n",
       "      <td>619</td>\n",
       "      <td>France</td>\n",
       "      <td>Female</td>\n",
       "      <td>42</td>\n",
       "      <td>2.0</td>\n",
       "      <td>0.00</td>\n",
       "      <td>1</td>\n",
       "      <td>1</td>\n",
       "      <td>1</td>\n",
       "      <td>101348.88</td>\n",
       "      <td>1</td>\n",
       "    </tr>\n",
       "    <tr>\n",
       "      <th>1</th>\n",
       "      <td>2</td>\n",
       "      <td>15647311</td>\n",
       "      <td>Hill</td>\n",
       "      <td>608</td>\n",
       "      <td>Spain</td>\n",
       "      <td>Female</td>\n",
       "      <td>41</td>\n",
       "      <td>1.0</td>\n",
       "      <td>83807.86</td>\n",
       "      <td>1</td>\n",
       "      <td>0</td>\n",
       "      <td>1</td>\n",
       "      <td>112542.58</td>\n",
       "      <td>0</td>\n",
       "    </tr>\n",
       "    <tr>\n",
       "      <th>2</th>\n",
       "      <td>3</td>\n",
       "      <td>15619304</td>\n",
       "      <td>Onio</td>\n",
       "      <td>502</td>\n",
       "      <td>France</td>\n",
       "      <td>Female</td>\n",
       "      <td>42</td>\n",
       "      <td>8.0</td>\n",
       "      <td>159660.80</td>\n",
       "      <td>3</td>\n",
       "      <td>1</td>\n",
       "      <td>0</td>\n",
       "      <td>113931.57</td>\n",
       "      <td>1</td>\n",
       "    </tr>\n",
       "    <tr>\n",
       "      <th>3</th>\n",
       "      <td>4</td>\n",
       "      <td>15701354</td>\n",
       "      <td>Boni</td>\n",
       "      <td>699</td>\n",
       "      <td>France</td>\n",
       "      <td>Female</td>\n",
       "      <td>39</td>\n",
       "      <td>1.0</td>\n",
       "      <td>0.00</td>\n",
       "      <td>2</td>\n",
       "      <td>0</td>\n",
       "      <td>0</td>\n",
       "      <td>93826.63</td>\n",
       "      <td>0</td>\n",
       "    </tr>\n",
       "    <tr>\n",
       "      <th>4</th>\n",
       "      <td>5</td>\n",
       "      <td>15737888</td>\n",
       "      <td>Mitchell</td>\n",
       "      <td>850</td>\n",
       "      <td>Spain</td>\n",
       "      <td>Female</td>\n",
       "      <td>43</td>\n",
       "      <td>2.0</td>\n",
       "      <td>125510.82</td>\n",
       "      <td>1</td>\n",
       "      <td>1</td>\n",
       "      <td>1</td>\n",
       "      <td>79084.10</td>\n",
       "      <td>0</td>\n",
       "    </tr>\n",
       "  </tbody>\n",
       "</table>\n",
       "</div>"
      ],
      "text/plain": [
       "   RowNumber  CustomerId   Surname  CreditScore Geography  Gender  Age  \\\n",
       "0          1    15634602  Hargrave          619    France  Female   42   \n",
       "1          2    15647311      Hill          608     Spain  Female   41   \n",
       "2          3    15619304      Onio          502    France  Female   42   \n",
       "3          4    15701354      Boni          699    France  Female   39   \n",
       "4          5    15737888  Mitchell          850     Spain  Female   43   \n",
       "\n",
       "   Tenure    Balance  NumOfProducts  HasCrCard  IsActiveMember  \\\n",
       "0     2.0       0.00              1          1               1   \n",
       "1     1.0   83807.86              1          0               1   \n",
       "2     8.0  159660.80              3          1               0   \n",
       "3     1.0       0.00              2          0               0   \n",
       "4     2.0  125510.82              1          1               1   \n",
       "\n",
       "   EstimatedSalary  Exited  \n",
       "0        101348.88       1  \n",
       "1        112542.58       0  \n",
       "2        113931.57       1  \n",
       "3         93826.63       0  \n",
       "4         79084.10       0  "
      ]
     },
     "metadata": {},
     "output_type": "display_data"
    },
    {
     "name": "stdout",
     "output_type": "stream",
     "text": [
      "(10000, 14)\n"
     ]
    }
   ],
   "source": [
    "df = pd.read_csv('Churn.csv')\n",
    "display(df.head())\n",
    "print(df.shape)"
   ]
  },
  {
   "cell_type": "markdown",
   "metadata": {},
   "source": [
    "В исходном наборе данных 10000 строк и 14 столбцов. Чтобы получить более подробное представление, воспользуемся функцией `df.info` и узнаем больше о столбцах, с которыми мы имеем дело:"
   ]
  },
  {
   "cell_type": "code",
   "execution_count": 4,
   "metadata": {},
   "outputs": [
    {
     "name": "stdout",
     "output_type": "stream",
     "text": [
      "<class 'pandas.core.frame.DataFrame'>\n",
      "RangeIndex: 10000 entries, 0 to 9999\n",
      "Data columns (total 14 columns):\n",
      " #   Column           Non-Null Count  Dtype  \n",
      "---  ------           --------------  -----  \n",
      " 0   RowNumber        10000 non-null  int64  \n",
      " 1   CustomerId       10000 non-null  int64  \n",
      " 2   Surname          10000 non-null  object \n",
      " 3   CreditScore      10000 non-null  int64  \n",
      " 4   Geography        10000 non-null  object \n",
      " 5   Gender           10000 non-null  object \n",
      " 6   Age              10000 non-null  int64  \n",
      " 7   Tenure           9091 non-null   float64\n",
      " 8   Balance          10000 non-null  float64\n",
      " 9   NumOfProducts    10000 non-null  int64  \n",
      " 10  HasCrCard        10000 non-null  int64  \n",
      " 11  IsActiveMember   10000 non-null  int64  \n",
      " 12  EstimatedSalary  10000 non-null  float64\n",
      " 13  Exited           10000 non-null  int64  \n",
      "dtypes: float64(3), int64(8), object(3)\n",
      "memory usage: 1.1+ MB\n"
     ]
    }
   ],
   "source": [
    "df.info()"
   ]
  },
  {
   "cell_type": "markdown",
   "metadata": {},
   "source": [
    "Пропущенные данные в столбце `Tenure`, рассмотрим их подробнее в разделе [Предварительная обработка данных](#Предварительная-обработка-данных). Написание названия столбцов не соответствует общепринятому стилю **snail_case**."
   ]
  },
  {
   "cell_type": "code",
   "execution_count": 5,
   "metadata": {},
   "outputs": [
    {
     "data": {
      "text/html": [
       "<div>\n",
       "<style scoped>\n",
       "    .dataframe tbody tr th:only-of-type {\n",
       "        vertical-align: middle;\n",
       "    }\n",
       "\n",
       "    .dataframe tbody tr th {\n",
       "        vertical-align: top;\n",
       "    }\n",
       "\n",
       "    .dataframe thead th {\n",
       "        text-align: right;\n",
       "    }\n",
       "</style>\n",
       "<table border=\"1\" class=\"dataframe\">\n",
       "  <thead>\n",
       "    <tr style=\"text-align: right;\">\n",
       "      <th></th>\n",
       "      <th>count</th>\n",
       "      <th>unique</th>\n",
       "      <th>top</th>\n",
       "      <th>freq</th>\n",
       "      <th>mean</th>\n",
       "      <th>std</th>\n",
       "      <th>min</th>\n",
       "      <th>25%</th>\n",
       "      <th>50%</th>\n",
       "      <th>75%</th>\n",
       "      <th>max</th>\n",
       "    </tr>\n",
       "  </thead>\n",
       "  <tbody>\n",
       "    <tr>\n",
       "      <th>RowNumber</th>\n",
       "      <td>10000.0</td>\n",
       "      <td>NaN</td>\n",
       "      <td>NaN</td>\n",
       "      <td>NaN</td>\n",
       "      <td>5000.5</td>\n",
       "      <td>2886.9</td>\n",
       "      <td>1.0</td>\n",
       "      <td>2500.75</td>\n",
       "      <td>5000.5</td>\n",
       "      <td>7500.25</td>\n",
       "      <td>10000.0</td>\n",
       "    </tr>\n",
       "    <tr>\n",
       "      <th>CustomerId</th>\n",
       "      <td>10000.0</td>\n",
       "      <td>NaN</td>\n",
       "      <td>NaN</td>\n",
       "      <td>NaN</td>\n",
       "      <td>15690940.57</td>\n",
       "      <td>71936.19</td>\n",
       "      <td>15565701.0</td>\n",
       "      <td>15628528.25</td>\n",
       "      <td>15690738.0</td>\n",
       "      <td>15753233.75</td>\n",
       "      <td>15815690.0</td>\n",
       "    </tr>\n",
       "    <tr>\n",
       "      <th>Surname</th>\n",
       "      <td>10000</td>\n",
       "      <td>2932</td>\n",
       "      <td>Smith</td>\n",
       "      <td>32</td>\n",
       "      <td>NaN</td>\n",
       "      <td>NaN</td>\n",
       "      <td>NaN</td>\n",
       "      <td>NaN</td>\n",
       "      <td>NaN</td>\n",
       "      <td>NaN</td>\n",
       "      <td>NaN</td>\n",
       "    </tr>\n",
       "    <tr>\n",
       "      <th>CreditScore</th>\n",
       "      <td>10000.0</td>\n",
       "      <td>NaN</td>\n",
       "      <td>NaN</td>\n",
       "      <td>NaN</td>\n",
       "      <td>650.53</td>\n",
       "      <td>96.65</td>\n",
       "      <td>350.0</td>\n",
       "      <td>584.0</td>\n",
       "      <td>652.0</td>\n",
       "      <td>718.0</td>\n",
       "      <td>850.0</td>\n",
       "    </tr>\n",
       "    <tr>\n",
       "      <th>Geography</th>\n",
       "      <td>10000</td>\n",
       "      <td>3</td>\n",
       "      <td>France</td>\n",
       "      <td>5014</td>\n",
       "      <td>NaN</td>\n",
       "      <td>NaN</td>\n",
       "      <td>NaN</td>\n",
       "      <td>NaN</td>\n",
       "      <td>NaN</td>\n",
       "      <td>NaN</td>\n",
       "      <td>NaN</td>\n",
       "    </tr>\n",
       "    <tr>\n",
       "      <th>Gender</th>\n",
       "      <td>10000</td>\n",
       "      <td>2</td>\n",
       "      <td>Male</td>\n",
       "      <td>5457</td>\n",
       "      <td>NaN</td>\n",
       "      <td>NaN</td>\n",
       "      <td>NaN</td>\n",
       "      <td>NaN</td>\n",
       "      <td>NaN</td>\n",
       "      <td>NaN</td>\n",
       "      <td>NaN</td>\n",
       "    </tr>\n",
       "    <tr>\n",
       "      <th>Age</th>\n",
       "      <td>10000.0</td>\n",
       "      <td>NaN</td>\n",
       "      <td>NaN</td>\n",
       "      <td>NaN</td>\n",
       "      <td>38.92</td>\n",
       "      <td>10.49</td>\n",
       "      <td>18.0</td>\n",
       "      <td>32.0</td>\n",
       "      <td>37.0</td>\n",
       "      <td>44.0</td>\n",
       "      <td>92.0</td>\n",
       "    </tr>\n",
       "    <tr>\n",
       "      <th>Tenure</th>\n",
       "      <td>9091.0</td>\n",
       "      <td>NaN</td>\n",
       "      <td>NaN</td>\n",
       "      <td>NaN</td>\n",
       "      <td>5.0</td>\n",
       "      <td>2.89</td>\n",
       "      <td>0.0</td>\n",
       "      <td>2.0</td>\n",
       "      <td>5.0</td>\n",
       "      <td>7.0</td>\n",
       "      <td>10.0</td>\n",
       "    </tr>\n",
       "    <tr>\n",
       "      <th>Balance</th>\n",
       "      <td>10000.0</td>\n",
       "      <td>NaN</td>\n",
       "      <td>NaN</td>\n",
       "      <td>NaN</td>\n",
       "      <td>76485.89</td>\n",
       "      <td>62397.41</td>\n",
       "      <td>0.0</td>\n",
       "      <td>0.0</td>\n",
       "      <td>97198.54</td>\n",
       "      <td>127644.24</td>\n",
       "      <td>250898.09</td>\n",
       "    </tr>\n",
       "    <tr>\n",
       "      <th>NumOfProducts</th>\n",
       "      <td>10000.0</td>\n",
       "      <td>NaN</td>\n",
       "      <td>NaN</td>\n",
       "      <td>NaN</td>\n",
       "      <td>1.53</td>\n",
       "      <td>0.58</td>\n",
       "      <td>1.0</td>\n",
       "      <td>1.0</td>\n",
       "      <td>1.0</td>\n",
       "      <td>2.0</td>\n",
       "      <td>4.0</td>\n",
       "    </tr>\n",
       "    <tr>\n",
       "      <th>HasCrCard</th>\n",
       "      <td>10000.0</td>\n",
       "      <td>NaN</td>\n",
       "      <td>NaN</td>\n",
       "      <td>NaN</td>\n",
       "      <td>0.71</td>\n",
       "      <td>0.46</td>\n",
       "      <td>0.0</td>\n",
       "      <td>0.0</td>\n",
       "      <td>1.0</td>\n",
       "      <td>1.0</td>\n",
       "      <td>1.0</td>\n",
       "    </tr>\n",
       "    <tr>\n",
       "      <th>IsActiveMember</th>\n",
       "      <td>10000.0</td>\n",
       "      <td>NaN</td>\n",
       "      <td>NaN</td>\n",
       "      <td>NaN</td>\n",
       "      <td>0.52</td>\n",
       "      <td>0.5</td>\n",
       "      <td>0.0</td>\n",
       "      <td>0.0</td>\n",
       "      <td>1.0</td>\n",
       "      <td>1.0</td>\n",
       "      <td>1.0</td>\n",
       "    </tr>\n",
       "    <tr>\n",
       "      <th>EstimatedSalary</th>\n",
       "      <td>10000.0</td>\n",
       "      <td>NaN</td>\n",
       "      <td>NaN</td>\n",
       "      <td>NaN</td>\n",
       "      <td>100090.24</td>\n",
       "      <td>57510.49</td>\n",
       "      <td>11.58</td>\n",
       "      <td>51002.11</td>\n",
       "      <td>100193.92</td>\n",
       "      <td>149388.25</td>\n",
       "      <td>199992.48</td>\n",
       "    </tr>\n",
       "    <tr>\n",
       "      <th>Exited</th>\n",
       "      <td>10000.0</td>\n",
       "      <td>NaN</td>\n",
       "      <td>NaN</td>\n",
       "      <td>NaN</td>\n",
       "      <td>0.2</td>\n",
       "      <td>0.4</td>\n",
       "      <td>0.0</td>\n",
       "      <td>0.0</td>\n",
       "      <td>0.0</td>\n",
       "      <td>0.0</td>\n",
       "      <td>1.0</td>\n",
       "    </tr>\n",
       "  </tbody>\n",
       "</table>\n",
       "</div>"
      ],
      "text/plain": [
       "                   count unique     top  freq         mean       std  \\\n",
       "RowNumber        10000.0    NaN     NaN   NaN       5000.5    2886.9   \n",
       "CustomerId       10000.0    NaN     NaN   NaN  15690940.57  71936.19   \n",
       "Surname            10000   2932   Smith    32          NaN       NaN   \n",
       "CreditScore      10000.0    NaN     NaN   NaN       650.53     96.65   \n",
       "Geography          10000      3  France  5014          NaN       NaN   \n",
       "Gender             10000      2    Male  5457          NaN       NaN   \n",
       "Age              10000.0    NaN     NaN   NaN        38.92     10.49   \n",
       "Tenure            9091.0    NaN     NaN   NaN          5.0      2.89   \n",
       "Balance          10000.0    NaN     NaN   NaN     76485.89  62397.41   \n",
       "NumOfProducts    10000.0    NaN     NaN   NaN         1.53      0.58   \n",
       "HasCrCard        10000.0    NaN     NaN   NaN         0.71      0.46   \n",
       "IsActiveMember   10000.0    NaN     NaN   NaN         0.52       0.5   \n",
       "EstimatedSalary  10000.0    NaN     NaN   NaN    100090.24  57510.49   \n",
       "Exited           10000.0    NaN     NaN   NaN          0.2       0.4   \n",
       "\n",
       "                        min          25%         50%          75%         max  \n",
       "RowNumber               1.0      2500.75      5000.5      7500.25     10000.0  \n",
       "CustomerId       15565701.0  15628528.25  15690738.0  15753233.75  15815690.0  \n",
       "Surname                 NaN          NaN         NaN          NaN         NaN  \n",
       "CreditScore           350.0        584.0       652.0        718.0       850.0  \n",
       "Geography               NaN          NaN         NaN          NaN         NaN  \n",
       "Gender                  NaN          NaN         NaN          NaN         NaN  \n",
       "Age                    18.0         32.0        37.0         44.0        92.0  \n",
       "Tenure                  0.0          2.0         5.0          7.0        10.0  \n",
       "Balance                 0.0          0.0    97198.54    127644.24   250898.09  \n",
       "NumOfProducts           1.0          1.0         1.0          2.0         4.0  \n",
       "HasCrCard               0.0          0.0         1.0          1.0         1.0  \n",
       "IsActiveMember          0.0          0.0         1.0          1.0         1.0  \n",
       "EstimatedSalary       11.58     51002.11   100193.92    149388.25   199992.48  \n",
       "Exited                  0.0          0.0         0.0          0.0         1.0  "
      ]
     },
     "metadata": {},
     "output_type": "display_data"
    }
   ],
   "source": [
    "display(df.describe(include = 'all').round(2).transpose())"
   ]
  },
  {
   "cell_type": "markdown",
   "metadata": {},
   "source": [
    "<a id='data_view'></a>\n",
    "В основном данные не вызывают подозрений и позднее будут дополнительно изучены на предмет наличия выбросов в разделе [Предварительная обработка данных](#Предварительная-обработка-данных). Однако стоит обратить внимание на два момента: \n",
    "1. минимальное значение поля `EstimatedSalary` в котором хранятся данные о предполагаемой зарплате - 11.58, не указаны денежная единица и нет указания до вычета налогов или после. В реальном проекте эти вопросы было бы необходимо уточнить на данном этапе. Рассмотрим это поле подробно [далее](#Предварительная-обработка-данных);\n",
    "2. целевой признак `Exited`, который представлен в виде значений 0 или 1, явно не сбалансирован: судя по значению mean - 0.2, класс со значением 1 (клиенты, которые прекратили обслуживание в банке) представлен в соотношении 1:4 к классу со значением 0 (клиенты, которые на момент формирования исходных данных обслуживались в банке)."
   ]
  },
  {
   "cell_type": "markdown",
   "metadata": {},
   "source": [
    "<a id='data_view_conclusion'></a>\n",
    "**Вывод**\n",
    "\n",
    "В целом набор данных без видимых значительным аномалий, обнаружены следующие проблемы:\n",
    "* есть поля с данными, в которых большинство или все значения уникальны (`Surname`, `RowNumber` и `CustomerId`). Их нужно удалить, т.к. они не имеют практической значимости для модели;\n",
    "* написание названия столбцов не соответствует общепринятому стилю **snail_case**;\n",
    "* минимальное значение заработной платы, указанное в поле `EstimatedSalary` вызывает вопросы;\n",
    "* содержатся пропуски в столбце `Tenure`;\n",
    "* целевой признак `Exited` не сбалансирован.\n"
   ]
  },
  {
   "cell_type": "markdown",
   "metadata": {},
   "source": [
    "## Предварительная обработка данных"
   ]
  },
  {
   "cell_type": "markdown",
   "metadata": {},
   "source": [
    "### Переименование столбцов"
   ]
  },
  {
   "cell_type": "markdown",
   "metadata": {},
   "source": [
    "Для удобства приведем названия стобцов к стилю **snail_case**:  "
   ]
  },
  {
   "cell_type": "code",
   "execution_count": 6,
   "metadata": {},
   "outputs": [
    {
     "name": "stdout",
     "output_type": "stream",
     "text": [
      "Index(['row_number', 'customer_id', 'surname', 'creditscore', 'geography',\n",
      "       'gender', 'age', 'tenure', 'balance', 'num_of_products', 'has_crcard',\n",
      "       'isactive_member', 'estimated_salary', 'exited'],\n",
      "      dtype='object')\n"
     ]
    }
   ],
   "source": [
    "df.columns = ['row_number', 'customer_id', 'surname', 'creditscore', 'geography', 'gender', 'age', 'tenure', 'balance', \n",
    "              'num_of_products', 'has_crcard', 'isactive_member', 'estimated_salary', 'exited']\n",
    "print(df.columns)"
   ]
  },
  {
   "cell_type": "markdown",
   "metadata": {},
   "source": [
    "### Проверка на дубликаты и пропущенные значения"
   ]
  },
  {
   "cell_type": "code",
   "execution_count": 7,
   "metadata": {
    "scrolled": true
   },
   "outputs": [
    {
     "name": "stdout",
     "output_type": "stream",
     "text": [
      "Количество дубликатов: 0\n",
      "Пропущенные значения:\n",
      "            tenure -   9.09%\n"
     ]
    }
   ],
   "source": [
    "print(f'Количество дубликатов: {df.duplicated().sum()}')\n",
    "print('Пропущенные значения:')\n",
    "for col in df.columns:\n",
    "    pct_missing = np.mean(df[col].isnull())\n",
    "    if pct_missing > 0:\n",
    "        print(f'{col:>18} - {round(pct_missing*100, 2):6.2f}%')"
   ]
  },
  {
   "cell_type": "markdown",
   "metadata": {},
   "source": [
    "Пропущены значения только в поле `tenure` - это не целевой признак, поэтому на данном этапе нам не требуется принимать решение, что делать с пропущенными значениями, дальнейший анализ не требует корректировок. Работа с пропущенными значениями будет продолжена в разделе EDA - [обработка пропущенных значений](#Обработка-пропущенных-значений)"
   ]
  },
  {
   "cell_type": "markdown",
   "metadata": {},
   "source": [
    "### Удаление неинформативных полей"
   ]
  },
  {
   "cell_type": "markdown",
   "metadata": {},
   "source": [
    "Как отмечалось ранее, в исходных данных есть поля, в которых большинство или все значения уникальны - `Surname`, `RowNumber` и `CustomerId`. Они не имеют практической значимости для модели, вряд ли вероятность того, что клиент уйдет как-то зависит от его фамилии или ID, соответственно их можно просто удалить:"
   ]
  },
  {
   "cell_type": "code",
   "execution_count": 8,
   "metadata": {},
   "outputs": [
    {
     "name": "stdout",
     "output_type": "stream",
     "text": [
      "Всего столбцов в датасете после удаления: 11\n"
     ]
    }
   ],
   "source": [
    "df = df.drop(['row_number', 'customer_id', 'surname'], axis=1)\n",
    "print(f'Всего столбцов в датасете после удаления: {df.shape[1]}')"
   ]
  },
  {
   "cell_type": "markdown",
   "metadata": {},
   "source": [
    "Поля с неинформативными данными удалены из датасета."
   ]
  },
  {
   "cell_type": "markdown",
   "metadata": {},
   "source": [
    "### Разделение данных по целевому признаку"
   ]
  },
  {
   "cell_type": "markdown",
   "metadata": {},
   "source": [
    "Задача: построить модель для решения задачи классификации, чтобы спрогнозировать, уйдёт клиент из банка в ближайшее время или нет. Логично предположить, что модель будет строить свой прогноз, основываясь на различии в поведении клиентов. Проверим, насколько различаются их метрики:"
   ]
  },
  {
   "cell_type": "code",
   "execution_count": 9,
   "metadata": {},
   "outputs": [],
   "source": [
    "exit_true_df = df.loc[df['exited'] == 1].copy()\n",
    "exit_false_df = df.loc[df['exited'] == 0].copy()"
   ]
  },
  {
   "cell_type": "code",
   "execution_count": 10,
   "metadata": {},
   "outputs": [
    {
     "data": {
      "image/png": "[encoded data removed]",
      "text/plain": [
       "<Figure size 1440x288 with 4 Axes>"
      ]
     },
     "metadata": {
      "needs_background": "light"
     },
     "output_type": "display_data"
    },
    {
     "data": {
      "image/png": "[encoded data removed]",
      "text/plain": [
       "<Figure size 1440x288 with 4 Axes>"
      ]
     },
     "metadata": {
      "needs_background": "light"
     },
     "output_type": "display_data"
    }
   ],
   "source": [
    "subtitle = [('age', 'Age'), ('balance', 'Balance'), ('creditscore', 'Credit score'), ('estimated_salary', 'Estimated salary')]\n",
    "fig, axes = plt.subplots(1, 4, figsize = (20, 4))\n",
    "fig.suptitle('Метрики действующих клиентов (exited = 0)', color = 'darkblue', fontsize = 16)\n",
    "for i in range(0, 4):\n",
    "    feature, name = subtitle[i]\n",
    "    axes[i].boxplot(exit_false_df[feature], vert = True)\n",
    "    axes[i].set_xlabel(name, color = 'darkblue', fontsize = 14)\n",
    "\n",
    "fig, axes = plt.subplots(1, 4, figsize = (20, 4))\n",
    "fig.suptitle('Метрики ушедших клиентов (exited = 1)', color = 'darkblue', fontsize = 16)\n",
    "for i in range(0, 4):\n",
    "    feature, name = subtitle[i]\n",
    "    axes[i].boxplot(exit_true_df[feature], vert = True)\n",
    "    axes[i].set_xlabel(name, color = 'darkblue', fontsize = 14)\n",
    "plt.show()"
   ]
  },
  {
   "cell_type": "markdown",
   "metadata": {},
   "source": [
    "<div style=\"border:solid YellowGreen 4px; padding: 10px\" id='data_preprocessing_1'>\n",
    "\n",
    "Из приведенных графиков можно выделить некоторые различия в поведении клиентов и подсветить их для маркетологов компании:\n",
    "* типичный возраст действующих клиентов примерно на 10 лет ниже, чем тех, кто решил прекратить работу с банком;\n",
    "* ушедшие клиенты хранили деньги на счетах чаще и в более крупных размерах;\n",
    "* кредитный рейтинг действующих клиентов банка немного выше.\n",
    "\n",
    "Можно представить облик клиента, который с банком надолго и клиента, который вскоре уйдет. Первый - это скорее всего молодой человек или девушка 35 лет, без накоплений и часто пользуется кредитными продуктами (высокий кредитный рейтинг). Второй - более возрастные мужчины и женщины, имеющие накопления. Данные выводы могут помочь скорректировать рекламную кампанию маркетологам.\n",
    "</div>"
   ]
  },
  {
   "cell_type": "markdown",
   "metadata": {},
   "source": [
    "В части DS важно - такие существенные различия в облике клиента говорят о том, что дальнейшую обработку и EDA необходимо проводить для отдельных выборок."
   ]
  },
  {
   "cell_type": "markdown",
   "metadata": {},
   "source": [
    "### Выводы"
   ]
  },
  {
   "cell_type": "markdown",
   "metadata": {},
   "source": [
    "Подведем итоги этапа предобработка данных:\n",
    "* для удобства названия столбцов датафрейма приведены к стилю **snail_case**;\n",
    "* исходный набор не содежит дубликаты;\n",
    "* столбцы `Surname`, `RowNumber` и `CustomerId` исключены из набора как неинформативные;\n",
    "* датасет разбит на две части по целевому признаку для дальнейшего анализа.\n",
    "\n",
    "Этап предварительной обработки данных выполнен, далее выполним EDA."
   ]
  },
  {
   "cell_type": "markdown",
   "metadata": {},
   "source": [
    "## Разведочный анализ данных (EDA)"
   ]
  },
  {
   "cell_type": "markdown",
   "metadata": {},
   "source": [
    "В данном разделе проекта выполним анализ основных свойств данных и их распределений, рассмотрим общие закономерности и аномалии. Для данного раздела нам понадобится функция построения матрицы корреляции:"
   ]
  },
  {
   "cell_type": "markdown",
   "metadata": {},
   "source": [
    "### Одномерный анализ"
   ]
  },
  {
   "cell_type": "markdown",
   "metadata": {},
   "source": [
    "Выполним анализ распределения имеющихся признаков по отдельности и начнем с целевого признака - `exited`:"
   ]
  },
  {
   "cell_type": "code",
   "execution_count": 11,
   "metadata": {},
   "outputs": [
    {
     "data": {
      "image/png": "[encoded data removed]",
      "text/plain": [
       "<Figure size 360x216 with 1 Axes>"
      ]
     },
     "metadata": {
      "needs_background": "light"
     },
     "output_type": "display_data"
    }
   ],
   "source": [
    "fig, axes = plt.subplots(1, 1, figsize = (5, 3), sharey = True)\n",
    "sns.countplot(x='exited',data=df)\n",
    "plt.show()"
   ]
  },
  {
   "cell_type": "markdown",
   "metadata": {},
   "source": [
    "Как было отмечено [ранее](#data_view) - исходные данные распределены по целевому признаку неравномерно: тех, кто продолжает пользоваться услугами банка больше, чем тех, кто от услуг отказался. При обучении и выборе модели обязательно нужно учесть данный факт. Далее рассмотрим распределения по остальным признакам:"
   ]
  },
  {
   "cell_type": "code",
   "execution_count": 12,
   "metadata": {},
   "outputs": [
    {
     "name": "stdout",
     "output_type": "stream",
     "text": [
      "              0             Ушедшие -  20.81%, Действующие -  79.19%\n",
      "              1             Ушедшие -  20.18%, Действующие -  79.82%\n"
     ]
    },
    {
     "data": {
      "image/png": "[encoded data removed]",
      "text/plain": [
       "<Figure size 720x216 with 2 Axes>"
      ]
     },
     "metadata": {
      "needs_background": "light"
     },
     "output_type": "display_data"
    }
   ],
   "source": [
    "fig, axes = plt.subplots(1, 2, figsize = (10, 3), sharey = True)\n",
    "fig.suptitle('Распределение клиентов по наличию кредитной карты', color = 'darkblue', fontsize = 14)\n",
    "compare_bar(exit_true_df, exit_false_df, ['Ушедшие', 'Действующие'], 'has_crcard', axes)\n",
    "plt.show()"
   ]
  },
  {
   "cell_type": "markdown",
   "metadata": {},
   "source": [
    "Ничего интересного - среди действующих и ушедших клиентов соотношение тех, у кого есть кредитная карта и тех, у кого ее нет - одинаковое. Однако, как отмечалось [ранее](#data_preprocessing_1), кредитный рейтинг у действующих клиентов выше, значит - они чаще пользуются картой."
   ]
  },
  {
   "cell_type": "code",
   "execution_count": 13,
   "metadata": {},
   "outputs": [
    {
     "name": "stdout",
     "output_type": "stream",
     "text": [
      "         France             Ушедшие -  16.15%, Действующие -  83.85%\n",
      "        Germany             Ушедшие -  32.44%, Действующие -  67.56%\n",
      "          Spain             Ушедшие -  16.67%, Действующие -  83.33%\n"
     ]
    },
    {
     "data": {
      "image/png": "[encoded data removed]",
      "text/plain": [
       "<Figure size 1152x216 with 3 Axes>"
      ]
     },
     "metadata": {
      "needs_background": "light"
     },
     "output_type": "display_data"
    }
   ],
   "source": [
    "fig, axes = plt.subplots(1, 3, figsize = (16, 3), sharey = True)\n",
    "fig.suptitle('Распределение клиентов по разным странам', color = 'darkblue', fontsize = 14)\n",
    "compare_bar(exit_true_df, exit_false_df, ['Ушедшие', 'Действующие'], 'geography', axes)\n",
    "plt.show()"
   ]
  },
  {
   "cell_type": "markdown",
   "metadata": {},
   "source": [
    "Судя по графикам в Германии доля клиентов, которые ушли в два раза выше, чем во Франции и Испании. Сигнал Заказчику - работу с клиентами в Германии необходимо проинспектировать."
   ]
  },
  {
   "cell_type": "code",
   "execution_count": 14,
   "metadata": {},
   "outputs": [
    {
     "name": "stdout",
     "output_type": "stream",
     "text": [
      "              1             Ушедшие -  27.71%, Действующие -  72.29%\n",
      "              2             Ушедшие -   7.58%, Действующие -  92.42%\n",
      "              3             Ушедшие -  82.71%, Действующие -  17.29%\n",
      "              4             Ушедшие - 100.00%, Действующие -   0.00%\n"
     ]
    },
    {
     "data": {
      "image/png": "[encoded data removed]",
      "text/plain": [
       "<Figure size 1152x216 with 4 Axes>"
      ]
     },
     "metadata": {
      "needs_background": "light"
     },
     "output_type": "display_data"
    }
   ],
   "source": [
    "fig, axes = plt.subplots(1, 4, figsize = (16, 3), sharey = True)\n",
    "fig.suptitle('Распределение клиентов в зависимости от количества продуктов', color = 'darkblue', fontsize = 14)\n",
    "compare_bar(exit_true_df, exit_false_df, ['Ушедшие', 'Действующие'], 'num_of_products', axes)\n",
    "plt.show()"
   ]
  },
  {
   "cell_type": "markdown",
   "metadata": {},
   "source": [
    "<a id = 'one-dimensional-analysis-1'></a>Кроме основных продуктов - дебетовых и кредитных карт, банки могут предоставлять услуги страхования, брокерского обслуживания и т.д. Данные подсказывают: клиенты, которые пробуют использовать дополнительные, кроме самых распространенных продукты - уходят. Необходимо проанализировать ситуацию: как улучшить доп. услуги банка?"
   ]
  },
  {
   "cell_type": "code",
   "execution_count": 15,
   "metadata": {},
   "outputs": [
    {
     "name": "stdout",
     "output_type": "stream",
     "text": [
      "         Female             Ушедшие -  25.07%, Действующие -  74.93%\n",
      "           Male             Ушедшие -  16.46%, Действующие -  83.54%\n"
     ]
    },
    {
     "data": {
      "image/png": "[encoded data removed]",
      "text/plain": [
       "<Figure size 720x216 with 2 Axes>"
      ]
     },
     "metadata": {
      "needs_background": "light"
     },
     "output_type": "display_data"
    }
   ],
   "source": [
    "fig, axes = plt.subplots(1, 2, figsize = (10, 3), sharey = True)\n",
    "fig.suptitle('Распределение клиентов по полам', color = 'darkblue', fontsize = 14)\n",
    "compare_bar(exit_true_df, exit_false_df, ['Ушедшие', 'Действующие'], 'gender', axes)\n",
    "plt.show()"
   ]
  },
  {
   "cell_type": "markdown",
   "metadata": {},
   "source": [
    "Женщины чаще мужчин принимают решение прекратить пользование услугами банка. Возможно для изменения данного тренда необходимо придумать ориентированную на женщин программу кэшбэка или бонусную партнерскую программу. Кроме того, согласно [данным совместного исследования «Росгосстрах Жизнь» и банка «Открытие»](https://plus.rbc.ru/pressrelease/5d5d33c67a8aa965eb3fd65e#:~:text=Женщины%20покупают%20полисы%20страхования%20жизни,«Росгосстрах%20Жизнь»%20и%20банка%20«Открытие») - женщины покупают полисы страхования жизни чаще мужчин: на их долю приходится чуть более 60% договоров. Возможно это дополнительно подтверждает предыдущее наблюдение: отток клиентов среди женщин выше, потому что уровень дополнительных услуг страхования в банке ниже, чем у конкурентов."
   ]
  },
  {
   "cell_type": "markdown",
   "metadata": {},
   "source": [
    "### Двумерный анализ"
   ]
  },
  {
   "cell_type": "markdown",
   "metadata": {},
   "source": [
    "Исследуем, есть ли какая-либо корреляция (зависимость) между отдельными функциями (столбцами), для этого используем [собственную функцию](#Собственные-функции) `plotCorrelationMatrix`:"
   ]
  },
  {
   "cell_type": "code",
   "execution_count": 16,
   "metadata": {
    "scrolled": false
   },
   "outputs": [
    {
     "data": {
      "image/png": "[encoded data removed]",
      "text/plain": [
       "<Figure size 640x640 with 2 Axes>"
      ]
     },
     "metadata": {},
     "output_type": "display_data"
    }
   ],
   "source": [
    "plotCorrelationMatrix(df, 8, 'churn modelling')"
   ]
  },
  {
   "cell_type": "markdown",
   "metadata": {},
   "source": [
    "В имеющейся версии pandas функция df.corr() работает только для числовых полей, поэтому мы не можем подтвердить все сделанные в предыдущем разделе выводы для категориальных данных матрицей, но можем подтвердить некоторые зависимости:\n",
    "* люди более старшего возраста отказываются от услуг банка чаще (ранее отмечалось [тут](#data_preprocessing_1));\n",
    "* более состоятельные люди отказываются от услуг банка чаще (ранее отмечалось [тут](#data_preprocessing_1));\n",
    "* люди, которым необходимо от банка больше, чем дебетовая и кредитная карты отказываются от услуг банка чаще (ранее отмечалось [тут](#one-dimensional-analysis-1))."
   ]
  },
  {
   "cell_type": "code",
   "execution_count": 17,
   "metadata": {},
   "outputs": [
    {
     "data": {
      "image/png": "[encoded data removed]",
      "text/plain": [
       "<Figure size 432x288 with 1 Axes>"
      ]
     },
     "metadata": {
      "needs_background": "light"
     },
     "output_type": "display_data"
    }
   ],
   "source": [
    "plt.boxplot([df.loc[df['num_of_products'] == 1, 'balance'], \n",
    "             df.loc[df['num_of_products'] == 2, 'balance'],\n",
    "             df.loc[df['num_of_products'] == 3, 'balance'],\n",
    "             df.loc[df['num_of_products'] == 4, 'balance']\n",
    "            ], \n",
    "            labels = [1, 2, 3, 4])\n",
    "plt.xlabel('Number of products')\n",
    "plt.ylabel('Balance')\n",
    "plt.show()"
   ]
  },
  {
   "cell_type": "markdown",
   "metadata": {},
   "source": [
    "Еще одно интересное наблюдение показала матрица - баланс на счетах обратно коррелирует с количеством продуктов, которыми пользуется клиент. Диаграммы размаха выше дополнительно раскрывают эту зависимость: наибольший провал по медианному балансу приходится на клиентов с двумя продуктами. Если интерпретировать количество продуктов исходя из их популярности, то один продукт - это дебетовая (зарплатная) карта, а два - дебетовая + кредитная карты. Выглядит правдоподобно - скорее всего те, кто активно пользуется кредитной картой не хранят деньги на счете (иначе бы зачем им была нужна кредитная карта) и просто используют дебетовую карту как зарплатную."
   ]
  },
  {
   "cell_type": "markdown",
   "metadata": {},
   "source": [
    "### Обработка пропущенных значений"
   ]
  },
  {
   "cell_type": "code",
   "execution_count": 18,
   "metadata": {},
   "outputs": [],
   "source": [
    "# сохраним общее количество строк\n",
    "old_rows_all = df.shape[0]\n",
    "old_rows_0 = df.loc[df['exited'] == 0].shape[0]\n",
    "old_rows_1 = df.loc[df['exited'] == 1].shape[0]"
   ]
  },
  {
   "cell_type": "markdown",
   "metadata": {},
   "source": [
    "Рассмотрим подробнее пропущенные значения в поле `tenure`:"
   ]
  },
  {
   "cell_type": "code",
   "execution_count": 19,
   "metadata": {},
   "outputs": [
    {
     "name": "stdout",
     "output_type": "stream",
     "text": [
      "Пропущено:\n",
      "всего 726 значений большого класса из 7963 - 9.12%\n",
      "всего 183 значений малого класса из 2037 - 8.98%\n",
      "всего 909 значений из 10000 - 9.09%\n"
     ]
    }
   ],
   "source": [
    "null_0 = (df['tenure'].isnull()) & (df['exited'] == 0)\n",
    "null_1 = (df['tenure'].isnull()) & (df['exited'] == 1)\n",
    "del_0_obj_NAN = round(null_0.sum()/old_rows_0*100, 2)\n",
    "del_1_obj_NAN = round(null_1.sum()/old_rows_1*100, 2)\n",
    "del_T_obj_NAN = round((null_0.sum() + null_1.sum())/old_rows_all*100, 2)\n",
    "print('Пропущено:')\n",
    "print(f'всего {null_0.sum()} значений большого класса из {df.loc[df[\"exited\"] == 0].shape[0]} - {del_0_obj_NAN}%')\n",
    "print(f'всего {null_1.sum()} значений малого класса из {df.loc[df[\"exited\"] == 1].shape[0]} - {del_1_obj_NAN}%')\n",
    "print(f'всего {null_0.sum() + null_1.sum()} значений из {df.shape[0]} - {del_T_obj_NAN}%')"
   ]
  },
  {
   "cell_type": "markdown",
   "metadata": {},
   "source": [
    "Более 9% значений пропущено в столбце `tenure` - достаточно ощутимый объем данных. Рассмотрим, есть ли зависимости между `tenure` и другими полями, по которым пропуски можно восстановить:"
   ]
  },
  {
   "cell_type": "code",
   "execution_count": 20,
   "metadata": {},
   "outputs": [
    {
     "name": "stdout",
     "output_type": "stream",
     "text": [
      "creditscore        -0.000\n",
      "age                -0.013\n",
      "tenure              1.000\n",
      "balance            -0.008\n",
      "num_of_products     0.012\n",
      "has_crcard          0.027\n",
      "isactive_member    -0.032\n",
      "estimated_salary    0.011\n",
      "exited             -0.017\n",
      "Name: tenure, dtype: float64\n"
     ]
    }
   ],
   "source": [
    "print(df.loc[(df['tenure'].isnull() == False)].corr()['tenure'].round(3))"
   ]
  },
  {
   "cell_type": "markdown",
   "metadata": {},
   "source": [
    "Поле `tenure` никак не коррелирует с другими полями, например, можно было предположить, что в группе более возрастных клиентов тех, кто пользуется услугами банка длительное время больше, чем в группе молодых, но данные выше опровергают эту и любую другую зависимость.\n",
    "\n",
    "Один из методов восстановления пропущенных данных - замена пропусков на самое часто встречающееся значение или медиану, справедливо для одномодальных нормальных распределений. Рассмотрим как распределены данные поля `tenure`:"
   ]
  },
  {
   "cell_type": "code",
   "execution_count": 21,
   "metadata": {},
   "outputs": [
    {
     "data": {
      "image/png": "[encoded data removed]",
      "text/plain": [
       "<Figure size 432x288 with 1 Axes>"
      ]
     },
     "metadata": {
      "needs_background": "light"
     },
     "output_type": "display_data"
    },
    {
     "name": "stdout",
     "output_type": "stream",
     "text": [
      "Мода поля tenure: 1.0\n",
      "Медиана поля tenure: 5.0\n"
     ]
    }
   ],
   "source": [
    "df['tenure'].hist(bins = 11)\n",
    "plt.show()\n",
    "print(f\"Мода поля tenure: {df['tenure'].mode()[0]}\")\n",
    "print(f\"Медиана поля tenure: {df['tenure'].median()}\")"
   ]
  },
  {
   "cell_type": "markdown",
   "metadata": {},
   "source": [
    "Данные в столбце распределены практически равномерно, номинально мода - 1, а медиана - 5, но попытка все пропуски заполнить одним из этих значениий приведет к тому, что это поле перестанет быть представительным и отражать реальность. В чем может быть причина появления пропусков в данном столбце? Порассуждаем: что такое `tenure`? Количество полных лет, которые человек является клиентом банка:\n",
    "\n",
    "`tenure = ceil((END - START)/365)`, где:\n",
    "\n",
    "**START** - дата начала пользования услугами банка, **END** - дата прекращения пользования услугами банка (если `exited` == 1) или дата формирования исходных данных (если `exited` == 0).\n",
    "\n",
    "Среди объектов, в которых пропущены данные в поле `tenure`, есть те, в которых `exited` = 1, значит данные **END** пропущены не могут быть - факт прекращения был зафиксирован. Тогда единственной причиной, по которой рассчитать `tenure` не получается, будет то, что в базе отсутствуют значения **START** для некоторых клиентов.\n",
    "\n",
    "**Возможно данные о начале пользования услугами банка не вносят специалисты определенной страны (например, ввиду законодательных ограничений и т.п.)?** Проверим эту гипотезу:"
   ]
  },
  {
   "cell_type": "code",
   "execution_count": 22,
   "metadata": {},
   "outputs": [
    {
     "name": "stdout",
     "output_type": "stream",
     "text": [
      "France     0.50\n",
      "Germany    0.25\n",
      "Spain      0.25\n",
      "Name: geography, dtype: float64\n"
     ]
    }
   ],
   "source": [
    "# рассмотрим распределение исходных данных по странам:\n",
    "print(df['geography'].value_counts(normalize = True).round(2))"
   ]
  },
  {
   "cell_type": "code",
   "execution_count": 23,
   "metadata": {},
   "outputs": [
    {
     "name": "stdout",
     "output_type": "stream",
     "text": [
      "France     0.50\n",
      "Germany    0.25\n",
      "Spain      0.25\n",
      "Name: geography, dtype: float64\n"
     ]
    }
   ],
   "source": [
    "# рассмотрим распределение объектов с пропущенным значением [tenure] по странам:\n",
    "print(df.loc[(df['tenure'].isnull() == False), 'geography'].value_counts(normalize = True).round(2))"
   ]
  },
  {
   "cell_type": "markdown",
   "metadata": {},
   "source": [
    "С точностью до второго знака после запятой нормализованное распределение географии объектов в общем по исходным данным совпадает с географией распределения объектов с пропущенными значениями в `tenure`. Значит гипотеза о том, что ошибки допускает определенное отделение или банковская система определенного государства не подтвердилась. Последнее, что можно предположить - **данные о начале пользования услугами банка отсутствуют для клиентов, которые появлялись на этапе формирования базы (в начале ее существования) и их не заносили, либо данные были утеряны.**"
   ]
  },
  {
   "cell_type": "markdown",
   "metadata": {},
   "source": [
    "<div style=\"border:solid Chocolate 4px; padding: 10px\">\n",
    "\n",
    "В реальном проекте необходимо обратиться к поставщику базы данных:\n",
    "* 9% данных о том, сколько лет человек является клиентом банка пропущены;\n",
    "* не установлено, что пропущенные данные не принадлежат какой-л. стране;\n",
    "* скорее всего, данные утеряны или не были занесены."
   ]
  },
  {
   "cell_type": "markdown",
   "metadata": {},
   "source": [
    "Заполнять пропуски каким-то определенным числом не имеет смысла - это может быть и 5, и 10, и 15 лет. Безопаснее удалить объекты с пропущенными признаками из набора данных:"
   ]
  },
  {
   "cell_type": "code",
   "execution_count": 24,
   "metadata": {},
   "outputs": [
    {
     "name": "stdout",
     "output_type": "stream",
     "text": [
      "Всего удалено 909 объектов (9.09%) с пропущенными значениями\n"
     ]
    }
   ],
   "source": [
    "old_rows = df.shape[0]\n",
    "df = df.dropna()\n",
    "\n",
    "print(f\"Всего удалено {old_rows - df.shape[0]} объектов ({round((old_rows - df.shape[0])/old_rows*100, 2)}%) \\\n",
    "с пропущенными значениями\")"
   ]
  },
  {
   "cell_type": "code",
   "execution_count": 25,
   "metadata": {},
   "outputs": [
    {
     "name": "stdout",
     "output_type": "stream",
     "text": [
      "int64\n"
     ]
    }
   ],
   "source": [
    "df['tenure'] = df['tenure'].astype('int64')\n",
    "print(df['tenure'].dtype)"
   ]
  },
  {
   "cell_type": "markdown",
   "metadata": {},
   "source": [
    "### Аномальные значения заработной платы"
   ]
  },
  {
   "cell_type": "markdown",
   "metadata": {},
   "source": [
    "Рассмотрим поле `estimated_salary` с информацией о заработной плате. У нас нет информации о том в какой валюте и за какой период указана зарплата, до вычета налогов или после."
   ]
  },
  {
   "cell_type": "markdown",
   "metadata": {},
   "source": [
    "<div style=\"border:solid Chocolate 4px; padding: 10px\">\n",
    "    \n",
    "В реальном проекте необходимо уточнить у поставщика данных или Заказчика:\n",
    "* период за который указана заработная плата (в час, день, месяц и т.д.);\n",
    "* до или после вычета налогов указана заработная плата;\n",
    "* денежная единица, в которой указана заработная плата."
   ]
  },
  {
   "cell_type": "markdown",
   "metadata": {},
   "source": [
    "Для текущего проекта, сделаем следующие предположения:\n",
    "* заработная плата указана за календарный месяц;\n",
    "* заработная плата указана после вычета налогов;\n",
    "* денежная единица - Евро, т.к. в исходных данных приведены данные о клиентах из европейских стран.\n",
    "\n",
    "Рассмотрим еще раз метрики поля и построим диаграмму размаха:"
   ]
  },
  {
   "cell_type": "code",
   "execution_count": 26,
   "metadata": {},
   "outputs": [
    {
     "name": "stdout",
     "output_type": "stream",
     "text": [
      "count      9091.00\n",
      "mean     100181.21\n",
      "std       57624.76\n",
      "min          11.58\n",
      "25%       51227.74\n",
      "50%      100240.20\n",
      "75%      149567.21\n",
      "max      199992.48\n",
      "Name: estimated_salary, dtype: float64\n"
     ]
    },
    {
     "data": {
      "image/png": "[encoded data removed]",
      "text/plain": [
       "<Figure size 432x288 with 1 Axes>"
      ]
     },
     "metadata": {
      "needs_background": "light"
     },
     "output_type": "display_data"
    }
   ],
   "source": [
    "print(df['estimated_salary'].describe().round(2))\n",
    "df['estimated_salary'].plot.box()\n",
    "plt.show()"
   ]
  },
  {
   "cell_type": "markdown",
   "metadata": {},
   "source": [
    "На диаграмме размаха выбросов не видно. Тем не менее, минимальная заработная плата 11.58 евро выглядит сомнительно. В открытых источниках есть данные о минимальных заработных платах - [List of European countries by minimum wage (Wikipedia)](https://en.wikipedia.org/wiki/List_of_European_countries_by_minimum_wage#Minimum_wages_by_country_2):\n",
    "* France - 1303 евро;\n",
    "* Spain - 980 евро;\n",
    "* Germany - 1486 евро.\n",
    "\n",
    "Оценим, какая часть данных им не соответствует:"
   ]
  },
  {
   "cell_type": "code",
   "execution_count": 27,
   "metadata": {},
   "outputs": [
    {
     "name": "stdout",
     "output_type": "stream",
     "text": [
      "0    52\n",
      "1    17\n",
      "Name: exited, dtype: int64\n",
      "Всего 69 (0.76%) значений из 9091\n"
     ]
    }
   ],
   "source": [
    "france = df.loc[(df['geography'] == 'France') & (df['estimated_salary'] < 1303), 'exited']\n",
    "spain = df.loc[(df['geography'] == 'Spain') & (df['estimated_salary'] < 980), 'exited']\n",
    "germany = df.loc[(df['geography'] == 'Germany') & (df['estimated_salary'] < 1486), 'exited']\n",
    "summary = france.value_counts() + spain.value_counts() + germany.value_counts()\n",
    "del_0_obj_SLR = round(summary[0]/old_rows_0*100, 2)\n",
    "del_1_obj_SLR = round(summary[1]/old_rows_1*100, 2)\n",
    "print(summary)\n",
    "print(f'Всего {summary.sum()} ({round(summary.sum()/df.shape[0]*100, 2)}%) значений из {df.shape[0]}')"
   ]
  },
  {
   "cell_type": "markdown",
   "metadata": {},
   "source": [
    "Всего 69 значений из всего набора не соответствуют критерию, удалим их:"
   ]
  },
  {
   "cell_type": "code",
   "execution_count": 28,
   "metadata": {},
   "outputs": [
    {
     "name": "stdout",
     "output_type": "stream",
     "text": [
      "count      9022.00\n",
      "mean     100942.12\n",
      "std       57181.46\n",
      "min        1050.33\n",
      "25%       52338.76\n",
      "50%      100853.09\n",
      "75%      149768.63\n",
      "max      199992.48\n",
      "Name: estimated_salary, dtype: float64\n"
     ]
    }
   ],
   "source": [
    "drop_list = france.index.to_list() + spain.index.to_list() + germany.index.to_list()\n",
    "df.drop(index = drop_list, inplace = True)\n",
    "print(df['estimated_salary'].describe().round(2))"
   ]
  },
  {
   "cell_type": "markdown",
   "metadata": {},
   "source": [
    "Данные соответствуют реальным представлениям о заработной плате."
   ]
  },
  {
   "cell_type": "markdown",
   "metadata": {},
   "source": [
    "### Обработка выбросов и редких значений"
   ]
  },
  {
   "cell_type": "markdown",
   "metadata": {},
   "source": [
    "Модели лучше обучать на данных, в которых нет выбросов и редких значений - так её качество будет выше. Рассмотрим все поля, которые потенциально могут содержать выбросы и редкие значения - `age`, `balance` и `creditscore` (добавим `estimated_salary` для контроля) и очистим их. Для этого снова разделим датафрейм на две выборки по целевому признаку, т.к. до этого мы очистили его от объектов с пропущенными значениями и аномальными заработными платами:"
   ]
  },
  {
   "cell_type": "code",
   "execution_count": 29,
   "metadata": {},
   "outputs": [],
   "source": [
    "exit_true_df = df.loc[df['exited'] == 1].copy()\n",
    "exit_false_df = df.loc[df['exited'] == 0].copy()"
   ]
  },
  {
   "cell_type": "code",
   "execution_count": 30,
   "metadata": {
    "scrolled": false
   },
   "outputs": [
    {
     "name": "stdout",
     "output_type": "stream",
     "text": [
      "   7185 записей в наборе данных до очистки выбивающихся значений\n",
      "    524 записей удалено из набора (7.29%)\n",
      "   6661 записей осталось в наборе после очистки выбивающихся значений\n"
     ]
    },
    {
     "data": {
      "image/png": "[encoded data removed]",
      "text/plain": [
       "<Figure size 1152x1152 with 8 Axes>"
      ]
     },
     "metadata": {
      "needs_background": "light"
     },
     "output_type": "display_data"
    }
   ],
   "source": [
    "exit_false_len = exit_false_df.shape[0]\n",
    "subset = ['age', 'balance', 'creditscore', 'estimated_salary']\n",
    "exit_false_df = out_ex_vis(exit_false_df, subset, 'Метрики действующих клиентов')\n",
    "del_0_obj_EXC = round((exit_false_len - exit_false_df.shape[0])/old_rows_0*100, 2)"
   ]
  },
  {
   "cell_type": "code",
   "execution_count": 31,
   "metadata": {},
   "outputs": [
    {
     "name": "stdout",
     "output_type": "stream",
     "text": [
      "   1837 записей в наборе данных до очистки выбивающихся значений\n",
      "     23 записей удалено из набора (1.25%)\n",
      "   1814 записей осталось в наборе после очистки выбивающихся значений\n"
     ]
    },
    {
     "data": {
      "image/png": "[encoded data removed]",
      "text/plain": [
       "<Figure size 1152x1152 with 8 Axes>"
      ]
     },
     "metadata": {
      "needs_background": "light"
     },
     "output_type": "display_data"
    }
   ],
   "source": [
    "exit_true_len = exit_true_df.shape[0]\n",
    "exit_true_df = out_ex_vis(exit_true_df, subset, 'Метрики ушедших клиентов')\n",
    "del_1_obj_EXC = round((exit_true_len - exit_true_df.shape[0])/old_rows_1*100, 2)"
   ]
  },
  {
   "cell_type": "markdown",
   "metadata": {},
   "source": [
    "### Выводы"
   ]
  },
  {
   "cell_type": "code",
   "execution_count": 32,
   "metadata": {},
   "outputs": [
    {
     "name": "stdout",
     "output_type": "stream",
     "text": [
      "Всего на этапе предварительной обработки и анализа данных из набора удалено 1525 (15.25%) объектов:\n",
      " - 1302 (16.35%) из 7963 объектов большого класса:\n",
      "   - пропущенных значений 9.12%\n",
      "   - аномальных значений 0.65%\n",
      "   - выбросов 6.58%\n",
      " - 223 (10.95%) из 2037 объектов малого класса:\n",
      "   - пропущенных значений 8.98%\n",
      "   - аномальных значений 0.83%\n",
      "   - выбросов 1.13%\n",
      "\n",
      "Итоговое количество объектов 8475, из них: \n",
      "- объектов малого класса 1814 \n",
      "- объектов большого класса 6661\n"
     ]
    }
   ],
   "source": [
    "# объединим датафреймы для дальнейшей работы\n",
    "df = pd.concat([exit_true_df, exit_false_df])\n",
    "new_rows_all = df.shape[0]\n",
    "new_rows_0 = df.loc[df['exited'] == 0].shape[0]\n",
    "new_rows_1 = df.loc[df['exited'] == 1].shape[0]\n",
    "\n",
    "print(f\"Всего на этапе предварительной обработки и анализа данных из набора удалено \\\n",
    "{old_rows_all - new_rows_all} ({round((old_rows_all - new_rows_all)/old_rows_all*100, 2)}%) объектов:\")\n",
    "\n",
    "print(f\" - {old_rows_0 - new_rows_0} ({round((old_rows_0 - new_rows_0)/old_rows_0*100, 2)}%) из {old_rows_0} \\\n",
    "объектов большого класса:\\\n",
    "\\n   - пропущенных значений {del_0_obj_NAN}%\\n   - аномальных значений {del_0_obj_SLR}%\\n   - выбросов {del_0_obj_EXC}%\")\n",
    "\n",
    "print(f\" - {old_rows_1 - new_rows_1} ({round((old_rows_1 - new_rows_1)/old_rows_1*100, 2)}%) из {old_rows_1} \\\n",
    "объектов малого класса:\\\n",
    "\\n   - пропущенных значений {del_1_obj_NAN}%\\n   - аномальных значений {del_1_obj_SLR}%\\n   - выбросов {del_1_obj_EXC}%\")\n",
    "\n",
    "print(f\"\\nИтоговое количество объектов {new_rows_all}, из них:\\\n",
    " \\n- объектов малого класса {new_rows_1}\\\n",
    " \\n- объектов большого класса {new_rows_0}\")"
   ]
  },
  {
   "cell_type": "markdown",
   "metadata": {},
   "source": [
    "Подведем итоги EDA:\n",
    "* приведены данные о минимальной заработной плате в Германии, Испании и Франции, некоторые объекты были исключены из набора по признаку `estimated_salary`;\n",
    "* найти удовлетворительный способ восстановления пропущенных данными в поле `tenure` не удалось, строки с пропущенными значениями удалены;\n",
    "* выбросы и редкие значения из исходного наборы были исключены в ходе EDA;\n",
    "* всего удалено 15.25% объектов - это большой объем, но в теории это должно повысить качество обученной модели, объектов малого класса удалено меньше;\n",
    "* одномерный и двумерный анализ предоставленных данных подтверждает их адекватность, удалось сделать интересные выводы, которые будут сформулированы в итоговых выводах."
   ]
  },
  {
   "cell_type": "markdown",
   "metadata": {},
   "source": [
    "## Подготовка данных для обучения модели"
   ]
  },
  {
   "cell_type": "markdown",
   "metadata": {},
   "source": [
    "Обработанные данные снова объединим в один датафрейм для дальнейшей работы:"
   ]
  },
  {
   "cell_type": "code",
   "execution_count": 33,
   "metadata": {},
   "outputs": [],
   "source": [
    "df = pd.concat([exit_true_df, exit_false_df]).sample(frac = 1, random_state = 12345).reset_index(drop = True)"
   ]
  },
  {
   "cell_type": "markdown",
   "metadata": {},
   "source": [
    "### Прямое кодирование категориальных признаков"
   ]
  },
  {
   "cell_type": "markdown",
   "metadata": {},
   "source": [
    "Преобразуем категориальные признаки в числовые с помощью прямого кодирования:"
   ]
  },
  {
   "cell_type": "code",
   "execution_count": 34,
   "metadata": {},
   "outputs": [
    {
     "data": {
      "text/html": [
       "<div>\n",
       "<style scoped>\n",
       "    .dataframe tbody tr th:only-of-type {\n",
       "        vertical-align: middle;\n",
       "    }\n",
       "\n",
       "    .dataframe tbody tr th {\n",
       "        vertical-align: top;\n",
       "    }\n",
       "\n",
       "    .dataframe thead th {\n",
       "        text-align: right;\n",
       "    }\n",
       "</style>\n",
       "<table border=\"1\" class=\"dataframe\">\n",
       "  <thead>\n",
       "    <tr style=\"text-align: right;\">\n",
       "      <th></th>\n",
       "      <th>creditscore</th>\n",
       "      <th>age</th>\n",
       "      <th>tenure</th>\n",
       "      <th>balance</th>\n",
       "      <th>num_of_products</th>\n",
       "      <th>has_crcard</th>\n",
       "      <th>isactive_member</th>\n",
       "      <th>estimated_salary</th>\n",
       "      <th>exited</th>\n",
       "      <th>geography_Germany</th>\n",
       "      <th>geography_Spain</th>\n",
       "      <th>gender_Male</th>\n",
       "    </tr>\n",
       "  </thead>\n",
       "  <tbody>\n",
       "    <tr>\n",
       "      <th>0</th>\n",
       "      <td>709</td>\n",
       "      <td>34</td>\n",
       "      <td>4</td>\n",
       "      <td>148375.19</td>\n",
       "      <td>2</td>\n",
       "      <td>1</td>\n",
       "      <td>1</td>\n",
       "      <td>21521.38</td>\n",
       "      <td>0</td>\n",
       "      <td>1</td>\n",
       "      <td>0</td>\n",
       "      <td>1</td>\n",
       "    </tr>\n",
       "    <tr>\n",
       "      <th>1</th>\n",
       "      <td>704</td>\n",
       "      <td>37</td>\n",
       "      <td>4</td>\n",
       "      <td>0.00</td>\n",
       "      <td>2</td>\n",
       "      <td>0</td>\n",
       "      <td>0</td>\n",
       "      <td>25684.93</td>\n",
       "      <td>0</td>\n",
       "      <td>0</td>\n",
       "      <td>1</td>\n",
       "      <td>1</td>\n",
       "    </tr>\n",
       "    <tr>\n",
       "      <th>2</th>\n",
       "      <td>765</td>\n",
       "      <td>42</td>\n",
       "      <td>4</td>\n",
       "      <td>123311.39</td>\n",
       "      <td>2</td>\n",
       "      <td>1</td>\n",
       "      <td>1</td>\n",
       "      <td>82868.34</td>\n",
       "      <td>0</td>\n",
       "      <td>0</td>\n",
       "      <td>0</td>\n",
       "      <td>1</td>\n",
       "    </tr>\n",
       "    <tr>\n",
       "      <th>3</th>\n",
       "      <td>682</td>\n",
       "      <td>35</td>\n",
       "      <td>2</td>\n",
       "      <td>181166.44</td>\n",
       "      <td>1</td>\n",
       "      <td>1</td>\n",
       "      <td>1</td>\n",
       "      <td>63737.19</td>\n",
       "      <td>1</td>\n",
       "      <td>0</td>\n",
       "      <td>0</td>\n",
       "      <td>0</td>\n",
       "    </tr>\n",
       "    <tr>\n",
       "      <th>4</th>\n",
       "      <td>767</td>\n",
       "      <td>42</td>\n",
       "      <td>2</td>\n",
       "      <td>133616.39</td>\n",
       "      <td>1</td>\n",
       "      <td>1</td>\n",
       "      <td>0</td>\n",
       "      <td>28615.80</td>\n",
       "      <td>0</td>\n",
       "      <td>0</td>\n",
       "      <td>0</td>\n",
       "      <td>0</td>\n",
       "    </tr>\n",
       "  </tbody>\n",
       "</table>\n",
       "</div>"
      ],
      "text/plain": [
       "   creditscore  age  tenure    balance  num_of_products  has_crcard  \\\n",
       "0          709   34       4  148375.19                2           1   \n",
       "1          704   37       4       0.00                2           0   \n",
       "2          765   42       4  123311.39                2           1   \n",
       "3          682   35       2  181166.44                1           1   \n",
       "4          767   42       2  133616.39                1           1   \n",
       "\n",
       "   isactive_member  estimated_salary  exited  geography_Germany  \\\n",
       "0                1          21521.38       0                  1   \n",
       "1                0          25684.93       0                  0   \n",
       "2                1          82868.34       0                  0   \n",
       "3                1          63737.19       1                  0   \n",
       "4                0          28615.80       0                  0   \n",
       "\n",
       "   geography_Spain  gender_Male  \n",
       "0                0            1  \n",
       "1                1            1  \n",
       "2                0            1  \n",
       "3                0            0  \n",
       "4                0            0  "
      ]
     },
     "metadata": {},
     "output_type": "display_data"
    }
   ],
   "source": [
    "non_numeric_cols = df.select_dtypes(exclude=[np.number]).columns.to_list()\n",
    "df_ohe = pd.get_dummies(df, drop_first = True, columns = non_numeric_cols)\n",
    "display(df_ohe.head(5))"
   ]
  },
  {
   "cell_type": "markdown",
   "metadata": {},
   "source": [
    "### Разбивка данных"
   ]
  },
  {
   "cell_type": "markdown",
   "metadata": {},
   "source": [
    "Далее, разобьем исходные данные на обучающую, валидационную и тестовую выборки в соотношении 3:1:1:"
   ]
  },
  {
   "cell_type": "code",
   "execution_count": 35,
   "metadata": {},
   "outputs": [],
   "source": [
    "# отделим целевой признак от остальных:\n",
    "features = df_ohe.drop(['exited'], axis = 1).copy()\n",
    "target = df_ohe['exited'].copy()\n",
    "\n",
    "# выделим обучающую выборку (3/5 части или 60%):\n",
    "features_train, features = train_test_split(features.copy(), random_state = 12345, test_size = 0.4)\n",
    "target_train, target = train_test_split(target.copy(), random_state = 12345, test_size = 0.4)\n",
    "\n",
    "# выделим валидационную и тестовую выборки (по 50% от оставшейся части или по 20% от исходных данных):\n",
    "features_valid, features_test = train_test_split(features.copy(), random_state = 12345, test_size = 0.5)\n",
    "target_valid, target_test = train_test_split(target.copy(), random_state = 12345, test_size = 0.5)"
   ]
  },
  {
   "cell_type": "code",
   "execution_count": 36,
   "metadata": {
    "scrolled": true
   },
   "outputs": [
    {
     "name": "stdout",
     "output_type": "stream",
     "text": [
      "Размер обучающей Series c целевым признаком: 5085, состав:\n",
      "0    0.778564\n",
      "1    0.221436\n",
      "Name: exited, dtype: float64\n",
      "\n",
      "Размер валидационной Series c целевым признаком: 1695, состав:\n",
      "0    0.80118\n",
      "1    0.19882\n",
      "Name: exited, dtype: float64\n",
      "\n",
      "Размер тестовой Series c целевым признаком: 1695, состав:\n",
      "0    0.79292\n",
      "1    0.20708\n",
      "Name: exited, dtype: float64\n",
      "\n"
     ]
    }
   ],
   "source": [
    "# проверим правильность выполненной разбивки:\n",
    "print(f'Размер обучающей Series c целевым признаком: {target_train.shape[0]}, состав:\\n\\\n",
    "{target_train.value_counts(normalize = True)}\\n')\n",
    "print(f'Размер валидационной Series c целевым признаком: {target_valid.shape[0]}, состав:\\n\\\n",
    "{target_valid.value_counts(normalize = True)}\\n')\n",
    "print(f'Размер тестовой Series c целевым признаком: {target_test.shape[0]}, состав:\\n\\\n",
    "{target_test.value_counts(normalize = True)}\\n')"
   ]
  },
  {
   "cell_type": "markdown",
   "metadata": {},
   "source": [
    "### Масштабирование численных признаков"
   ]
  },
  {
   "cell_type": "markdown",
   "metadata": {},
   "source": [
    "Разбивка данных на обучающую, валидационную и тестовую выборки в соотношении (3:1:1) с выделением целевого признака выполнена успешно, баланс классов сохранен как в исходном наборе. Далее, приведем численные признаки к одному масштабу методом стандартизации данных:"
   ]
  },
  {
   "cell_type": "code",
   "execution_count": 37,
   "metadata": {},
   "outputs": [],
   "source": [
    "numeric_cols = ['creditscore', 'age', 'balance', 'estimated_salary']\n",
    "scaler = StandardScaler()\n",
    "scaler.fit(features_train[numeric_cols])\n",
    "features_train[numeric_cols] = scaler.transform(features_train[numeric_cols])\n",
    "features_valid[numeric_cols] = scaler.transform(features_valid[numeric_cols])\n",
    "features_test[numeric_cols] = scaler.transform(features_test[numeric_cols])"
   ]
  },
  {
   "cell_type": "code",
   "execution_count": 38,
   "metadata": {},
   "outputs": [
    {
     "data": {
      "text/html": [
       "<div>\n",
       "<style scoped>\n",
       "    .dataframe tbody tr th:only-of-type {\n",
       "        vertical-align: middle;\n",
       "    }\n",
       "\n",
       "    .dataframe tbody tr th {\n",
       "        vertical-align: top;\n",
       "    }\n",
       "\n",
       "    .dataframe thead th {\n",
       "        text-align: right;\n",
       "    }\n",
       "</style>\n",
       "<table border=\"1\" class=\"dataframe\">\n",
       "  <thead>\n",
       "    <tr style=\"text-align: right;\">\n",
       "      <th></th>\n",
       "      <th>creditscore</th>\n",
       "      <th>age</th>\n",
       "      <th>tenure</th>\n",
       "      <th>balance</th>\n",
       "      <th>num_of_products</th>\n",
       "      <th>has_crcard</th>\n",
       "      <th>isactive_member</th>\n",
       "      <th>estimated_salary</th>\n",
       "      <th>geography_Germany</th>\n",
       "      <th>geography_Spain</th>\n",
       "      <th>gender_Male</th>\n",
       "    </tr>\n",
       "  </thead>\n",
       "  <tbody>\n",
       "    <tr>\n",
       "      <th>857</th>\n",
       "      <td>0.267807</td>\n",
       "      <td>1.218061</td>\n",
       "      <td>2</td>\n",
       "      <td>0.778446</td>\n",
       "      <td>1</td>\n",
       "      <td>1</td>\n",
       "      <td>0</td>\n",
       "      <td>-1.494403</td>\n",
       "      <td>1</td>\n",
       "      <td>0</td>\n",
       "      <td>0</td>\n",
       "    </tr>\n",
       "    <tr>\n",
       "      <th>615</th>\n",
       "      <td>0.309956</td>\n",
       "      <td>-1.681406</td>\n",
       "      <td>5</td>\n",
       "      <td>1.028968</td>\n",
       "      <td>1</td>\n",
       "      <td>0</td>\n",
       "      <td>1</td>\n",
       "      <td>-1.206689</td>\n",
       "      <td>0</td>\n",
       "      <td>0</td>\n",
       "      <td>1</td>\n",
       "    </tr>\n",
       "    <tr>\n",
       "      <th>8414</th>\n",
       "      <td>-0.037768</td>\n",
       "      <td>-0.521619</td>\n",
       "      <td>7</td>\n",
       "      <td>0.727227</td>\n",
       "      <td>2</td>\n",
       "      <td>1</td>\n",
       "      <td>0</td>\n",
       "      <td>-0.420190</td>\n",
       "      <td>0</td>\n",
       "      <td>1</td>\n",
       "      <td>1</td>\n",
       "    </tr>\n",
       "    <tr>\n",
       "      <th>918</th>\n",
       "      <td>1.079162</td>\n",
       "      <td>2.261870</td>\n",
       "      <td>7</td>\n",
       "      <td>-1.224507</td>\n",
       "      <td>1</td>\n",
       "      <td>1</td>\n",
       "      <td>0</td>\n",
       "      <td>1.001632</td>\n",
       "      <td>0</td>\n",
       "      <td>0</td>\n",
       "      <td>1</td>\n",
       "    </tr>\n",
       "    <tr>\n",
       "      <th>99</th>\n",
       "      <td>0.278345</td>\n",
       "      <td>0.522189</td>\n",
       "      <td>5</td>\n",
       "      <td>0.378277</td>\n",
       "      <td>1</td>\n",
       "      <td>1</td>\n",
       "      <td>0</td>\n",
       "      <td>-1.391741</td>\n",
       "      <td>0</td>\n",
       "      <td>0</td>\n",
       "      <td>1</td>\n",
       "    </tr>\n",
       "  </tbody>\n",
       "</table>\n",
       "</div>"
      ],
      "text/plain": [
       "      creditscore       age  tenure   balance  num_of_products  has_crcard  \\\n",
       "857      0.267807  1.218061       2  0.778446                1           1   \n",
       "615      0.309956 -1.681406       5  1.028968                1           0   \n",
       "8414    -0.037768 -0.521619       7  0.727227                2           1   \n",
       "918      1.079162  2.261870       7 -1.224507                1           1   \n",
       "99       0.278345  0.522189       5  0.378277                1           1   \n",
       "\n",
       "      isactive_member  estimated_salary  geography_Germany  geography_Spain  \\\n",
       "857                 0         -1.494403                  1                0   \n",
       "615                 1         -1.206689                  0                0   \n",
       "8414                0         -0.420190                  0                1   \n",
       "918                 0          1.001632                  0                0   \n",
       "99                  0         -1.391741                  0                0   \n",
       "\n",
       "      gender_Male  \n",
       "857             0  \n",
       "615             1  \n",
       "8414            1  \n",
       "918             1  \n",
       "99              1  "
      ]
     },
     "metadata": {},
     "output_type": "display_data"
    }
   ],
   "source": [
    "display(features_train.head(5))"
   ]
  },
  {
   "cell_type": "markdown",
   "metadata": {},
   "source": [
    "### Выводы"
   ]
  },
  {
   "cell_type": "markdown",
   "metadata": {},
   "source": [
    "* категориальные признаки конвертированы в числовые методом прямого кодирования;\n",
    "* численные признаки приведены к одному масштабу методом стандартизации;\n",
    "* выполнена разбивка данных на обучающую, валидационную и тестовую выборки в соотношении (3:1:1) с выделением целевого признака и сохранением баланса классов как в исходном наборе."
   ]
  },
  {
   "cell_type": "markdown",
   "metadata": {},
   "source": [
    "## Пробное обучение моделей"
   ]
  },
  {
   "cell_type": "markdown",
   "metadata": {},
   "source": [
    "Перед нами стоит задача классификации - необходимо определить, уйдет клиент в ближайшее время или нет. Для выполнения этой задачи будем использовать алгоритмы логистической регрессии, решающего дерева и случайного леса. Как мы выяснили, в нашем наборе данных присутствует заметный дисбаланс классов, метрика accuracy (точность) здесь будет неинформативна, поэтому для оценки моделей будем использовать показатель F1 (минимум 0.59 для успешной сдачи проекта), который объединяет две метрики - precision и recall, и кривую ROC с указанием ее площади (ROC-AUC).\n",
    "\n",
    "<br>\n",
    "<details>\n",
    "<summary><b>▶ Немного теории (спойлер)</b></summary> <br>\n",
    "<div style=\"border:solid Chocolate 4px; padding: 10px\">\n",
    "    \n",
    "**Критерий F1** устойчив к несбалансированным классам и является средним гармоническим precision и recall. F-мера достигает максимума при полноте и точности, равными единице, и близка к нулю, если один из аргументов близок к нулю. В случае с F1 из-за того, что в числителе стоит произведение precision и recall, чувствительность критерия к ошибкам FP и FN одинаковая (оба рода ошибок стоят в знаменателях precision и recall) и явно отражается на его значении.\n",
    "    \n",
    "**Критерий AUC-ROC** менее устойчив к несбалансированным классам и может быть интерпретирован как вероятность того, что случайно выбранный real positive объект будет проранжирован классификатором выше (оценка смещена в сторону единицы, сл-но будет иметь более высокую вероятность быть TP, чем FN), чем случайно выбранный negative объект (и быть соответственно TN, чем соотв-но FP). \n",
    "\n",
    "Критерий AUC-ROC по-разному реагирует на ошибки FP (I рода) и на ошибки FN (II рода): FN стоит только в знаменателе TPR, а FP в числителе и знаменателе FPR. При существенном дисбалансе уровень реакции на FP может быть практически нулевым из-за большого TN в знаменателе FPR, а AUC-ROC при этом оставаться высоким. \n",
    "\n",
    "Можно сказать, что AUC-ROC - это оценка уверенности модели в маркировке объектов и она выше, если оценка модели real positive объектов стремится к 1, а оценка real negative к 0. Чем в большем диапазоне threshold не появляются или появляются в малом количестве FN и FP, тем оценка AUC-ROC ближе к 1. В практической плоскости этот показатель можно использовать как оценку устойчивости модели во времени.\n",
    "    \n",
    "</div>\n",
    "</details>\n",
    "\n",
    "**Уточним задачу:** в первую очередь для оценки качества модели будем использовать критерий F1 с одинаковой ценой ошибок FP и FN, т.к. банку важно полно определить и тех кто остается (с максимально низким FN), и тех кто скоро уйдет (с максимально низким FP), чтобы целенаправленно работать с ними и не упустить. Мы хотим, чтобы выборка positive помеченных объектов включала все real positive объекты, если это возможно, и не хотим, чтобы эта выборка была огромной из-за высокого процента ложных срабатываний, т.к. по всей видимости отдел маркетинга ограничен в ресурсах и необходимо грамотно определить стратегию и распределить ресурс для удержания клиентов. Критерий AUC-ROC используем в дополнение к оценке F1\n",
    "\n",
    "Начнем с обучения моделей без учета дисбаланса классов и без подбора гиперпараметров."
   ]
  },
  {
   "cell_type": "markdown",
   "metadata": {},
   "source": [
    "### Логистическая регрессия"
   ]
  },
  {
   "cell_type": "code",
   "execution_count": 39,
   "metadata": {},
   "outputs": [
    {
     "name": "stdout",
     "output_type": "stream",
     "text": [
      "F1: 0.5535055350553505\n",
      "AUC-ROC: 0.7023015605948704\n"
     ]
    }
   ],
   "source": [
    "model = LogisticRegression(random_state = 12345, solver = 'lbfgs')\n",
    "\n",
    "model.fit(features_train, target_train)\n",
    "predictions = model.predict(features_valid)\n",
    "\n",
    "result_f1 = f1_score(target_valid, predictions)\n",
    "result_aucroc = roc_auc_score(target_valid, predictions)\n",
    "\n",
    "print(f\"F1: {result_f1}\")\n",
    "print(f\"AUC-ROC: {result_aucroc}\")"
   ]
  },
  {
   "cell_type": "markdown",
   "metadata": {},
   "source": [
    "Достаточно неплохой результат для модели без учета дисбаланса классов. Далее - решающее дерево."
   ]
  },
  {
   "cell_type": "markdown",
   "metadata": {},
   "source": [
    "### Решающее дерево"
   ]
  },
  {
   "cell_type": "code",
   "execution_count": 40,
   "metadata": {},
   "outputs": [
    {
     "name": "stdout",
     "output_type": "stream",
     "text": [
      "F1: 0.565359477124183\n",
      "AUC-ROC: 0.7191213295866238\n"
     ]
    }
   ],
   "source": [
    "model = DecisionTreeClassifier(random_state = 12345, max_depth = 10)\n",
    "\n",
    "model.fit(features_train, target_train)\n",
    "predictions = model.predict(features_valid)\n",
    "\n",
    "result_f1 = f1_score(target_valid, predictions)\n",
    "result_aucroc = roc_auc_score(target_valid, predictions)\n",
    "\n",
    "print(f\"F1: {result_f1}\")\n",
    "print(f\"AUC-ROC: {result_aucroc}\")"
   ]
  },
  {
   "cell_type": "markdown",
   "metadata": {},
   "source": [
    "Сравнимый с предыдущим результат, но все еще недостаточный для успешной сдачи проекта."
   ]
  },
  {
   "cell_type": "markdown",
   "metadata": {},
   "source": [
    "### Случайный лес"
   ]
  },
  {
   "cell_type": "code",
   "execution_count": 41,
   "metadata": {},
   "outputs": [
    {
     "name": "stdout",
     "output_type": "stream",
     "text": [
      "F1: 0.6128440366972477\n",
      "AUC-ROC: 0.7326787516989114\n"
     ]
    }
   ],
   "source": [
    "model = RandomForestClassifier(random_state = 12345, max_depth = 10, n_estimators = 30)\n",
    "\n",
    "model.fit(features_train, target_train)\n",
    "predictions = model.predict(features_valid)\n",
    "\n",
    "result_f1 = f1_score(target_valid, predictions)\n",
    "result_aucroc = roc_auc_score(target_valid, predictions)\n",
    "\n",
    "print(f\"F1: {result_f1}\")\n",
    "print(f\"AUC-ROC: {result_aucroc}\")"
   ]
  },
  {
   "cell_type": "markdown",
   "metadata": {},
   "source": [
    "А вот тут уже интереснее - модель случайный лес без учета баланса классов показывает результат на валидационной выборке достаточный для сдачи проекта. Посмотрим, как изменятся результаты после ребаланса классов в обучающей выборке."
   ]
  },
  {
   "cell_type": "markdown",
   "metadata": {},
   "source": [
    "### Выводы"
   ]
  },
  {
   "cell_type": "markdown",
   "metadata": {},
   "source": [
    "Пробное обучение моделей показало неожиданно хорошие результаты - модель случайный лес обученная на выборке до ребалансировки и без подбора гиперпараметров выдает результат F1 = 0.61 и AUC-ROC = 0.73."
   ]
  },
  {
   "cell_type": "markdown",
   "metadata": {},
   "source": [
    "## Борьба с дисбалансом"
   ]
  },
  {
   "cell_type": "markdown",
   "metadata": {},
   "source": [
    "В этом разделе мы обучим модели с учетом дисбаланса классов в таргете двумя способами:\n",
    "* укажем параметр `class_weight = 'balanced'` при создании моделей;\n",
    "* выполним ребалансировку классов в обучающей выборке.\n",
    "\n",
    "Для этого сразу подготовим признаки и таргет с балансом классов ~0.5 с помощью [собственной функции](#Собственные-функции) `upsample`:"
   ]
  },
  {
   "cell_type": "code",
   "execution_count": 42,
   "metadata": {},
   "outputs": [
    {
     "name": "stdout",
     "output_type": "stream",
     "text": [
      "Размер обучающей Series c целевым признаком: 5085, состав:\n",
      "0    0.778564\n",
      "1    0.221436\n",
      "Name: exited, dtype: float64\n",
      "\n",
      "Размер обучающей Series c целевым признаком после ребаланса: 8463, состав:\n",
      "1    0.532199\n",
      "0    0.467801\n",
      "Name: exited, dtype: float64\n",
      "\n"
     ]
    }
   ],
   "source": [
    "print(f'Размер обучающей Series c целевым признаком: {target_train.shape[0]}, состав:\\n\\\n",
    "{target_train.value_counts(normalize = True)}\\n')\n",
    "features_upsampled, target_upsampled = upsample(features_train, target_train)\n",
    "print(f'Размер обучающей Series c целевым признаком после ребаланса: {target_upsampled.shape[0]}, состав:\\n\\\n",
    "{target_upsampled.value_counts(normalize = True)}\\n')"
   ]
  },
  {
   "cell_type": "markdown",
   "metadata": {},
   "source": [
    "### Логистическая регрессия"
   ]
  },
  {
   "cell_type": "markdown",
   "metadata": {},
   "source": [
    "Начнем как и в прошлом разделе с логистической регрессии, там модель показала результаты **F1 = 0.55** и **AUC-ROC = 0.70**:"
   ]
  },
  {
   "cell_type": "code",
   "execution_count": 43,
   "metadata": {},
   "outputs": [
    {
     "name": "stdout",
     "output_type": "stream",
     "text": [
      "F1: 0.543859649122807\n",
      "AUC-ROC: 0.747554878661673\n"
     ]
    }
   ],
   "source": [
    "model = LogisticRegression(random_state = 12345, solver = 'lbfgs', class_weight = 'balanced')\n",
    "\n",
    "model.fit(features_train, target_train)\n",
    "predictions = model.predict(features_valid)\n",
    "\n",
    "result_f1 = f1_score(target_valid, predictions)\n",
    "result_aucroc = roc_auc_score(target_valid, predictions)\n",
    "\n",
    "print(f\"F1: {result_f1}\")\n",
    "print(f\"AUC-ROC: {result_aucroc}\")"
   ]
  },
  {
   "cell_type": "markdown",
   "metadata": {},
   "source": [
    "Интересный результат F1 незначительно меньше - такой эффект могло дать снижение precision или recall на сотые доли, зато AUC-ROC вырос почти на 0.05 - модель стала увереннее отмечать положительные объекты."
   ]
  },
  {
   "cell_type": "code",
   "execution_count": 44,
   "metadata": {},
   "outputs": [
    {
     "name": "stdout",
     "output_type": "stream",
     "text": [
      "F1: 0.5234215885947048\n",
      "AUC-ROC: 0.738448495125053\n"
     ]
    }
   ],
   "source": [
    "model = LogisticRegression(random_state = 12345, solver = 'lbfgs')\n",
    "model.fit(features_upsampled, target_upsampled)\n",
    "predictions = model.predict(features_valid)\n",
    "result_f1 = f1_score(target_valid, predictions)\n",
    "result_aucroc = roc_auc_score(target_valid, predictions)\n",
    "\n",
    "print(f\"F1: {result_f1}\")\n",
    "print(f\"AUC-ROC: {result_aucroc}\")"
   ]
  },
  {
   "cell_type": "markdown",
   "metadata": {},
   "source": [
    "Показатели ухудшились, но это не критично, т.к. мы не подбирали гиперпараметры, а использовали значения по-умолчанию."
   ]
  },
  {
   "cell_type": "markdown",
   "metadata": {},
   "source": [
    "### Решающее дерево"
   ]
  },
  {
   "cell_type": "markdown",
   "metadata": {},
   "source": [
    "В пробном обучении классификатор решающее дерево показал результаты **F1 = 0.57** и **AUC-ROC = 0.72**:"
   ]
  },
  {
   "cell_type": "code",
   "execution_count": 45,
   "metadata": {
    "scrolled": true
   },
   "outputs": [
    {
     "name": "stdout",
     "output_type": "stream",
     "text": [
      "F1: 0.5295508274231677\n",
      "AUC-ROC: 0.7274104875821048\n"
     ]
    }
   ],
   "source": [
    "model = DecisionTreeClassifier(random_state = 12345, max_depth = 10, class_weight = 'balanced')\n",
    "\n",
    "model.fit(features_train, target_train)\n",
    "predictions = model.predict(features_valid)\n",
    "\n",
    "result_f1 = f1_score(target_valid, predictions)\n",
    "result_aucroc = roc_auc_score(target_valid, predictions)\n",
    "\n",
    "print(f\"F1: {result_f1}\")\n",
    "print(f\"AUC-ROC: {result_aucroc}\")"
   ]
  },
  {
   "cell_type": "markdown",
   "metadata": {},
   "source": [
    "Эффект аналогичен логистической регрессии F1 снизилась, а AUC-ROC возросла."
   ]
  },
  {
   "cell_type": "code",
   "execution_count": 46,
   "metadata": {
    "scrolled": true
   },
   "outputs": [
    {
     "name": "stdout",
     "output_type": "stream",
     "text": [
      "F1: 0.5238623751387347\n",
      "AUC-ROC: 0.7293825358464839\n"
     ]
    }
   ],
   "source": [
    "model = DecisionTreeClassifier(random_state = 12345, max_depth = 10)\n",
    "model.fit(features_upsampled, target_upsampled)\n",
    "predictions = model.predict(features_valid)\n",
    "result_f1 = f1_score(target_valid, predictions)\n",
    "result_aucroc = roc_auc_score(target_valid, predictions)\n",
    "\n",
    "print(f\"F1: {result_f1}\")\n",
    "print(f\"AUC-ROC: {result_aucroc}\")"
   ]
  },
  {
   "cell_type": "markdown",
   "metadata": {},
   "source": [
    "F1 незначительно снизилась, AUC-ROC осталась пракически без изменений, модель слабо реагирует на ребалансировку и может одинаково успешно работать с параметром `class_weight = 'balanced'`."
   ]
  },
  {
   "cell_type": "markdown",
   "metadata": {},
   "source": [
    "### Случайный лес"
   ]
  },
  {
   "cell_type": "markdown",
   "metadata": {},
   "source": [
    "В пробном обучении классификатор случайный лес показал результаты **F1 = 0.61** и **AUC-ROC = 0.73**:"
   ]
  },
  {
   "cell_type": "code",
   "execution_count": 47,
   "metadata": {
    "scrolled": true
   },
   "outputs": [
    {
     "name": "stdout",
     "output_type": "stream",
     "text": [
      "F1: 0.6485671191553544\n",
      "AUC-ROC: 0.7781221730333052\n"
     ]
    }
   ],
   "source": [
    "model = RandomForestClassifier(random_state = 12345, max_depth = 10, n_estimators = 30, class_weight = 'balanced')\n",
    "\n",
    "model.fit(features_train, target_train)\n",
    "predictions = model.predict(features_valid)\n",
    "\n",
    "result_f1 = f1_score(target_valid, predictions)\n",
    "result_aucroc = roc_auc_score(target_valid, predictions)\n",
    "\n",
    "print(f\"F1: {result_f1}\")\n",
    "print(f\"AUC-ROC: {result_aucroc}\")"
   ]
  },
  {
   "cell_type": "markdown",
   "metadata": {},
   "source": [
    "С параметром `class_weight = 'balanced'` модель улучшила оба показателя, F1 удовлетворяет требованиям проекта."
   ]
  },
  {
   "cell_type": "code",
   "execution_count": 48,
   "metadata": {},
   "outputs": [
    {
     "name": "stdout",
     "output_type": "stream",
     "text": [
      "F1: 0.6251621271076524\n",
      "AUC-ROC: 0.786506382662582\n"
     ]
    }
   ],
   "source": [
    "model = RandomForestClassifier(random_state = 12345, max_depth = 10, n_estimators = 30)\n",
    "model.fit(features_upsampled, target_upsampled)\n",
    "predictions = model.predict(features_valid)\n",
    "result_f1 = f1_score(target_valid, predictions)\n",
    "result_aucroc = roc_auc_score(target_valid, predictions)\n",
    "\n",
    "print(f\"F1: {result_f1}\")\n",
    "print(f\"AUC-ROC: {result_aucroc}\")"
   ]
  },
  {
   "cell_type": "markdown",
   "metadata": {},
   "source": [
    "Снова наблюдаем знакомый эффект: F1 снизилась, а AUC-ROC возросла. Нужно подбирать гиперпараметры."
   ]
  },
  {
   "cell_type": "markdown",
   "metadata": {},
   "source": [
    "### Выводы"
   ]
  },
  {
   "cell_type": "markdown",
   "metadata": {},
   "source": [
    "Попытка получить хорошие результаты путем изменения веса классов или ребалансировки train выборки без подбора гиперпараметров не увенчались успехом: в основном результаты стали хуже, чем на пробном обучении. Попробуем разобраться почему достигнут такой эффект:\n",
    "\n",
    "* **Изменение веса объектов.** Вес объектов TP и FN увеличился, а FP остался неизменным, вследствие этого полнота (recall) снизилась больше, чем возросла точность (precision) и из-за этого F1-мера уменьшается. AUC-ROC наоборот растет, т.к. при дисбалансе классов, но измененных весах TPR для каждого порога вырастет, а FPR (на нее веса не влияют) останется прежней;\n",
    "* **Ребалансировка.** Здесь отгадка кроется в том, что без подбора гиперпараметров модели все еще плохо различают positive объекты и при масштабировании train выборки увеличивается доля FN объектов. F1-мера реагирует на это снижением из-за recall, а AUC-ROC не меняется (если FP ≈ TP), либо незначительно растет (TP > FP). "
   ]
  },
  {
   "cell_type": "markdown",
   "metadata": {},
   "source": [
    "## Подбор гиперпараметров"
   ]
  },
  {
   "cell_type": "markdown",
   "metadata": {},
   "source": [
    "### Логистическая регрессия"
   ]
  },
  {
   "cell_type": "markdown",
   "metadata": {},
   "source": [
    "Для алгоритма классификации логистическая регрессия также сещуствует два важных гиперпараметра - `max_iter` (максимальное количество итераций обучения) и `solver` (алгоритм, который будет строить модель). Первый переберем в цикле от 1000 до 5000 с шагом 1000 (5 моделей), а для второго укажем `lbfgs` как самый распространенный и подходящий для большинства случае вариант:"
   ]
  },
  {
   "cell_type": "code",
   "execution_count": 49,
   "metadata": {},
   "outputs": [
    {
     "name": "stdout",
     "output_type": "stream",
     "text": [
      "Лучший результат (F1: 0.5234215885947048, AUC-ROC: 0.738448495125053) показала модель с количеством итераций обучения 500\n",
      "CPU times: total: 203 ms\n",
      "Wall time: 197 ms\n"
     ]
    }
   ],
   "source": [
    "%%time\n",
    "best_model_logreg = None\n",
    "best_iter = 0\n",
    "best_result = 0\n",
    "best_F1 = 0\n",
    "best_AUCROC = 0\n",
    "for i_iter in range (500, 5001, 500):\n",
    "    model = LogisticRegression(random_state=12345, solver='lbfgs', max_iter=i_iter)\n",
    "    model.fit(features_upsampled, target_upsampled)\n",
    "    predictions = model.predict(features_valid)\n",
    "    result_f1 = f1_score(target_valid, predictions)\n",
    "    result_aucroc = roc_auc_score(target_valid, predictions)\n",
    "    if (result_f1 + result_aucroc) > best_result:\n",
    "        best_result = (result_f1 + result_aucroc)\n",
    "        best_F1 = result_f1\n",
    "        best_AUCROC = result_aucroc        \n",
    "        best_iter = i_iter\n",
    "        best_model_logreg = model\n",
    "        \n",
    "print(f'Лучший результат (F1: {best_F1}, AUC-ROC: {best_AUCROC}) показала модель с количеством итераций обучения {best_iter}')"
   ]
  },
  {
   "cell_type": "markdown",
   "metadata": {},
   "source": [
    "Целевой показатель F1-меры не достигнут."
   ]
  },
  {
   "cell_type": "markdown",
   "metadata": {},
   "source": [
    "### Решающее дерево"
   ]
  },
  {
   "cell_type": "markdown",
   "metadata": {},
   "source": [
    "Самый важный гиперпараметр решающего дерева — `max_depth`. Переберем в цикле разные значения глубины от 1 до 15 и сравним качество моделей в разных вариантах:"
   ]
  },
  {
   "cell_type": "code",
   "execution_count": 50,
   "metadata": {},
   "outputs": [
    {
     "ename": "NameError",
     "evalue": "name 'criteria' is not defined",
     "output_type": "error",
     "traceback": [
      "\u001b[1;31m---------------------------------------------------------------------------\u001b[0m",
      "\u001b[1;31mNameError\u001b[0m                                 Traceback (most recent call last)",
      "File \u001b[1;32m<timed exec>:7\u001b[0m, in \u001b[0;36m<module>\u001b[1;34m\u001b[0m\n",
      "\u001b[1;31mNameError\u001b[0m: name 'criteria' is not defined"
     ]
    }
   ],
   "source": [
    "%%time\n",
    "best_model_tree = None\n",
    "best_depth = 0\n",
    "best_result = 0\n",
    "best_F1 = 0\n",
    "best_AUCROC = 0\n",
    "for depth in range (1, 16):\n",
    "    model = DecisionTreeClassifier(random_state=12345, max_depth=depth, criterion = criteria)\n",
    "    model.fit(features_upsampled, target_upsampled)\n",
    "    predictions = model.predict(features_valid)\n",
    "    result_f1 = f1_score(target_valid, predictions)\n",
    "    result_aucroc = roc_auc_score(target_valid, predictions)\n",
    "    if (result_f1 + result_aucroc) > best_result:\n",
    "        best_result = (result_f1 + result_aucroc)\n",
    "        best_F1 = result_f1\n",
    "        best_AUCROC = result_aucroc        \n",
    "        best_depth = depth\n",
    "        best_criteria = criteria\n",
    "        best_model_tree = model\n",
    "\n",
    "print(f'Лучший результат (F1: {best_F1}, AUC-ROC: {best_AUCROC}) показала модель с глубиной {best_depth}')"
   ]
  },
  {
   "cell_type": "markdown",
   "metadata": {},
   "source": [
    "Целевой показатель F1-меры достигнут."
   ]
  },
  {
   "cell_type": "markdown",
   "metadata": {},
   "source": [
    "### Случайный лес"
   ]
  },
  {
   "cell_type": "markdown",
   "metadata": {},
   "source": [
    "Для алгоритма классификации случайный лес существует два важных гиперпараметра — `max_depth` и `n_estimators` (глубина ветвления и количество деревьев в лесу). Переберем в цикле разные значения глубины от 10 до 16 и количества деревьев от 30 до 90 с шагом 10 (всего 50 моделей), сравним качество в разных вариантах:"
   ]
  },
  {
   "cell_type": "code",
   "execution_count": 51,
   "metadata": {
    "scrolled": true
   },
   "outputs": [
    {
     "name": "stdout",
     "output_type": "stream",
     "text": [
      "Лучший результат (F1: 0.6744186046511628, AUC-ROC: 0.8003992168619414) показала модель с количеством деревьев 70 и глубиной 13\n",
      "CPU times: total: 16.5 s\n",
      "Wall time: 16.5 s\n"
     ]
    }
   ],
   "source": [
    "%%time\n",
    "best_model_forest = None\n",
    "best_depth = 0\n",
    "best_est = 0\n",
    "best_result = 0\n",
    "best_F1 = 0\n",
    "best_AUCROC = 0\n",
    "for est in range (30, 91, 10):\n",
    "    for depth in range (10, 16):\n",
    "        model = RandomForestClassifier(random_state=12345, max_depth=depth, n_estimators=est)\n",
    "        model.fit(features_upsampled, target_upsampled)\n",
    "        predictions = model.predict(features_valid)\n",
    "        result_f1 = f1_score(target_valid, predictions)\n",
    "        result_aucroc = roc_auc_score(target_valid, predictions)\n",
    "        if (result_f1 + result_aucroc) > best_result:\n",
    "            best_result = (result_f1 + result_aucroc)\n",
    "            best_F1 = result_f1\n",
    "            best_AUCROC = result_aucroc        \n",
    "            best_depth = depth\n",
    "            best_est = est\n",
    "            best_model_forest = model\n",
    "            \n",
    "print(f'Лучший результат (F1: {best_F1}, AUC-ROC: {best_AUCROC}) показала модель \\\n",
    "с количеством деревьев {best_est} и глубиной {best_depth}')"
   ]
  },
  {
   "cell_type": "markdown",
   "metadata": {},
   "source": [
    "Целевой показатель F1-меры достигнут и эта модель является лучшей из рассмотренных нами."
   ]
  },
  {
   "cell_type": "markdown",
   "metadata": {},
   "source": [
    "### Выводы"
   ]
  },
  {
   "cell_type": "markdown",
   "metadata": {},
   "source": [
    "Из трех рассмотренных виды алгоритмов (решающее дерево, случайный лес и логистическая регрессия) лучший результат показал алгоритм случайный лес с показателем F1 = 0.67 и AUC-ROC = 0.80. Данный алгоритм классификации обычно показывает хорошие результаты, однако долго обучается. Рассмотрим обученную модель подробнее."
   ]
  },
  {
   "cell_type": "markdown",
   "metadata": {},
   "source": [
    "## Тестирование модели"
   ]
  },
  {
   "cell_type": "markdown",
   "metadata": {},
   "source": [
    "Попробуем обученной в прошлом блоке моделью сразу предсказать результаты на тестовой выборке, а потом попробуем заново обучить ее с уже известными гиперпараметрами на [train + valid] выборке и также протестировать."
   ]
  },
  {
   "cell_type": "code",
   "execution_count": 52,
   "metadata": {},
   "outputs": [
    {
     "name": "stdout",
     "output_type": "stream",
     "text": [
      "Модель обученная на [train] выборке F1: 0.65022, AUC-ROC: 0.77668\n",
      "Модель обученная на [train + valid] выборке F1: 0.64781, AUC-ROC: 0.77896\n"
     ]
    }
   ],
   "source": [
    "predictions = best_model_forest.predict(features_test)\n",
    "\n",
    "result_f1 = f1_score(target_test, predictions)\n",
    "result_aucroc = roc_auc_score(target_test, predictions)\n",
    "\n",
    "print(f'Модель обученная на [train] выборке F1: {result_f1:1.5f}, AUC-ROC: {result_aucroc:1.5f}')\n",
    "\n",
    "features_upsampled_2, target_upsampled_2 = upsample(pd.concat([features_train, features_valid]), \n",
    "                                                    pd.concat([target_train, target_valid]))\n",
    "best_model_forest.fit(features_upsampled_2, target_upsampled_2)\n",
    "predictions = best_model_forest.predict(features_test)\n",
    "\n",
    "result_f1 = f1_score(target_test, predictions)\n",
    "result_aucroc = roc_auc_score(target_test, predictions)\n",
    "\n",
    "print(f'Модель обученная на [train + valid] выборке F1: {result_f1:1.5f}, AUC-ROC: {result_aucroc:1.5f}')"
   ]
  },
  {
   "cell_type": "markdown",
   "metadata": {},
   "source": [
    "Обученная только на [train] выборке модель показала пусть ненамного, но лучший результат - это свидетельствует о том, что на [train + valid] выборке модель переобучилась (возможно в valid выборке были похожие на train объекты). Последний этап - проверка модели на адекватность."
   ]
  },
  {
   "cell_type": "markdown",
   "metadata": {},
   "source": [
    "## Проверка модели на адекватность"
   ]
  },
  {
   "cell_type": "markdown",
   "metadata": {},
   "source": [
    "Сравним лучшие результаты модели обученной только на [train] выборке F1 = 0.65, AUC-ROC = 0.78 с Dummy классификатором с параметром `strategy=\"most_frequent\"` (предсказание одним числом - самым частым в `train` выборке, это 0):"
   ]
  },
  {
   "cell_type": "code",
   "execution_count": 53,
   "metadata": {},
   "outputs": [
    {
     "name": "stdout",
     "output_type": "stream",
     "text": [
      "Результаты Dummy для тестового набора F1: 0.0, AUC-ROC: 0.5\n"
     ]
    }
   ],
   "source": [
    "# сравнение с Dummy:\n",
    "dummy_clf = DummyClassifier(strategy=\"most_frequent\")\n",
    "dummy_clf.fit(features_train, target_train)\n",
    "predictions = dummy_clf.predict(features_test)\n",
    "result_f1 = f1_score(target_test, predictions)\n",
    "result_aucroc = roc_auc_score(target_test, predictions)\n",
    "print(f'Результаты Dummy для тестового набора F1: {result_f1}, AUC-ROC: {result_aucroc}')"
   ]
  },
  {
   "cell_type": "markdown",
   "metadata": {},
   "source": [
    "Ожидаемо F1-мера 0, т.к. предсказывая всегда 0 FP объектов не будет. Тогда, ориентируясь по AUC-ROC можно уверенно заявлять, что обученная нами модель адекватна."
   ]
  },
  {
   "cell_type": "markdown",
   "metadata": {},
   "source": [
    "## Выводы"
   ]
  },
  {
   "cell_type": "markdown",
   "metadata": {},
   "source": [
    "В рамках проекта, нам было необходимо решить задачу классификации - определить, уйдет клиент в ближайшее время или нет. Для выполнения этой задачи мы использовали алгоритмы логистической регрессии, решающего дерева и случайного леса. Для оценки моделей использовался показатель F1-меры (минимум 0.59 для успешной сдачи проекта), который объединяет две метрики - precision и recall, а также кривую ROC с указанием ее площади (ROC-AUC).\n",
    "\n",
    "В ходе предварительной обработки данных мы проверили исходный набор данных на дубликаты и исключили некоторые признаки. Далее, на этапе разведочного анализа данных (EDA) было удалено 15.25% объектов: с аномальными значениями заработной платы в поле `estimated_salary`, с пропущенными данными в поле `tenure`, а также объектов с выбросами и редкими значениями по остальным столбцам.\n",
    "\n",
    "В ходе подготовки данных для обучения модели: \n",
    "* категориальные признаки конвертированы в числовые методом прямого кодирования;\n",
    "* численные признаки приведены к одному масштабу методом стандартизации;\n",
    "* выполнена разбивка данных на обучающую, валидационную и тестовую выборки в соотношении (3:1:1) с выделением целевого признака и сохранением баланса классов как в исходном наборе.\n",
    "\n",
    "После этого модели сначала были обучены пробно, без учета дисбаланса классов и без подбора гиперпараметров, после этого обучены с учетом дисбаланса классов двумя способами:\n",
    "* с параметром параметр `class_weight = 'balanced'` при создании моделей;\n",
    "* с помощью ребалансировки классов в обучающей выборке.\n",
    "Выбранные для оценки качества метрики после учета дисбаланса классов снизились по сравнению с метриками моделей обученных просто на сырых данных. Побробнее [тут](#Выводы-10.4). \n",
    "\n",
    "**На тестовой выборке модель с алгоритмом случайный лес (Random Forest) показала лучшие результаты: целевой показатель F1 (не менее 0.59) достигнут. Модель прошла проверку на адекватность и доказала свою состоятельность.**\n",
    "\n",
    "Результаты исследования возможно улучшить, для этого необходимо уточнить:\n",
    "1. вопросы по признаку `tenure`:\n",
    "    * 9% данных поля `tenure` о том, сколько лет человек является клиентом банка **пропущены**;\n",
    "    * установлено, что пропущенные данные поля `tenure` не принадлежат одной определенной стране;\n",
    "    * основное предположение - данные утеряны или не были занесены, возможно их можно восстановить вручную.\n",
    "2. вопросы по признаку `estimated_salary`:\n",
    "    * 0.76% записей не соответствуют данным о минимальных заработных платах в Европейских странах;\n",
    "    * нет данных о периоде за который указана заработная плата (в час, день, месяц и т.д.);\n",
    "    * нет данных до или после вычета налогов указана заработная плата.\n",
    "\n",
    "В заключение, буду рад поделиться интересными наблюдениями, которые появились в ходе анализа предоставленных данных:\n",
    "* в Германии доля клиентов, которые ушли в два раза выше, чем во Франции и Испании;\n",
    "* клиенты более старшего возраста отказываются от услуг банка чаще: действующие клиенты примерно на 10 лет младше тех, кто решил прекратить работу с банком;\n",
    "* более состоятельные клиенты отказываются от услуг банка чаще: ушедшие клиенты хранили деньги на счетах чаще и в более крупных размерах;\n",
    "* клиенты, которые пробуют использовать дополнительные, кроме самых распространенных продукты - уходят. Необходимо проанализировать ситуацию: возможно улучшить доп. услуги банка?\n",
    "* женщины чаще мужчин принимают решение прекратить пользование услугами банка. Согласно [данным совместного исследования «Росгосстрах Жизнь» и банка «Открытие»](https://plus.rbc.ru/pressrelease/5d5d33c67a8aa965eb3fd65e#:~:text=Женщины%20покупают%20полисы%20страхования%20жизни,«Росгосстрах%20Жизнь»%20и%20банка%20«Открытие») - женщины покупают полисы страхования жизни чаще мужчин: на их долю приходится чуть более 60% договоров. Возможно это дополнительно подтверждает предыдущее наблюдение: отток клиентов среди женщин выше, потому что уровень дополнительных услуг страхования в банке ниже, чем у конкурентов.\n",
    "\n",
    "Можно представить облик клиента, который, вероятно, с банком надолго и клиента, который вскоре уйдет. Первый - это скорее всего молодой человек 35 лет, без накоплений и часто пользуется кредитными продуктами (высокий кредитный рейтинг). Второй - более возрастные мужчины или женщины, имеющие накопления. \n",
    "\n",
    "Искренне надеюсь, что данные наблюдения смогут помочь скорректировать рекламную кампанию маркетологам и удержать клиентов."
   ]
  },
  {
   "cell_type": "code",
   "execution_count": null,
   "metadata": {},
   "outputs": [],
   "source": []
  }
 ],
 "metadata": {
  "ExecuteTimeLog": [
   {
    "duration": 1535,
    "start_time": "2022-10-11T07:03:11.229Z"
   },
   {
    "duration": 96,
    "start_time": "2022-10-11T07:04:05.050Z"
   },
   {
    "duration": 50,
    "start_time": "2022-10-11T07:04:32.895Z"
   },
   {
    "duration": 12,
    "start_time": "2022-10-11T07:06:28.772Z"
   },
   {
    "duration": 62,
    "start_time": "2022-10-11T07:07:47.052Z"
   },
   {
    "duration": 45,
    "start_time": "2022-10-11T07:07:55.382Z"
   },
   {
    "duration": 5,
    "start_time": "2022-10-11T07:17:48.663Z"
   },
   {
    "duration": 4,
    "start_time": "2022-10-11T07:18:14.014Z"
   },
   {
    "duration": 51,
    "start_time": "2022-10-11T07:18:32.171Z"
   },
   {
    "duration": 143,
    "start_time": "2022-10-11T07:23:52.545Z"
   },
   {
    "duration": 1184,
    "start_time": "2022-10-11T07:23:58.463Z"
   },
   {
    "duration": 47,
    "start_time": "2022-10-11T07:24:19.099Z"
   },
   {
    "duration": 11,
    "start_time": "2022-10-11T07:24:31.103Z"
   },
   {
    "duration": 5,
    "start_time": "2022-10-11T07:24:33.806Z"
   },
   {
    "duration": 15,
    "start_time": "2022-10-11T07:24:37.951Z"
   },
   {
    "duration": 4,
    "start_time": "2022-10-11T07:29:02.982Z"
   },
   {
    "duration": 12,
    "start_time": "2022-10-11T07:29:06.398Z"
   },
   {
    "duration": 6,
    "start_time": "2022-10-11T07:29:14.055Z"
   },
   {
    "duration": 14,
    "start_time": "2022-10-11T07:29:18.343Z"
   },
   {
    "duration": 1530,
    "start_time": "2022-10-11T16:35:39.128Z"
   },
   {
    "duration": 174,
    "start_time": "2022-10-11T16:35:40.660Z"
   },
   {
    "duration": 13,
    "start_time": "2022-10-11T16:35:40.836Z"
   },
   {
    "duration": 4,
    "start_time": "2022-10-11T16:35:40.850Z"
   },
   {
    "duration": 105,
    "start_time": "2022-10-11T16:35:40.856Z"
   },
   {
    "duration": 0,
    "start_time": "2022-10-11T16:35:40.963Z"
   },
   {
    "duration": 12,
    "start_time": "2022-10-11T16:36:02.810Z"
   },
   {
    "duration": 5,
    "start_time": "2022-10-11T16:36:32.886Z"
   },
   {
    "duration": 51,
    "start_time": "2022-10-11T16:37:11.625Z"
   },
   {
    "duration": 1286,
    "start_time": "2022-10-11T16:37:54.706Z"
   },
   {
    "duration": 52,
    "start_time": "2022-10-11T16:37:55.994Z"
   },
   {
    "duration": 12,
    "start_time": "2022-10-11T16:37:56.048Z"
   },
   {
    "duration": 20,
    "start_time": "2022-10-11T16:37:56.061Z"
   },
   {
    "duration": 71,
    "start_time": "2022-10-11T16:37:56.083Z"
   },
   {
    "duration": 10,
    "start_time": "2022-10-11T16:39:14.313Z"
   },
   {
    "duration": 10,
    "start_time": "2022-10-11T16:39:20.408Z"
   },
   {
    "duration": 8,
    "start_time": "2022-10-11T16:39:29.945Z"
   },
   {
    "duration": 5,
    "start_time": "2022-10-11T16:39:56.172Z"
   },
   {
    "duration": 5,
    "start_time": "2022-10-11T16:40:01.100Z"
   },
   {
    "duration": 3,
    "start_time": "2022-10-11T16:40:55.970Z"
   },
   {
    "duration": 6,
    "start_time": "2022-10-11T16:43:15.897Z"
   },
   {
    "duration": 100,
    "start_time": "2022-10-11T16:43:30.309Z"
   },
   {
    "duration": 248,
    "start_time": "2022-10-11T16:44:41.036Z"
   },
   {
    "duration": 259,
    "start_time": "2022-10-11T16:44:44.755Z"
   },
   {
    "duration": 4,
    "start_time": "2022-10-11T16:45:24.745Z"
   },
   {
    "duration": 237,
    "start_time": "2022-10-11T16:45:26.752Z"
   },
   {
    "duration": 5,
    "start_time": "2022-10-11T16:56:08.633Z"
   },
   {
    "duration": 254,
    "start_time": "2022-10-11T16:56:10.769Z"
   },
   {
    "duration": 4,
    "start_time": "2022-10-11T16:57:28.915Z"
   },
   {
    "duration": 76,
    "start_time": "2022-10-11T16:58:08.071Z"
   },
   {
    "duration": 1439,
    "start_time": "2022-10-11T16:58:09.990Z"
   },
   {
    "duration": 5,
    "start_time": "2022-10-11T16:58:34.099Z"
   },
   {
    "duration": 2053,
    "start_time": "2022-10-11T16:58:35.906Z"
   },
   {
    "duration": 6,
    "start_time": "2022-10-11T16:59:04.573Z"
   },
   {
    "duration": 1581,
    "start_time": "2022-10-11T16:59:06.795Z"
   },
   {
    "duration": 5,
    "start_time": "2022-10-11T16:59:39.754Z"
   },
   {
    "duration": 822,
    "start_time": "2022-10-11T16:59:41.583Z"
   },
   {
    "duration": 5,
    "start_time": "2022-10-11T17:01:13.804Z"
   },
   {
    "duration": 2327,
    "start_time": "2022-10-11T17:01:15.844Z"
   },
   {
    "duration": 5,
    "start_time": "2022-10-11T17:01:29.366Z"
   },
   {
    "duration": 1418,
    "start_time": "2022-10-11T17:01:31.134Z"
   },
   {
    "duration": 5,
    "start_time": "2022-10-11T17:01:57.840Z"
   },
   {
    "duration": 288,
    "start_time": "2022-10-11T17:01:59.505Z"
   },
   {
    "duration": 5,
    "start_time": "2022-10-11T17:06:08.622Z"
   },
   {
    "duration": 1656,
    "start_time": "2022-10-11T17:06:10.845Z"
   },
   {
    "duration": 6,
    "start_time": "2022-10-11T17:06:22.502Z"
   },
   {
    "duration": 1675,
    "start_time": "2022-10-11T17:06:24.279Z"
   },
   {
    "duration": 77,
    "start_time": "2022-10-11T17:06:50.161Z"
   },
   {
    "duration": 5,
    "start_time": "2022-10-11T17:06:54.203Z"
   },
   {
    "duration": 242,
    "start_time": "2022-10-11T17:06:56.083Z"
   },
   {
    "duration": 7,
    "start_time": "2022-10-11T17:07:06.237Z"
   },
   {
    "duration": 325,
    "start_time": "2022-10-11T17:07:08.348Z"
   },
   {
    "duration": 6,
    "start_time": "2022-10-11T17:09:00.097Z"
   },
   {
    "duration": 1473,
    "start_time": "2022-10-11T17:09:02.312Z"
   },
   {
    "duration": 5,
    "start_time": "2022-10-11T17:09:45.686Z"
   },
   {
    "duration": 1474,
    "start_time": "2022-10-11T17:09:47.702Z"
   },
   {
    "duration": 5,
    "start_time": "2022-10-11T17:09:54.247Z"
   },
   {
    "duration": 237,
    "start_time": "2022-10-11T17:09:56.031Z"
   },
   {
    "duration": 7,
    "start_time": "2022-10-11T17:10:09.881Z"
   },
   {
    "duration": 1031,
    "start_time": "2022-10-11T17:10:11.777Z"
   },
   {
    "duration": 5,
    "start_time": "2022-10-11T17:10:33.692Z"
   },
   {
    "duration": 774,
    "start_time": "2022-10-11T17:10:35.787Z"
   },
   {
    "duration": 5,
    "start_time": "2022-10-11T17:10:54.622Z"
   },
   {
    "duration": 247,
    "start_time": "2022-10-11T17:10:56.589Z"
   },
   {
    "duration": 5,
    "start_time": "2022-10-11T17:11:03.543Z"
   },
   {
    "duration": 841,
    "start_time": "2022-10-11T17:11:05.527Z"
   },
   {
    "duration": 111,
    "start_time": "2022-10-11T17:12:23.992Z"
   },
   {
    "duration": 710,
    "start_time": "2022-10-11T17:12:26.017Z"
   },
   {
    "duration": 156,
    "start_time": "2022-10-11T17:12:56.708Z"
   },
   {
    "duration": 99,
    "start_time": "2022-10-11T17:13:00.156Z"
   },
   {
    "duration": 7,
    "start_time": "2022-10-11T17:13:05.957Z"
   },
   {
    "duration": 288,
    "start_time": "2022-10-11T17:13:07.885Z"
   },
   {
    "duration": 6,
    "start_time": "2022-10-11T17:13:47.306Z"
   },
   {
    "duration": 289,
    "start_time": "2022-10-11T17:13:49.402Z"
   },
   {
    "duration": 6,
    "start_time": "2022-10-11T17:18:58.861Z"
   },
   {
    "duration": 724,
    "start_time": "2022-10-11T17:19:00.948Z"
   },
   {
    "duration": 5,
    "start_time": "2022-10-11T17:19:32.353Z"
   },
   {
    "duration": 261,
    "start_time": "2022-10-11T17:19:34.376Z"
   },
   {
    "duration": 7,
    "start_time": "2022-10-11T17:23:37.938Z"
   },
   {
    "duration": 308,
    "start_time": "2022-10-11T17:23:40.489Z"
   },
   {
    "duration": 7,
    "start_time": "2022-10-11T17:23:49.445Z"
   },
   {
    "duration": 280,
    "start_time": "2022-10-11T17:23:51.437Z"
   },
   {
    "duration": 7,
    "start_time": "2022-10-11T17:24:02.310Z"
   },
   {
    "duration": 158,
    "start_time": "2022-10-11T17:24:04.103Z"
   },
   {
    "duration": 103,
    "start_time": "2022-10-11T17:24:49.197Z"
   },
   {
    "duration": 165,
    "start_time": "2022-10-11T17:24:51.412Z"
   },
   {
    "duration": 7,
    "start_time": "2022-10-11T17:24:56.646Z"
   },
   {
    "duration": 274,
    "start_time": "2022-10-11T17:24:58.486Z"
   },
   {
    "duration": 6,
    "start_time": "2022-10-11T17:25:04.791Z"
   },
   {
    "duration": 318,
    "start_time": "2022-10-11T17:25:07.006Z"
   },
   {
    "duration": 6,
    "start_time": "2022-10-11T17:26:14.985Z"
   },
   {
    "duration": 9,
    "start_time": "2022-10-11T17:26:20.183Z"
   },
   {
    "duration": 269,
    "start_time": "2022-10-11T17:26:22.327Z"
   },
   {
    "duration": 6,
    "start_time": "2022-10-11T17:29:24.628Z"
   },
   {
    "duration": 197,
    "start_time": "2022-10-11T17:29:26.843Z"
   },
   {
    "duration": 6,
    "start_time": "2022-10-11T17:29:33.972Z"
   },
   {
    "duration": 198,
    "start_time": "2022-10-11T17:29:35.933Z"
   },
   {
    "duration": 6,
    "start_time": "2022-10-11T17:30:10.672Z"
   },
   {
    "duration": 210,
    "start_time": "2022-10-11T17:30:12.633Z"
   },
   {
    "duration": 6,
    "start_time": "2022-10-11T17:30:50.949Z"
   },
   {
    "duration": 262,
    "start_time": "2022-10-11T17:30:52.861Z"
   },
   {
    "duration": 7,
    "start_time": "2022-10-11T17:31:00.638Z"
   },
   {
    "duration": 270,
    "start_time": "2022-10-11T17:31:02.622Z"
   },
   {
    "duration": 6,
    "start_time": "2022-10-11T17:31:13.912Z"
   },
   {
    "duration": 1321,
    "start_time": "2022-10-11T17:31:15.944Z"
   },
   {
    "duration": 6,
    "start_time": "2022-10-11T17:31:26.537Z"
   },
   {
    "duration": 268,
    "start_time": "2022-10-11T17:31:29.193Z"
   },
   {
    "duration": 115,
    "start_time": "2022-10-11T17:31:45.124Z"
   },
   {
    "duration": 1390,
    "start_time": "2022-10-11T17:31:47.083Z"
   },
   {
    "duration": 6,
    "start_time": "2022-10-11T17:32:05.509Z"
   },
   {
    "duration": 210,
    "start_time": "2022-10-11T17:32:07.702Z"
   },
   {
    "duration": 6,
    "start_time": "2022-10-11T17:32:15.255Z"
   },
   {
    "duration": 204,
    "start_time": "2022-10-11T17:32:17.263Z"
   },
   {
    "duration": 6,
    "start_time": "2022-10-11T17:32:25.848Z"
   },
   {
    "duration": 203,
    "start_time": "2022-10-11T17:32:28.353Z"
   },
   {
    "duration": 6,
    "start_time": "2022-10-11T17:32:46.187Z"
   },
   {
    "duration": 216,
    "start_time": "2022-10-11T17:32:48.595Z"
   },
   {
    "duration": 6,
    "start_time": "2022-10-11T17:33:08.810Z"
   },
   {
    "duration": 279,
    "start_time": "2022-10-11T17:33:10.629Z"
   },
   {
    "duration": 6864,
    "start_time": "2022-10-11T17:40:23.767Z"
   },
   {
    "duration": 6815,
    "start_time": "2022-10-11T17:40:48.121Z"
   },
   {
    "duration": 6968,
    "start_time": "2022-10-11T17:41:18.612Z"
   },
   {
    "duration": 7525,
    "start_time": "2022-10-11T17:41:33.815Z"
   },
   {
    "duration": 119,
    "start_time": "2022-10-11T17:43:35.565Z"
   },
   {
    "duration": 125,
    "start_time": "2022-10-11T17:44:15.833Z"
   },
   {
    "duration": 106,
    "start_time": "2022-10-11T17:45:07.833Z"
   },
   {
    "duration": 102,
    "start_time": "2022-10-11T17:47:01.476Z"
   },
   {
    "duration": 135,
    "start_time": "2022-10-11T17:47:16.173Z"
   },
   {
    "duration": 6,
    "start_time": "2022-10-11T17:48:10.732Z"
   },
   {
    "duration": 1466,
    "start_time": "2022-10-11T17:49:30.173Z"
   },
   {
    "duration": 5,
    "start_time": "2022-10-11T17:49:38.773Z"
   },
   {
    "duration": 5,
    "start_time": "2022-10-11T17:49:51.507Z"
   },
   {
    "duration": 9,
    "start_time": "2022-10-11T17:50:00.736Z"
   },
   {
    "duration": 9,
    "start_time": "2022-10-11T17:50:12.697Z"
   },
   {
    "duration": 6,
    "start_time": "2022-10-11T17:50:36.492Z"
   },
   {
    "duration": 6,
    "start_time": "2022-10-11T17:51:33.626Z"
   },
   {
    "duration": 5,
    "start_time": "2022-10-11T17:51:43.075Z"
   },
   {
    "duration": 4,
    "start_time": "2022-10-11T17:52:09.198Z"
   },
   {
    "duration": 7,
    "start_time": "2022-10-11T17:52:15.231Z"
   },
   {
    "duration": 5,
    "start_time": "2022-10-11T17:52:34.185Z"
   },
   {
    "duration": 6,
    "start_time": "2022-10-11T17:52:46.891Z"
   },
   {
    "duration": 5,
    "start_time": "2022-10-11T17:52:54.540Z"
   },
   {
    "duration": 6,
    "start_time": "2022-10-11T17:53:36.585Z"
   },
   {
    "duration": 70,
    "start_time": "2022-10-11T17:54:56.673Z"
   },
   {
    "duration": 5,
    "start_time": "2022-10-11T17:55:02.514Z"
   },
   {
    "duration": 142,
    "start_time": "2022-10-11T17:56:34.229Z"
   },
   {
    "duration": 20,
    "start_time": "2022-10-11T17:57:44.262Z"
   },
   {
    "duration": 21,
    "start_time": "2022-10-11T17:58:15.460Z"
   },
   {
    "duration": 6,
    "start_time": "2022-10-11T18:00:10.182Z"
   },
   {
    "duration": 6,
    "start_time": "2022-10-11T18:00:23.671Z"
   },
   {
    "duration": 118,
    "start_time": "2022-10-11T18:01:01.908Z"
   },
   {
    "duration": 7,
    "start_time": "2022-10-11T18:03:03.554Z"
   },
   {
    "duration": 128,
    "start_time": "2022-10-11T18:10:16.675Z"
   },
   {
    "duration": 136,
    "start_time": "2022-10-11T18:11:16.882Z"
   },
   {
    "duration": 157,
    "start_time": "2022-10-11T18:11:49.998Z"
   },
   {
    "duration": 126,
    "start_time": "2022-10-11T18:11:56.899Z"
   },
   {
    "duration": 107,
    "start_time": "2022-10-11T18:12:06.496Z"
   },
   {
    "duration": 125,
    "start_time": "2022-10-11T18:12:09.424Z"
   },
   {
    "duration": 129,
    "start_time": "2022-10-11T18:12:57.822Z"
   },
   {
    "duration": 522,
    "start_time": "2022-10-11T18:13:01.830Z"
   },
   {
    "duration": 124,
    "start_time": "2022-10-11T18:13:38.618Z"
   },
   {
    "duration": 126,
    "start_time": "2022-10-11T18:14:02.782Z"
   },
   {
    "duration": 122,
    "start_time": "2022-10-11T18:14:05.805Z"
   },
   {
    "duration": 124,
    "start_time": "2022-10-11T18:17:03.394Z"
   },
   {
    "duration": 111,
    "start_time": "2022-10-11T18:17:13.626Z"
   },
   {
    "duration": 6,
    "start_time": "2022-10-11T18:20:06.199Z"
   },
   {
    "duration": 4,
    "start_time": "2022-10-11T18:21:09.835Z"
   },
   {
    "duration": 6,
    "start_time": "2022-10-11T18:21:13.446Z"
   },
   {
    "duration": 6,
    "start_time": "2022-10-11T18:22:08.636Z"
   },
   {
    "duration": 113,
    "start_time": "2022-10-11T18:22:39.680Z"
   },
   {
    "duration": 109,
    "start_time": "2022-10-11T18:23:23.453Z"
   },
   {
    "duration": 101,
    "start_time": "2022-10-11T18:23:59.281Z"
   },
   {
    "duration": 11,
    "start_time": "2022-10-11T18:24:35.669Z"
   },
   {
    "duration": 100,
    "start_time": "2022-10-11T18:24:39.685Z"
   },
   {
    "duration": 15,
    "start_time": "2022-10-11T18:26:52.244Z"
   },
   {
    "duration": 6,
    "start_time": "2022-10-11T18:27:27.029Z"
   },
   {
    "duration": 241,
    "start_time": "2022-10-11T18:27:29.760Z"
   },
   {
    "duration": 247,
    "start_time": "2022-10-11T18:27:41.073Z"
   },
   {
    "duration": 249,
    "start_time": "2022-10-11T18:27:53.763Z"
   },
   {
    "duration": 6,
    "start_time": "2022-10-11T18:27:59.068Z"
   },
   {
    "duration": 260,
    "start_time": "2022-10-11T18:28:01.614Z"
   },
   {
    "duration": 118,
    "start_time": "2022-10-11T18:28:34.361Z"
   },
   {
    "duration": 118,
    "start_time": "2022-10-11T18:28:38.944Z"
   },
   {
    "duration": 11,
    "start_time": "2022-10-11T18:30:44.389Z"
   },
   {
    "duration": 11,
    "start_time": "2022-10-11T18:31:00.801Z"
   },
   {
    "duration": 15,
    "start_time": "2022-10-11T18:31:06.875Z"
   },
   {
    "duration": 112,
    "start_time": "2022-10-11T18:32:49.213Z"
   },
   {
    "duration": 157,
    "start_time": "2022-10-11T18:33:19.786Z"
   },
   {
    "duration": 447,
    "start_time": "2022-10-11T18:34:37.090Z"
   },
   {
    "duration": 445,
    "start_time": "2022-10-11T18:35:06.453Z"
   },
   {
    "duration": 1700,
    "start_time": "2022-10-12T03:31:55.861Z"
   },
   {
    "duration": 188,
    "start_time": "2022-10-12T03:31:57.563Z"
   },
   {
    "duration": 13,
    "start_time": "2022-10-12T03:31:57.753Z"
   },
   {
    "duration": 4,
    "start_time": "2022-10-12T03:31:57.769Z"
   },
   {
    "duration": 55,
    "start_time": "2022-10-12T03:31:57.776Z"
   },
   {
    "duration": 5,
    "start_time": "2022-10-12T03:31:57.833Z"
   },
   {
    "duration": 9,
    "start_time": "2022-10-12T03:31:57.840Z"
   },
   {
    "duration": 375,
    "start_time": "2022-10-12T03:31:57.852Z"
   },
   {
    "duration": 15,
    "start_time": "2022-10-12T03:31:58.229Z"
   },
   {
    "duration": 606,
    "start_time": "2022-10-12T03:31:58.247Z"
   },
   {
    "duration": 144,
    "start_time": "2022-10-12T03:31:58.855Z"
   },
   {
    "duration": 242,
    "start_time": "2022-10-12T03:31:59.000Z"
   },
   {
    "duration": 6,
    "start_time": "2022-10-12T03:31:59.244Z"
   },
   {
    "duration": 9,
    "start_time": "2022-10-12T03:31:59.253Z"
   },
   {
    "duration": 8,
    "start_time": "2022-10-12T03:31:59.264Z"
   },
   {
    "duration": 193,
    "start_time": "2022-10-12T03:31:59.273Z"
   },
   {
    "duration": 52,
    "start_time": "2022-10-12T03:32:43.887Z"
   },
   {
    "duration": 1530,
    "start_time": "2022-10-12T04:15:57.995Z"
   },
   {
    "duration": 58,
    "start_time": "2022-10-12T04:15:59.527Z"
   },
   {
    "duration": 17,
    "start_time": "2022-10-12T04:15:59.587Z"
   },
   {
    "duration": 8,
    "start_time": "2022-10-12T04:15:59.606Z"
   },
   {
    "duration": 57,
    "start_time": "2022-10-12T04:15:59.617Z"
   },
   {
    "duration": 16,
    "start_time": "2022-10-12T04:15:59.690Z"
   },
   {
    "duration": 8,
    "start_time": "2022-10-12T04:15:59.708Z"
   },
   {
    "duration": 361,
    "start_time": "2022-10-12T04:15:59.718Z"
   },
   {
    "duration": 28,
    "start_time": "2022-10-12T04:16:00.081Z"
   },
   {
    "duration": 717,
    "start_time": "2022-10-12T04:16:00.112Z"
   },
   {
    "duration": 149,
    "start_time": "2022-10-12T04:16:00.832Z"
   },
   {
    "duration": 259,
    "start_time": "2022-10-12T04:16:00.983Z"
   },
   {
    "duration": 7,
    "start_time": "2022-10-12T04:16:01.244Z"
   },
   {
    "duration": 16,
    "start_time": "2022-10-12T04:16:01.254Z"
   },
   {
    "duration": 25,
    "start_time": "2022-10-12T04:16:01.272Z"
   },
   {
    "duration": 207,
    "start_time": "2022-10-12T04:16:01.299Z"
   },
   {
    "duration": 64,
    "start_time": "2022-10-12T04:17:51.754Z"
   },
   {
    "duration": 137,
    "start_time": "2022-10-12T04:41:34.757Z"
   },
   {
    "duration": 162,
    "start_time": "2022-10-12T04:41:42.474Z"
   },
   {
    "duration": 158,
    "start_time": "2022-10-12T04:41:54.505Z"
   },
   {
    "duration": 158,
    "start_time": "2022-10-12T04:42:57.402Z"
   },
   {
    "duration": 172,
    "start_time": "2022-10-12T04:43:25.529Z"
   },
   {
    "duration": 160,
    "start_time": "2022-10-12T04:43:32.546Z"
   },
   {
    "duration": 162,
    "start_time": "2022-10-12T04:43:50.068Z"
   },
   {
    "duration": 178,
    "start_time": "2022-10-12T04:44:11.602Z"
   },
   {
    "duration": 161,
    "start_time": "2022-10-12T04:44:17.439Z"
   },
   {
    "duration": 58,
    "start_time": "2022-10-12T04:47:15.249Z"
   },
   {
    "duration": 62,
    "start_time": "2022-10-12T12:40:35.368Z"
   },
   {
    "duration": 1692,
    "start_time": "2022-10-12T12:40:58.039Z"
   },
   {
    "duration": 196,
    "start_time": "2022-10-12T12:40:59.733Z"
   },
   {
    "duration": 15,
    "start_time": "2022-10-12T12:40:59.930Z"
   },
   {
    "duration": 67,
    "start_time": "2022-10-12T12:40:59.947Z"
   },
   {
    "duration": 3324,
    "start_time": "2022-10-12T12:41:00.016Z"
   },
   {
    "duration": 9,
    "start_time": "2022-10-12T12:41:11.116Z"
   },
   {
    "duration": 6,
    "start_time": "2022-10-12T12:45:29.081Z"
   },
   {
    "duration": 7,
    "start_time": "2022-10-12T12:46:12.342Z"
   },
   {
    "duration": 5,
    "start_time": "2022-10-12T13:01:41.227Z"
   },
   {
    "duration": 5,
    "start_time": "2022-10-12T13:02:51.734Z"
   },
   {
    "duration": 12,
    "start_time": "2022-10-12T13:03:27.587Z"
   },
   {
    "duration": 15,
    "start_time": "2022-10-12T13:03:29.798Z"
   },
   {
    "duration": 8,
    "start_time": "2022-10-12T13:05:02.387Z"
   },
   {
    "duration": 10,
    "start_time": "2022-10-12T13:05:09.216Z"
   },
   {
    "duration": 26,
    "start_time": "2022-10-12T13:11:45.980Z"
   },
   {
    "duration": 1823,
    "start_time": "2022-10-12T13:11:54.620Z"
   },
   {
    "duration": 74,
    "start_time": "2022-10-12T13:11:56.446Z"
   },
   {
    "duration": 17,
    "start_time": "2022-10-12T13:11:56.521Z"
   },
   {
    "duration": 80,
    "start_time": "2022-10-12T13:11:56.541Z"
   },
   {
    "duration": 7,
    "start_time": "2022-10-12T13:11:56.633Z"
   },
   {
    "duration": 6,
    "start_time": "2022-10-12T13:11:56.642Z"
   },
   {
    "duration": 11,
    "start_time": "2022-10-12T13:11:56.650Z"
   },
   {
    "duration": 766,
    "start_time": "2022-10-12T13:11:56.663Z"
   },
   {
    "duration": 58,
    "start_time": "2022-10-12T13:11:57.437Z"
   },
   {
    "duration": 2020,
    "start_time": "2022-10-12T13:11:57.497Z"
   },
   {
    "duration": 201,
    "start_time": "2022-10-12T13:11:59.519Z"
   },
   {
    "duration": 305,
    "start_time": "2022-10-12T13:11:59.722Z"
   },
   {
    "duration": 8,
    "start_time": "2022-10-12T13:12:00.034Z"
   },
   {
    "duration": 65,
    "start_time": "2022-10-12T13:12:00.047Z"
   },
   {
    "duration": 60,
    "start_time": "2022-10-12T13:12:00.116Z"
   },
   {
    "duration": 283,
    "start_time": "2022-10-12T13:12:00.178Z"
   },
   {
    "duration": 6,
    "start_time": "2022-10-12T13:12:00.462Z"
   },
   {
    "duration": 74,
    "start_time": "2022-10-12T13:12:00.470Z"
   },
   {
    "duration": 10,
    "start_time": "2022-10-12T17:27:04.012Z"
   },
   {
    "duration": 9,
    "start_time": "2022-10-12T17:27:14.943Z"
   },
   {
    "duration": 8,
    "start_time": "2022-10-12T17:27:20.914Z"
   },
   {
    "duration": 7,
    "start_time": "2022-10-12T17:28:17.905Z"
   },
   {
    "duration": 115,
    "start_time": "2022-10-12T17:28:33.891Z"
   },
   {
    "duration": 72,
    "start_time": "2022-10-12T17:35:30.672Z"
   },
   {
    "duration": 55,
    "start_time": "2022-10-12T17:35:56.333Z"
   },
   {
    "duration": 1307,
    "start_time": "2022-10-12T17:44:15.987Z"
   },
   {
    "duration": 1430,
    "start_time": "2022-10-12T17:44:43.133Z"
   },
   {
    "duration": 58,
    "start_time": "2022-10-12T17:44:44.565Z"
   },
   {
    "duration": 13,
    "start_time": "2022-10-12T17:44:44.625Z"
   },
   {
    "duration": 66,
    "start_time": "2022-10-12T17:44:44.641Z"
   },
   {
    "duration": 5,
    "start_time": "2022-10-12T17:44:44.708Z"
   },
   {
    "duration": 9,
    "start_time": "2022-10-12T17:44:44.715Z"
   },
   {
    "duration": 156,
    "start_time": "2022-10-12T17:44:44.726Z"
   },
   {
    "duration": 8,
    "start_time": "2022-10-12T17:44:44.890Z"
   },
   {
    "duration": 15,
    "start_time": "2022-10-12T17:44:44.900Z"
   },
   {
    "duration": 354,
    "start_time": "2022-10-12T17:44:44.918Z"
   },
   {
    "duration": 17,
    "start_time": "2022-10-12T17:44:45.274Z"
   },
   {
    "duration": 828,
    "start_time": "2022-10-12T17:44:45.293Z"
   },
   {
    "duration": 403,
    "start_time": "2022-10-12T17:44:46.123Z"
   },
   {
    "duration": 361,
    "start_time": "2022-10-12T17:44:46.528Z"
   },
   {
    "duration": 6,
    "start_time": "2022-10-12T17:44:46.891Z"
   },
   {
    "duration": 7,
    "start_time": "2022-10-12T17:44:46.899Z"
   },
   {
    "duration": 8,
    "start_time": "2022-10-12T17:44:46.907Z"
   },
   {
    "duration": 301,
    "start_time": "2022-10-12T17:44:46.917Z"
   },
   {
    "duration": 5,
    "start_time": "2022-10-12T17:44:47.220Z"
   },
   {
    "duration": 7,
    "start_time": "2022-10-12T17:44:47.227Z"
   },
   {
    "duration": 7,
    "start_time": "2022-10-12T17:45:36.015Z"
   },
   {
    "duration": 6,
    "start_time": "2022-10-12T17:45:42.196Z"
   },
   {
    "duration": 7,
    "start_time": "2022-10-12T17:45:48.772Z"
   },
   {
    "duration": 13,
    "start_time": "2022-10-12T17:46:42.691Z"
   },
   {
    "duration": 12,
    "start_time": "2022-10-12T17:47:15.400Z"
   },
   {
    "duration": 13,
    "start_time": "2022-10-12T17:48:00.604Z"
   },
   {
    "duration": 1005,
    "start_time": "2022-10-12T17:48:18.964Z"
   },
   {
    "duration": 882,
    "start_time": "2022-10-12T17:48:30.713Z"
   },
   {
    "duration": 11,
    "start_time": "2022-10-12T17:49:11.141Z"
   },
   {
    "duration": 13,
    "start_time": "2022-10-12T17:49:25.262Z"
   },
   {
    "duration": 12,
    "start_time": "2022-10-12T17:49:33.919Z"
   },
   {
    "duration": 12,
    "start_time": "2022-10-12T17:50:12.579Z"
   },
   {
    "duration": 13,
    "start_time": "2022-10-12T17:51:05.435Z"
   },
   {
    "duration": 12,
    "start_time": "2022-10-12T17:51:28.868Z"
   },
   {
    "duration": 13,
    "start_time": "2022-10-12T17:51:38.139Z"
   },
   {
    "duration": 12,
    "start_time": "2022-10-12T17:51:45.023Z"
   },
   {
    "duration": 13,
    "start_time": "2022-10-12T17:51:49.110Z"
   },
   {
    "duration": 3,
    "start_time": "2022-10-12T17:57:53.247Z"
   },
   {
    "duration": 5,
    "start_time": "2022-10-12T17:58:03.889Z"
   },
   {
    "duration": 5,
    "start_time": "2022-10-12T17:58:34.348Z"
   },
   {
    "duration": 12,
    "start_time": "2022-10-12T17:58:37.388Z"
   },
   {
    "duration": 122,
    "start_time": "2022-10-12T17:59:04.229Z"
   },
   {
    "duration": 1431,
    "start_time": "2022-10-12T17:59:28.587Z"
   },
   {
    "duration": 57,
    "start_time": "2022-10-12T17:59:30.020Z"
   },
   {
    "duration": 14,
    "start_time": "2022-10-12T17:59:30.079Z"
   },
   {
    "duration": 54,
    "start_time": "2022-10-12T17:59:30.094Z"
   },
   {
    "duration": 5,
    "start_time": "2022-10-12T17:59:30.151Z"
   },
   {
    "duration": 21,
    "start_time": "2022-10-12T17:59:30.157Z"
   },
   {
    "duration": 155,
    "start_time": "2022-10-12T17:59:30.180Z"
   },
   {
    "duration": 12,
    "start_time": "2022-10-12T17:59:30.337Z"
   },
   {
    "duration": 28,
    "start_time": "2022-10-12T17:59:30.351Z"
   },
   {
    "duration": 160,
    "start_time": "2022-10-12T18:03:21.985Z"
   },
   {
    "duration": 74,
    "start_time": "2022-10-12T18:05:53.186Z"
   },
   {
    "duration": 408,
    "start_time": "2022-10-12T18:06:06.323Z"
   },
   {
    "duration": 346,
    "start_time": "2022-10-12T18:06:14.036Z"
   },
   {
    "duration": 266,
    "start_time": "2022-10-12T18:06:49.545Z"
   },
   {
    "duration": 278,
    "start_time": "2022-10-12T18:07:29.413Z"
   },
   {
    "duration": 273,
    "start_time": "2022-10-12T18:07:34.486Z"
   },
   {
    "duration": 291,
    "start_time": "2022-10-12T18:07:53.240Z"
   },
   {
    "duration": 292,
    "start_time": "2022-10-12T18:08:35.597Z"
   },
   {
    "duration": 370,
    "start_time": "2022-10-12T18:08:50.086Z"
   },
   {
    "duration": 271,
    "start_time": "2022-10-12T18:09:01.127Z"
   },
   {
    "duration": 8,
    "start_time": "2022-10-12T18:11:50.571Z"
   },
   {
    "duration": 9,
    "start_time": "2022-10-12T18:12:09.404Z"
   },
   {
    "duration": 9,
    "start_time": "2022-10-12T18:14:24.637Z"
   },
   {
    "duration": 11,
    "start_time": "2022-10-12T18:15:18.266Z"
   },
   {
    "duration": 8,
    "start_time": "2022-10-12T18:15:26.779Z"
   },
   {
    "duration": 6,
    "start_time": "2022-10-12T18:30:13.335Z"
   },
   {
    "duration": 8,
    "start_time": "2022-10-12T18:30:20.777Z"
   },
   {
    "duration": 9,
    "start_time": "2022-10-12T18:31:01.910Z"
   },
   {
    "duration": 7,
    "start_time": "2022-10-12T18:31:13.848Z"
   },
   {
    "duration": 13,
    "start_time": "2022-10-12T18:31:28.362Z"
   },
   {
    "duration": 6,
    "start_time": "2022-10-12T18:31:39.003Z"
   },
   {
    "duration": 10,
    "start_time": "2022-10-12T18:33:23.536Z"
   },
   {
    "duration": 73,
    "start_time": "2022-10-12T18:33:31.151Z"
   },
   {
    "duration": 7,
    "start_time": "2022-10-12T18:33:41.761Z"
   },
   {
    "duration": 7,
    "start_time": "2022-10-12T18:34:59.361Z"
   },
   {
    "duration": 3,
    "start_time": "2022-10-12T18:36:54.183Z"
   },
   {
    "duration": 5,
    "start_time": "2022-10-12T18:37:00.039Z"
   },
   {
    "duration": 5,
    "start_time": "2022-10-12T18:37:51.669Z"
   },
   {
    "duration": 6,
    "start_time": "2022-10-12T18:37:55.840Z"
   },
   {
    "duration": 6,
    "start_time": "2022-10-12T18:38:11.143Z"
   },
   {
    "duration": 6,
    "start_time": "2022-10-12T18:40:53.826Z"
   },
   {
    "duration": 9,
    "start_time": "2022-10-12T18:41:10.764Z"
   },
   {
    "duration": 8,
    "start_time": "2022-10-12T18:41:25.269Z"
   },
   {
    "duration": 8,
    "start_time": "2022-10-12T18:42:04.586Z"
   },
   {
    "duration": 11,
    "start_time": "2022-10-12T18:43:21.780Z"
   },
   {
    "duration": 301,
    "start_time": "2022-10-12T18:43:24.963Z"
   },
   {
    "duration": 18,
    "start_time": "2022-10-12T18:46:54.260Z"
   },
   {
    "duration": 317,
    "start_time": "2022-10-12T18:47:26.087Z"
   },
   {
    "duration": 8,
    "start_time": "2022-10-12T18:48:06.876Z"
   },
   {
    "duration": 629,
    "start_time": "2022-10-12T18:48:10.068Z"
   },
   {
    "duration": 7,
    "start_time": "2022-10-12T18:48:38.883Z"
   },
   {
    "duration": 329,
    "start_time": "2022-10-12T18:48:41.639Z"
   },
   {
    "duration": 307,
    "start_time": "2022-10-12T18:48:51.368Z"
   },
   {
    "duration": 470,
    "start_time": "2022-10-12T18:53:37.505Z"
   },
   {
    "duration": 540,
    "start_time": "2022-10-12T18:53:56.917Z"
   },
   {
    "duration": 2010,
    "start_time": "2022-10-13T09:25:57.619Z"
   },
   {
    "duration": 197,
    "start_time": "2022-10-13T09:25:59.632Z"
   },
   {
    "duration": 15,
    "start_time": "2022-10-13T09:25:59.830Z"
   },
   {
    "duration": 77,
    "start_time": "2022-10-13T09:25:59.847Z"
   },
   {
    "duration": 5,
    "start_time": "2022-10-13T09:25:59.925Z"
   },
   {
    "duration": 25,
    "start_time": "2022-10-13T09:25:59.932Z"
   },
   {
    "duration": 157,
    "start_time": "2022-10-13T09:25:59.959Z"
   },
   {
    "duration": 14,
    "start_time": "2022-10-13T09:26:00.118Z"
   },
   {
    "duration": 26,
    "start_time": "2022-10-13T09:26:00.134Z"
   },
   {
    "duration": 303,
    "start_time": "2022-10-13T09:26:00.162Z"
   },
   {
    "duration": 7,
    "start_time": "2022-10-13T09:26:00.467Z"
   },
   {
    "duration": 54,
    "start_time": "2022-10-13T09:26:00.476Z"
   },
   {
    "duration": 51,
    "start_time": "2022-10-13T09:26:00.532Z"
   },
   {
    "duration": 46,
    "start_time": "2022-10-13T09:26:00.585Z"
   },
   {
    "duration": 117,
    "start_time": "2022-10-13T09:26:00.633Z"
   },
   {
    "duration": 477,
    "start_time": "2022-10-13T09:26:00.753Z"
   },
   {
    "duration": 7,
    "start_time": "2022-10-13T09:26:01.232Z"
   },
   {
    "duration": 24,
    "start_time": "2022-10-13T09:26:01.240Z"
   },
   {
    "duration": 83,
    "start_time": "2022-10-13T09:30:43.472Z"
   },
   {
    "duration": 10,
    "start_time": "2022-10-13T09:31:16.510Z"
   },
   {
    "duration": 27,
    "start_time": "2022-10-13T09:54:35.808Z"
   },
   {
    "duration": 17,
    "start_time": "2022-10-13T09:54:57.485Z"
   },
   {
    "duration": 11,
    "start_time": "2022-10-13T09:55:28.051Z"
   },
   {
    "duration": 14,
    "start_time": "2022-10-13T09:55:39.758Z"
   },
   {
    "duration": 11,
    "start_time": "2022-10-13T09:55:56.139Z"
   },
   {
    "duration": 13,
    "start_time": "2022-10-13T09:56:03.167Z"
   },
   {
    "duration": 7,
    "start_time": "2022-10-13T10:01:46.199Z"
   },
   {
    "duration": 214,
    "start_time": "2022-10-13T10:02:04.914Z"
   },
   {
    "duration": 4,
    "start_time": "2022-10-13T10:03:37.236Z"
   },
   {
    "duration": 9,
    "start_time": "2022-10-13T10:04:07.919Z"
   },
   {
    "duration": 133,
    "start_time": "2022-10-13T10:04:24.249Z"
   },
   {
    "duration": 10,
    "start_time": "2022-10-13T10:04:43.275Z"
   },
   {
    "duration": 118,
    "start_time": "2022-10-13T10:12:53.018Z"
   },
   {
    "duration": 227,
    "start_time": "2022-10-13T10:17:53.757Z"
   },
   {
    "duration": 129,
    "start_time": "2022-10-13T10:17:57.533Z"
   },
   {
    "duration": 144,
    "start_time": "2022-10-13T10:18:06.439Z"
   },
   {
    "duration": 123,
    "start_time": "2022-10-13T10:18:28.537Z"
   },
   {
    "duration": 158,
    "start_time": "2022-10-13T10:19:03.501Z"
   },
   {
    "duration": 153,
    "start_time": "2022-10-13T10:19:25.480Z"
   },
   {
    "duration": 126,
    "start_time": "2022-10-13T10:19:31.848Z"
   },
   {
    "duration": 133,
    "start_time": "2022-10-13T10:20:41.648Z"
   },
   {
    "duration": 145,
    "start_time": "2022-10-13T10:20:55.498Z"
   },
   {
    "duration": 8,
    "start_time": "2022-10-13T10:23:18.131Z"
   },
   {
    "duration": 15,
    "start_time": "2022-10-13T10:26:01.461Z"
   },
   {
    "duration": 112,
    "start_time": "2022-10-13T10:26:37.937Z"
   },
   {
    "duration": 7,
    "start_time": "2022-10-13T10:26:44.922Z"
   },
   {
    "duration": 5,
    "start_time": "2022-10-13T10:27:20.880Z"
   },
   {
    "duration": 12,
    "start_time": "2022-10-13T10:28:51.424Z"
   },
   {
    "duration": 9,
    "start_time": "2022-10-13T10:28:56.384Z"
   },
   {
    "duration": 9,
    "start_time": "2022-10-13T10:29:06.385Z"
   },
   {
    "duration": 8,
    "start_time": "2022-10-13T10:36:49.150Z"
   },
   {
    "duration": 11,
    "start_time": "2022-10-13T10:37:14.849Z"
   },
   {
    "duration": 11,
    "start_time": "2022-10-13T10:37:19.930Z"
   },
   {
    "duration": 9,
    "start_time": "2022-10-13T10:37:43.635Z"
   },
   {
    "duration": 9,
    "start_time": "2022-10-13T10:48:31.619Z"
   },
   {
    "duration": 7,
    "start_time": "2022-10-13T10:48:33.365Z"
   },
   {
    "duration": 9,
    "start_time": "2022-10-13T10:48:59.465Z"
   },
   {
    "duration": 12,
    "start_time": "2022-10-13T10:49:01.153Z"
   },
   {
    "duration": 6,
    "start_time": "2022-10-13T10:49:09.297Z"
   },
   {
    "duration": 8,
    "start_time": "2022-10-13T10:49:15.378Z"
   },
   {
    "duration": 140,
    "start_time": "2022-10-13T10:55:48.985Z"
   },
   {
    "duration": 120,
    "start_time": "2022-10-13T10:57:12.921Z"
   },
   {
    "duration": 132,
    "start_time": "2022-10-13T10:57:19.049Z"
   },
   {
    "duration": 140,
    "start_time": "2022-10-13T10:57:42.837Z"
   },
   {
    "duration": 156,
    "start_time": "2022-10-13T10:58:23.721Z"
   },
   {
    "duration": 139,
    "start_time": "2022-10-13T10:58:31.105Z"
   },
   {
    "duration": 144,
    "start_time": "2022-10-13T10:58:36.210Z"
   },
   {
    "duration": 133,
    "start_time": "2022-10-13T10:59:30.145Z"
   },
   {
    "duration": 136,
    "start_time": "2022-10-13T10:59:39.634Z"
   },
   {
    "duration": 123,
    "start_time": "2022-10-13T11:00:22.351Z"
   },
   {
    "duration": 133,
    "start_time": "2022-10-13T11:00:27.258Z"
   },
   {
    "duration": 222,
    "start_time": "2022-10-13T11:01:06.316Z"
   },
   {
    "duration": 121,
    "start_time": "2022-10-13T11:02:34.766Z"
   },
   {
    "duration": 134,
    "start_time": "2022-10-13T11:03:57.527Z"
   },
   {
    "duration": 118,
    "start_time": "2022-10-13T11:11:37.012Z"
   },
   {
    "duration": 136,
    "start_time": "2022-10-13T11:11:40.773Z"
   },
   {
    "duration": 119,
    "start_time": "2022-10-13T11:11:46.460Z"
   },
   {
    "duration": 10,
    "start_time": "2022-10-13T11:12:30.210Z"
   },
   {
    "duration": 10,
    "start_time": "2022-10-13T11:12:39.828Z"
   },
   {
    "duration": 9,
    "start_time": "2022-10-13T11:18:26.506Z"
   },
   {
    "duration": 8,
    "start_time": "2022-10-13T11:18:34.170Z"
   },
   {
    "duration": 4,
    "start_time": "2022-10-13T11:19:57.949Z"
   },
   {
    "duration": 5,
    "start_time": "2022-10-13T11:20:11.646Z"
   },
   {
    "duration": 3,
    "start_time": "2022-10-13T11:20:54.508Z"
   },
   {
    "duration": 3,
    "start_time": "2022-10-13T11:21:03.781Z"
   },
   {
    "duration": 3,
    "start_time": "2022-10-13T11:21:08.557Z"
   },
   {
    "duration": 75,
    "start_time": "2022-10-13T11:26:10.717Z"
   },
   {
    "duration": 1685,
    "start_time": "2022-10-13T11:26:17.935Z"
   },
   {
    "duration": 1391,
    "start_time": "2022-10-13T11:28:45.167Z"
   },
   {
    "duration": 62,
    "start_time": "2022-10-13T11:28:46.560Z"
   },
   {
    "duration": 13,
    "start_time": "2022-10-13T11:28:46.624Z"
   },
   {
    "duration": 68,
    "start_time": "2022-10-13T11:28:46.639Z"
   },
   {
    "duration": 6,
    "start_time": "2022-10-13T11:28:46.709Z"
   },
   {
    "duration": 9,
    "start_time": "2022-10-13T11:28:46.716Z"
   },
   {
    "duration": 6,
    "start_time": "2022-10-13T11:28:46.727Z"
   },
   {
    "duration": 152,
    "start_time": "2022-10-13T11:28:46.734Z"
   },
   {
    "duration": 12,
    "start_time": "2022-10-13T11:28:46.896Z"
   },
   {
    "duration": 15,
    "start_time": "2022-10-13T11:28:46.911Z"
   },
   {
    "duration": 271,
    "start_time": "2022-10-13T11:28:46.927Z"
   },
   {
    "duration": 8,
    "start_time": "2022-10-13T11:28:47.200Z"
   },
   {
    "duration": 7,
    "start_time": "2022-10-13T11:28:47.210Z"
   },
   {
    "duration": 7,
    "start_time": "2022-10-13T11:28:47.218Z"
   },
   {
    "duration": 9,
    "start_time": "2022-10-13T11:28:47.226Z"
   },
   {
    "duration": 9,
    "start_time": "2022-10-13T11:28:47.237Z"
   },
   {
    "duration": 148,
    "start_time": "2022-10-13T11:28:47.248Z"
   },
   {
    "duration": 6,
    "start_time": "2022-10-13T11:28:47.398Z"
   },
   {
    "duration": 13,
    "start_time": "2022-10-13T11:28:47.405Z"
   },
   {
    "duration": 7,
    "start_time": "2022-10-13T11:28:47.419Z"
   },
   {
    "duration": 7,
    "start_time": "2022-10-13T11:28:47.428Z"
   },
   {
    "duration": 11,
    "start_time": "2022-10-13T11:28:47.437Z"
   },
   {
    "duration": 299,
    "start_time": "2022-10-13T11:28:47.449Z"
   },
   {
    "duration": 5,
    "start_time": "2022-10-13T11:28:47.750Z"
   },
   {
    "duration": 12,
    "start_time": "2022-10-13T11:28:47.756Z"
   },
   {
    "duration": 7,
    "start_time": "2022-10-13T11:30:37.263Z"
   },
   {
    "duration": 7,
    "start_time": "2022-10-13T11:30:59.337Z"
   },
   {
    "duration": 9,
    "start_time": "2022-10-13T11:31:39.046Z"
   },
   {
    "duration": 8,
    "start_time": "2022-10-13T11:32:04.201Z"
   },
   {
    "duration": 1507,
    "start_time": "2022-10-13T11:34:11.690Z"
   },
   {
    "duration": 56,
    "start_time": "2022-10-13T11:34:13.200Z"
   },
   {
    "duration": 17,
    "start_time": "2022-10-13T11:34:13.257Z"
   },
   {
    "duration": 49,
    "start_time": "2022-10-13T11:34:13.277Z"
   },
   {
    "duration": 6,
    "start_time": "2022-10-13T11:34:13.328Z"
   },
   {
    "duration": 13,
    "start_time": "2022-10-13T11:34:13.336Z"
   },
   {
    "duration": 7,
    "start_time": "2022-10-13T11:34:13.350Z"
   },
   {
    "duration": 141,
    "start_time": "2022-10-13T11:34:13.359Z"
   },
   {
    "duration": 13,
    "start_time": "2022-10-13T11:34:13.502Z"
   },
   {
    "duration": 14,
    "start_time": "2022-10-13T11:34:13.518Z"
   },
   {
    "duration": 290,
    "start_time": "2022-10-13T11:34:13.534Z"
   },
   {
    "duration": 9,
    "start_time": "2022-10-13T11:34:13.826Z"
   },
   {
    "duration": 7,
    "start_time": "2022-10-13T11:34:13.837Z"
   },
   {
    "duration": 6,
    "start_time": "2022-10-13T11:34:13.846Z"
   },
   {
    "duration": 13,
    "start_time": "2022-10-13T11:34:13.854Z"
   },
   {
    "duration": 11,
    "start_time": "2022-10-13T11:34:41.996Z"
   },
   {
    "duration": 11,
    "start_time": "2022-10-13T11:35:12.592Z"
   },
   {
    "duration": 1424,
    "start_time": "2022-10-13T11:37:08.481Z"
   },
   {
    "duration": 63,
    "start_time": "2022-10-13T11:37:09.907Z"
   },
   {
    "duration": 13,
    "start_time": "2022-10-13T11:37:09.972Z"
   },
   {
    "duration": 58,
    "start_time": "2022-10-13T11:37:09.987Z"
   },
   {
    "duration": 7,
    "start_time": "2022-10-13T11:37:10.047Z"
   },
   {
    "duration": 8,
    "start_time": "2022-10-13T11:37:10.056Z"
   },
   {
    "duration": 9,
    "start_time": "2022-10-13T11:37:10.066Z"
   },
   {
    "duration": 148,
    "start_time": "2022-10-13T11:37:10.077Z"
   },
   {
    "duration": 12,
    "start_time": "2022-10-13T11:37:10.226Z"
   },
   {
    "duration": 19,
    "start_time": "2022-10-13T11:37:10.241Z"
   },
   {
    "duration": 261,
    "start_time": "2022-10-13T11:37:10.261Z"
   },
   {
    "duration": 8,
    "start_time": "2022-10-13T11:37:10.524Z"
   },
   {
    "duration": 14,
    "start_time": "2022-10-13T11:37:10.533Z"
   },
   {
    "duration": 8,
    "start_time": "2022-10-13T11:37:10.549Z"
   },
   {
    "duration": 15,
    "start_time": "2022-10-13T11:37:10.559Z"
   },
   {
    "duration": 23,
    "start_time": "2022-10-13T11:37:10.576Z"
   },
   {
    "duration": 140,
    "start_time": "2022-10-13T11:37:10.601Z"
   },
   {
    "duration": 7,
    "start_time": "2022-10-13T11:37:10.743Z"
   },
   {
    "duration": 9,
    "start_time": "2022-10-13T11:37:10.751Z"
   },
   {
    "duration": 7,
    "start_time": "2022-10-13T11:37:10.762Z"
   },
   {
    "duration": 30,
    "start_time": "2022-10-13T11:37:10.771Z"
   },
   {
    "duration": 8,
    "start_time": "2022-10-13T11:37:10.802Z"
   },
   {
    "duration": 295,
    "start_time": "2022-10-13T11:37:10.811Z"
   },
   {
    "duration": 6,
    "start_time": "2022-10-13T11:37:11.108Z"
   },
   {
    "duration": 16,
    "start_time": "2022-10-13T11:37:11.115Z"
   },
   {
    "duration": 8,
    "start_time": "2022-10-13T11:39:40.716Z"
   },
   {
    "duration": 10,
    "start_time": "2022-10-13T11:39:55.149Z"
   },
   {
    "duration": 9,
    "start_time": "2022-10-13T11:40:05.527Z"
   },
   {
    "duration": 343,
    "start_time": "2022-10-13T13:16:36.564Z"
   },
   {
    "duration": 5,
    "start_time": "2022-10-13T13:17:02.583Z"
   },
   {
    "duration": 7,
    "start_time": "2022-10-13T13:17:11.008Z"
   },
   {
    "duration": 6,
    "start_time": "2022-10-13T13:17:13.432Z"
   },
   {
    "duration": 1479,
    "start_time": "2022-10-13T13:17:47.767Z"
   },
   {
    "duration": 59,
    "start_time": "2022-10-13T13:17:49.248Z"
   },
   {
    "duration": 13,
    "start_time": "2022-10-13T13:17:49.309Z"
   },
   {
    "duration": 53,
    "start_time": "2022-10-13T13:17:49.324Z"
   },
   {
    "duration": 23,
    "start_time": "2022-10-13T13:17:49.378Z"
   },
   {
    "duration": 8,
    "start_time": "2022-10-13T13:17:49.403Z"
   },
   {
    "duration": 8,
    "start_time": "2022-10-13T13:17:49.413Z"
   },
   {
    "duration": 144,
    "start_time": "2022-10-13T13:17:49.422Z"
   },
   {
    "duration": 12,
    "start_time": "2022-10-13T13:17:49.567Z"
   },
   {
    "duration": 10,
    "start_time": "2022-10-13T13:17:49.597Z"
   },
   {
    "duration": 9,
    "start_time": "2022-10-13T13:18:00.014Z"
   },
   {
    "duration": 8,
    "start_time": "2022-10-13T13:18:26.822Z"
   },
   {
    "duration": 1469,
    "start_time": "2022-10-13T13:18:49.485Z"
   },
   {
    "duration": 60,
    "start_time": "2022-10-13T13:18:50.956Z"
   },
   {
    "duration": 15,
    "start_time": "2022-10-13T13:18:51.017Z"
   },
   {
    "duration": 69,
    "start_time": "2022-10-13T13:18:51.034Z"
   },
   {
    "duration": 6,
    "start_time": "2022-10-13T13:18:51.105Z"
   },
   {
    "duration": 6,
    "start_time": "2022-10-13T13:18:51.113Z"
   },
   {
    "duration": 7,
    "start_time": "2022-10-13T13:18:51.120Z"
   },
   {
    "duration": 8,
    "start_time": "2022-10-13T13:18:59.357Z"
   },
   {
    "duration": 12,
    "start_time": "2022-10-13T13:19:22.336Z"
   },
   {
    "duration": 11,
    "start_time": "2022-10-13T13:19:26.199Z"
   },
   {
    "duration": 290,
    "start_time": "2022-10-13T13:19:40.512Z"
   },
   {
    "duration": 7,
    "start_time": "2022-10-13T13:19:48.882Z"
   },
   {
    "duration": 8,
    "start_time": "2022-10-13T13:19:51.794Z"
   },
   {
    "duration": 12,
    "start_time": "2022-10-13T13:20:06.653Z"
   },
   {
    "duration": 1412,
    "start_time": "2022-10-13T13:21:16.017Z"
   },
   {
    "duration": 56,
    "start_time": "2022-10-13T13:21:17.431Z"
   },
   {
    "duration": 14,
    "start_time": "2022-10-13T13:21:17.489Z"
   },
   {
    "duration": 77,
    "start_time": "2022-10-13T13:21:17.506Z"
   },
   {
    "duration": 8,
    "start_time": "2022-10-13T13:21:17.585Z"
   },
   {
    "duration": 30,
    "start_time": "2022-10-13T13:21:17.595Z"
   },
   {
    "duration": 17,
    "start_time": "2022-10-13T13:21:17.627Z"
   },
   {
    "duration": 27,
    "start_time": "2022-10-13T13:21:17.646Z"
   },
   {
    "duration": 50,
    "start_time": "2022-10-13T13:21:17.675Z"
   },
   {
    "duration": 165,
    "start_time": "2022-10-13T13:21:17.728Z"
   },
   {
    "duration": 6,
    "start_time": "2022-10-13T13:21:17.896Z"
   },
   {
    "duration": 38,
    "start_time": "2022-10-13T13:21:17.904Z"
   },
   {
    "duration": 33,
    "start_time": "2022-10-13T13:21:17.944Z"
   },
   {
    "duration": 135,
    "start_time": "2022-10-13T13:21:17.979Z"
   },
   {
    "duration": 14,
    "start_time": "2022-10-13T13:21:18.116Z"
   },
   {
    "duration": 39,
    "start_time": "2022-10-13T13:21:18.131Z"
   },
   {
    "duration": 324,
    "start_time": "2022-10-13T13:21:18.172Z"
   },
   {
    "duration": 11,
    "start_time": "2022-10-13T13:21:18.497Z"
   },
   {
    "duration": 28,
    "start_time": "2022-10-13T13:21:18.510Z"
   },
   {
    "duration": 39,
    "start_time": "2022-10-13T13:21:18.540Z"
   },
   {
    "duration": 20,
    "start_time": "2022-10-13T13:21:18.581Z"
   },
   {
    "duration": 38,
    "start_time": "2022-10-13T13:21:18.604Z"
   },
   {
    "duration": 332,
    "start_time": "2022-10-13T13:21:18.644Z"
   },
   {
    "duration": 5,
    "start_time": "2022-10-13T13:21:18.978Z"
   },
   {
    "duration": 36,
    "start_time": "2022-10-13T13:21:18.985Z"
   },
   {
    "duration": 1403,
    "start_time": "2022-10-13T13:22:55.761Z"
   },
   {
    "duration": 56,
    "start_time": "2022-10-13T13:22:57.166Z"
   },
   {
    "duration": 14,
    "start_time": "2022-10-13T13:22:57.225Z"
   },
   {
    "duration": 58,
    "start_time": "2022-10-13T13:22:57.241Z"
   },
   {
    "duration": 6,
    "start_time": "2022-10-13T13:22:57.300Z"
   },
   {
    "duration": 6,
    "start_time": "2022-10-13T13:22:57.308Z"
   },
   {
    "duration": 23,
    "start_time": "2022-10-13T13:22:57.316Z"
   },
   {
    "duration": 14,
    "start_time": "2022-10-13T13:22:57.341Z"
   },
   {
    "duration": 8,
    "start_time": "2022-10-13T13:22:57.357Z"
   },
   {
    "duration": 145,
    "start_time": "2022-10-13T13:22:57.368Z"
   },
   {
    "duration": 6,
    "start_time": "2022-10-13T13:22:57.516Z"
   },
   {
    "duration": 11,
    "start_time": "2022-10-13T13:22:57.524Z"
   },
   {
    "duration": 8,
    "start_time": "2022-10-13T13:22:57.536Z"
   },
   {
    "duration": 144,
    "start_time": "2022-10-13T13:22:57.546Z"
   },
   {
    "duration": 12,
    "start_time": "2022-10-13T13:22:57.696Z"
   },
   {
    "duration": 10,
    "start_time": "2022-10-13T13:22:57.709Z"
   },
   {
    "duration": 286,
    "start_time": "2022-10-13T13:22:57.721Z"
   },
   {
    "duration": 6,
    "start_time": "2022-10-13T13:22:58.009Z"
   },
   {
    "duration": 15,
    "start_time": "2022-10-13T13:22:58.017Z"
   },
   {
    "duration": 10,
    "start_time": "2022-10-13T13:22:58.034Z"
   },
   {
    "duration": 22,
    "start_time": "2022-10-13T13:22:58.045Z"
   },
   {
    "duration": 8,
    "start_time": "2022-10-13T13:22:58.069Z"
   },
   {
    "duration": 371,
    "start_time": "2022-10-13T13:22:58.079Z"
   },
   {
    "duration": 5,
    "start_time": "2022-10-13T13:22:58.452Z"
   },
   {
    "duration": 7,
    "start_time": "2022-10-13T13:22:58.460Z"
   },
   {
    "duration": 338,
    "start_time": "2022-10-13T13:23:11.603Z"
   },
   {
    "duration": 1417,
    "start_time": "2022-10-13T13:24:10.002Z"
   },
   {
    "duration": 60,
    "start_time": "2022-10-13T13:24:11.421Z"
   },
   {
    "duration": 16,
    "start_time": "2022-10-13T13:24:11.483Z"
   },
   {
    "duration": 53,
    "start_time": "2022-10-13T13:24:11.501Z"
   },
   {
    "duration": 7,
    "start_time": "2022-10-13T13:24:11.556Z"
   },
   {
    "duration": 8,
    "start_time": "2022-10-13T13:24:11.565Z"
   },
   {
    "duration": 28,
    "start_time": "2022-10-13T13:24:11.575Z"
   },
   {
    "duration": 9,
    "start_time": "2022-10-13T13:24:19.471Z"
   },
   {
    "duration": 104,
    "start_time": "2022-10-13T13:24:35.306Z"
   },
   {
    "duration": 13,
    "start_time": "2022-10-13T13:24:48.018Z"
   },
   {
    "duration": 10,
    "start_time": "2022-10-13T13:24:51.747Z"
   },
   {
    "duration": 266,
    "start_time": "2022-10-13T13:25:22.424Z"
   },
   {
    "duration": 7,
    "start_time": "2022-10-13T13:25:25.351Z"
   },
   {
    "duration": 7,
    "start_time": "2022-10-13T13:25:27.559Z"
   },
   {
    "duration": 5,
    "start_time": "2022-10-13T13:25:30.199Z"
   },
   {
    "duration": 8,
    "start_time": "2022-10-13T13:25:42.625Z"
   },
   {
    "duration": 1418,
    "start_time": "2022-10-13T13:26:42.513Z"
   },
   {
    "duration": 58,
    "start_time": "2022-10-13T13:26:43.933Z"
   },
   {
    "duration": 13,
    "start_time": "2022-10-13T13:26:43.992Z"
   },
   {
    "duration": 52,
    "start_time": "2022-10-13T13:26:44.007Z"
   },
   {
    "duration": 6,
    "start_time": "2022-10-13T13:26:44.061Z"
   },
   {
    "duration": 10,
    "start_time": "2022-10-13T13:26:44.068Z"
   },
   {
    "duration": 3,
    "start_time": "2022-10-13T13:26:44.096Z"
   },
   {
    "duration": 9,
    "start_time": "2022-10-13T13:26:52.072Z"
   },
   {
    "duration": 278,
    "start_time": "2022-10-13T13:26:59.009Z"
   },
   {
    "duration": 7,
    "start_time": "2022-10-13T13:27:14.139Z"
   },
   {
    "duration": 6,
    "start_time": "2022-10-13T13:27:16.515Z"
   },
   {
    "duration": 6,
    "start_time": "2022-10-13T13:27:19.891Z"
   },
   {
    "duration": 13,
    "start_time": "2022-10-13T13:27:36.949Z"
   },
   {
    "duration": 10,
    "start_time": "2022-10-13T13:27:40.469Z"
   },
   {
    "duration": 8,
    "start_time": "2022-10-13T13:27:54.040Z"
   },
   {
    "duration": 237,
    "start_time": "2022-10-13T13:29:05.065Z"
   },
   {
    "duration": 7,
    "start_time": "2022-10-13T13:29:07.904Z"
   },
   {
    "duration": 6,
    "start_time": "2022-10-13T13:29:15.793Z"
   },
   {
    "duration": 6,
    "start_time": "2022-10-13T13:29:18.057Z"
   },
   {
    "duration": 317,
    "start_time": "2022-10-13T13:29:21.657Z"
   },
   {
    "duration": 9,
    "start_time": "2022-10-13T13:30:04.447Z"
   },
   {
    "duration": 1424,
    "start_time": "2022-10-13T14:01:54.230Z"
   },
   {
    "duration": 60,
    "start_time": "2022-10-13T14:01:55.656Z"
   },
   {
    "duration": 15,
    "start_time": "2022-10-13T14:01:55.718Z"
   },
   {
    "duration": 68,
    "start_time": "2022-10-13T14:01:55.736Z"
   },
   {
    "duration": 6,
    "start_time": "2022-10-13T14:01:55.806Z"
   },
   {
    "duration": 26,
    "start_time": "2022-10-13T14:01:55.814Z"
   },
   {
    "duration": 36,
    "start_time": "2022-10-13T14:01:55.842Z"
   },
   {
    "duration": 23,
    "start_time": "2022-10-13T14:01:55.880Z"
   },
   {
    "duration": 39,
    "start_time": "2022-10-13T14:01:55.905Z"
   },
   {
    "duration": 160,
    "start_time": "2022-10-13T14:01:55.947Z"
   },
   {
    "duration": 7,
    "start_time": "2022-10-13T14:01:56.108Z"
   },
   {
    "duration": 32,
    "start_time": "2022-10-13T14:01:56.116Z"
   },
   {
    "duration": 41,
    "start_time": "2022-10-13T14:01:56.150Z"
   },
   {
    "duration": 325,
    "start_time": "2022-10-13T14:01:56.194Z"
   },
   {
    "duration": 7,
    "start_time": "2022-10-13T14:01:56.521Z"
   },
   {
    "duration": 28,
    "start_time": "2022-10-13T14:01:56.530Z"
   },
   {
    "duration": 28,
    "start_time": "2022-10-13T14:01:56.560Z"
   },
   {
    "duration": 142,
    "start_time": "2022-10-13T14:01:56.589Z"
   },
   {
    "duration": 13,
    "start_time": "2022-10-13T14:01:56.733Z"
   },
   {
    "duration": 23,
    "start_time": "2022-10-13T14:01:56.748Z"
   },
   {
    "duration": 27,
    "start_time": "2022-10-13T14:01:56.772Z"
   },
   {
    "duration": 18,
    "start_time": "2022-10-13T14:01:56.802Z"
   },
   {
    "duration": 342,
    "start_time": "2022-10-13T14:01:56.822Z"
   },
   {
    "duration": 6,
    "start_time": "2022-10-13T14:01:57.165Z"
   },
   {
    "duration": 32,
    "start_time": "2022-10-13T14:01:57.172Z"
   },
   {
    "duration": 416,
    "start_time": "2022-10-13T14:04:59.453Z"
   },
   {
    "duration": 341,
    "start_time": "2022-10-13T14:05:06.278Z"
   },
   {
    "duration": 359,
    "start_time": "2022-10-13T14:05:12.592Z"
   },
   {
    "duration": 319,
    "start_time": "2022-10-13T14:06:39.521Z"
   },
   {
    "duration": 304,
    "start_time": "2022-10-13T14:07:21.342Z"
   },
   {
    "duration": 434,
    "start_time": "2022-10-13T14:07:43.168Z"
   },
   {
    "duration": 309,
    "start_time": "2022-10-13T14:07:49.688Z"
   },
   {
    "duration": 312,
    "start_time": "2022-10-13T14:07:55.249Z"
   },
   {
    "duration": 391,
    "start_time": "2022-10-13T14:07:58.290Z"
   },
   {
    "duration": 324,
    "start_time": "2022-10-13T14:10:09.977Z"
   },
   {
    "duration": 331,
    "start_time": "2022-10-13T14:11:10.706Z"
   },
   {
    "duration": 408,
    "start_time": "2022-10-13T14:11:15.072Z"
   },
   {
    "duration": 480,
    "start_time": "2022-10-13T14:12:08.343Z"
   },
   {
    "duration": 375,
    "start_time": "2022-10-13T14:12:17.959Z"
   },
   {
    "duration": 326,
    "start_time": "2022-10-13T14:13:10.862Z"
   },
   {
    "duration": 317,
    "start_time": "2022-10-13T14:16:00.345Z"
   },
   {
    "duration": 437,
    "start_time": "2022-10-13T14:20:31.992Z"
   },
   {
    "duration": 323,
    "start_time": "2022-10-13T14:21:44.817Z"
   },
   {
    "duration": 336,
    "start_time": "2022-10-13T14:22:21.901Z"
   },
   {
    "duration": 319,
    "start_time": "2022-10-13T14:22:36.261Z"
   },
   {
    "duration": 327,
    "start_time": "2022-10-13T14:22:45.438Z"
   },
   {
    "duration": 319,
    "start_time": "2022-10-13T14:22:49.815Z"
   },
   {
    "duration": 461,
    "start_time": "2022-10-13T14:23:31.132Z"
   },
   {
    "duration": 18,
    "start_time": "2022-10-13T14:25:28.129Z"
   },
   {
    "duration": 17,
    "start_time": "2022-10-13T14:28:41.992Z"
   },
   {
    "duration": 333,
    "start_time": "2022-10-13T14:28:47.489Z"
   },
   {
    "duration": 320,
    "start_time": "2022-10-13T14:29:14.915Z"
   },
   {
    "duration": 327,
    "start_time": "2022-10-13T14:29:22.388Z"
   },
   {
    "duration": 17,
    "start_time": "2022-10-13T14:30:22.555Z"
   },
   {
    "duration": 4,
    "start_time": "2022-10-13T14:31:44.740Z"
   },
   {
    "duration": 16,
    "start_time": "2022-10-13T14:31:52.716Z"
   },
   {
    "duration": 15,
    "start_time": "2022-10-13T14:32:16.768Z"
   },
   {
    "duration": 92,
    "start_time": "2022-10-13T14:32:22.056Z"
   },
   {
    "duration": 16,
    "start_time": "2022-10-13T14:32:27.088Z"
   },
   {
    "duration": 325,
    "start_time": "2022-10-13T14:33:03.574Z"
   },
   {
    "duration": 464,
    "start_time": "2022-10-13T14:33:54.443Z"
   },
   {
    "duration": 326,
    "start_time": "2022-10-13T14:34:06.556Z"
   },
   {
    "duration": 317,
    "start_time": "2022-10-13T14:34:18.670Z"
   },
   {
    "duration": 352,
    "start_time": "2022-10-13T14:36:11.403Z"
   },
   {
    "duration": 5,
    "start_time": "2022-10-13T14:36:18.971Z"
   },
   {
    "duration": 10,
    "start_time": "2022-10-13T14:37:36.429Z"
   },
   {
    "duration": 11,
    "start_time": "2022-10-13T14:38:31.898Z"
   },
   {
    "duration": 605,
    "start_time": "2022-10-13T14:38:45.979Z"
   },
   {
    "duration": 428,
    "start_time": "2022-10-13T14:39:13.207Z"
   },
   {
    "duration": 11,
    "start_time": "2022-10-13T14:39:17.023Z"
   },
   {
    "duration": 614,
    "start_time": "2022-10-13T14:39:19.623Z"
   },
   {
    "duration": 4,
    "start_time": "2022-10-13T14:39:37.281Z"
   },
   {
    "duration": 10,
    "start_time": "2022-10-13T14:39:42.610Z"
   },
   {
    "duration": 955,
    "start_time": "2022-10-13T14:39:45.362Z"
   },
   {
    "duration": 316,
    "start_time": "2022-10-13T14:41:06.412Z"
   },
   {
    "duration": 432,
    "start_time": "2022-10-13T14:41:17.437Z"
   },
   {
    "duration": 345,
    "start_time": "2022-10-13T14:41:49.049Z"
   },
   {
    "duration": 253,
    "start_time": "2022-10-13T14:42:12.731Z"
   },
   {
    "duration": 237,
    "start_time": "2022-10-13T14:42:19.812Z"
   },
   {
    "duration": 908,
    "start_time": "2022-10-13T14:43:03.537Z"
   },
   {
    "duration": 11,
    "start_time": "2022-10-13T14:44:27.853Z"
   },
   {
    "duration": 734,
    "start_time": "2022-10-13T14:45:43.252Z"
   },
   {
    "duration": 828,
    "start_time": "2022-10-13T14:45:58.078Z"
   },
   {
    "duration": 1416,
    "start_time": "2022-10-13T14:46:36.405Z"
   },
   {
    "duration": 57,
    "start_time": "2022-10-13T14:46:37.823Z"
   },
   {
    "duration": 13,
    "start_time": "2022-10-13T14:46:37.882Z"
   },
   {
    "duration": 52,
    "start_time": "2022-10-13T14:46:37.897Z"
   },
   {
    "duration": 7,
    "start_time": "2022-10-13T14:46:37.951Z"
   },
   {
    "duration": 5,
    "start_time": "2022-10-13T14:46:37.959Z"
   },
   {
    "duration": 6,
    "start_time": "2022-10-13T14:46:37.966Z"
   },
   {
    "duration": 34,
    "start_time": "2022-10-13T14:46:37.974Z"
   },
   {
    "duration": 10,
    "start_time": "2022-10-13T14:46:38.010Z"
   },
   {
    "duration": 158,
    "start_time": "2022-10-13T14:46:38.022Z"
   },
   {
    "duration": 6,
    "start_time": "2022-10-13T14:46:38.182Z"
   },
   {
    "duration": 10,
    "start_time": "2022-10-13T14:46:38.196Z"
   },
   {
    "duration": 12,
    "start_time": "2022-10-13T14:46:38.207Z"
   },
   {
    "duration": 185,
    "start_time": "2022-10-13T14:46:38.220Z"
   },
   {
    "duration": 16,
    "start_time": "2022-10-13T14:46:38.407Z"
   },
   {
    "duration": 20,
    "start_time": "2022-10-13T14:46:38.425Z"
   },
   {
    "duration": 331,
    "start_time": "2022-10-13T14:46:38.447Z"
   },
   {
    "duration": 17,
    "start_time": "2022-10-13T14:46:38.780Z"
   },
   {
    "duration": 939,
    "start_time": "2022-10-13T14:46:38.799Z"
   },
   {
    "duration": 7,
    "start_time": "2022-10-13T14:46:39.740Z"
   },
   {
    "duration": 5,
    "start_time": "2022-10-13T14:46:39.749Z"
   },
   {
    "duration": 7,
    "start_time": "2022-10-13T14:46:39.756Z"
   },
   {
    "duration": 13,
    "start_time": "2022-10-13T14:46:39.764Z"
   },
   {
    "duration": 21,
    "start_time": "2022-10-13T14:46:39.779Z"
   },
   {
    "duration": 306,
    "start_time": "2022-10-13T14:46:39.802Z"
   },
   {
    "duration": 6,
    "start_time": "2022-10-13T14:46:40.110Z"
   },
   {
    "duration": 10,
    "start_time": "2022-10-13T14:46:40.118Z"
   },
   {
    "duration": 1295,
    "start_time": "2022-10-13T14:50:13.750Z"
   },
   {
    "duration": 57,
    "start_time": "2022-10-13T14:50:15.047Z"
   },
   {
    "duration": 14,
    "start_time": "2022-10-13T14:50:15.106Z"
   },
   {
    "duration": 51,
    "start_time": "2022-10-13T14:50:15.122Z"
   },
   {
    "duration": 25,
    "start_time": "2022-10-13T14:50:15.175Z"
   },
   {
    "duration": 6,
    "start_time": "2022-10-13T14:50:15.202Z"
   },
   {
    "duration": 8,
    "start_time": "2022-10-13T14:50:15.210Z"
   },
   {
    "duration": 14,
    "start_time": "2022-10-13T14:50:15.219Z"
   },
   {
    "duration": 9,
    "start_time": "2022-10-13T14:50:15.234Z"
   },
   {
    "duration": 181,
    "start_time": "2022-10-13T14:50:15.245Z"
   },
   {
    "duration": 7,
    "start_time": "2022-10-13T14:50:15.428Z"
   },
   {
    "duration": 12,
    "start_time": "2022-10-13T14:50:15.437Z"
   },
   {
    "duration": 10,
    "start_time": "2022-10-13T14:50:15.450Z"
   },
   {
    "duration": 139,
    "start_time": "2022-10-13T14:50:15.463Z"
   },
   {
    "duration": 12,
    "start_time": "2022-10-13T14:50:15.604Z"
   },
   {
    "duration": 9,
    "start_time": "2022-10-13T14:50:15.618Z"
   },
   {
    "duration": 294,
    "start_time": "2022-10-13T14:50:15.628Z"
   },
   {
    "duration": 11,
    "start_time": "2022-10-13T14:50:15.924Z"
   },
   {
    "duration": 871,
    "start_time": "2022-10-13T14:50:15.937Z"
   },
   {
    "duration": 6,
    "start_time": "2022-10-13T14:50:16.811Z"
   },
   {
    "duration": 13,
    "start_time": "2022-10-13T14:50:16.818Z"
   },
   {
    "duration": 7,
    "start_time": "2022-10-13T14:50:16.832Z"
   },
   {
    "duration": 7,
    "start_time": "2022-10-13T14:50:16.841Z"
   },
   {
    "duration": 7,
    "start_time": "2022-10-13T14:50:16.849Z"
   },
   {
    "duration": 314,
    "start_time": "2022-10-13T14:50:16.857Z"
   },
   {
    "duration": 5,
    "start_time": "2022-10-13T14:50:17.173Z"
   },
   {
    "duration": 9,
    "start_time": "2022-10-13T14:50:17.179Z"
   },
   {
    "duration": 236,
    "start_time": "2022-10-13T14:55:43.207Z"
   },
   {
    "duration": 186,
    "start_time": "2022-10-13T14:55:57.738Z"
   },
   {
    "duration": 181,
    "start_time": "2022-10-13T14:56:29.176Z"
   },
   {
    "duration": 191,
    "start_time": "2022-10-13T14:57:10.163Z"
   },
   {
    "duration": 1476,
    "start_time": "2022-10-13T14:57:18.664Z"
   },
   {
    "duration": 59,
    "start_time": "2022-10-13T14:57:20.142Z"
   },
   {
    "duration": 15,
    "start_time": "2022-10-13T14:57:20.202Z"
   },
   {
    "duration": 54,
    "start_time": "2022-10-13T14:57:20.221Z"
   },
   {
    "duration": 23,
    "start_time": "2022-10-13T14:57:20.277Z"
   },
   {
    "duration": 6,
    "start_time": "2022-10-13T14:57:20.302Z"
   },
   {
    "duration": 6,
    "start_time": "2022-10-13T14:57:20.310Z"
   },
   {
    "duration": 12,
    "start_time": "2022-10-13T14:57:20.318Z"
   },
   {
    "duration": 10,
    "start_time": "2022-10-13T14:57:20.332Z"
   },
   {
    "duration": 171,
    "start_time": "2022-10-13T14:57:20.344Z"
   },
   {
    "duration": 7,
    "start_time": "2022-10-13T14:57:20.516Z"
   },
   {
    "duration": 9,
    "start_time": "2022-10-13T14:57:20.525Z"
   },
   {
    "duration": 13,
    "start_time": "2022-10-13T14:57:20.535Z"
   },
   {
    "duration": 150,
    "start_time": "2022-10-13T14:57:20.549Z"
   },
   {
    "duration": 13,
    "start_time": "2022-10-13T14:57:20.701Z"
   },
   {
    "duration": 9,
    "start_time": "2022-10-13T14:57:20.715Z"
   },
   {
    "duration": 314,
    "start_time": "2022-10-13T14:57:20.726Z"
   },
   {
    "duration": 11,
    "start_time": "2022-10-13T14:57:21.042Z"
   },
   {
    "duration": 218,
    "start_time": "2022-10-13T14:57:21.055Z"
   },
   {
    "duration": 7,
    "start_time": "2022-10-13T14:57:21.274Z"
   },
   {
    "duration": 15,
    "start_time": "2022-10-13T14:57:21.283Z"
   },
   {
    "duration": 6,
    "start_time": "2022-10-13T14:57:21.300Z"
   },
   {
    "duration": 10,
    "start_time": "2022-10-13T14:57:21.308Z"
   },
   {
    "duration": 7,
    "start_time": "2022-10-13T14:57:21.320Z"
   },
   {
    "duration": 412,
    "start_time": "2022-10-13T14:57:21.328Z"
   },
   {
    "duration": 6,
    "start_time": "2022-10-13T14:57:21.741Z"
   },
   {
    "duration": 8,
    "start_time": "2022-10-13T14:57:21.750Z"
   },
   {
    "duration": 381,
    "start_time": "2022-10-13T15:00:09.120Z"
   },
   {
    "duration": 8,
    "start_time": "2022-10-13T15:00:22.217Z"
   },
   {
    "duration": 1304,
    "start_time": "2022-10-13T15:02:09.852Z"
   },
   {
    "duration": 57,
    "start_time": "2022-10-13T15:02:11.158Z"
   },
   {
    "duration": 12,
    "start_time": "2022-10-13T15:02:11.217Z"
   },
   {
    "duration": 50,
    "start_time": "2022-10-13T15:02:11.231Z"
   },
   {
    "duration": 17,
    "start_time": "2022-10-13T15:02:11.283Z"
   },
   {
    "duration": 7,
    "start_time": "2022-10-13T15:02:11.302Z"
   },
   {
    "duration": 6,
    "start_time": "2022-10-13T15:02:11.311Z"
   },
   {
    "duration": 15,
    "start_time": "2022-10-13T15:02:11.318Z"
   },
   {
    "duration": 9,
    "start_time": "2022-10-13T15:02:11.334Z"
   },
   {
    "duration": 159,
    "start_time": "2022-10-13T15:02:11.345Z"
   },
   {
    "duration": 6,
    "start_time": "2022-10-13T15:02:11.505Z"
   },
   {
    "duration": 11,
    "start_time": "2022-10-13T15:02:11.512Z"
   },
   {
    "duration": 11,
    "start_time": "2022-10-13T15:02:11.524Z"
   },
   {
    "duration": 159,
    "start_time": "2022-10-13T15:02:11.538Z"
   },
   {
    "duration": 15,
    "start_time": "2022-10-13T15:02:11.698Z"
   },
   {
    "duration": 15,
    "start_time": "2022-10-13T15:02:11.714Z"
   },
   {
    "duration": 292,
    "start_time": "2022-10-13T15:02:11.731Z"
   },
   {
    "duration": 205,
    "start_time": "2022-10-13T15:02:12.025Z"
   },
   {
    "duration": 7,
    "start_time": "2022-10-13T15:02:12.232Z"
   },
   {
    "duration": 9,
    "start_time": "2022-10-13T15:02:12.240Z"
   },
   {
    "duration": 103,
    "start_time": "2022-10-13T15:02:12.251Z"
   },
   {
    "duration": 290,
    "start_time": "2022-10-13T15:02:12.356Z"
   },
   {
    "duration": 6,
    "start_time": "2022-10-13T15:02:12.649Z"
   },
   {
    "duration": 10,
    "start_time": "2022-10-13T15:02:12.657Z"
   },
   {
    "duration": 173,
    "start_time": "2022-10-13T15:07:03.245Z"
   },
   {
    "duration": 186,
    "start_time": "2022-10-13T15:07:21.169Z"
   },
   {
    "duration": 156,
    "start_time": "2022-10-13T15:07:25.712Z"
   },
   {
    "duration": 167,
    "start_time": "2022-10-13T15:07:30.743Z"
   },
   {
    "duration": 266,
    "start_time": "2022-10-13T15:08:43.360Z"
   },
   {
    "duration": 1353,
    "start_time": "2022-10-13T15:09:39.783Z"
   },
   {
    "duration": 57,
    "start_time": "2022-10-13T15:09:41.137Z"
   },
   {
    "duration": 13,
    "start_time": "2022-10-13T15:09:41.195Z"
   },
   {
    "duration": 53,
    "start_time": "2022-10-13T15:09:41.210Z"
   },
   {
    "duration": 6,
    "start_time": "2022-10-13T15:09:41.264Z"
   },
   {
    "duration": 25,
    "start_time": "2022-10-13T15:09:41.272Z"
   },
   {
    "duration": 4,
    "start_time": "2022-10-13T15:09:41.299Z"
   },
   {
    "duration": 19,
    "start_time": "2022-10-13T15:09:41.304Z"
   },
   {
    "duration": 10,
    "start_time": "2022-10-13T15:09:41.324Z"
   },
   {
    "duration": 149,
    "start_time": "2022-10-13T15:09:41.336Z"
   },
   {
    "duration": 12,
    "start_time": "2022-10-13T15:09:41.487Z"
   },
   {
    "duration": 9,
    "start_time": "2022-10-13T15:09:41.500Z"
   },
   {
    "duration": 9,
    "start_time": "2022-10-13T15:09:41.511Z"
   },
   {
    "duration": 136,
    "start_time": "2022-10-13T15:09:41.522Z"
   },
   {
    "duration": 15,
    "start_time": "2022-10-13T15:09:41.659Z"
   },
   {
    "duration": 24,
    "start_time": "2022-10-13T15:09:41.676Z"
   },
   {
    "duration": 207,
    "start_time": "2022-10-13T15:09:41.702Z"
   },
   {
    "duration": 215,
    "start_time": "2022-10-13T15:09:41.911Z"
   },
   {
    "duration": 324,
    "start_time": "2022-10-13T15:09:42.127Z"
   },
   {
    "duration": 6,
    "start_time": "2022-10-13T15:09:42.453Z"
   },
   {
    "duration": 9,
    "start_time": "2022-10-13T15:09:42.461Z"
   },
   {
    "duration": 1384,
    "start_time": "2022-10-13T15:11:34.390Z"
   },
   {
    "duration": 54,
    "start_time": "2022-10-13T15:11:35.776Z"
   },
   {
    "duration": 18,
    "start_time": "2022-10-13T15:11:35.831Z"
   },
   {
    "duration": 59,
    "start_time": "2022-10-13T15:11:35.851Z"
   },
   {
    "duration": 6,
    "start_time": "2022-10-13T15:11:35.913Z"
   },
   {
    "duration": 6,
    "start_time": "2022-10-13T15:11:35.920Z"
   },
   {
    "duration": 6,
    "start_time": "2022-10-13T15:11:35.927Z"
   },
   {
    "duration": 13,
    "start_time": "2022-10-13T15:11:35.934Z"
   },
   {
    "duration": 9,
    "start_time": "2022-10-13T15:11:35.948Z"
   },
   {
    "duration": 161,
    "start_time": "2022-10-13T15:11:35.958Z"
   },
   {
    "duration": 6,
    "start_time": "2022-10-13T15:11:36.121Z"
   },
   {
    "duration": 9,
    "start_time": "2022-10-13T15:11:36.128Z"
   },
   {
    "duration": 8,
    "start_time": "2022-10-13T15:11:36.138Z"
   },
   {
    "duration": 130,
    "start_time": "2022-10-13T15:11:36.148Z"
   },
   {
    "duration": 18,
    "start_time": "2022-10-13T15:11:36.280Z"
   },
   {
    "duration": 20,
    "start_time": "2022-10-13T15:11:36.300Z"
   },
   {
    "duration": 186,
    "start_time": "2022-10-13T15:11:36.321Z"
   },
   {
    "duration": 223,
    "start_time": "2022-10-13T15:11:36.509Z"
   },
   {
    "duration": 349,
    "start_time": "2022-10-13T15:11:36.734Z"
   },
   {
    "duration": 12,
    "start_time": "2022-10-13T15:11:37.085Z"
   },
   {
    "duration": 7,
    "start_time": "2022-10-13T15:11:37.098Z"
   },
   {
    "duration": 7,
    "start_time": "2022-10-13T15:11:37.107Z"
   },
   {
    "duration": 292,
    "start_time": "2022-10-13T15:11:37.116Z"
   },
   {
    "duration": 6,
    "start_time": "2022-10-13T15:11:37.409Z"
   },
   {
    "duration": 7,
    "start_time": "2022-10-13T15:11:37.416Z"
   },
   {
    "duration": 131,
    "start_time": "2022-10-13T15:17:45.457Z"
   },
   {
    "duration": 113,
    "start_time": "2022-10-13T15:18:14.116Z"
   },
   {
    "duration": 131,
    "start_time": "2022-10-13T15:18:33.759Z"
   },
   {
    "duration": 126,
    "start_time": "2022-10-13T15:18:39.447Z"
   },
   {
    "duration": 292,
    "start_time": "2022-10-13T15:20:50.381Z"
   },
   {
    "duration": 11772,
    "start_time": "2022-10-13T15:21:01.439Z"
   },
   {
    "duration": 222,
    "start_time": "2022-10-13T15:21:37.011Z"
   },
   {
    "duration": 123,
    "start_time": "2022-10-13T15:22:19.720Z"
   },
   {
    "duration": 163,
    "start_time": "2022-10-13T15:24:05.581Z"
   },
   {
    "duration": 207,
    "start_time": "2022-10-13T15:25:42.544Z"
   },
   {
    "duration": 131,
    "start_time": "2022-10-13T15:25:51.801Z"
   },
   {
    "duration": 139,
    "start_time": "2022-10-13T15:26:28.565Z"
   },
   {
    "duration": 1239,
    "start_time": "2022-10-13T15:27:17.122Z"
   },
   {
    "duration": 134,
    "start_time": "2022-10-13T15:27:28.490Z"
   },
   {
    "duration": 127,
    "start_time": "2022-10-13T15:28:15.856Z"
   },
   {
    "duration": 163,
    "start_time": "2022-10-13T15:30:01.910Z"
   },
   {
    "duration": 140,
    "start_time": "2022-10-13T15:30:17.070Z"
   },
   {
    "duration": 5,
    "start_time": "2022-10-13T15:31:35.935Z"
   },
   {
    "duration": 132,
    "start_time": "2022-10-13T15:31:40.936Z"
   },
   {
    "duration": 163,
    "start_time": "2022-10-13T15:33:41.397Z"
   },
   {
    "duration": 249,
    "start_time": "2022-10-13T15:34:48.100Z"
   },
   {
    "duration": 108,
    "start_time": "2022-10-13T15:35:14.624Z"
   },
   {
    "duration": 212,
    "start_time": "2022-10-13T15:35:30.907Z"
   },
   {
    "duration": 107,
    "start_time": "2022-10-13T15:35:35.130Z"
   },
   {
    "duration": 178,
    "start_time": "2022-10-13T15:36:00.960Z"
   },
   {
    "duration": 177,
    "start_time": "2022-10-13T15:36:06.062Z"
   },
   {
    "duration": 163,
    "start_time": "2022-10-13T15:36:28.848Z"
   },
   {
    "duration": 194,
    "start_time": "2022-10-13T15:37:09.485Z"
   },
   {
    "duration": 186,
    "start_time": "2022-10-13T15:38:47.907Z"
   },
   {
    "duration": 217,
    "start_time": "2022-10-13T15:39:10.308Z"
   },
   {
    "duration": 198,
    "start_time": "2022-10-13T15:39:15.227Z"
   },
   {
    "duration": 14,
    "start_time": "2022-10-13T15:39:42.175Z"
   },
   {
    "duration": 130,
    "start_time": "2022-10-13T15:39:55.552Z"
   },
   {
    "duration": 129,
    "start_time": "2022-10-13T15:40:54.951Z"
   },
   {
    "duration": 99,
    "start_time": "2022-10-13T15:41:00.039Z"
   },
   {
    "duration": 117,
    "start_time": "2022-10-13T15:41:04.727Z"
   },
   {
    "duration": 113,
    "start_time": "2022-10-13T15:42:25.393Z"
   },
   {
    "duration": 176,
    "start_time": "2022-10-13T15:42:56.956Z"
   },
   {
    "duration": 8,
    "start_time": "2022-10-13T15:53:48.648Z"
   },
   {
    "duration": 292,
    "start_time": "2022-10-13T15:53:51.062Z"
   },
   {
    "duration": 6,
    "start_time": "2022-10-13T15:54:04.689Z"
   },
   {
    "duration": 277,
    "start_time": "2022-10-13T15:54:06.576Z"
   },
   {
    "duration": 1394,
    "start_time": "2022-10-13T15:54:24.990Z"
   },
   {
    "duration": 56,
    "start_time": "2022-10-13T15:54:26.386Z"
   },
   {
    "duration": 14,
    "start_time": "2022-10-13T15:54:26.444Z"
   },
   {
    "duration": 51,
    "start_time": "2022-10-13T15:54:26.460Z"
   },
   {
    "duration": 6,
    "start_time": "2022-10-13T15:54:26.513Z"
   },
   {
    "duration": 7,
    "start_time": "2022-10-13T15:54:26.520Z"
   },
   {
    "duration": 7,
    "start_time": "2022-10-13T15:54:26.528Z"
   },
   {
    "duration": 13,
    "start_time": "2022-10-13T15:54:26.536Z"
   },
   {
    "duration": 8,
    "start_time": "2022-10-13T15:54:26.550Z"
   },
   {
    "duration": 189,
    "start_time": "2022-10-13T15:54:26.560Z"
   },
   {
    "duration": 6,
    "start_time": "2022-10-13T15:54:26.750Z"
   },
   {
    "duration": 9,
    "start_time": "2022-10-13T15:54:26.758Z"
   },
   {
    "duration": 7,
    "start_time": "2022-10-13T15:54:26.769Z"
   },
   {
    "duration": 133,
    "start_time": "2022-10-13T15:54:26.796Z"
   },
   {
    "duration": 13,
    "start_time": "2022-10-13T15:54:26.931Z"
   },
   {
    "duration": 13,
    "start_time": "2022-10-13T15:54:26.947Z"
   },
   {
    "duration": 207,
    "start_time": "2022-10-13T15:54:26.962Z"
   },
   {
    "duration": 274,
    "start_time": "2022-10-13T15:54:27.171Z"
   },
   {
    "duration": 259,
    "start_time": "2022-10-13T15:54:27.447Z"
   },
   {
    "duration": 7,
    "start_time": "2022-10-13T15:54:27.709Z"
   },
   {
    "duration": 12,
    "start_time": "2022-10-13T15:54:27.718Z"
   },
   {
    "duration": 125,
    "start_time": "2022-10-13T15:54:27.732Z"
   },
   {
    "duration": 110,
    "start_time": "2022-10-13T15:54:27.859Z"
   },
   {
    "duration": 136,
    "start_time": "2022-10-13T15:54:27.971Z"
   },
   {
    "duration": 127,
    "start_time": "2022-10-13T15:54:28.109Z"
   },
   {
    "duration": 255,
    "start_time": "2022-10-13T15:54:28.241Z"
   },
   {
    "duration": 186,
    "start_time": "2022-10-13T15:54:28.499Z"
   },
   {
    "duration": 221,
    "start_time": "2022-10-13T15:54:28.690Z"
   },
   {
    "duration": 8,
    "start_time": "2022-10-13T15:54:28.912Z"
   },
   {
    "duration": 304,
    "start_time": "2022-10-13T15:54:28.922Z"
   },
   {
    "duration": 6,
    "start_time": "2022-10-13T15:54:29.228Z"
   },
   {
    "duration": 6,
    "start_time": "2022-10-13T15:54:29.236Z"
   },
   {
    "duration": 1543,
    "start_time": "2022-10-13T15:55:43.373Z"
   },
   {
    "duration": 55,
    "start_time": "2022-10-13T15:55:44.918Z"
   },
   {
    "duration": 13,
    "start_time": "2022-10-13T15:55:44.974Z"
   },
   {
    "duration": 72,
    "start_time": "2022-10-13T15:55:44.989Z"
   },
   {
    "duration": 7,
    "start_time": "2022-10-13T15:55:45.063Z"
   },
   {
    "duration": 20,
    "start_time": "2022-10-13T15:55:45.072Z"
   },
   {
    "duration": 10,
    "start_time": "2022-10-13T15:55:45.094Z"
   },
   {
    "duration": 18,
    "start_time": "2022-10-13T15:55:45.106Z"
   },
   {
    "duration": 16,
    "start_time": "2022-10-13T15:55:45.126Z"
   },
   {
    "duration": 151,
    "start_time": "2022-10-13T15:55:45.146Z"
   },
   {
    "duration": 6,
    "start_time": "2022-10-13T15:55:45.298Z"
   },
   {
    "duration": 12,
    "start_time": "2022-10-13T15:55:45.306Z"
   },
   {
    "duration": 7,
    "start_time": "2022-10-13T15:55:45.320Z"
   },
   {
    "duration": 132,
    "start_time": "2022-10-13T15:55:45.329Z"
   },
   {
    "duration": 17,
    "start_time": "2022-10-13T15:55:45.463Z"
   },
   {
    "duration": 35,
    "start_time": "2022-10-13T15:55:45.482Z"
   },
   {
    "duration": 196,
    "start_time": "2022-10-13T15:55:45.519Z"
   },
   {
    "duration": 286,
    "start_time": "2022-10-13T15:55:45.717Z"
   },
   {
    "duration": 268,
    "start_time": "2022-10-13T15:55:46.006Z"
   },
   {
    "duration": 8,
    "start_time": "2022-10-13T15:55:46.276Z"
   },
   {
    "duration": 18,
    "start_time": "2022-10-13T15:55:46.297Z"
   },
   {
    "duration": 7,
    "start_time": "2022-10-13T15:55:46.317Z"
   },
   {
    "duration": 305,
    "start_time": "2022-10-13T15:55:46.326Z"
   },
   {
    "duration": 6,
    "start_time": "2022-10-13T15:55:46.632Z"
   },
   {
    "duration": 8,
    "start_time": "2022-10-13T15:55:46.640Z"
   },
   {
    "duration": 116,
    "start_time": "2022-10-13T15:56:00.260Z"
   },
   {
    "duration": 7,
    "start_time": "2022-10-13T15:56:05.244Z"
   },
   {
    "duration": 290,
    "start_time": "2022-10-13T15:56:07.405Z"
   },
   {
    "duration": 1495,
    "start_time": "2022-10-13T15:56:26.383Z"
   },
   {
    "duration": 56,
    "start_time": "2022-10-13T15:56:27.880Z"
   },
   {
    "duration": 13,
    "start_time": "2022-10-13T15:56:27.938Z"
   },
   {
    "duration": 66,
    "start_time": "2022-10-13T15:56:27.953Z"
   },
   {
    "duration": 6,
    "start_time": "2022-10-13T15:56:28.020Z"
   },
   {
    "duration": 39,
    "start_time": "2022-10-13T15:56:28.027Z"
   },
   {
    "duration": 32,
    "start_time": "2022-10-13T15:56:28.068Z"
   },
   {
    "duration": 38,
    "start_time": "2022-10-13T15:56:28.102Z"
   },
   {
    "duration": 49,
    "start_time": "2022-10-13T15:56:28.142Z"
   },
   {
    "duration": 161,
    "start_time": "2022-10-13T15:56:28.193Z"
   },
   {
    "duration": 8,
    "start_time": "2022-10-13T15:56:28.356Z"
   },
   {
    "duration": 38,
    "start_time": "2022-10-13T15:56:28.366Z"
   },
   {
    "duration": 45,
    "start_time": "2022-10-13T15:56:28.406Z"
   },
   {
    "duration": 174,
    "start_time": "2022-10-13T15:56:28.453Z"
   },
   {
    "duration": 14,
    "start_time": "2022-10-13T15:56:28.628Z"
   },
   {
    "duration": 47,
    "start_time": "2022-10-13T15:56:28.644Z"
   },
   {
    "duration": 203,
    "start_time": "2022-10-13T15:56:28.693Z"
   },
   {
    "duration": 277,
    "start_time": "2022-10-13T15:56:28.898Z"
   },
   {
    "duration": 259,
    "start_time": "2022-10-13T15:56:29.177Z"
   },
   {
    "duration": 6,
    "start_time": "2022-10-13T15:56:29.438Z"
   },
   {
    "duration": 32,
    "start_time": "2022-10-13T15:56:29.446Z"
   },
   {
    "duration": 115,
    "start_time": "2022-10-13T15:56:29.480Z"
   },
   {
    "duration": 100,
    "start_time": "2022-10-13T15:56:29.598Z"
   },
   {
    "duration": 120,
    "start_time": "2022-10-13T15:56:29.700Z"
   },
   {
    "duration": 107,
    "start_time": "2022-10-13T15:56:29.821Z"
   },
   {
    "duration": 157,
    "start_time": "2022-10-13T15:56:29.929Z"
   },
   {
    "duration": 147,
    "start_time": "2022-10-13T15:56:30.088Z"
   },
   {
    "duration": 170,
    "start_time": "2022-10-13T15:56:30.239Z"
   },
   {
    "duration": 7,
    "start_time": "2022-10-13T15:56:30.411Z"
   },
   {
    "duration": 332,
    "start_time": "2022-10-13T15:56:30.419Z"
   },
   {
    "duration": 6,
    "start_time": "2022-10-13T15:56:30.753Z"
   },
   {
    "duration": 51,
    "start_time": "2022-10-13T15:56:30.761Z"
   },
   {
    "duration": 104,
    "start_time": "2022-10-13T15:57:21.413Z"
   },
   {
    "duration": 337,
    "start_time": "2022-10-13T15:57:23.940Z"
   },
   {
    "duration": 329,
    "start_time": "2022-10-13T15:57:37.365Z"
   },
   {
    "duration": 346,
    "start_time": "2022-10-13T15:57:44.575Z"
   },
   {
    "duration": 6,
    "start_time": "2022-10-13T15:58:13.267Z"
   },
   {
    "duration": 293,
    "start_time": "2022-10-13T15:58:15.354Z"
   },
   {
    "duration": 110,
    "start_time": "2022-10-13T15:59:22.546Z"
   },
   {
    "duration": 11,
    "start_time": "2022-10-13T15:59:29.428Z"
   },
   {
    "duration": 290,
    "start_time": "2022-10-13T15:59:31.251Z"
   },
   {
    "duration": 4,
    "start_time": "2022-10-13T16:01:24.904Z"
   },
   {
    "duration": 4,
    "start_time": "2022-10-13T16:01:43.731Z"
   },
   {
    "duration": 4,
    "start_time": "2022-10-13T16:01:54.571Z"
   },
   {
    "duration": 1515,
    "start_time": "2022-10-13T16:02:10.161Z"
   },
   {
    "duration": 58,
    "start_time": "2022-10-13T16:02:11.679Z"
   },
   {
    "duration": 14,
    "start_time": "2022-10-13T16:02:11.739Z"
   },
   {
    "duration": 58,
    "start_time": "2022-10-13T16:02:11.756Z"
   },
   {
    "duration": 6,
    "start_time": "2022-10-13T16:02:11.816Z"
   },
   {
    "duration": 8,
    "start_time": "2022-10-13T16:02:11.823Z"
   },
   {
    "duration": 5,
    "start_time": "2022-10-13T16:02:11.833Z"
   },
   {
    "duration": 24,
    "start_time": "2022-10-13T16:02:11.840Z"
   },
   {
    "duration": 32,
    "start_time": "2022-10-13T16:02:11.866Z"
   },
   {
    "duration": 140,
    "start_time": "2022-10-13T16:02:11.902Z"
   },
   {
    "duration": 7,
    "start_time": "2022-10-13T16:02:12.043Z"
   },
   {
    "duration": 10,
    "start_time": "2022-10-13T16:02:12.051Z"
   },
   {
    "duration": 12,
    "start_time": "2022-10-13T16:02:12.062Z"
   },
   {
    "duration": 23,
    "start_time": "2022-10-13T16:02:12.076Z"
   },
   {
    "duration": 121,
    "start_time": "2022-10-13T16:02:12.101Z"
   },
   {
    "duration": 11,
    "start_time": "2022-10-13T16:02:12.224Z"
   },
   {
    "duration": 13,
    "start_time": "2022-10-13T16:02:12.237Z"
   },
   {
    "duration": 200,
    "start_time": "2022-10-13T16:02:12.252Z"
   },
   {
    "duration": 305,
    "start_time": "2022-10-13T16:02:12.454Z"
   },
   {
    "duration": 256,
    "start_time": "2022-10-13T16:02:12.761Z"
   },
   {
    "duration": 8,
    "start_time": "2022-10-13T16:02:13.018Z"
   },
   {
    "duration": 11,
    "start_time": "2022-10-13T16:02:13.028Z"
   },
   {
    "duration": 118,
    "start_time": "2022-10-13T16:02:13.041Z"
   },
   {
    "duration": 99,
    "start_time": "2022-10-13T16:02:13.161Z"
   },
   {
    "duration": 125,
    "start_time": "2022-10-13T16:02:13.262Z"
   },
   {
    "duration": 110,
    "start_time": "2022-10-13T16:02:13.389Z"
   },
   {
    "duration": 149,
    "start_time": "2022-10-13T16:02:13.500Z"
   },
   {
    "duration": 156,
    "start_time": "2022-10-13T16:02:13.652Z"
   },
   {
    "duration": 163,
    "start_time": "2022-10-13T16:02:13.810Z"
   },
   {
    "duration": 6,
    "start_time": "2022-10-13T16:02:13.975Z"
   },
   {
    "duration": 129,
    "start_time": "2022-10-13T16:02:13.983Z"
   },
   {
    "duration": 0,
    "start_time": "2022-10-13T16:02:14.114Z"
   },
   {
    "duration": 0,
    "start_time": "2022-10-13T16:02:14.115Z"
   },
   {
    "duration": 7,
    "start_time": "2022-10-13T16:02:27.792Z"
   },
   {
    "duration": 297,
    "start_time": "2022-10-13T16:02:30.687Z"
   },
   {
    "duration": 5,
    "start_time": "2022-10-13T16:02:38.265Z"
   },
   {
    "duration": 5,
    "start_time": "2022-10-13T16:02:39.088Z"
   },
   {
    "duration": 209,
    "start_time": "2022-10-13T16:04:15.668Z"
   },
   {
    "duration": 105,
    "start_time": "2022-10-13T16:15:49.195Z"
   },
   {
    "duration": 101,
    "start_time": "2022-10-13T16:15:54.580Z"
   },
   {
    "duration": 124,
    "start_time": "2022-10-13T16:16:16.390Z"
   },
   {
    "duration": 90,
    "start_time": "2022-10-13T16:16:49.898Z"
   },
   {
    "duration": 147,
    "start_time": "2022-10-13T16:17:51.665Z"
   },
   {
    "duration": 97,
    "start_time": "2022-10-13T16:18:36.982Z"
   },
   {
    "duration": 101,
    "start_time": "2022-10-13T16:19:54.606Z"
   },
   {
    "duration": 92,
    "start_time": "2022-10-13T16:21:20.753Z"
   },
   {
    "duration": 87,
    "start_time": "2022-10-13T16:21:24.713Z"
   },
   {
    "duration": 85,
    "start_time": "2022-10-13T16:21:46.242Z"
   },
   {
    "duration": 95,
    "start_time": "2022-10-13T16:23:54.322Z"
   },
   {
    "duration": 97,
    "start_time": "2022-10-13T16:24:03.892Z"
   },
   {
    "duration": 204,
    "start_time": "2022-10-13T16:25:20.684Z"
   },
   {
    "duration": 102,
    "start_time": "2022-10-13T16:25:38.277Z"
   },
   {
    "duration": 114,
    "start_time": "2022-10-13T16:31:08.475Z"
   },
   {
    "duration": 109,
    "start_time": "2022-10-13T16:31:16.092Z"
   },
   {
    "duration": 102,
    "start_time": "2022-10-13T16:31:37.558Z"
   },
   {
    "duration": 102,
    "start_time": "2022-10-13T16:31:40.023Z"
   },
   {
    "duration": 130,
    "start_time": "2022-10-13T16:33:23.523Z"
   },
   {
    "duration": 152,
    "start_time": "2022-10-13T16:34:08.032Z"
   },
   {
    "duration": 140,
    "start_time": "2022-10-13T16:34:18.905Z"
   },
   {
    "duration": 15,
    "start_time": "2022-10-13T16:36:01.935Z"
   },
   {
    "duration": 7,
    "start_time": "2022-10-13T16:36:16.534Z"
   },
   {
    "duration": 8,
    "start_time": "2022-10-13T16:36:42.514Z"
   },
   {
    "duration": 23,
    "start_time": "2022-10-13T16:36:59.330Z"
   },
   {
    "duration": 25,
    "start_time": "2022-10-13T16:37:08.828Z"
   },
   {
    "duration": 1517,
    "start_time": "2022-10-13T16:39:08.754Z"
   },
   {
    "duration": 68,
    "start_time": "2022-10-13T16:39:10.273Z"
   },
   {
    "duration": 15,
    "start_time": "2022-10-13T16:39:10.343Z"
   },
   {
    "duration": 72,
    "start_time": "2022-10-13T16:39:10.360Z"
   },
   {
    "duration": 7,
    "start_time": "2022-10-13T16:39:10.433Z"
   },
   {
    "duration": 27,
    "start_time": "2022-10-13T16:39:10.441Z"
   },
   {
    "duration": 15,
    "start_time": "2022-10-13T16:39:10.470Z"
   },
   {
    "duration": 40,
    "start_time": "2022-10-13T16:39:10.487Z"
   },
   {
    "duration": 32,
    "start_time": "2022-10-13T16:39:10.529Z"
   },
   {
    "duration": 54,
    "start_time": "2022-10-13T16:39:10.564Z"
   },
   {
    "duration": 158,
    "start_time": "2022-10-13T16:39:10.620Z"
   },
   {
    "duration": 6,
    "start_time": "2022-10-13T16:39:10.779Z"
   },
   {
    "duration": 29,
    "start_time": "2022-10-13T16:39:10.787Z"
   },
   {
    "duration": 18,
    "start_time": "2022-10-13T16:39:10.819Z"
   },
   {
    "duration": 26,
    "start_time": "2022-10-13T16:39:10.839Z"
   },
   {
    "duration": 146,
    "start_time": "2022-10-13T16:39:10.867Z"
   },
   {
    "duration": 14,
    "start_time": "2022-10-13T16:39:11.016Z"
   },
   {
    "duration": 13,
    "start_time": "2022-10-13T16:39:11.032Z"
   },
   {
    "duration": 215,
    "start_time": "2022-10-13T16:39:11.047Z"
   },
   {
    "duration": 568,
    "start_time": "2022-10-13T16:39:11.264Z"
   },
   {
    "duration": 665,
    "start_time": "2022-10-13T16:39:11.834Z"
   },
   {
    "duration": 8,
    "start_time": "2022-10-13T16:39:12.501Z"
   },
   {
    "duration": 47,
    "start_time": "2022-10-13T16:39:12.511Z"
   },
   {
    "duration": 262,
    "start_time": "2022-10-13T16:39:12.560Z"
   },
   {
    "duration": 216,
    "start_time": "2022-10-13T16:39:12.824Z"
   },
   {
    "duration": 295,
    "start_time": "2022-10-13T16:39:13.042Z"
   },
   {
    "duration": 287,
    "start_time": "2022-10-13T16:39:13.339Z"
   },
   {
    "duration": 154,
    "start_time": "2022-10-13T16:39:13.631Z"
   },
   {
    "duration": 168,
    "start_time": "2022-10-13T16:39:13.787Z"
   },
   {
    "duration": 176,
    "start_time": "2022-10-13T16:39:13.957Z"
   },
   {
    "duration": 184,
    "start_time": "2022-10-13T16:39:14.135Z"
   },
   {
    "duration": 8,
    "start_time": "2022-10-13T16:39:14.321Z"
   },
   {
    "duration": 388,
    "start_time": "2022-10-13T16:39:14.331Z"
   },
   {
    "duration": 247,
    "start_time": "2022-10-13T16:39:14.722Z"
   },
   {
    "duration": 31,
    "start_time": "2022-10-13T16:39:14.971Z"
   },
   {
    "duration": 120,
    "start_time": "2022-10-13T16:39:15.003Z"
   },
   {
    "duration": 120,
    "start_time": "2022-10-13T16:39:15.125Z"
   },
   {
    "duration": 5,
    "start_time": "2022-10-13T16:39:15.246Z"
   },
   {
    "duration": 18,
    "start_time": "2022-10-13T16:39:15.253Z"
   },
   {
    "duration": 10,
    "start_time": "2022-10-13T19:45:47.056Z"
   },
   {
    "duration": 17,
    "start_time": "2022-10-13T19:46:00.659Z"
   },
   {
    "duration": 16,
    "start_time": "2022-10-13T19:46:12.361Z"
   },
   {
    "duration": 5,
    "start_time": "2022-10-13T19:56:44.725Z"
   },
   {
    "duration": 17,
    "start_time": "2022-10-13T19:57:10.056Z"
   },
   {
    "duration": 19,
    "start_time": "2022-10-13T19:57:41.083Z"
   },
   {
    "duration": 120,
    "start_time": "2022-10-13T19:58:32.529Z"
   },
   {
    "duration": 20,
    "start_time": "2022-10-13T19:58:47.690Z"
   },
   {
    "duration": 22,
    "start_time": "2022-10-13T19:59:12.261Z"
   },
   {
    "duration": 17,
    "start_time": "2022-10-13T20:03:04.647Z"
   },
   {
    "duration": 5,
    "start_time": "2022-10-13T20:03:09.256Z"
   },
   {
    "duration": 23,
    "start_time": "2022-10-13T20:03:12.208Z"
   },
   {
    "duration": 14,
    "start_time": "2022-10-13T20:03:27.354Z"
   },
   {
    "duration": 17,
    "start_time": "2022-10-13T20:04:22.135Z"
   },
   {
    "duration": 20,
    "start_time": "2022-10-13T20:04:33.753Z"
   },
   {
    "duration": 19,
    "start_time": "2022-10-13T20:04:55.032Z"
   },
   {
    "duration": 18,
    "start_time": "2022-10-13T20:05:13.518Z"
   },
   {
    "duration": 15,
    "start_time": "2022-10-13T20:05:31.209Z"
   },
   {
    "duration": 19,
    "start_time": "2022-10-13T20:05:55.874Z"
   },
   {
    "duration": 18,
    "start_time": "2022-10-13T20:06:00.852Z"
   },
   {
    "duration": 32,
    "start_time": "2022-10-13T20:06:14.813Z"
   },
   {
    "duration": 21,
    "start_time": "2022-10-13T20:06:35.552Z"
   },
   {
    "duration": 18,
    "start_time": "2022-10-13T20:07:13.276Z"
   },
   {
    "duration": 16,
    "start_time": "2022-10-13T20:12:36.153Z"
   },
   {
    "duration": 6,
    "start_time": "2022-10-13T20:19:15.150Z"
   },
   {
    "duration": 17,
    "start_time": "2022-10-13T20:19:24.991Z"
   },
   {
    "duration": 13,
    "start_time": "2022-10-13T20:19:31.168Z"
   },
   {
    "duration": 6,
    "start_time": "2022-10-13T20:19:40.545Z"
   },
   {
    "duration": 4,
    "start_time": "2022-10-13T20:19:45.714Z"
   },
   {
    "duration": 7,
    "start_time": "2022-10-13T20:21:27.093Z"
   },
   {
    "duration": 24,
    "start_time": "2022-10-13T20:23:55.382Z"
   },
   {
    "duration": 17,
    "start_time": "2022-10-13T20:24:56.638Z"
   },
   {
    "duration": 5,
    "start_time": "2022-10-13T20:29:16.912Z"
   },
   {
    "duration": 5,
    "start_time": "2022-10-13T20:29:22.691Z"
   },
   {
    "duration": 14,
    "start_time": "2022-10-13T20:38:06.462Z"
   },
   {
    "duration": 8,
    "start_time": "2022-10-13T20:38:17.072Z"
   },
   {
    "duration": 34,
    "start_time": "2022-10-13T20:39:17.815Z"
   },
   {
    "duration": 23,
    "start_time": "2022-10-13T20:40:25.383Z"
   },
   {
    "duration": 8,
    "start_time": "2022-10-13T20:40:47.681Z"
   },
   {
    "duration": 13,
    "start_time": "2022-10-13T20:40:51.131Z"
   },
   {
    "duration": 18,
    "start_time": "2022-10-13T20:40:54.617Z"
   },
   {
    "duration": 12,
    "start_time": "2022-10-13T20:41:01.091Z"
   },
   {
    "duration": 9,
    "start_time": "2022-10-13T20:41:04.594Z"
   },
   {
    "duration": 12,
    "start_time": "2022-10-13T20:41:07.747Z"
   },
   {
    "duration": 23,
    "start_time": "2022-10-13T20:41:10.291Z"
   },
   {
    "duration": 23,
    "start_time": "2022-10-13T20:41:28.478Z"
   },
   {
    "duration": 26,
    "start_time": "2022-10-13T20:41:36.750Z"
   },
   {
    "duration": 21,
    "start_time": "2022-10-13T20:41:41.094Z"
   },
   {
    "duration": 31,
    "start_time": "2022-10-13T20:44:11.392Z"
   },
   {
    "duration": 23,
    "start_time": "2022-10-13T20:46:35.630Z"
   },
   {
    "duration": 14,
    "start_time": "2022-10-13T20:46:43.109Z"
   },
   {
    "duration": 18,
    "start_time": "2022-10-13T20:46:49.666Z"
   },
   {
    "duration": 21,
    "start_time": "2022-10-13T20:47:01.635Z"
   },
   {
    "duration": 26,
    "start_time": "2022-10-13T20:47:15.789Z"
   },
   {
    "duration": 20,
    "start_time": "2022-10-13T20:47:26.567Z"
   },
   {
    "duration": 29,
    "start_time": "2022-10-13T20:47:38.679Z"
   },
   {
    "duration": 13,
    "start_time": "2022-10-13T20:48:02.309Z"
   },
   {
    "duration": 14,
    "start_time": "2022-10-13T20:48:16.317Z"
   },
   {
    "duration": 13,
    "start_time": "2022-10-13T20:48:27.609Z"
   },
   {
    "duration": 13,
    "start_time": "2022-10-13T20:48:30.636Z"
   },
   {
    "duration": 13,
    "start_time": "2022-10-13T20:48:31.278Z"
   },
   {
    "duration": 20,
    "start_time": "2022-10-13T20:48:35.190Z"
   },
   {
    "duration": 23,
    "start_time": "2022-10-13T20:48:48.352Z"
   },
   {
    "duration": 19,
    "start_time": "2022-10-13T20:48:56.335Z"
   },
   {
    "duration": 22,
    "start_time": "2022-10-13T20:49:10.850Z"
   },
   {
    "duration": 19,
    "start_time": "2022-10-13T20:49:17.290Z"
   },
   {
    "duration": 16,
    "start_time": "2022-10-13T20:49:23.196Z"
   },
   {
    "duration": 19,
    "start_time": "2022-10-13T20:49:32.205Z"
   },
   {
    "duration": 19,
    "start_time": "2022-10-13T20:49:40.677Z"
   },
   {
    "duration": 14,
    "start_time": "2022-10-13T20:53:40.329Z"
   },
   {
    "duration": 11,
    "start_time": "2022-10-13T20:53:46.761Z"
   },
   {
    "duration": 19,
    "start_time": "2022-10-13T20:53:48.465Z"
   },
   {
    "duration": 10,
    "start_time": "2022-10-13T20:53:54.306Z"
   },
   {
    "duration": 18,
    "start_time": "2022-10-13T20:53:56.153Z"
   },
   {
    "duration": 13,
    "start_time": "2022-10-13T20:54:02.715Z"
   },
   {
    "duration": 15,
    "start_time": "2022-10-13T20:54:07.267Z"
   },
   {
    "duration": 21,
    "start_time": "2022-10-13T20:54:19.396Z"
   },
   {
    "duration": 15,
    "start_time": "2022-10-13T20:54:23.846Z"
   },
   {
    "duration": 20,
    "start_time": "2022-10-13T20:54:33.151Z"
   },
   {
    "duration": 31,
    "start_time": "2022-10-13T20:54:46.992Z"
   },
   {
    "duration": 23,
    "start_time": "2022-10-13T20:54:52.688Z"
   },
   {
    "duration": 21,
    "start_time": "2022-10-13T20:54:56.641Z"
   },
   {
    "duration": 20,
    "start_time": "2022-10-13T20:55:20.068Z"
   },
   {
    "duration": 15,
    "start_time": "2022-10-13T20:55:25.813Z"
   },
   {
    "duration": 20,
    "start_time": "2022-10-13T20:55:42.190Z"
   },
   {
    "duration": 21,
    "start_time": "2022-10-13T20:55:59.913Z"
   },
   {
    "duration": 23,
    "start_time": "2022-10-13T20:56:04.072Z"
   },
   {
    "duration": 21,
    "start_time": "2022-10-13T20:56:08.753Z"
   },
   {
    "duration": 15,
    "start_time": "2022-10-13T20:56:11.610Z"
   },
   {
    "duration": 19,
    "start_time": "2022-10-13T20:56:16.458Z"
   },
   {
    "duration": 17,
    "start_time": "2022-10-13T20:56:27.812Z"
   },
   {
    "duration": 19,
    "start_time": "2022-10-13T20:56:31.547Z"
   },
   {
    "duration": 11,
    "start_time": "2022-10-13T20:58:47.595Z"
   },
   {
    "duration": 20,
    "start_time": "2022-10-13T20:58:49.499Z"
   },
   {
    "duration": 18,
    "start_time": "2022-10-13T20:59:01.446Z"
   },
   {
    "duration": 33,
    "start_time": "2022-10-13T20:59:38.242Z"
   },
   {
    "duration": 10,
    "start_time": "2022-10-13T21:00:16.575Z"
   },
   {
    "duration": 27,
    "start_time": "2022-10-13T21:00:18.149Z"
   },
   {
    "duration": 327,
    "start_time": "2022-10-13T21:05:48.076Z"
   },
   {
    "duration": 285,
    "start_time": "2022-10-13T21:06:16.502Z"
   },
   {
    "duration": 6,
    "start_time": "2022-10-13T21:11:23.738Z"
   },
   {
    "duration": 1438,
    "start_time": "2022-10-13T21:12:32.315Z"
   },
   {
    "duration": 55,
    "start_time": "2022-10-13T21:12:33.755Z"
   },
   {
    "duration": 14,
    "start_time": "2022-10-13T21:12:33.813Z"
   },
   {
    "duration": 69,
    "start_time": "2022-10-13T21:12:33.829Z"
   },
   {
    "duration": 7,
    "start_time": "2022-10-13T21:12:33.899Z"
   },
   {
    "duration": 5,
    "start_time": "2022-10-13T21:12:33.908Z"
   },
   {
    "duration": 5,
    "start_time": "2022-10-13T21:12:33.915Z"
   },
   {
    "duration": 14,
    "start_time": "2022-10-13T21:12:33.921Z"
   },
   {
    "duration": 9,
    "start_time": "2022-10-13T21:12:33.936Z"
   },
   {
    "duration": 169,
    "start_time": "2022-10-13T21:12:33.947Z"
   },
   {
    "duration": 5,
    "start_time": "2022-10-13T21:12:34.118Z"
   },
   {
    "duration": 8,
    "start_time": "2022-10-13T21:12:34.125Z"
   },
   {
    "duration": 8,
    "start_time": "2022-10-13T21:12:34.135Z"
   },
   {
    "duration": 5,
    "start_time": "2022-10-13T21:12:34.145Z"
   },
   {
    "duration": 138,
    "start_time": "2022-10-13T21:12:34.151Z"
   },
   {
    "duration": 11,
    "start_time": "2022-10-13T21:12:34.297Z"
   },
   {
    "duration": 13,
    "start_time": "2022-10-13T21:12:34.310Z"
   },
   {
    "duration": 8,
    "start_time": "2022-10-13T21:12:34.324Z"
   },
   {
    "duration": 191,
    "start_time": "2022-10-13T21:13:29.399Z"
   },
   {
    "duration": 255,
    "start_time": "2022-10-13T21:13:35.247Z"
   },
   {
    "duration": 315,
    "start_time": "2022-10-13T21:13:55.571Z"
   },
   {
    "duration": 347,
    "start_time": "2022-10-13T21:14:00.523Z"
   },
   {
    "duration": 226,
    "start_time": "2022-10-13T21:14:18.060Z"
   },
   {
    "duration": 174,
    "start_time": "2022-10-13T21:14:40.711Z"
   },
   {
    "duration": 173,
    "start_time": "2022-10-13T21:14:47.359Z"
   },
   {
    "duration": 177,
    "start_time": "2022-10-13T21:14:51.137Z"
   },
   {
    "duration": 172,
    "start_time": "2022-10-13T21:15:34.749Z"
   },
   {
    "duration": 193,
    "start_time": "2022-10-13T21:16:03.984Z"
   },
   {
    "duration": 304,
    "start_time": "2022-10-13T21:16:04.288Z"
   },
   {
    "duration": 169,
    "start_time": "2022-10-13T21:16:16.025Z"
   },
   {
    "duration": 175,
    "start_time": "2022-10-13T21:16:32.579Z"
   },
   {
    "duration": 177,
    "start_time": "2022-10-13T21:16:43.196Z"
   },
   {
    "duration": 11,
    "start_time": "2022-10-13T21:18:01.526Z"
   },
   {
    "duration": 320,
    "start_time": "2022-10-13T21:19:39.730Z"
   },
   {
    "duration": 295,
    "start_time": "2022-10-13T21:20:04.132Z"
   },
   {
    "duration": 285,
    "start_time": "2022-10-13T21:21:53.154Z"
   },
   {
    "duration": 369,
    "start_time": "2022-10-13T21:21:59.113Z"
   },
   {
    "duration": 261,
    "start_time": "2022-10-13T21:22:31.388Z"
   },
   {
    "duration": 248,
    "start_time": "2022-10-13T21:23:21.219Z"
   },
   {
    "duration": 278,
    "start_time": "2022-10-13T21:23:44.413Z"
   },
   {
    "duration": 265,
    "start_time": "2022-10-13T21:23:49.750Z"
   },
   {
    "duration": 6,
    "start_time": "2022-10-13T21:25:22.561Z"
   },
   {
    "duration": 117,
    "start_time": "2022-10-13T21:34:01.644Z"
   },
   {
    "duration": 5,
    "start_time": "2022-10-13T21:34:14.725Z"
   },
   {
    "duration": 6,
    "start_time": "2022-10-13T21:34:36.960Z"
   },
   {
    "duration": 178,
    "start_time": "2022-10-13T21:34:38.448Z"
   },
   {
    "duration": 178,
    "start_time": "2022-10-13T21:34:40.840Z"
   },
   {
    "duration": 114,
    "start_time": "2022-10-13T21:34:44.296Z"
   },
   {
    "duration": 298,
    "start_time": "2022-10-13T21:34:45.817Z"
   },
   {
    "duration": 274,
    "start_time": "2022-10-13T21:34:47.297Z"
   },
   {
    "duration": 292,
    "start_time": "2022-10-13T21:34:49.465Z"
   },
   {
    "duration": 272,
    "start_time": "2022-10-13T21:34:51.033Z"
   },
   {
    "duration": 5,
    "start_time": "2022-10-13T21:34:53.129Z"
   },
   {
    "duration": 6,
    "start_time": "2022-10-13T21:34:56.218Z"
   },
   {
    "duration": 9,
    "start_time": "2022-10-13T21:37:18.410Z"
   },
   {
    "duration": 4,
    "start_time": "2022-10-13T21:37:37.644Z"
   },
   {
    "duration": 5,
    "start_time": "2022-10-13T21:37:48.389Z"
   },
   {
    "duration": 9,
    "start_time": "2022-10-13T21:38:07.312Z"
   },
   {
    "duration": 155,
    "start_time": "2022-10-13T21:39:17.403Z"
   },
   {
    "duration": 1545,
    "start_time": "2022-10-13T21:39:23.214Z"
   },
   {
    "duration": 65,
    "start_time": "2022-10-13T21:39:24.761Z"
   },
   {
    "duration": 14,
    "start_time": "2022-10-13T21:39:24.828Z"
   },
   {
    "duration": 77,
    "start_time": "2022-10-13T21:39:24.844Z"
   },
   {
    "duration": 8,
    "start_time": "2022-10-13T21:39:24.923Z"
   },
   {
    "duration": 10,
    "start_time": "2022-10-13T21:39:24.933Z"
   },
   {
    "duration": 9,
    "start_time": "2022-10-13T21:39:24.944Z"
   },
   {
    "duration": 15,
    "start_time": "2022-10-13T21:39:24.955Z"
   },
   {
    "duration": 29,
    "start_time": "2022-10-13T21:39:24.972Z"
   },
   {
    "duration": 157,
    "start_time": "2022-10-13T21:39:25.005Z"
   },
   {
    "duration": 8,
    "start_time": "2022-10-13T21:39:25.164Z"
   },
   {
    "duration": 25,
    "start_time": "2022-10-13T21:39:25.174Z"
   },
   {
    "duration": 9,
    "start_time": "2022-10-13T21:39:25.201Z"
   },
   {
    "duration": 13,
    "start_time": "2022-10-13T21:39:25.212Z"
   },
   {
    "duration": 139,
    "start_time": "2022-10-13T21:39:25.226Z"
   },
   {
    "duration": 33,
    "start_time": "2022-10-13T21:39:25.368Z"
   },
   {
    "duration": 22,
    "start_time": "2022-10-13T21:39:25.405Z"
   },
   {
    "duration": 7,
    "start_time": "2022-10-13T21:39:25.429Z"
   },
   {
    "duration": 215,
    "start_time": "2022-10-13T21:39:25.438Z"
   },
   {
    "duration": 291,
    "start_time": "2022-10-13T21:39:25.655Z"
   },
   {
    "duration": 11,
    "start_time": "2022-10-13T21:39:25.948Z"
   },
   {
    "duration": 350,
    "start_time": "2022-10-13T21:39:25.960Z"
   },
   {
    "duration": 278,
    "start_time": "2022-10-13T21:39:26.312Z"
   },
   {
    "duration": 345,
    "start_time": "2022-10-13T21:39:26.591Z"
   },
   {
    "duration": 315,
    "start_time": "2022-10-13T21:39:26.938Z"
   },
   {
    "duration": 10,
    "start_time": "2022-10-13T21:39:27.255Z"
   },
   {
    "duration": 5,
    "start_time": "2022-10-13T21:39:27.267Z"
   },
   {
    "duration": 16,
    "start_time": "2022-10-13T21:39:27.299Z"
   },
   {
    "duration": 126,
    "start_time": "2022-10-13T21:39:27.318Z"
   },
   {
    "duration": 122,
    "start_time": "2022-10-13T21:39:27.446Z"
   },
   {
    "duration": 246,
    "start_time": "2022-10-13T21:39:27.570Z"
   },
   {
    "duration": 116,
    "start_time": "2022-10-13T21:39:27.819Z"
   },
   {
    "duration": 115,
    "start_time": "2022-10-13T21:39:27.937Z"
   },
   {
    "duration": 277,
    "start_time": "2022-10-13T21:39:28.055Z"
   },
   {
    "duration": 192,
    "start_time": "2022-10-13T21:39:28.334Z"
   },
   {
    "duration": 190,
    "start_time": "2022-10-13T21:39:28.528Z"
   },
   {
    "duration": 8,
    "start_time": "2022-10-13T21:39:28.720Z"
   },
   {
    "duration": 319,
    "start_time": "2022-10-13T21:39:28.730Z"
   },
   {
    "duration": 146,
    "start_time": "2022-10-13T21:39:29.051Z"
   },
   {
    "duration": 36,
    "start_time": "2022-10-13T21:39:29.199Z"
   },
   {
    "duration": 120,
    "start_time": "2022-10-13T21:39:29.237Z"
   },
   {
    "duration": 129,
    "start_time": "2022-10-13T21:39:29.358Z"
   },
   {
    "duration": 11,
    "start_time": "2022-10-13T21:39:29.489Z"
   },
   {
    "duration": 29,
    "start_time": "2022-10-13T21:39:29.502Z"
   },
   {
    "duration": 9,
    "start_time": "2022-10-13T21:39:29.533Z"
   },
   {
    "duration": 23,
    "start_time": "2022-10-13T21:39:29.544Z"
   },
   {
    "duration": 327,
    "start_time": "2022-10-13T21:43:57.556Z"
   },
   {
    "duration": 203,
    "start_time": "2022-10-13T21:44:35.040Z"
   },
   {
    "duration": 175,
    "start_time": "2022-10-13T21:47:49.727Z"
   },
   {
    "duration": 224,
    "start_time": "2022-10-13T21:48:51.006Z"
   },
   {
    "duration": 214,
    "start_time": "2022-10-13T21:49:07.000Z"
   },
   {
    "duration": 232,
    "start_time": "2022-10-13T21:49:12.992Z"
   },
   {
    "duration": 201,
    "start_time": "2022-10-13T21:49:17.280Z"
   },
   {
    "duration": 225,
    "start_time": "2022-10-13T21:49:51.141Z"
   },
   {
    "duration": 212,
    "start_time": "2022-10-13T21:49:55.941Z"
   },
   {
    "duration": 207,
    "start_time": "2022-10-13T21:52:06.996Z"
   },
   {
    "duration": 322,
    "start_time": "2022-10-13T21:52:51.898Z"
   },
   {
    "duration": 209,
    "start_time": "2022-10-13T21:53:28.549Z"
   },
   {
    "duration": 189,
    "start_time": "2022-10-13T21:54:55.784Z"
   },
   {
    "duration": 188,
    "start_time": "2022-10-13T21:55:12.481Z"
   },
   {
    "duration": 198,
    "start_time": "2022-10-13T21:55:29.034Z"
   },
   {
    "duration": 194,
    "start_time": "2022-10-13T21:55:33.043Z"
   },
   {
    "duration": 279,
    "start_time": "2022-10-13T21:56:15.409Z"
   },
   {
    "duration": 231,
    "start_time": "2022-10-13T21:56:28.082Z"
   },
   {
    "duration": 237,
    "start_time": "2022-10-13T21:57:27.809Z"
   },
   {
    "duration": 196,
    "start_time": "2022-10-13T21:58:40.208Z"
   },
   {
    "duration": 180,
    "start_time": "2022-10-13T21:58:53.138Z"
   },
   {
    "duration": 204,
    "start_time": "2022-10-13T21:59:13.484Z"
   },
   {
    "duration": 292,
    "start_time": "2022-10-13T21:59:25.981Z"
   },
   {
    "duration": 224,
    "start_time": "2022-10-13T22:05:10.021Z"
   },
   {
    "duration": 216,
    "start_time": "2022-10-13T22:05:31.983Z"
   },
   {
    "duration": 238,
    "start_time": "2022-10-13T22:05:51.106Z"
   },
   {
    "duration": 6,
    "start_time": "2022-10-13T22:06:45.975Z"
   },
   {
    "duration": 6,
    "start_time": "2022-10-13T22:06:53.617Z"
   },
   {
    "duration": 188,
    "start_time": "2022-10-13T22:10:27.721Z"
   },
   {
    "duration": 291,
    "start_time": "2022-10-13T22:11:06.669Z"
   },
   {
    "duration": 202,
    "start_time": "2022-10-13T22:12:34.528Z"
   },
   {
    "duration": 200,
    "start_time": "2022-10-13T22:14:03.506Z"
   },
   {
    "duration": 1752,
    "start_time": "2022-10-14T09:37:40.392Z"
   },
   {
    "duration": 84,
    "start_time": "2022-10-14T09:37:42.147Z"
   },
   {
    "duration": 22,
    "start_time": "2022-10-14T09:37:42.233Z"
   },
   {
    "duration": 78,
    "start_time": "2022-10-14T09:37:42.259Z"
   },
   {
    "duration": 7,
    "start_time": "2022-10-14T09:37:42.340Z"
   },
   {
    "duration": 22,
    "start_time": "2022-10-14T09:37:42.349Z"
   },
   {
    "duration": 22,
    "start_time": "2022-10-14T09:37:42.373Z"
   },
   {
    "duration": 22,
    "start_time": "2022-10-14T09:37:42.397Z"
   },
   {
    "duration": 24,
    "start_time": "2022-10-14T09:37:42.421Z"
   },
   {
    "duration": 173,
    "start_time": "2022-10-14T09:37:42.450Z"
   },
   {
    "duration": 19,
    "start_time": "2022-10-14T09:37:42.625Z"
   },
   {
    "duration": 28,
    "start_time": "2022-10-14T09:37:42.646Z"
   },
   {
    "duration": 10,
    "start_time": "2022-10-14T09:37:42.676Z"
   },
   {
    "duration": 10,
    "start_time": "2022-10-14T09:37:42.688Z"
   },
   {
    "duration": 137,
    "start_time": "2022-10-14T09:37:42.700Z"
   },
   {
    "duration": 16,
    "start_time": "2022-10-14T09:37:42.839Z"
   },
   {
    "duration": 15,
    "start_time": "2022-10-14T09:37:42.857Z"
   },
   {
    "duration": 8,
    "start_time": "2022-10-14T09:37:42.875Z"
   },
   {
    "duration": 222,
    "start_time": "2022-10-14T09:37:42.885Z"
   },
   {
    "duration": 271,
    "start_time": "2022-10-14T09:37:43.109Z"
   },
   {
    "duration": 12,
    "start_time": "2022-10-14T09:37:43.382Z"
   },
   {
    "duration": 326,
    "start_time": "2022-10-14T09:37:43.396Z"
   },
   {
    "duration": 296,
    "start_time": "2022-10-14T09:37:43.724Z"
   },
   {
    "duration": 297,
    "start_time": "2022-10-14T09:37:44.022Z"
   },
   {
    "duration": 299,
    "start_time": "2022-10-14T09:37:44.321Z"
   },
   {
    "duration": 16,
    "start_time": "2022-10-14T09:37:44.622Z"
   },
   {
    "duration": 21,
    "start_time": "2022-10-14T09:37:44.639Z"
   },
   {
    "duration": 11,
    "start_time": "2022-10-14T09:37:44.664Z"
   },
   {
    "duration": 106,
    "start_time": "2022-10-14T09:37:44.677Z"
   },
   {
    "duration": 380,
    "start_time": "2022-10-14T09:37:44.785Z"
   },
   {
    "duration": 6,
    "start_time": "2022-10-14T09:37:45.167Z"
   },
   {
    "duration": 206,
    "start_time": "2022-10-14T09:37:45.175Z"
   },
   {
    "duration": 113,
    "start_time": "2022-10-14T09:37:45.383Z"
   },
   {
    "duration": 107,
    "start_time": "2022-10-14T09:37:45.498Z"
   },
   {
    "duration": 168,
    "start_time": "2022-10-14T09:37:45.607Z"
   },
   {
    "duration": 184,
    "start_time": "2022-10-14T09:37:45.778Z"
   },
   {
    "duration": 183,
    "start_time": "2022-10-14T09:37:45.964Z"
   },
   {
    "duration": 9,
    "start_time": "2022-10-14T09:37:46.152Z"
   },
   {
    "duration": 393,
    "start_time": "2022-10-14T09:37:46.163Z"
   },
   {
    "duration": 190,
    "start_time": "2022-10-14T09:37:46.561Z"
   },
   {
    "duration": 43,
    "start_time": "2022-10-14T09:37:46.753Z"
   },
   {
    "duration": 122,
    "start_time": "2022-10-14T09:37:46.798Z"
   },
   {
    "duration": 131,
    "start_time": "2022-10-14T09:37:46.922Z"
   },
   {
    "duration": 6,
    "start_time": "2022-10-14T09:37:47.054Z"
   },
   {
    "duration": 26,
    "start_time": "2022-10-14T09:37:47.062Z"
   },
   {
    "duration": 24,
    "start_time": "2022-10-14T09:37:47.090Z"
   },
   {
    "duration": 134,
    "start_time": "2022-10-14T09:37:47.116Z"
   },
   {
    "duration": 11,
    "start_time": "2022-10-14T09:38:11.298Z"
   },
   {
    "duration": 1846,
    "start_time": "2022-10-14T09:38:48.778Z"
   },
   {
    "duration": 53,
    "start_time": "2022-10-14T09:38:50.625Z"
   },
   {
    "duration": 18,
    "start_time": "2022-10-14T09:38:50.680Z"
   },
   {
    "duration": 81,
    "start_time": "2022-10-14T09:38:50.701Z"
   },
   {
    "duration": 7,
    "start_time": "2022-10-14T09:38:50.785Z"
   },
   {
    "duration": 26,
    "start_time": "2022-10-14T09:38:50.795Z"
   },
   {
    "duration": 34,
    "start_time": "2022-10-14T09:38:50.823Z"
   },
   {
    "duration": 21,
    "start_time": "2022-10-14T09:38:50.859Z"
   },
   {
    "duration": 12,
    "start_time": "2022-10-14T09:38:50.883Z"
   },
   {
    "duration": 127,
    "start_time": "2022-10-14T09:38:50.898Z"
   },
   {
    "duration": 12,
    "start_time": "2022-10-14T09:38:51.027Z"
   },
   {
    "duration": 31,
    "start_time": "2022-10-14T09:38:51.040Z"
   },
   {
    "duration": 21,
    "start_time": "2022-10-14T09:38:51.074Z"
   },
   {
    "duration": 11,
    "start_time": "2022-10-14T09:38:51.097Z"
   },
   {
    "duration": 124,
    "start_time": "2022-10-14T09:38:51.109Z"
   },
   {
    "duration": 15,
    "start_time": "2022-10-14T09:38:51.234Z"
   },
   {
    "duration": 18,
    "start_time": "2022-10-14T09:38:51.250Z"
   },
   {
    "duration": 8,
    "start_time": "2022-10-14T09:38:51.271Z"
   },
   {
    "duration": 236,
    "start_time": "2022-10-14T09:38:51.281Z"
   },
   {
    "duration": 326,
    "start_time": "2022-10-14T09:38:51.519Z"
   },
   {
    "duration": 14,
    "start_time": "2022-10-14T09:38:51.848Z"
   },
   {
    "duration": 342,
    "start_time": "2022-10-14T09:38:51.864Z"
   },
   {
    "duration": 318,
    "start_time": "2022-10-14T09:38:52.208Z"
   },
   {
    "duration": 451,
    "start_time": "2022-10-14T09:38:52.528Z"
   },
   {
    "duration": 300,
    "start_time": "2022-10-14T09:38:52.981Z"
   },
   {
    "duration": 11,
    "start_time": "2022-10-14T09:38:53.284Z"
   },
   {
    "duration": 8,
    "start_time": "2022-10-14T09:38:53.297Z"
   },
   {
    "duration": 9,
    "start_time": "2022-10-14T09:38:53.309Z"
   },
   {
    "duration": 214,
    "start_time": "2022-10-14T09:38:53.320Z"
   },
   {
    "duration": 488,
    "start_time": "2022-10-14T09:38:53.539Z"
   },
   {
    "duration": 8,
    "start_time": "2022-10-14T09:38:54.035Z"
   },
   {
    "duration": 316,
    "start_time": "2022-10-14T09:38:54.048Z"
   },
   {
    "duration": 112,
    "start_time": "2022-10-14T09:38:54.366Z"
   },
   {
    "duration": 117,
    "start_time": "2022-10-14T09:38:54.479Z"
   },
   {
    "duration": 175,
    "start_time": "2022-10-14T09:38:54.598Z"
   },
   {
    "duration": 187,
    "start_time": "2022-10-14T09:38:54.776Z"
   },
   {
    "duration": 185,
    "start_time": "2022-10-14T09:38:54.966Z"
   },
   {
    "duration": 10,
    "start_time": "2022-10-14T09:38:55.155Z"
   },
   {
    "duration": 355,
    "start_time": "2022-10-14T09:38:55.168Z"
   },
   {
    "duration": 182,
    "start_time": "2022-10-14T09:38:55.525Z"
   },
   {
    "duration": 43,
    "start_time": "2022-10-14T09:38:55.710Z"
   },
   {
    "duration": 162,
    "start_time": "2022-10-14T09:38:55.758Z"
   },
   {
    "duration": 170,
    "start_time": "2022-10-14T09:38:55.922Z"
   },
   {
    "duration": 7,
    "start_time": "2022-10-14T09:38:56.094Z"
   },
   {
    "duration": 59,
    "start_time": "2022-10-14T09:38:56.103Z"
   },
   {
    "duration": 45,
    "start_time": "2022-10-14T09:38:56.164Z"
   },
   {
    "duration": 173,
    "start_time": "2022-10-14T09:38:56.211Z"
   },
   {
    "duration": 22,
    "start_time": "2022-10-14T09:40:20.161Z"
   },
   {
    "duration": 304,
    "start_time": "2022-10-14T09:40:24.394Z"
   },
   {
    "duration": 1673,
    "start_time": "2022-10-14T09:41:00.473Z"
   },
   {
    "duration": 57,
    "start_time": "2022-10-14T09:41:02.149Z"
   },
   {
    "duration": 16,
    "start_time": "2022-10-14T09:41:02.208Z"
   },
   {
    "duration": 86,
    "start_time": "2022-10-14T09:41:02.226Z"
   },
   {
    "duration": 7,
    "start_time": "2022-10-14T09:41:02.314Z"
   },
   {
    "duration": 16,
    "start_time": "2022-10-14T09:41:02.323Z"
   },
   {
    "duration": 40,
    "start_time": "2022-10-14T09:41:02.341Z"
   },
   {
    "duration": 23,
    "start_time": "2022-10-14T09:41:02.383Z"
   },
   {
    "duration": 29,
    "start_time": "2022-10-14T09:41:02.408Z"
   },
   {
    "duration": 179,
    "start_time": "2022-10-14T09:41:02.440Z"
   },
   {
    "duration": 8,
    "start_time": "2022-10-14T09:41:02.621Z"
   },
   {
    "duration": 37,
    "start_time": "2022-10-14T09:41:02.636Z"
   },
   {
    "duration": 22,
    "start_time": "2022-10-14T09:41:02.676Z"
   },
   {
    "duration": 26,
    "start_time": "2022-10-14T09:41:02.700Z"
   },
   {
    "duration": 168,
    "start_time": "2022-10-14T09:41:02.728Z"
   },
   {
    "duration": 15,
    "start_time": "2022-10-14T09:41:02.898Z"
   },
   {
    "duration": 83,
    "start_time": "2022-10-14T09:41:02.915Z"
   },
   {
    "duration": 9,
    "start_time": "2022-10-14T09:41:02.999Z"
   },
   {
    "duration": 227,
    "start_time": "2022-10-14T09:41:03.011Z"
   },
   {
    "duration": 287,
    "start_time": "2022-10-14T09:41:03.240Z"
   },
   {
    "duration": 22,
    "start_time": "2022-10-14T09:41:03.529Z"
   },
   {
    "duration": 347,
    "start_time": "2022-10-14T09:41:03.557Z"
   },
   {
    "duration": 325,
    "start_time": "2022-10-14T09:41:03.905Z"
   },
   {
    "duration": 334,
    "start_time": "2022-10-14T09:41:04.237Z"
   },
   {
    "duration": 330,
    "start_time": "2022-10-14T09:41:04.573Z"
   },
   {
    "duration": 8,
    "start_time": "2022-10-14T09:41:04.905Z"
   },
   {
    "duration": 18,
    "start_time": "2022-10-14T09:41:04.915Z"
   },
   {
    "duration": 49,
    "start_time": "2022-10-14T09:41:04.937Z"
   },
   {
    "duration": 113,
    "start_time": "2022-10-14T09:41:04.988Z"
   },
   {
    "duration": 415,
    "start_time": "2022-10-14T09:41:05.103Z"
   },
   {
    "duration": 7,
    "start_time": "2022-10-14T09:41:05.520Z"
   },
   {
    "duration": 257,
    "start_time": "2022-10-14T09:41:05.529Z"
   },
   {
    "duration": 127,
    "start_time": "2022-10-14T09:41:05.788Z"
   },
   {
    "duration": 107,
    "start_time": "2022-10-14T09:41:05.917Z"
   },
   {
    "duration": 188,
    "start_time": "2022-10-14T09:41:06.033Z"
   },
   {
    "duration": 185,
    "start_time": "2022-10-14T09:41:06.223Z"
   },
   {
    "duration": 212,
    "start_time": "2022-10-14T09:41:06.411Z"
   },
   {
    "duration": 18,
    "start_time": "2022-10-14T09:41:06.625Z"
   },
   {
    "duration": 439,
    "start_time": "2022-10-14T09:41:06.645Z"
   },
   {
    "duration": 178,
    "start_time": "2022-10-14T09:41:07.087Z"
   },
   {
    "duration": 29,
    "start_time": "2022-10-14T09:41:07.267Z"
   },
   {
    "duration": 131,
    "start_time": "2022-10-14T09:41:07.298Z"
   },
   {
    "duration": 139,
    "start_time": "2022-10-14T09:41:07.431Z"
   },
   {
    "duration": 8,
    "start_time": "2022-10-14T09:41:07.574Z"
   },
   {
    "duration": 29,
    "start_time": "2022-10-14T09:41:07.584Z"
   },
   {
    "duration": 31,
    "start_time": "2022-10-14T09:41:07.616Z"
   },
   {
    "duration": 148,
    "start_time": "2022-10-14T09:41:07.651Z"
   },
   {
    "duration": 1486,
    "start_time": "2022-10-14T10:17:59.262Z"
   },
   {
    "duration": 55,
    "start_time": "2022-10-14T10:18:00.751Z"
   },
   {
    "duration": 14,
    "start_time": "2022-10-14T10:18:00.807Z"
   },
   {
    "duration": 90,
    "start_time": "2022-10-14T10:18:00.824Z"
   },
   {
    "duration": 8,
    "start_time": "2022-10-14T10:18:00.916Z"
   },
   {
    "duration": 39,
    "start_time": "2022-10-14T10:18:00.926Z"
   },
   {
    "duration": 55,
    "start_time": "2022-10-14T10:18:00.977Z"
   },
   {
    "duration": 65,
    "start_time": "2022-10-14T10:18:01.035Z"
   },
   {
    "duration": 61,
    "start_time": "2022-10-14T10:18:01.103Z"
   },
   {
    "duration": 162,
    "start_time": "2022-10-14T10:18:01.168Z"
   },
   {
    "duration": 6,
    "start_time": "2022-10-14T10:18:01.332Z"
   },
   {
    "duration": 30,
    "start_time": "2022-10-14T10:18:01.340Z"
   },
   {
    "duration": 35,
    "start_time": "2022-10-14T10:18:01.372Z"
   },
   {
    "duration": 43,
    "start_time": "2022-10-14T10:18:01.409Z"
   },
   {
    "duration": 211,
    "start_time": "2022-10-14T10:18:01.454Z"
   },
   {
    "duration": 15,
    "start_time": "2022-10-14T10:18:01.668Z"
   },
   {
    "duration": 69,
    "start_time": "2022-10-14T10:18:01.685Z"
   },
   {
    "duration": 8,
    "start_time": "2022-10-14T10:18:07.994Z"
   },
   {
    "duration": 206,
    "start_time": "2022-10-14T10:18:09.123Z"
   },
   {
    "duration": 288,
    "start_time": "2022-10-14T10:18:12.139Z"
   },
   {
    "duration": 228,
    "start_time": "2022-10-14T10:18:40.192Z"
   },
   {
    "duration": 287,
    "start_time": "2022-10-14T10:18:47.839Z"
   },
   {
    "duration": 286,
    "start_time": "2022-10-14T10:18:55.857Z"
   },
   {
    "duration": 281,
    "start_time": "2022-10-14T10:19:10.738Z"
   },
   {
    "duration": 403,
    "start_time": "2022-10-14T10:19:46.239Z"
   },
   {
    "duration": 340,
    "start_time": "2022-10-14T10:21:12.552Z"
   },
   {
    "duration": 283,
    "start_time": "2022-10-14T10:21:16.984Z"
   },
   {
    "duration": 232,
    "start_time": "2022-10-14T10:21:52.965Z"
   },
   {
    "duration": 274,
    "start_time": "2022-10-14T10:21:57.781Z"
   },
   {
    "duration": 379,
    "start_time": "2022-10-14T10:23:35.633Z"
   },
   {
    "duration": 465,
    "start_time": "2022-10-14T10:23:42.217Z"
   },
   {
    "duration": 415,
    "start_time": "2022-10-14T10:23:46.650Z"
   },
   {
    "duration": 310,
    "start_time": "2022-10-14T10:28:33.291Z"
   },
   {
    "duration": 351,
    "start_time": "2022-10-14T10:28:43.493Z"
   },
   {
    "duration": 351,
    "start_time": "2022-10-14T10:28:52.213Z"
   },
   {
    "duration": 465,
    "start_time": "2022-10-14T10:29:02.006Z"
   },
   {
    "duration": 498,
    "start_time": "2022-10-14T10:29:10.407Z"
   },
   {
    "duration": 422,
    "start_time": "2022-10-14T10:29:18.528Z"
   },
   {
    "duration": 380,
    "start_time": "2022-10-14T10:32:04.549Z"
   },
   {
    "duration": 352,
    "start_time": "2022-10-14T10:32:22.006Z"
   },
   {
    "duration": 360,
    "start_time": "2022-10-14T10:32:54.089Z"
   },
   {
    "duration": 551,
    "start_time": "2022-10-14T10:33:00.426Z"
   },
   {
    "duration": 618,
    "start_time": "2022-10-14T10:33:58.775Z"
   },
   {
    "duration": 756,
    "start_time": "2022-10-14T10:34:29.845Z"
   },
   {
    "duration": 838,
    "start_time": "2022-10-14T10:34:39.919Z"
   },
   {
    "duration": 66,
    "start_time": "2022-10-14T10:35:58.431Z"
   },
   {
    "duration": 659,
    "start_time": "2022-10-14T10:36:03.144Z"
   },
   {
    "duration": 728,
    "start_time": "2022-10-14T10:36:11.825Z"
   },
   {
    "duration": 921,
    "start_time": "2022-10-14T10:36:46.174Z"
   },
   {
    "duration": 829,
    "start_time": "2022-10-14T10:36:56.225Z"
   },
   {
    "duration": 6,
    "start_time": "2022-10-14T10:52:47.419Z"
   },
   {
    "duration": 2909,
    "start_time": "2022-10-14T10:53:59.595Z"
   },
   {
    "duration": 605,
    "start_time": "2022-10-14T10:54:12.933Z"
   },
   {
    "duration": 9,
    "start_time": "2022-10-14T10:54:46.329Z"
   },
   {
    "duration": 492,
    "start_time": "2022-10-14T10:54:48.249Z"
   },
   {
    "duration": 6,
    "start_time": "2022-10-14T10:54:57.322Z"
   },
   {
    "duration": 484,
    "start_time": "2022-10-14T10:54:59.329Z"
   },
   {
    "duration": 5,
    "start_time": "2022-10-14T10:55:19.324Z"
   },
   {
    "duration": 511,
    "start_time": "2022-10-14T10:55:21.204Z"
   },
   {
    "duration": 720,
    "start_time": "2022-10-14T11:01:47.832Z"
   },
   {
    "duration": 5,
    "start_time": "2022-10-14T11:03:46.050Z"
   },
   {
    "duration": 574,
    "start_time": "2022-10-14T11:03:48.902Z"
   },
   {
    "duration": 7,
    "start_time": "2022-10-14T11:05:40.275Z"
   },
   {
    "duration": 699,
    "start_time": "2022-10-14T11:05:42.691Z"
   },
   {
    "duration": 8,
    "start_time": "2022-10-14T11:07:39.128Z"
   },
   {
    "duration": 870,
    "start_time": "2022-10-14T11:07:40.977Z"
   },
   {
    "duration": 5,
    "start_time": "2022-10-14T11:07:59.338Z"
   },
   {
    "duration": 671,
    "start_time": "2022-10-14T11:08:01.492Z"
   },
   {
    "duration": 671,
    "start_time": "2022-10-14T11:09:50.479Z"
   },
   {
    "duration": 11,
    "start_time": "2022-10-14T11:15:52.361Z"
   },
   {
    "duration": 2,
    "start_time": "2022-10-14T11:15:57.737Z"
   },
   {
    "duration": 4,
    "start_time": "2022-10-14T11:16:06.418Z"
   },
   {
    "duration": 4,
    "start_time": "2022-10-14T11:16:23.508Z"
   },
   {
    "duration": 3,
    "start_time": "2022-10-14T11:16:25.388Z"
   },
   {
    "duration": 11,
    "start_time": "2022-10-14T11:16:31.684Z"
   },
   {
    "duration": 10,
    "start_time": "2022-10-14T11:16:46.022Z"
   },
   {
    "duration": 10,
    "start_time": "2022-10-14T11:16:53.663Z"
   },
   {
    "duration": 6,
    "start_time": "2022-10-14T11:19:02.055Z"
   },
   {
    "duration": 660,
    "start_time": "2022-10-14T11:19:03.966Z"
   },
   {
    "duration": 110,
    "start_time": "2022-10-14T11:19:46.579Z"
   },
   {
    "duration": 799,
    "start_time": "2022-10-14T11:19:48.196Z"
   },
   {
    "duration": 756,
    "start_time": "2022-10-14T11:22:07.371Z"
   },
   {
    "duration": 7,
    "start_time": "2022-10-14T11:22:30.045Z"
   },
   {
    "duration": 771,
    "start_time": "2022-10-14T11:22:32.423Z"
   },
   {
    "duration": 8,
    "start_time": "2022-10-14T11:22:46.407Z"
   },
   {
    "duration": 926,
    "start_time": "2022-10-14T11:22:48.119Z"
   },
   {
    "duration": 800,
    "start_time": "2022-10-14T11:23:37.693Z"
   },
   {
    "duration": 794,
    "start_time": "2022-10-14T11:23:53.471Z"
   },
   {
    "duration": 786,
    "start_time": "2022-10-14T11:23:58.215Z"
   },
   {
    "duration": 875,
    "start_time": "2022-10-14T11:24:02.575Z"
   },
   {
    "duration": 780,
    "start_time": "2022-10-14T11:24:08.203Z"
   },
   {
    "duration": 5,
    "start_time": "2022-10-14T11:24:19.938Z"
   },
   {
    "duration": 794,
    "start_time": "2022-10-14T11:24:21.826Z"
   },
   {
    "duration": 6,
    "start_time": "2022-10-14T11:24:57.046Z"
   },
   {
    "duration": 833,
    "start_time": "2022-10-14T11:24:58.671Z"
   },
   {
    "duration": 896,
    "start_time": "2022-10-14T11:25:36.907Z"
   },
   {
    "duration": 781,
    "start_time": "2022-10-14T11:26:03.381Z"
   },
   {
    "duration": 5,
    "start_time": "2022-10-14T11:26:11.926Z"
   },
   {
    "duration": 773,
    "start_time": "2022-10-14T11:26:13.750Z"
   },
   {
    "duration": 6,
    "start_time": "2022-10-14T11:27:40.809Z"
   },
   {
    "duration": 877,
    "start_time": "2022-10-14T11:27:42.553Z"
   },
   {
    "duration": 788,
    "start_time": "2022-10-14T11:27:53.338Z"
   },
   {
    "duration": 1369,
    "start_time": "2022-10-14T11:36:13.628Z"
   },
   {
    "duration": 1514,
    "start_time": "2022-10-14T11:36:24.788Z"
   },
   {
    "duration": 939,
    "start_time": "2022-10-14T11:36:44.062Z"
   },
   {
    "duration": 1062,
    "start_time": "2022-10-14T11:37:00.002Z"
   },
   {
    "duration": 1012,
    "start_time": "2022-10-14T11:37:16.347Z"
   },
   {
    "duration": 347,
    "start_time": "2022-10-14T11:37:32.692Z"
   },
   {
    "duration": 383,
    "start_time": "2022-10-14T11:37:41.518Z"
   },
   {
    "duration": 7,
    "start_time": "2022-10-14T11:38:50.507Z"
   },
   {
    "duration": 1418,
    "start_time": "2022-10-14T11:38:52.549Z"
   },
   {
    "duration": 1257,
    "start_time": "2022-10-14T11:39:04.342Z"
   },
   {
    "duration": 1229,
    "start_time": "2022-10-14T11:39:16.216Z"
   },
   {
    "duration": 1011,
    "start_time": "2022-10-14T11:39:33.594Z"
   },
   {
    "duration": 1160,
    "start_time": "2022-10-14T11:39:41.491Z"
   },
   {
    "duration": 628,
    "start_time": "2022-10-14T11:39:57.917Z"
   },
   {
    "duration": 802,
    "start_time": "2022-10-14T11:49:43.889Z"
   },
   {
    "duration": 6,
    "start_time": "2022-10-14T11:50:04.042Z"
   },
   {
    "duration": 845,
    "start_time": "2022-10-14T11:50:05.754Z"
   },
   {
    "duration": 53,
    "start_time": "2022-10-14T11:55:37.752Z"
   },
   {
    "duration": 70,
    "start_time": "2022-10-14T11:56:42.120Z"
   },
   {
    "duration": 6,
    "start_time": "2022-10-14T11:57:37.910Z"
   },
   {
    "duration": 79,
    "start_time": "2022-10-14T11:58:12.675Z"
   },
   {
    "duration": 69,
    "start_time": "2022-10-14T11:59:08.847Z"
   },
   {
    "duration": 5,
    "start_time": "2022-10-14T12:00:02.798Z"
   },
   {
    "duration": 900,
    "start_time": "2022-10-14T12:00:05.046Z"
   },
   {
    "duration": 432,
    "start_time": "2022-10-14T12:00:16.264Z"
   },
   {
    "duration": 587,
    "start_time": "2022-10-14T12:02:33.992Z"
   },
   {
    "duration": 8,
    "start_time": "2022-10-14T12:03:59.769Z"
   },
   {
    "duration": 709,
    "start_time": "2022-10-14T12:04:01.689Z"
   },
   {
    "duration": 534,
    "start_time": "2022-10-14T12:04:13.869Z"
   },
   {
    "duration": 6,
    "start_time": "2022-10-14T12:05:09.939Z"
   },
   {
    "duration": 857,
    "start_time": "2022-10-14T12:05:11.880Z"
   },
   {
    "duration": 652,
    "start_time": "2022-10-14T12:05:23.827Z"
   },
   {
    "duration": 1364,
    "start_time": "2022-10-14T12:06:38.348Z"
   },
   {
    "duration": 1237,
    "start_time": "2022-10-14T12:06:48.764Z"
   },
   {
    "duration": 1416,
    "start_time": "2022-10-14T12:06:55.846Z"
   },
   {
    "duration": 958,
    "start_time": "2022-10-14T12:07:04.330Z"
   },
   {
    "duration": 1263,
    "start_time": "2022-10-14T12:07:21.026Z"
   },
   {
    "duration": 969,
    "start_time": "2022-10-14T12:07:59.251Z"
   },
   {
    "duration": 811,
    "start_time": "2022-10-14T12:08:13.227Z"
   },
   {
    "duration": 1833,
    "start_time": "2022-10-14T12:08:25.831Z"
   },
   {
    "duration": 857,
    "start_time": "2022-10-14T12:09:38.877Z"
   },
   {
    "duration": 1215,
    "start_time": "2022-10-14T12:10:16.364Z"
   },
   {
    "duration": 1568,
    "start_time": "2022-10-14T12:10:22.757Z"
   },
   {
    "duration": 1417,
    "start_time": "2022-10-14T12:10:43.934Z"
   },
   {
    "duration": 371,
    "start_time": "2022-10-14T12:11:27.141Z"
   },
   {
    "duration": 6,
    "start_time": "2022-10-14T12:15:50.667Z"
   },
   {
    "duration": 1435,
    "start_time": "2022-10-14T12:15:54.266Z"
   },
   {
    "duration": 611,
    "start_time": "2022-10-14T12:16:28.774Z"
   },
   {
    "duration": 6,
    "start_time": "2022-10-14T12:17:05.066Z"
   },
   {
    "duration": 1251,
    "start_time": "2022-10-14T12:17:06.986Z"
   },
   {
    "duration": 1193,
    "start_time": "2022-10-14T12:17:16.283Z"
   },
   {
    "duration": 1254,
    "start_time": "2022-10-14T12:18:09.834Z"
   },
   {
    "duration": 6,
    "start_time": "2022-10-14T12:19:15.673Z"
   },
   {
    "duration": 641,
    "start_time": "2022-10-14T12:19:17.897Z"
   },
   {
    "duration": 5,
    "start_time": "2022-10-14T12:19:37.931Z"
   },
   {
    "duration": 614,
    "start_time": "2022-10-14T12:19:39.556Z"
   },
   {
    "duration": 638,
    "start_time": "2022-10-14T12:21:00.150Z"
   },
   {
    "duration": 503,
    "start_time": "2022-10-14T12:21:03.729Z"
   },
   {
    "duration": 712,
    "start_time": "2022-10-14T12:21:08.406Z"
   },
   {
    "duration": 6,
    "start_time": "2022-10-14T12:21:14.998Z"
   },
   {
    "duration": 6,
    "start_time": "2022-10-14T12:21:21.608Z"
   },
   {
    "duration": 630,
    "start_time": "2022-10-14T12:21:23.325Z"
   },
   {
    "duration": 59,
    "start_time": "2022-10-14T12:21:42.229Z"
   },
   {
    "duration": 622,
    "start_time": "2022-10-14T12:21:50.339Z"
   },
   {
    "duration": 774,
    "start_time": "2022-10-14T12:21:57.188Z"
   },
   {
    "duration": 65,
    "start_time": "2022-10-14T12:22:55.274Z"
   },
   {
    "duration": 644,
    "start_time": "2022-10-14T12:22:59.059Z"
   },
   {
    "duration": 7,
    "start_time": "2022-10-14T12:23:46.576Z"
   },
   {
    "duration": 1153,
    "start_time": "2022-10-14T12:23:52.489Z"
   },
   {
    "duration": 1371,
    "start_time": "2022-10-14T12:24:08.028Z"
   },
   {
    "duration": 1220,
    "start_time": "2022-10-14T12:26:40.668Z"
   },
   {
    "duration": 794,
    "start_time": "2022-10-14T12:29:02.469Z"
   },
   {
    "duration": 6,
    "start_time": "2022-10-14T12:29:10.222Z"
   },
   {
    "duration": 1193,
    "start_time": "2022-10-14T12:29:11.885Z"
   },
   {
    "duration": 1172,
    "start_time": "2022-10-14T12:29:18.357Z"
   },
   {
    "duration": 1327,
    "start_time": "2022-10-14T12:29:34.431Z"
   },
   {
    "duration": 11,
    "start_time": "2022-10-14T12:32:55.872Z"
   },
   {
    "duration": 13,
    "start_time": "2022-10-14T12:55:02.160Z"
   },
   {
    "duration": 1247,
    "start_time": "2022-10-14T12:55:09.808Z"
   },
   {
    "duration": 262,
    "start_time": "2022-10-14T12:55:44.843Z"
   },
   {
    "duration": 17,
    "start_time": "2022-10-14T13:00:18.752Z"
   },
   {
    "duration": 230,
    "start_time": "2022-10-14T13:00:26.731Z"
   },
   {
    "duration": 162,
    "start_time": "2022-10-14T13:00:53.989Z"
   },
   {
    "duration": 249,
    "start_time": "2022-10-14T13:00:58.430Z"
   },
   {
    "duration": 12,
    "start_time": "2022-10-14T13:02:26.273Z"
   },
   {
    "duration": 14,
    "start_time": "2022-10-14T13:02:49.683Z"
   },
   {
    "duration": 1430,
    "start_time": "2022-10-14T13:02:52.529Z"
   },
   {
    "duration": 10,
    "start_time": "2022-10-14T13:04:56.682Z"
   },
   {
    "duration": 233,
    "start_time": "2022-10-14T13:05:00.329Z"
   },
   {
    "duration": 959,
    "start_time": "2022-10-14T13:05:45.431Z"
   },
   {
    "duration": 1341,
    "start_time": "2022-10-14T13:06:06.824Z"
   },
   {
    "duration": 256,
    "start_time": "2022-10-14T13:06:17.923Z"
   },
   {
    "duration": 265,
    "start_time": "2022-10-14T13:06:26.396Z"
   },
   {
    "duration": 1242,
    "start_time": "2022-10-14T13:06:37.820Z"
   },
   {
    "duration": 1319,
    "start_time": "2022-10-14T13:06:48.182Z"
   },
   {
    "duration": 19,
    "start_time": "2022-10-14T13:08:40.731Z"
   },
   {
    "duration": 1186,
    "start_time": "2022-10-14T13:08:44.507Z"
   },
   {
    "duration": 1420,
    "start_time": "2022-10-14T13:08:56.031Z"
   },
   {
    "duration": 308,
    "start_time": "2022-10-14T13:09:00.901Z"
   },
   {
    "duration": 11,
    "start_time": "2022-10-14T13:10:54.476Z"
   },
   {
    "duration": 11,
    "start_time": "2022-10-14T13:12:59.109Z"
   },
   {
    "duration": 1272,
    "start_time": "2022-10-14T13:13:02.176Z"
   },
   {
    "duration": 426,
    "start_time": "2022-10-14T13:13:10.697Z"
   },
   {
    "duration": 11,
    "start_time": "2022-10-14T13:13:35.533Z"
   },
   {
    "duration": 301,
    "start_time": "2022-10-14T13:13:49.125Z"
   },
   {
    "duration": 10,
    "start_time": "2022-10-14T13:15:11.120Z"
   },
   {
    "duration": 1127,
    "start_time": "2022-10-14T13:15:14.279Z"
   },
   {
    "duration": 11,
    "start_time": "2022-10-14T13:15:30.733Z"
   },
   {
    "duration": 1300,
    "start_time": "2022-10-14T13:15:33.481Z"
   },
   {
    "duration": 842,
    "start_time": "2022-10-14T13:16:24.152Z"
   },
   {
    "duration": 781,
    "start_time": "2022-10-14T13:16:32.433Z"
   },
   {
    "duration": 12,
    "start_time": "2022-10-14T13:17:20.070Z"
   },
   {
    "duration": 900,
    "start_time": "2022-10-14T13:17:22.745Z"
   },
   {
    "duration": 11,
    "start_time": "2022-10-14T13:17:33.464Z"
   },
   {
    "duration": 809,
    "start_time": "2022-10-14T13:17:35.270Z"
   },
   {
    "duration": 11,
    "start_time": "2022-10-14T13:17:53.475Z"
   },
   {
    "duration": 12,
    "start_time": "2022-10-14T13:17:56.794Z"
   },
   {
    "duration": 849,
    "start_time": "2022-10-14T13:17:59.142Z"
   },
   {
    "duration": 297,
    "start_time": "2022-10-14T13:18:32.014Z"
   },
   {
    "duration": 11,
    "start_time": "2022-10-14T13:19:24.350Z"
   },
   {
    "duration": 944,
    "start_time": "2022-10-14T13:19:27.276Z"
   },
   {
    "duration": 12,
    "start_time": "2022-10-14T13:19:51.976Z"
   },
   {
    "duration": 816,
    "start_time": "2022-10-14T13:19:54.463Z"
   },
   {
    "duration": 283,
    "start_time": "2022-10-14T13:20:01.289Z"
   },
   {
    "duration": 11,
    "start_time": "2022-10-14T13:20:39.834Z"
   },
   {
    "duration": 800,
    "start_time": "2022-10-14T13:20:42.540Z"
   },
   {
    "duration": 275,
    "start_time": "2022-10-14T13:20:53.550Z"
   },
   {
    "duration": 127,
    "start_time": "2022-10-14T13:25:09.941Z"
   },
   {
    "duration": 272,
    "start_time": "2022-10-14T13:25:14.563Z"
   },
   {
    "duration": 12,
    "start_time": "2022-10-14T13:28:30.451Z"
   },
   {
    "duration": 274,
    "start_time": "2022-10-14T13:28:35.346Z"
   },
   {
    "duration": 12,
    "start_time": "2022-10-14T13:28:49.212Z"
   },
   {
    "duration": 279,
    "start_time": "2022-10-14T13:28:52.444Z"
   },
   {
    "duration": 12,
    "start_time": "2022-10-14T13:29:14.064Z"
   },
   {
    "duration": 307,
    "start_time": "2022-10-14T13:29:17.637Z"
   },
   {
    "duration": 11,
    "start_time": "2022-10-14T13:35:24.816Z"
   },
   {
    "duration": 12,
    "start_time": "2022-10-14T13:35:28.338Z"
   },
   {
    "duration": 267,
    "start_time": "2022-10-14T13:35:33.066Z"
   },
   {
    "duration": 18,
    "start_time": "2022-10-14T13:35:55.654Z"
   },
   {
    "duration": 274,
    "start_time": "2022-10-14T13:35:58.877Z"
   },
   {
    "duration": 127,
    "start_time": "2022-10-14T13:37:21.959Z"
   },
   {
    "duration": 294,
    "start_time": "2022-10-14T13:37:25.350Z"
   },
   {
    "duration": 11,
    "start_time": "2022-10-14T13:37:54.335Z"
   },
   {
    "duration": 301,
    "start_time": "2022-10-14T13:37:59.632Z"
   },
   {
    "duration": 12,
    "start_time": "2022-10-14T13:38:34.455Z"
   },
   {
    "duration": 289,
    "start_time": "2022-10-14T13:38:37.870Z"
   },
   {
    "duration": 246,
    "start_time": "2022-10-14T13:39:04.178Z"
   },
   {
    "duration": 241,
    "start_time": "2022-10-14T13:39:14.347Z"
   },
   {
    "duration": 11,
    "start_time": "2022-10-14T13:39:54.145Z"
   },
   {
    "duration": 891,
    "start_time": "2022-10-14T13:39:56.648Z"
   },
   {
    "duration": 11,
    "start_time": "2022-10-14T13:40:16.956Z"
   },
   {
    "duration": 782,
    "start_time": "2022-10-14T13:40:19.731Z"
   },
   {
    "duration": 11,
    "start_time": "2022-10-14T14:26:13.340Z"
   },
   {
    "duration": 11,
    "start_time": "2022-10-14T14:27:23.948Z"
   },
   {
    "duration": 401,
    "start_time": "2022-10-14T14:27:26.148Z"
   },
   {
    "duration": 11,
    "start_time": "2022-10-14T14:27:39.647Z"
   },
   {
    "duration": 744,
    "start_time": "2022-10-14T14:27:42.718Z"
   },
   {
    "duration": 12,
    "start_time": "2022-10-14T14:28:11.418Z"
   },
   {
    "duration": 908,
    "start_time": "2022-10-14T14:28:14.395Z"
   },
   {
    "duration": 640,
    "start_time": "2022-10-14T14:29:44.606Z"
   },
   {
    "duration": 690,
    "start_time": "2022-10-14T14:30:00.239Z"
   },
   {
    "duration": 1597,
    "start_time": "2022-10-14T14:31:27.801Z"
   },
   {
    "duration": 44,
    "start_time": "2022-10-14T14:31:29.400Z"
   },
   {
    "duration": 13,
    "start_time": "2022-10-14T14:31:29.446Z"
   },
   {
    "duration": 55,
    "start_time": "2022-10-14T14:31:29.462Z"
   },
   {
    "duration": 19,
    "start_time": "2022-10-14T14:31:29.519Z"
   },
   {
    "duration": 6,
    "start_time": "2022-10-14T14:31:29.540Z"
   },
   {
    "duration": 7,
    "start_time": "2022-10-14T14:31:29.548Z"
   },
   {
    "duration": 15,
    "start_time": "2022-10-14T14:31:29.557Z"
   },
   {
    "duration": 9,
    "start_time": "2022-10-14T14:31:29.574Z"
   },
   {
    "duration": 160,
    "start_time": "2022-10-14T14:31:29.585Z"
   },
   {
    "duration": 6,
    "start_time": "2022-10-14T14:31:29.748Z"
   },
   {
    "duration": 11,
    "start_time": "2022-10-14T14:31:29.756Z"
   },
   {
    "duration": 14,
    "start_time": "2022-10-14T14:31:29.769Z"
   },
   {
    "duration": 9,
    "start_time": "2022-10-14T14:31:29.785Z"
   },
   {
    "duration": 119,
    "start_time": "2022-10-14T14:31:48.144Z"
   },
   {
    "duration": 13,
    "start_time": "2022-10-14T14:32:09.571Z"
   },
   {
    "duration": 13,
    "start_time": "2022-10-14T14:32:09.714Z"
   },
   {
    "duration": 9,
    "start_time": "2022-10-14T14:32:13.827Z"
   },
   {
    "duration": 7,
    "start_time": "2022-10-14T14:38:03.050Z"
   },
   {
    "duration": 803,
    "start_time": "2022-10-14T14:38:11.515Z"
   },
   {
    "duration": 11,
    "start_time": "2022-10-14T14:51:17.629Z"
   },
   {
    "duration": 787,
    "start_time": "2022-10-14T14:52:08.948Z"
   },
   {
    "duration": 287,
    "start_time": "2022-10-14T14:55:36.723Z"
   },
   {
    "duration": 1037,
    "start_time": "2022-10-14T14:56:36.065Z"
   },
   {
    "duration": 11,
    "start_time": "2022-10-14T14:57:08.582Z"
   },
   {
    "duration": 948,
    "start_time": "2022-10-14T14:57:12.405Z"
   },
   {
    "duration": 18,
    "start_time": "2022-10-14T14:58:21.774Z"
   },
   {
    "duration": 987,
    "start_time": "2022-10-14T14:58:24.950Z"
   },
   {
    "duration": 147,
    "start_time": "2022-10-14T15:00:32.825Z"
   },
   {
    "duration": 1077,
    "start_time": "2022-10-14T15:01:26.339Z"
   },
   {
    "duration": 11,
    "start_time": "2022-10-14T15:01:43.406Z"
   },
   {
    "duration": 1035,
    "start_time": "2022-10-14T15:01:47.516Z"
   },
   {
    "duration": 10,
    "start_time": "2022-10-14T15:02:23.900Z"
   },
   {
    "duration": 1097,
    "start_time": "2022-10-14T15:02:28.380Z"
   },
   {
    "duration": 11,
    "start_time": "2022-10-14T15:05:00.134Z"
   },
   {
    "duration": 12,
    "start_time": "2022-10-14T15:05:02.667Z"
   },
   {
    "duration": 1021,
    "start_time": "2022-10-14T15:05:06.131Z"
   },
   {
    "duration": 12,
    "start_time": "2022-10-14T15:06:07.851Z"
   },
   {
    "duration": 1125,
    "start_time": "2022-10-14T15:06:17.547Z"
   },
   {
    "duration": 934,
    "start_time": "2022-10-14T15:07:47.071Z"
   },
   {
    "duration": 1070,
    "start_time": "2022-10-14T15:08:18.001Z"
   },
   {
    "duration": 253,
    "start_time": "2022-10-14T15:10:31.488Z"
   },
   {
    "duration": 648,
    "start_time": "2022-10-14T15:11:21.247Z"
   },
   {
    "duration": 789,
    "start_time": "2022-10-14T15:11:42.417Z"
   },
   {
    "duration": 7,
    "start_time": "2022-10-14T15:12:39.536Z"
   },
   {
    "duration": 3,
    "start_time": "2022-10-14T15:12:44.679Z"
   },
   {
    "duration": 8,
    "start_time": "2022-10-14T15:13:33.566Z"
   },
   {
    "duration": 92,
    "start_time": "2022-10-14T15:14:15.498Z"
   },
   {
    "duration": 243,
    "start_time": "2022-10-14T15:14:23.971Z"
   },
   {
    "duration": 346,
    "start_time": "2022-10-14T15:16:22.394Z"
   },
   {
    "duration": 204,
    "start_time": "2022-10-14T15:16:40.578Z"
   },
   {
    "duration": 274,
    "start_time": "2022-10-14T15:16:56.012Z"
   },
   {
    "duration": 159,
    "start_time": "2022-10-14T15:17:10.638Z"
   },
   {
    "duration": 6,
    "start_time": "2022-10-14T15:25:30.879Z"
   },
   {
    "duration": 301,
    "start_time": "2022-10-14T15:25:38.760Z"
   },
   {
    "duration": 133,
    "start_time": "2022-10-14T15:26:28.669Z"
   },
   {
    "duration": 137,
    "start_time": "2022-10-14T15:28:05.193Z"
   },
   {
    "duration": 1466,
    "start_time": "2022-10-14T15:31:59.632Z"
   },
   {
    "duration": 45,
    "start_time": "2022-10-14T15:32:01.100Z"
   },
   {
    "duration": 13,
    "start_time": "2022-10-14T15:32:01.147Z"
   },
   {
    "duration": 66,
    "start_time": "2022-10-14T15:32:01.161Z"
   },
   {
    "duration": 5,
    "start_time": "2022-10-14T15:32:01.231Z"
   },
   {
    "duration": 43,
    "start_time": "2022-10-14T15:32:01.238Z"
   },
   {
    "duration": 19,
    "start_time": "2022-10-14T15:32:01.283Z"
   },
   {
    "duration": 9,
    "start_time": "2022-10-14T15:32:01.304Z"
   },
   {
    "duration": 22,
    "start_time": "2022-10-14T15:32:01.315Z"
   },
   {
    "duration": 30,
    "start_time": "2022-10-14T15:32:01.339Z"
   },
   {
    "duration": 151,
    "start_time": "2022-10-14T15:32:01.371Z"
   },
   {
    "duration": 12,
    "start_time": "2022-10-14T15:32:01.524Z"
   },
   {
    "duration": 21,
    "start_time": "2022-10-14T15:32:01.538Z"
   },
   {
    "duration": 16,
    "start_time": "2022-10-14T15:32:01.561Z"
   },
   {
    "duration": 18,
    "start_time": "2022-10-14T15:32:01.578Z"
   },
   {
    "duration": 120,
    "start_time": "2022-10-14T15:32:01.598Z"
   },
   {
    "duration": 18,
    "start_time": "2022-10-14T15:32:01.720Z"
   },
   {
    "duration": 15,
    "start_time": "2022-10-14T15:32:01.739Z"
   },
   {
    "duration": 7,
    "start_time": "2022-10-14T15:32:01.756Z"
   },
   {
    "duration": 803,
    "start_time": "2022-10-14T15:32:01.765Z"
   },
   {
    "duration": 999,
    "start_time": "2022-10-14T15:32:02.570Z"
   },
   {
    "duration": 1041,
    "start_time": "2022-10-14T15:32:03.571Z"
   },
   {
    "duration": 673,
    "start_time": "2022-10-14T15:32:04.614Z"
   },
   {
    "duration": 4,
    "start_time": "2022-10-14T15:32:05.289Z"
   },
   {
    "duration": 1421,
    "start_time": "2022-10-14T15:32:59.055Z"
   },
   {
    "duration": 43,
    "start_time": "2022-10-14T15:33:00.478Z"
   },
   {
    "duration": 13,
    "start_time": "2022-10-14T15:33:00.522Z"
   },
   {
    "duration": 72,
    "start_time": "2022-10-14T15:33:00.537Z"
   },
   {
    "duration": 6,
    "start_time": "2022-10-14T15:33:00.610Z"
   },
   {
    "duration": 28,
    "start_time": "2022-10-14T15:33:00.617Z"
   },
   {
    "duration": 37,
    "start_time": "2022-10-14T15:33:00.647Z"
   },
   {
    "duration": 43,
    "start_time": "2022-10-14T15:33:00.685Z"
   },
   {
    "duration": 45,
    "start_time": "2022-10-14T15:33:00.730Z"
   },
   {
    "duration": 29,
    "start_time": "2022-10-14T15:33:00.778Z"
   },
   {
    "duration": 159,
    "start_time": "2022-10-14T15:33:00.809Z"
   },
   {
    "duration": 6,
    "start_time": "2022-10-14T15:33:00.969Z"
   },
   {
    "duration": 17,
    "start_time": "2022-10-14T15:33:00.976Z"
   },
   {
    "duration": 31,
    "start_time": "2022-10-14T15:33:00.995Z"
   },
   {
    "duration": 27,
    "start_time": "2022-10-14T15:33:01.028Z"
   },
   {
    "duration": 142,
    "start_time": "2022-10-14T15:33:01.057Z"
   },
   {
    "duration": 13,
    "start_time": "2022-10-14T15:33:01.200Z"
   },
   {
    "duration": 31,
    "start_time": "2022-10-14T15:33:01.215Z"
   },
   {
    "duration": 14,
    "start_time": "2022-10-14T15:33:01.248Z"
   },
   {
    "duration": 772,
    "start_time": "2022-10-14T15:33:01.264Z"
   },
   {
    "duration": 995,
    "start_time": "2022-10-14T15:33:02.038Z"
   },
   {
    "duration": 1020,
    "start_time": "2022-10-14T15:33:03.035Z"
   },
   {
    "duration": 669,
    "start_time": "2022-10-14T15:33:04.057Z"
   },
   {
    "duration": 10,
    "start_time": "2022-10-14T15:33:04.728Z"
   },
   {
    "duration": 7,
    "start_time": "2022-10-14T15:33:04.740Z"
   },
   {
    "duration": 9,
    "start_time": "2022-10-14T15:33:10.214Z"
   },
   {
    "duration": 117,
    "start_time": "2022-10-14T15:33:16.217Z"
   },
   {
    "duration": 166,
    "start_time": "2022-10-14T15:33:23.319Z"
   },
   {
    "duration": 225,
    "start_time": "2022-10-14T15:33:26.439Z"
   },
   {
    "duration": 7,
    "start_time": "2022-10-14T15:33:30.640Z"
   },
   {
    "duration": 225,
    "start_time": "2022-10-14T15:33:31.521Z"
   },
   {
    "duration": 8,
    "start_time": "2022-10-14T15:34:54.643Z"
   },
   {
    "duration": 9,
    "start_time": "2022-10-14T15:35:07.011Z"
   },
   {
    "duration": 8,
    "start_time": "2022-10-14T15:35:11.884Z"
   },
   {
    "duration": 9,
    "start_time": "2022-10-14T15:35:27.806Z"
   },
   {
    "duration": 1098,
    "start_time": "2022-10-14T15:35:42.336Z"
   },
   {
    "duration": 752,
    "start_time": "2022-10-14T15:36:41.319Z"
   },
   {
    "duration": 7,
    "start_time": "2022-10-14T15:36:58.385Z"
   },
   {
    "duration": 1302,
    "start_time": "2022-10-14T15:37:10.287Z"
   },
   {
    "duration": 45,
    "start_time": "2022-10-14T15:37:11.591Z"
   },
   {
    "duration": 15,
    "start_time": "2022-10-14T15:37:11.638Z"
   },
   {
    "duration": 54,
    "start_time": "2022-10-14T15:37:11.656Z"
   },
   {
    "duration": 25,
    "start_time": "2022-10-14T15:37:11.712Z"
   },
   {
    "duration": 14,
    "start_time": "2022-10-14T15:37:11.739Z"
   },
   {
    "duration": 19,
    "start_time": "2022-10-14T15:37:11.755Z"
   },
   {
    "duration": 23,
    "start_time": "2022-10-14T15:37:11.776Z"
   },
   {
    "duration": 17,
    "start_time": "2022-10-14T15:37:11.800Z"
   },
   {
    "duration": 14,
    "start_time": "2022-10-14T15:37:11.820Z"
   },
   {
    "duration": 132,
    "start_time": "2022-10-14T15:37:11.836Z"
   },
   {
    "duration": 6,
    "start_time": "2022-10-14T15:37:11.969Z"
   },
   {
    "duration": 17,
    "start_time": "2022-10-14T15:37:11.977Z"
   },
   {
    "duration": 11,
    "start_time": "2022-10-14T15:37:11.996Z"
   },
   {
    "duration": 10,
    "start_time": "2022-10-14T15:37:12.009Z"
   },
   {
    "duration": 115,
    "start_time": "2022-10-14T15:37:12.021Z"
   },
   {
    "duration": 12,
    "start_time": "2022-10-14T15:37:12.138Z"
   },
   {
    "duration": 28,
    "start_time": "2022-10-14T15:37:12.152Z"
   },
   {
    "duration": 12,
    "start_time": "2022-10-14T15:37:12.182Z"
   },
   {
    "duration": 764,
    "start_time": "2022-10-14T15:37:12.196Z"
   },
   {
    "duration": 999,
    "start_time": "2022-10-14T15:37:12.962Z"
   },
   {
    "duration": 1001,
    "start_time": "2022-10-14T15:37:13.963Z"
   },
   {
    "duration": 679,
    "start_time": "2022-10-14T15:37:14.966Z"
   },
   {
    "duration": 6,
    "start_time": "2022-10-14T15:37:15.647Z"
   },
   {
    "duration": 9,
    "start_time": "2022-10-14T15:37:15.655Z"
   },
   {
    "duration": 12,
    "start_time": "2022-10-14T15:37:15.665Z"
   },
   {
    "duration": 107,
    "start_time": "2022-10-14T15:37:15.679Z"
   },
   {
    "duration": 179,
    "start_time": "2022-10-14T15:37:15.789Z"
   },
   {
    "duration": 244,
    "start_time": "2022-10-14T15:37:15.969Z"
   },
   {
    "duration": 6,
    "start_time": "2022-10-14T15:37:16.215Z"
   },
   {
    "duration": 233,
    "start_time": "2022-10-14T15:37:21.131Z"
   },
   {
    "duration": 235,
    "start_time": "2022-10-14T15:37:34.677Z"
   },
   {
    "duration": 129,
    "start_time": "2022-10-14T15:37:46.799Z"
   },
   {
    "duration": 162,
    "start_time": "2022-10-14T15:39:50.564Z"
   },
   {
    "duration": 130,
    "start_time": "2022-10-14T15:40:10.783Z"
   },
   {
    "duration": 137,
    "start_time": "2022-10-14T15:40:20.151Z"
   },
   {
    "duration": 150,
    "start_time": "2022-10-14T15:40:27.449Z"
   },
   {
    "duration": 183,
    "start_time": "2022-10-14T15:40:36.345Z"
   },
   {
    "duration": 147,
    "start_time": "2022-10-14T15:41:14.807Z"
   },
   {
    "duration": 142,
    "start_time": "2022-10-14T15:41:38.866Z"
   },
   {
    "duration": 136,
    "start_time": "2022-10-14T15:41:57.122Z"
   },
   {
    "duration": 134,
    "start_time": "2022-10-14T15:42:08.396Z"
   },
   {
    "duration": 134,
    "start_time": "2022-10-14T15:43:04.226Z"
   },
   {
    "duration": 131,
    "start_time": "2022-10-14T15:43:42.320Z"
   },
   {
    "duration": 144,
    "start_time": "2022-10-14T15:45:16.450Z"
   },
   {
    "duration": 5,
    "start_time": "2022-10-14T15:45:20.953Z"
   },
   {
    "duration": 212,
    "start_time": "2022-10-14T15:45:25.721Z"
   },
   {
    "duration": 58,
    "start_time": "2022-10-14T15:45:40.908Z"
   },
   {
    "duration": 70,
    "start_time": "2022-10-14T15:46:06.184Z"
   },
   {
    "duration": 136,
    "start_time": "2022-10-14T15:47:28.522Z"
   },
   {
    "duration": 113,
    "start_time": "2022-10-14T15:48:33.041Z"
   },
   {
    "duration": 5,
    "start_time": "2022-10-14T15:50:21.521Z"
   },
   {
    "duration": 137,
    "start_time": "2022-10-14T15:50:43.607Z"
   },
   {
    "duration": 132,
    "start_time": "2022-10-14T15:50:56.671Z"
   },
   {
    "duration": 4,
    "start_time": "2022-10-14T15:53:23.537Z"
   },
   {
    "duration": 137,
    "start_time": "2022-10-14T15:56:07.269Z"
   },
   {
    "duration": 150,
    "start_time": "2022-10-14T15:56:41.192Z"
   },
   {
    "duration": 148,
    "start_time": "2022-10-14T15:57:15.083Z"
   },
   {
    "duration": 31,
    "start_time": "2022-10-14T15:58:21.772Z"
   },
   {
    "duration": 247,
    "start_time": "2022-10-14T15:58:46.894Z"
   },
   {
    "duration": 390,
    "start_time": "2022-10-14T15:58:52.790Z"
   },
   {
    "duration": 282,
    "start_time": "2022-10-14T15:58:59.319Z"
   },
   {
    "duration": 334,
    "start_time": "2022-10-14T15:59:46.853Z"
   },
   {
    "duration": 343,
    "start_time": "2022-10-14T16:00:22.609Z"
   },
   {
    "duration": 267,
    "start_time": "2022-10-14T16:01:32.593Z"
   },
   {
    "duration": 330,
    "start_time": "2022-10-14T16:03:31.742Z"
   },
   {
    "duration": 432,
    "start_time": "2022-10-14T16:03:39.559Z"
   },
   {
    "duration": 355,
    "start_time": "2022-10-14T16:03:48.848Z"
   },
   {
    "duration": 7,
    "start_time": "2022-10-14T16:05:21.578Z"
   },
   {
    "duration": 6,
    "start_time": "2022-10-14T16:05:43.028Z"
   },
   {
    "duration": 6,
    "start_time": "2022-10-14T16:07:00.182Z"
   },
   {
    "duration": 5,
    "start_time": "2022-10-14T16:07:11.711Z"
   },
   {
    "duration": 409,
    "start_time": "2022-10-14T16:07:18.472Z"
   },
   {
    "duration": 266,
    "start_time": "2022-10-14T16:10:00.931Z"
   },
   {
    "duration": 323,
    "start_time": "2022-10-14T16:10:10.996Z"
   },
   {
    "duration": 396,
    "start_time": "2022-10-14T16:10:38.558Z"
   },
   {
    "duration": 283,
    "start_time": "2022-10-14T16:12:06.873Z"
   },
   {
    "duration": 288,
    "start_time": "2022-10-14T16:12:19.938Z"
   },
   {
    "duration": 346,
    "start_time": "2022-10-14T16:12:41.261Z"
   },
   {
    "duration": 324,
    "start_time": "2022-10-14T16:13:01.511Z"
   },
   {
    "duration": 344,
    "start_time": "2022-10-14T16:13:58.502Z"
   },
   {
    "duration": 424,
    "start_time": "2022-10-14T16:14:06.478Z"
   },
   {
    "duration": 381,
    "start_time": "2022-10-14T16:15:42.577Z"
   },
   {
    "duration": 16,
    "start_time": "2022-10-14T16:23:33.151Z"
   },
   {
    "duration": 17,
    "start_time": "2022-10-14T16:24:23.989Z"
   },
   {
    "duration": 253,
    "start_time": "2022-10-14T16:25:35.981Z"
   },
   {
    "duration": 15,
    "start_time": "2022-10-14T16:26:05.209Z"
   },
   {
    "duration": 288,
    "start_time": "2022-10-14T16:26:09.664Z"
   },
   {
    "duration": 17,
    "start_time": "2022-10-14T16:27:16.394Z"
   },
   {
    "duration": 257,
    "start_time": "2022-10-14T16:27:23.250Z"
   },
   {
    "duration": 18,
    "start_time": "2022-10-14T16:28:27.993Z"
   },
   {
    "duration": 251,
    "start_time": "2022-10-14T16:28:32.857Z"
   },
   {
    "duration": 23,
    "start_time": "2022-10-14T16:29:26.154Z"
   },
   {
    "duration": 407,
    "start_time": "2022-10-14T16:29:30.440Z"
   },
   {
    "duration": 106,
    "start_time": "2022-10-14T16:31:38.959Z"
   },
   {
    "duration": 382,
    "start_time": "2022-10-14T16:31:44.359Z"
   },
   {
    "duration": 19,
    "start_time": "2022-10-14T16:32:26.381Z"
   },
   {
    "duration": 447,
    "start_time": "2022-10-14T16:32:35.988Z"
   },
   {
    "duration": 286,
    "start_time": "2022-10-14T16:33:22.578Z"
   },
   {
    "duration": 7,
    "start_time": "2022-10-14T16:34:17.289Z"
   },
   {
    "duration": 318,
    "start_time": "2022-10-14T16:34:32.602Z"
   },
   {
    "duration": 95,
    "start_time": "2022-10-14T16:35:00.582Z"
   },
   {
    "duration": 1193,
    "start_time": "2022-10-14T16:35:14.950Z"
   },
   {
    "duration": 15,
    "start_time": "2022-10-14T16:36:51.962Z"
   },
   {
    "duration": 1431,
    "start_time": "2022-10-14T16:36:57.451Z"
   },
   {
    "duration": 17,
    "start_time": "2022-10-14T16:42:51.132Z"
   },
   {
    "duration": 296,
    "start_time": "2022-10-14T16:42:55.235Z"
   },
   {
    "duration": 388,
    "start_time": "2022-10-14T16:42:57.771Z"
   },
   {
    "duration": 498,
    "start_time": "2022-10-14T16:43:00.796Z"
   },
   {
    "duration": 299,
    "start_time": "2022-10-14T16:43:49.841Z"
   },
   {
    "duration": 7,
    "start_time": "2022-10-14T16:45:15.036Z"
   },
   {
    "duration": 273,
    "start_time": "2022-10-14T16:45:19.364Z"
   },
   {
    "duration": 129,
    "start_time": "2022-10-14T16:45:24.683Z"
   },
   {
    "duration": 27,
    "start_time": "2022-10-14T16:46:47.053Z"
   },
   {
    "duration": 99,
    "start_time": "2022-10-14T16:46:50.653Z"
   },
   {
    "duration": 112,
    "start_time": "2022-10-14T16:46:57.246Z"
   },
   {
    "duration": 43,
    "start_time": "2022-10-15T16:03:40.190Z"
   },
   {
    "duration": 6,
    "start_time": "2022-10-15T16:03:52.349Z"
   },
   {
    "duration": 7,
    "start_time": "2022-10-15T16:04:04.657Z"
   },
   {
    "duration": 11,
    "start_time": "2022-10-15T16:08:48.463Z"
   },
   {
    "duration": 1525,
    "start_time": "2022-10-15T16:09:03.588Z"
   },
   {
    "duration": 180,
    "start_time": "2022-10-15T16:09:05.115Z"
   },
   {
    "duration": 12,
    "start_time": "2022-10-15T16:09:05.297Z"
   },
   {
    "duration": 49,
    "start_time": "2022-10-15T16:09:05.311Z"
   },
   {
    "duration": 23,
    "start_time": "2022-10-15T16:09:05.362Z"
   },
   {
    "duration": 15,
    "start_time": "2022-10-15T16:09:05.387Z"
   },
   {
    "duration": 18,
    "start_time": "2022-10-15T16:09:05.404Z"
   },
   {
    "duration": 8,
    "start_time": "2022-10-15T16:09:05.424Z"
   },
   {
    "duration": 11,
    "start_time": "2022-10-15T16:09:05.434Z"
   },
   {
    "duration": 10,
    "start_time": "2022-10-15T16:09:05.448Z"
   },
   {
    "duration": 135,
    "start_time": "2022-10-15T16:09:05.460Z"
   },
   {
    "duration": 5,
    "start_time": "2022-10-15T16:09:05.597Z"
   },
   {
    "duration": 8,
    "start_time": "2022-10-15T16:09:05.605Z"
   },
   {
    "duration": 9,
    "start_time": "2022-10-15T16:09:05.615Z"
   },
   {
    "duration": 5,
    "start_time": "2022-10-15T16:09:05.626Z"
   },
   {
    "duration": 129,
    "start_time": "2022-10-15T16:09:05.632Z"
   },
   {
    "duration": 12,
    "start_time": "2022-10-15T16:09:05.763Z"
   },
   {
    "duration": 13,
    "start_time": "2022-10-15T16:09:05.784Z"
   },
   {
    "duration": 6,
    "start_time": "2022-10-15T16:09:11.774Z"
   },
   {
    "duration": 697,
    "start_time": "2022-10-15T16:09:13.062Z"
   },
   {
    "duration": 666,
    "start_time": "2022-10-15T16:09:56.284Z"
   },
   {
    "duration": 651,
    "start_time": "2022-10-15T16:10:14.990Z"
   },
   {
    "duration": 1133,
    "start_time": "2022-10-15T16:22:06.534Z"
   },
   {
    "duration": 904,
    "start_time": "2022-10-15T16:22:25.826Z"
   },
   {
    "duration": 6,
    "start_time": "2022-10-15T16:23:44.896Z"
   },
   {
    "duration": 3,
    "start_time": "2022-10-15T16:23:47.315Z"
   },
   {
    "duration": 14,
    "start_time": "2022-10-15T16:24:35.520Z"
   },
   {
    "duration": 89,
    "start_time": "2022-10-15T16:25:32.996Z"
   },
   {
    "duration": 391,
    "start_time": "2022-10-15T16:25:41.966Z"
   },
   {
    "duration": 239,
    "start_time": "2022-10-15T16:26:54.940Z"
   },
   {
    "duration": 106,
    "start_time": "2022-10-15T16:27:19.041Z"
   },
   {
    "duration": 150,
    "start_time": "2022-10-15T16:27:26.512Z"
   },
   {
    "duration": 90,
    "start_time": "2022-10-15T16:27:32.834Z"
   },
   {
    "duration": 85,
    "start_time": "2022-10-15T16:27:50.292Z"
   },
   {
    "duration": 111,
    "start_time": "2022-10-15T16:28:09.975Z"
   },
   {
    "duration": 99,
    "start_time": "2022-10-15T16:28:14.120Z"
   },
   {
    "duration": 413,
    "start_time": "2022-10-15T16:28:38.666Z"
   },
   {
    "duration": 356,
    "start_time": "2022-10-15T16:28:53.305Z"
   },
   {
    "duration": 731,
    "start_time": "2022-10-15T16:29:06.581Z"
   },
   {
    "duration": 495,
    "start_time": "2022-10-15T16:29:10.845Z"
   },
   {
    "duration": 298,
    "start_time": "2022-10-15T16:29:27.463Z"
   },
   {
    "duration": 254,
    "start_time": "2022-10-15T16:29:36.505Z"
   },
   {
    "duration": 250,
    "start_time": "2022-10-15T16:29:41.659Z"
   },
   {
    "duration": 244,
    "start_time": "2022-10-15T16:29:46.529Z"
   },
   {
    "duration": 254,
    "start_time": "2022-10-15T16:29:58.051Z"
   },
   {
    "duration": 245,
    "start_time": "2022-10-15T16:30:13.429Z"
   },
   {
    "duration": 250,
    "start_time": "2022-10-15T16:30:23.237Z"
   },
   {
    "duration": 455,
    "start_time": "2022-10-15T16:31:06.427Z"
   },
   {
    "duration": 430,
    "start_time": "2022-10-15T16:31:16.948Z"
   },
   {
    "duration": 9,
    "start_time": "2022-10-15T16:53:14.602Z"
   },
   {
    "duration": 6,
    "start_time": "2022-10-15T16:53:34.598Z"
   },
   {
    "duration": 15,
    "start_time": "2022-10-15T17:50:47.694Z"
   },
   {
    "duration": 169,
    "start_time": "2022-10-15T17:51:19.639Z"
   },
   {
    "duration": 16,
    "start_time": "2022-10-15T17:53:27.670Z"
   },
   {
    "duration": 241,
    "start_time": "2022-10-15T17:53:39.334Z"
   },
   {
    "duration": 335,
    "start_time": "2022-10-15T17:54:26.659Z"
   },
   {
    "duration": 11,
    "start_time": "2022-10-15T17:56:35.218Z"
   },
   {
    "duration": 10,
    "start_time": "2022-10-15T17:56:46.476Z"
   },
   {
    "duration": 7,
    "start_time": "2022-10-15T17:57:11.438Z"
   },
   {
    "duration": 7,
    "start_time": "2022-10-15T17:57:40.705Z"
   },
   {
    "duration": 541,
    "start_time": "2022-10-15T17:58:56.499Z"
   },
   {
    "duration": 16,
    "start_time": "2022-10-15T17:59:51.969Z"
   },
   {
    "duration": 288,
    "start_time": "2022-10-15T17:59:56.897Z"
   },
   {
    "duration": 233,
    "start_time": "2022-10-15T18:00:07.346Z"
   },
   {
    "duration": 16,
    "start_time": "2022-10-15T18:00:51.822Z"
   },
   {
    "duration": 248,
    "start_time": "2022-10-15T18:00:55.567Z"
   },
   {
    "duration": 17,
    "start_time": "2022-10-15T18:01:11.474Z"
   },
   {
    "duration": 225,
    "start_time": "2022-10-15T18:01:14.778Z"
   },
   {
    "duration": 16,
    "start_time": "2022-10-15T18:01:32.637Z"
   },
   {
    "duration": 335,
    "start_time": "2022-10-15T18:01:35.988Z"
   },
   {
    "duration": 15,
    "start_time": "2022-10-15T18:02:19.531Z"
   },
   {
    "duration": 429,
    "start_time": "2022-10-15T18:02:24.970Z"
   },
   {
    "duration": 17,
    "start_time": "2022-10-15T18:02:40.596Z"
   },
   {
    "duration": 337,
    "start_time": "2022-10-15T18:02:44.461Z"
   },
   {
    "duration": 16,
    "start_time": "2022-10-15T18:03:29.786Z"
   },
   {
    "duration": 385,
    "start_time": "2022-10-15T18:03:33.706Z"
   },
   {
    "duration": 15,
    "start_time": "2022-10-15T18:05:48.402Z"
   },
   {
    "duration": 220,
    "start_time": "2022-10-15T18:05:52.753Z"
   },
   {
    "duration": 17,
    "start_time": "2022-10-15T18:06:58.778Z"
   },
   {
    "duration": 334,
    "start_time": "2022-10-15T18:07:04.321Z"
   },
   {
    "duration": 15,
    "start_time": "2022-10-15T18:07:13.635Z"
   },
   {
    "duration": 16,
    "start_time": "2022-10-15T18:07:22.484Z"
   },
   {
    "duration": 234,
    "start_time": "2022-10-15T18:07:28.588Z"
   },
   {
    "duration": 4,
    "start_time": "2022-10-15T18:07:48.031Z"
   },
   {
    "duration": 4,
    "start_time": "2022-10-15T18:07:52.775Z"
   },
   {
    "duration": 4,
    "start_time": "2022-10-15T18:08:03.810Z"
   },
   {
    "duration": 4,
    "start_time": "2022-10-15T18:08:22.228Z"
   },
   {
    "duration": 4,
    "start_time": "2022-10-15T18:08:26.355Z"
   },
   {
    "duration": 3,
    "start_time": "2022-10-15T18:09:05.615Z"
   },
   {
    "duration": 3,
    "start_time": "2022-10-15T18:09:11.985Z"
   },
   {
    "duration": 3,
    "start_time": "2022-10-15T18:10:16.304Z"
   },
   {
    "duration": 16,
    "start_time": "2022-10-15T18:10:46.692Z"
   },
   {
    "duration": 428,
    "start_time": "2022-10-15T18:10:50.460Z"
   },
   {
    "duration": 427,
    "start_time": "2022-10-15T18:10:53.923Z"
   },
   {
    "duration": 19,
    "start_time": "2022-10-15T18:14:18.991Z"
   },
   {
    "duration": 429,
    "start_time": "2022-10-15T18:14:23.395Z"
   },
   {
    "duration": 15,
    "start_time": "2022-10-15T18:16:15.290Z"
   },
   {
    "duration": 15,
    "start_time": "2022-10-15T18:16:16.649Z"
   },
   {
    "duration": 343,
    "start_time": "2022-10-15T18:16:20.729Z"
   },
   {
    "duration": 15,
    "start_time": "2022-10-15T18:17:24.570Z"
   },
   {
    "duration": 362,
    "start_time": "2022-10-15T18:17:30.073Z"
   },
   {
    "duration": 15,
    "start_time": "2022-10-15T18:18:15.191Z"
   },
   {
    "duration": 447,
    "start_time": "2022-10-15T18:18:19.294Z"
   },
   {
    "duration": 14,
    "start_time": "2022-10-15T18:21:06.195Z"
   },
   {
    "duration": 333,
    "start_time": "2022-10-15T18:21:10.290Z"
   },
   {
    "duration": 232,
    "start_time": "2022-10-15T18:21:32.437Z"
   },
   {
    "duration": 435,
    "start_time": "2022-10-15T18:21:45.686Z"
   },
   {
    "duration": 241,
    "start_time": "2022-10-15T18:22:26.475Z"
   },
   {
    "duration": 16,
    "start_time": "2022-10-15T18:25:29.564Z"
   },
   {
    "duration": 495,
    "start_time": "2022-10-15T18:25:37.297Z"
   },
   {
    "duration": 16,
    "start_time": "2022-10-15T18:27:05.763Z"
   },
   {
    "duration": 528,
    "start_time": "2022-10-15T18:27:11.611Z"
   },
   {
    "duration": 16,
    "start_time": "2022-10-15T18:28:50.959Z"
   },
   {
    "duration": 276,
    "start_time": "2022-10-15T18:28:56.719Z"
   },
   {
    "duration": 378,
    "start_time": "2022-10-15T18:28:59.583Z"
   },
   {
    "duration": 477,
    "start_time": "2022-10-15T18:29:02.096Z"
   },
   {
    "duration": 16,
    "start_time": "2022-10-15T18:30:03.505Z"
   },
   {
    "duration": 15,
    "start_time": "2022-10-15T18:30:05.519Z"
   },
   {
    "duration": 472,
    "start_time": "2022-10-15T18:30:11.064Z"
   },
   {
    "duration": 269,
    "start_time": "2022-10-15T18:30:26.561Z"
   },
   {
    "duration": 374,
    "start_time": "2022-10-15T19:20:24.778Z"
   },
   {
    "duration": 236,
    "start_time": "2022-10-15T19:20:33.562Z"
   },
   {
    "duration": 257,
    "start_time": "2022-10-15T19:20:40.202Z"
   },
   {
    "duration": 20,
    "start_time": "2022-10-15T19:25:20.811Z"
   },
   {
    "duration": 1491,
    "start_time": "2022-10-15T19:25:36.348Z"
   },
   {
    "duration": 29,
    "start_time": "2022-10-15T19:25:37.841Z"
   },
   {
    "duration": 64,
    "start_time": "2022-10-15T19:25:37.872Z"
   },
   {
    "duration": 11,
    "start_time": "2022-10-15T19:25:37.938Z"
   },
   {
    "duration": 58,
    "start_time": "2022-10-15T19:25:37.951Z"
   },
   {
    "duration": 5,
    "start_time": "2022-10-15T19:25:38.011Z"
   },
   {
    "duration": 7,
    "start_time": "2022-10-15T19:25:38.017Z"
   },
   {
    "duration": 6,
    "start_time": "2022-10-15T19:25:38.025Z"
   },
   {
    "duration": 14,
    "start_time": "2022-10-15T19:25:38.032Z"
   },
   {
    "duration": 8,
    "start_time": "2022-10-15T19:25:38.048Z"
   },
   {
    "duration": 170,
    "start_time": "2022-10-15T19:25:38.057Z"
   },
   {
    "duration": 6,
    "start_time": "2022-10-15T19:25:38.229Z"
   },
   {
    "duration": 13,
    "start_time": "2022-10-15T19:25:38.236Z"
   },
   {
    "duration": 9,
    "start_time": "2022-10-15T19:25:38.250Z"
   },
   {
    "duration": 24,
    "start_time": "2022-10-15T19:25:38.261Z"
   },
   {
    "duration": 134,
    "start_time": "2022-10-15T19:25:38.288Z"
   },
   {
    "duration": 11,
    "start_time": "2022-10-15T19:25:38.423Z"
   },
   {
    "duration": 15,
    "start_time": "2022-10-15T19:25:38.436Z"
   },
   {
    "duration": 5,
    "start_time": "2022-10-15T19:25:38.453Z"
   },
   {
    "duration": 849,
    "start_time": "2022-10-15T19:25:38.459Z"
   },
   {
    "duration": 1069,
    "start_time": "2022-10-15T19:25:39.310Z"
   },
   {
    "duration": 1062,
    "start_time": "2022-10-15T19:25:40.380Z"
   },
   {
    "duration": 10,
    "start_time": "2022-10-15T19:25:41.443Z"
   },
   {
    "duration": 6,
    "start_time": "2022-10-15T19:25:41.455Z"
   },
   {
    "duration": 125,
    "start_time": "2022-10-15T19:25:41.463Z"
   },
   {
    "duration": 283,
    "start_time": "2022-10-15T19:25:41.590Z"
   },
   {
    "duration": 379,
    "start_time": "2022-10-15T19:25:41.875Z"
   },
   {
    "duration": 485,
    "start_time": "2022-10-15T19:25:42.256Z"
   },
   {
    "duration": 252,
    "start_time": "2022-10-15T19:25:42.743Z"
   },
   {
    "duration": 282,
    "start_time": "2022-10-15T19:25:42.998Z"
   },
   {
    "duration": 135,
    "start_time": "2022-10-15T19:25:43.284Z"
   },
   {
    "duration": 24,
    "start_time": "2022-10-15T19:25:43.420Z"
   },
   {
    "duration": 231,
    "start_time": "2022-10-15T19:25:43.445Z"
   },
   {
    "duration": 126,
    "start_time": "2022-10-15T19:25:43.678Z"
   },
   {
    "duration": 7,
    "start_time": "2022-10-15T19:25:43.806Z"
   },
   {
    "duration": 20,
    "start_time": "2022-10-15T19:25:43.815Z"
   },
   {
    "duration": 10,
    "start_time": "2022-10-15T19:25:43.836Z"
   },
   {
    "duration": 55,
    "start_time": "2022-10-15T19:25:43.848Z"
   },
   {
    "duration": 257,
    "start_time": "2022-10-15T19:26:08.908Z"
   },
   {
    "duration": 292,
    "start_time": "2022-10-15T19:26:27.088Z"
   },
   {
    "duration": 476,
    "start_time": "2022-10-15T19:32:51.235Z"
   },
   {
    "duration": 86,
    "start_time": "2022-10-15T19:45:57.108Z"
   },
   {
    "duration": 266,
    "start_time": "2022-10-15T19:46:09.661Z"
   },
   {
    "duration": 9,
    "start_time": "2022-10-15T19:48:16.908Z"
   },
   {
    "duration": 7,
    "start_time": "2022-10-15T19:48:25.485Z"
   },
   {
    "duration": 1365,
    "start_time": "2022-10-15T19:48:44.061Z"
   },
   {
    "duration": 20,
    "start_time": "2022-10-15T19:48:45.428Z"
   },
   {
    "duration": 71,
    "start_time": "2022-10-15T19:48:45.449Z"
   },
   {
    "duration": 11,
    "start_time": "2022-10-15T19:48:45.522Z"
   },
   {
    "duration": 48,
    "start_time": "2022-10-15T19:48:45.535Z"
   },
   {
    "duration": 5,
    "start_time": "2022-10-15T19:48:45.585Z"
   },
   {
    "duration": 14,
    "start_time": "2022-10-15T19:48:45.592Z"
   },
   {
    "duration": 4,
    "start_time": "2022-10-15T19:48:45.608Z"
   },
   {
    "duration": 8,
    "start_time": "2022-10-15T19:48:45.613Z"
   },
   {
    "duration": 14,
    "start_time": "2022-10-15T19:48:45.623Z"
   },
   {
    "duration": 727,
    "start_time": "2022-10-15T19:48:45.638Z"
   },
   {
    "duration": 88,
    "start_time": "2022-10-15T19:48:46.366Z"
   },
   {
    "duration": 243,
    "start_time": "2022-10-15T19:48:46.456Z"
   },
   {
    "duration": 392,
    "start_time": "2022-10-15T19:48:46.700Z"
   },
   {
    "duration": 446,
    "start_time": "2022-10-15T19:48:47.095Z"
   },
   {
    "duration": 243,
    "start_time": "2022-10-15T19:48:47.542Z"
   },
   {
    "duration": 498,
    "start_time": "2022-10-15T19:48:47.787Z"
   },
   {
    "duration": 219,
    "start_time": "2022-10-15T19:48:48.287Z"
   },
   {
    "duration": 22,
    "start_time": "2022-10-15T19:48:48.507Z"
   },
   {
    "duration": 202,
    "start_time": "2022-10-15T19:48:48.585Z"
   },
   {
    "duration": 410,
    "start_time": "2022-10-15T19:48:48.788Z"
   },
   {
    "duration": 11,
    "start_time": "2022-10-15T19:48:49.200Z"
   },
   {
    "duration": 11,
    "start_time": "2022-10-15T19:48:49.212Z"
   },
   {
    "duration": 262,
    "start_time": "2022-10-15T19:48:49.225Z"
   },
   {
    "duration": 5,
    "start_time": "2022-10-15T19:48:49.489Z"
   },
   {
    "duration": 13,
    "start_time": "2022-10-15T19:48:49.495Z"
   },
   {
    "duration": 11,
    "start_time": "2022-10-15T19:48:49.510Z"
   },
   {
    "duration": 3,
    "start_time": "2022-10-15T19:48:49.524Z"
   },
   {
    "duration": 122,
    "start_time": "2022-10-15T19:48:49.529Z"
   },
   {
    "duration": 12,
    "start_time": "2022-10-15T19:48:49.652Z"
   },
   {
    "duration": 21,
    "start_time": "2022-10-15T19:48:49.665Z"
   },
   {
    "duration": 951,
    "start_time": "2022-10-15T19:48:49.688Z"
   },
   {
    "duration": 922,
    "start_time": "2022-10-15T19:48:50.640Z"
   },
   {
    "duration": 10,
    "start_time": "2022-10-15T19:48:51.564Z"
   },
   {
    "duration": 13,
    "start_time": "2022-10-15T19:48:51.576Z"
   },
   {
    "duration": 20,
    "start_time": "2022-10-15T19:48:51.591Z"
   },
   {
    "duration": 9,
    "start_time": "2022-10-15T19:48:51.613Z"
   },
   {
    "duration": 20,
    "start_time": "2022-10-15T19:48:51.624Z"
   },
   {
    "duration": 20,
    "start_time": "2022-10-15T19:49:18.696Z"
   },
   {
    "duration": 1303,
    "start_time": "2022-10-15T19:49:23.309Z"
   },
   {
    "duration": 21,
    "start_time": "2022-10-15T19:49:24.614Z"
   },
   {
    "duration": 67,
    "start_time": "2022-10-15T19:49:24.637Z"
   },
   {
    "duration": 12,
    "start_time": "2022-10-15T19:49:24.706Z"
   },
   {
    "duration": 48,
    "start_time": "2022-10-15T19:49:24.720Z"
   },
   {
    "duration": 6,
    "start_time": "2022-10-15T19:49:24.784Z"
   },
   {
    "duration": 20,
    "start_time": "2022-10-15T19:49:24.791Z"
   },
   {
    "duration": 4,
    "start_time": "2022-10-15T19:49:24.813Z"
   },
   {
    "duration": 15,
    "start_time": "2022-10-15T19:49:24.818Z"
   },
   {
    "duration": 18,
    "start_time": "2022-10-15T19:49:24.836Z"
   },
   {
    "duration": 716,
    "start_time": "2022-10-15T19:49:24.855Z"
   },
   {
    "duration": 81,
    "start_time": "2022-10-15T19:49:25.572Z"
   },
   {
    "duration": 239,
    "start_time": "2022-10-15T19:49:25.654Z"
   },
   {
    "duration": 338,
    "start_time": "2022-10-15T19:49:25.895Z"
   },
   {
    "duration": 437,
    "start_time": "2022-10-15T19:49:26.235Z"
   },
   {
    "duration": 241,
    "start_time": "2022-10-15T19:49:26.673Z"
   },
   {
    "duration": 324,
    "start_time": "2022-10-15T19:49:26.916Z"
   },
   {
    "duration": 122,
    "start_time": "2022-10-15T19:49:27.242Z"
   },
   {
    "duration": 26,
    "start_time": "2022-10-15T19:49:27.366Z"
   },
   {
    "duration": 106,
    "start_time": "2022-10-15T19:49:27.393Z"
   },
   {
    "duration": 199,
    "start_time": "2022-10-15T19:49:27.501Z"
   },
   {
    "duration": 10,
    "start_time": "2022-10-15T19:49:27.702Z"
   },
   {
    "duration": 9,
    "start_time": "2022-10-15T19:49:27.713Z"
   },
   {
    "duration": 133,
    "start_time": "2022-10-15T19:49:27.724Z"
   },
   {
    "duration": 5,
    "start_time": "2022-10-15T19:49:27.859Z"
   },
   {
    "duration": 19,
    "start_time": "2022-10-15T19:49:27.866Z"
   },
   {
    "duration": 7,
    "start_time": "2022-10-15T19:49:27.887Z"
   },
   {
    "duration": 8,
    "start_time": "2022-10-15T19:49:27.896Z"
   },
   {
    "duration": 113,
    "start_time": "2022-10-15T19:49:27.905Z"
   },
   {
    "duration": 10,
    "start_time": "2022-10-15T19:49:28.020Z"
   },
   {
    "duration": 18,
    "start_time": "2022-10-15T19:49:28.031Z"
   },
   {
    "duration": 1745,
    "start_time": "2022-10-15T19:49:28.050Z"
   },
   {
    "duration": 960,
    "start_time": "2022-10-15T19:49:29.796Z"
   },
   {
    "duration": 11,
    "start_time": "2022-10-15T19:49:30.758Z"
   },
   {
    "duration": 18,
    "start_time": "2022-10-15T19:49:30.770Z"
   },
   {
    "duration": 22,
    "start_time": "2022-10-15T19:49:30.789Z"
   },
   {
    "duration": 9,
    "start_time": "2022-10-15T19:49:30.812Z"
   },
   {
    "duration": 41,
    "start_time": "2022-10-15T19:49:30.822Z"
   },
   {
    "duration": 14,
    "start_time": "2022-10-15T19:55:48.539Z"
   },
   {
    "duration": 14,
    "start_time": "2022-10-15T19:56:06.085Z"
   },
   {
    "duration": 107,
    "start_time": "2022-10-15T19:58:03.195Z"
   },
   {
    "duration": 19,
    "start_time": "2022-10-15T19:58:10.642Z"
   },
   {
    "duration": 17,
    "start_time": "2022-10-15T19:58:28.308Z"
   },
   {
    "duration": 15,
    "start_time": "2022-10-15T19:58:33.694Z"
   },
   {
    "duration": 15,
    "start_time": "2022-10-15T19:58:39.078Z"
   },
   {
    "duration": 78,
    "start_time": "2022-10-15T19:59:09.274Z"
   },
   {
    "duration": 74,
    "start_time": "2022-10-15T19:59:12.138Z"
   },
   {
    "duration": 11,
    "start_time": "2022-10-15T19:59:15.691Z"
   },
   {
    "duration": 1330,
    "start_time": "2022-10-15T20:05:38.416Z"
   },
   {
    "duration": 19,
    "start_time": "2022-10-15T20:05:39.748Z"
   },
   {
    "duration": 89,
    "start_time": "2022-10-15T20:05:39.769Z"
   },
   {
    "duration": 12,
    "start_time": "2022-10-15T20:05:39.860Z"
   },
   {
    "duration": 83,
    "start_time": "2022-10-15T20:05:39.874Z"
   },
   {
    "duration": 5,
    "start_time": "2022-10-15T20:05:39.959Z"
   },
   {
    "duration": 55,
    "start_time": "2022-10-15T20:05:39.965Z"
   },
   {
    "duration": 13,
    "start_time": "2022-10-15T20:05:40.021Z"
   },
   {
    "duration": 53,
    "start_time": "2022-10-15T20:05:40.036Z"
   },
   {
    "duration": 19,
    "start_time": "2022-10-15T20:05:40.091Z"
   },
   {
    "duration": 738,
    "start_time": "2022-10-15T20:05:40.111Z"
   },
   {
    "duration": 86,
    "start_time": "2022-10-15T20:05:40.850Z"
   },
   {
    "duration": 240,
    "start_time": "2022-10-15T20:05:40.937Z"
   },
   {
    "duration": 357,
    "start_time": "2022-10-15T20:05:41.184Z"
   },
   {
    "duration": 444,
    "start_time": "2022-10-15T20:05:41.543Z"
   },
   {
    "duration": 243,
    "start_time": "2022-10-15T20:05:41.989Z"
   },
   {
    "duration": 281,
    "start_time": "2022-10-15T20:05:42.233Z"
   },
   {
    "duration": 127,
    "start_time": "2022-10-15T20:05:42.515Z"
   },
   {
    "duration": 24,
    "start_time": "2022-10-15T20:05:42.645Z"
   },
   {
    "duration": 125,
    "start_time": "2022-10-15T20:05:42.671Z"
   },
   {
    "duration": 205,
    "start_time": "2022-10-15T20:05:42.798Z"
   },
   {
    "duration": 11,
    "start_time": "2022-10-15T20:05:43.005Z"
   },
   {
    "duration": 49,
    "start_time": "2022-10-15T20:05:43.018Z"
   },
   {
    "duration": 140,
    "start_time": "2022-10-15T20:05:43.069Z"
   },
   {
    "duration": 5,
    "start_time": "2022-10-15T20:05:43.211Z"
   },
   {
    "duration": 31,
    "start_time": "2022-10-15T20:05:43.217Z"
   },
   {
    "duration": 16,
    "start_time": "2022-10-15T20:05:43.250Z"
   },
   {
    "duration": 20,
    "start_time": "2022-10-15T20:05:43.269Z"
   },
   {
    "duration": 133,
    "start_time": "2022-10-15T20:05:43.291Z"
   },
   {
    "duration": 12,
    "start_time": "2022-10-15T20:05:43.426Z"
   },
   {
    "duration": 57,
    "start_time": "2022-10-15T20:05:43.439Z"
   },
   {
    "duration": 966,
    "start_time": "2022-10-15T20:05:43.497Z"
   },
   {
    "duration": 955,
    "start_time": "2022-10-15T20:05:44.464Z"
   },
   {
    "duration": 11,
    "start_time": "2022-10-15T20:05:45.421Z"
   },
   {
    "duration": 40,
    "start_time": "2022-10-15T20:05:45.434Z"
   },
   {
    "duration": 63,
    "start_time": "2022-10-15T20:05:45.476Z"
   },
   {
    "duration": 32,
    "start_time": "2022-10-15T20:05:45.541Z"
   },
   {
    "duration": 37,
    "start_time": "2022-10-15T20:05:45.574Z"
   },
   {
    "duration": 1201,
    "start_time": "2022-10-15T20:19:40.634Z"
   },
   {
    "duration": 94,
    "start_time": "2022-10-15T20:21:45.193Z"
   },
   {
    "duration": 18,
    "start_time": "2022-10-15T20:22:12.380Z"
   },
   {
    "duration": 21,
    "start_time": "2022-10-15T20:22:46.368Z"
   },
   {
    "duration": 1259,
    "start_time": "2022-10-15T20:22:56.928Z"
   },
   {
    "duration": 20,
    "start_time": "2022-10-15T20:23:31.469Z"
   },
   {
    "duration": 1104,
    "start_time": "2022-10-15T20:23:40.933Z"
   },
   {
    "duration": 1284,
    "start_time": "2022-10-15T20:23:51.622Z"
   },
   {
    "duration": 21,
    "start_time": "2022-10-15T20:31:36.836Z"
   },
   {
    "duration": 21,
    "start_time": "2022-10-15T20:32:11.798Z"
   },
   {
    "duration": 25,
    "start_time": "2022-10-15T20:32:16.639Z"
   },
   {
    "duration": 24,
    "start_time": "2022-10-15T20:32:46.387Z"
   },
   {
    "duration": 257,
    "start_time": "2022-10-15T20:32:51.051Z"
   },
   {
    "duration": 1355,
    "start_time": "2022-10-15T20:34:22.470Z"
   },
   {
    "duration": 23,
    "start_time": "2022-10-15T20:34:23.827Z"
   },
   {
    "duration": 65,
    "start_time": "2022-10-15T20:34:23.851Z"
   },
   {
    "duration": 12,
    "start_time": "2022-10-15T20:34:23.918Z"
   },
   {
    "duration": 57,
    "start_time": "2022-10-15T20:34:23.932Z"
   },
   {
    "duration": 6,
    "start_time": "2022-10-15T20:34:23.990Z"
   },
   {
    "duration": 17,
    "start_time": "2022-10-15T20:34:23.997Z"
   },
   {
    "duration": 5,
    "start_time": "2022-10-15T20:34:24.016Z"
   },
   {
    "duration": 6,
    "start_time": "2022-10-15T20:34:24.022Z"
   },
   {
    "duration": 8,
    "start_time": "2022-10-15T20:34:24.030Z"
   },
   {
    "duration": 755,
    "start_time": "2022-10-15T20:34:24.039Z"
   },
   {
    "duration": 76,
    "start_time": "2022-10-15T20:34:24.796Z"
   },
   {
    "duration": 253,
    "start_time": "2022-10-15T20:34:24.873Z"
   },
   {
    "duration": 352,
    "start_time": "2022-10-15T20:34:25.127Z"
   },
   {
    "duration": 444,
    "start_time": "2022-10-15T20:34:25.484Z"
   },
   {
    "duration": 387,
    "start_time": "2022-10-15T20:34:25.929Z"
   },
   {
    "duration": 579,
    "start_time": "2022-10-15T20:34:26.317Z"
   },
   {
    "duration": 300,
    "start_time": "2022-10-15T20:34:26.898Z"
   },
   {
    "duration": 32,
    "start_time": "2022-10-15T20:34:27.200Z"
   },
   {
    "duration": 263,
    "start_time": "2022-10-15T20:34:27.233Z"
   },
   {
    "duration": 366,
    "start_time": "2022-10-15T20:34:27.498Z"
   },
   {
    "duration": 11,
    "start_time": "2022-10-15T20:34:27.885Z"
   },
   {
    "duration": 23,
    "start_time": "2022-10-15T20:34:27.897Z"
   },
   {
    "duration": 114,
    "start_time": "2022-10-15T20:34:27.922Z"
   },
   {
    "duration": 5,
    "start_time": "2022-10-15T20:34:28.038Z"
   },
   {
    "duration": 10,
    "start_time": "2022-10-15T20:34:28.044Z"
   },
   {
    "duration": 7,
    "start_time": "2022-10-15T20:34:28.055Z"
   },
   {
    "duration": 20,
    "start_time": "2022-10-15T20:34:28.065Z"
   },
   {
    "duration": 114,
    "start_time": "2022-10-15T20:34:28.086Z"
   },
   {
    "duration": 12,
    "start_time": "2022-10-15T20:34:28.202Z"
   },
   {
    "duration": 10,
    "start_time": "2022-10-15T20:34:28.216Z"
   },
   {
    "duration": 1003,
    "start_time": "2022-10-15T20:34:28.227Z"
   },
   {
    "duration": 990,
    "start_time": "2022-10-15T20:34:29.232Z"
   },
   {
    "duration": 11,
    "start_time": "2022-10-15T20:34:30.224Z"
   },
   {
    "duration": 5,
    "start_time": "2022-10-15T20:34:30.236Z"
   },
   {
    "duration": 36,
    "start_time": "2022-10-15T20:34:30.243Z"
   },
   {
    "duration": 30,
    "start_time": "2022-10-15T20:34:30.286Z"
   },
   {
    "duration": 28,
    "start_time": "2022-10-15T20:34:30.318Z"
   },
   {
    "duration": 6,
    "start_time": "2022-10-15T20:55:17.796Z"
   },
   {
    "duration": 1318,
    "start_time": "2022-10-15T20:55:23.477Z"
   },
   {
    "duration": 22,
    "start_time": "2022-10-15T20:55:24.798Z"
   },
   {
    "duration": 59,
    "start_time": "2022-10-15T20:55:24.822Z"
   },
   {
    "duration": 11,
    "start_time": "2022-10-15T20:55:24.882Z"
   },
   {
    "duration": 43,
    "start_time": "2022-10-15T20:55:24.894Z"
   },
   {
    "duration": 4,
    "start_time": "2022-10-15T20:55:24.939Z"
   },
   {
    "duration": 15,
    "start_time": "2022-10-15T20:55:24.945Z"
   },
   {
    "duration": 4,
    "start_time": "2022-10-15T20:55:24.961Z"
   },
   {
    "duration": 3,
    "start_time": "2022-10-15T20:55:24.985Z"
   },
   {
    "duration": 9,
    "start_time": "2022-10-15T20:55:24.991Z"
   },
   {
    "duration": 745,
    "start_time": "2022-10-15T20:55:25.001Z"
   },
   {
    "duration": 98,
    "start_time": "2022-10-15T20:55:25.748Z"
   },
   {
    "duration": 237,
    "start_time": "2022-10-15T20:55:25.848Z"
   },
   {
    "duration": 342,
    "start_time": "2022-10-15T20:55:26.086Z"
   },
   {
    "duration": 435,
    "start_time": "2022-10-15T20:55:26.430Z"
   },
   {
    "duration": 291,
    "start_time": "2022-10-15T20:55:26.867Z"
   },
   {
    "duration": 264,
    "start_time": "2022-10-15T20:55:27.160Z"
   },
   {
    "duration": 123,
    "start_time": "2022-10-15T20:55:27.426Z"
   },
   {
    "duration": 36,
    "start_time": "2022-10-15T20:55:27.550Z"
   },
   {
    "duration": 105,
    "start_time": "2022-10-15T20:55:27.587Z"
   },
   {
    "duration": 203,
    "start_time": "2022-10-15T20:55:27.694Z"
   },
   {
    "duration": 11,
    "start_time": "2022-10-15T20:55:27.898Z"
   },
   {
    "duration": 7,
    "start_time": "2022-10-15T20:55:27.911Z"
   },
   {
    "duration": 126,
    "start_time": "2022-10-15T20:55:27.920Z"
   },
   {
    "duration": 5,
    "start_time": "2022-10-15T20:55:28.048Z"
   },
   {
    "duration": 10,
    "start_time": "2022-10-15T20:55:28.054Z"
   },
   {
    "duration": 19,
    "start_time": "2022-10-15T20:55:28.066Z"
   },
   {
    "duration": 3,
    "start_time": "2022-10-15T20:55:28.088Z"
   },
   {
    "duration": 110,
    "start_time": "2022-10-15T20:55:28.093Z"
   },
   {
    "duration": 11,
    "start_time": "2022-10-15T20:55:28.204Z"
   },
   {
    "duration": 12,
    "start_time": "2022-10-15T20:55:28.217Z"
   },
   {
    "duration": 4,
    "start_time": "2022-10-15T20:55:28.231Z"
   },
   {
    "duration": 930,
    "start_time": "2022-10-15T20:55:28.237Z"
   },
   {
    "duration": 970,
    "start_time": "2022-10-15T20:55:29.169Z"
   },
   {
    "duration": 11,
    "start_time": "2022-10-15T20:55:30.141Z"
   },
   {
    "duration": 7,
    "start_time": "2022-10-15T20:55:30.154Z"
   },
   {
    "duration": 34,
    "start_time": "2022-10-15T20:55:30.163Z"
   },
   {
    "duration": 9,
    "start_time": "2022-10-15T20:55:30.198Z"
   },
   {
    "duration": 30,
    "start_time": "2022-10-15T20:55:30.208Z"
   },
   {
    "duration": 1330,
    "start_time": "2022-10-15T21:17:48.262Z"
   },
   {
    "duration": 20,
    "start_time": "2022-10-15T21:17:49.594Z"
   },
   {
    "duration": 64,
    "start_time": "2022-10-15T21:17:49.617Z"
   },
   {
    "duration": 11,
    "start_time": "2022-10-15T21:17:49.682Z"
   },
   {
    "duration": 44,
    "start_time": "2022-10-15T21:17:49.694Z"
   },
   {
    "duration": 13,
    "start_time": "2022-10-15T21:17:49.740Z"
   },
   {
    "duration": 3,
    "start_time": "2022-10-15T21:17:49.755Z"
   },
   {
    "duration": 26,
    "start_time": "2022-10-15T21:17:49.760Z"
   },
   {
    "duration": 5,
    "start_time": "2022-10-15T21:17:49.788Z"
   },
   {
    "duration": 738,
    "start_time": "2022-10-15T21:17:49.795Z"
   },
   {
    "duration": 85,
    "start_time": "2022-10-15T21:17:50.535Z"
   },
   {
    "duration": 240,
    "start_time": "2022-10-15T21:17:50.621Z"
   },
   {
    "duration": 336,
    "start_time": "2022-10-15T21:17:50.862Z"
   },
   {
    "duration": 421,
    "start_time": "2022-10-15T21:17:51.200Z"
   },
   {
    "duration": 244,
    "start_time": "2022-10-15T21:17:51.623Z"
   },
   {
    "duration": 262,
    "start_time": "2022-10-15T21:17:51.869Z"
   },
   {
    "duration": 118,
    "start_time": "2022-10-15T21:17:52.133Z"
   },
   {
    "duration": 33,
    "start_time": "2022-10-15T21:17:52.252Z"
   },
   {
    "duration": 115,
    "start_time": "2022-10-15T21:17:52.287Z"
   },
   {
    "duration": 199,
    "start_time": "2022-10-15T21:17:52.403Z"
   },
   {
    "duration": 1391,
    "start_time": "2022-10-15T21:17:52.604Z"
   },
   {
    "duration": 0,
    "start_time": "2022-10-15T21:17:53.997Z"
   },
   {
    "duration": 0,
    "start_time": "2022-10-15T21:17:53.998Z"
   },
   {
    "duration": 0,
    "start_time": "2022-10-15T21:17:53.999Z"
   },
   {
    "duration": 0,
    "start_time": "2022-10-15T21:17:54.000Z"
   },
   {
    "duration": 0,
    "start_time": "2022-10-15T21:17:54.001Z"
   },
   {
    "duration": 0,
    "start_time": "2022-10-15T21:17:54.002Z"
   },
   {
    "duration": 0,
    "start_time": "2022-10-15T21:17:54.003Z"
   },
   {
    "duration": 0,
    "start_time": "2022-10-15T21:17:54.004Z"
   },
   {
    "duration": 0,
    "start_time": "2022-10-15T21:17:54.005Z"
   },
   {
    "duration": 0,
    "start_time": "2022-10-15T21:17:54.006Z"
   },
   {
    "duration": 0,
    "start_time": "2022-10-15T21:17:54.007Z"
   },
   {
    "duration": 0,
    "start_time": "2022-10-15T21:17:54.009Z"
   },
   {
    "duration": 0,
    "start_time": "2022-10-15T21:17:54.010Z"
   },
   {
    "duration": 0,
    "start_time": "2022-10-15T21:17:54.011Z"
   },
   {
    "duration": 0,
    "start_time": "2022-10-15T21:17:54.012Z"
   },
   {
    "duration": 0,
    "start_time": "2022-10-15T21:17:54.013Z"
   },
   {
    "duration": 0,
    "start_time": "2022-10-15T21:17:54.014Z"
   },
   {
    "duration": 0,
    "start_time": "2022-10-15T21:17:54.015Z"
   },
   {
    "duration": 1353,
    "start_time": "2022-10-15T21:18:15.368Z"
   },
   {
    "duration": 20,
    "start_time": "2022-10-15T21:18:16.723Z"
   },
   {
    "duration": 59,
    "start_time": "2022-10-15T21:18:16.744Z"
   },
   {
    "duration": 13,
    "start_time": "2022-10-15T21:18:16.805Z"
   },
   {
    "duration": 48,
    "start_time": "2022-10-15T21:18:16.819Z"
   },
   {
    "duration": 31,
    "start_time": "2022-10-15T21:18:16.868Z"
   },
   {
    "duration": 5,
    "start_time": "2022-10-15T21:18:16.900Z"
   },
   {
    "duration": 16,
    "start_time": "2022-10-15T21:18:16.907Z"
   },
   {
    "duration": 8,
    "start_time": "2022-10-15T21:18:16.925Z"
   },
   {
    "duration": 780,
    "start_time": "2022-10-15T21:18:16.936Z"
   },
   {
    "duration": 87,
    "start_time": "2022-10-15T21:18:17.718Z"
   },
   {
    "duration": 239,
    "start_time": "2022-10-15T21:18:17.807Z"
   },
   {
    "duration": 339,
    "start_time": "2022-10-15T21:18:18.047Z"
   },
   {
    "duration": 413,
    "start_time": "2022-10-15T21:18:18.387Z"
   },
   {
    "duration": 236,
    "start_time": "2022-10-15T21:18:18.802Z"
   },
   {
    "duration": 287,
    "start_time": "2022-10-15T21:18:19.040Z"
   },
   {
    "duration": 126,
    "start_time": "2022-10-15T21:18:19.328Z"
   },
   {
    "duration": 38,
    "start_time": "2022-10-15T21:18:19.456Z"
   },
   {
    "duration": 107,
    "start_time": "2022-10-15T21:18:19.495Z"
   },
   {
    "duration": 204,
    "start_time": "2022-10-15T21:18:19.603Z"
   },
   {
    "duration": 6,
    "start_time": "2022-10-15T21:18:19.809Z"
   },
   {
    "duration": 33,
    "start_time": "2022-10-15T21:18:19.817Z"
   },
   {
    "duration": 42,
    "start_time": "2022-10-15T21:18:19.851Z"
   },
   {
    "duration": 115,
    "start_time": "2022-10-15T21:18:19.895Z"
   },
   {
    "duration": 5,
    "start_time": "2022-10-15T21:18:20.011Z"
   },
   {
    "duration": 29,
    "start_time": "2022-10-15T21:18:20.017Z"
   },
   {
    "duration": 12,
    "start_time": "2022-10-15T21:18:20.047Z"
   },
   {
    "duration": 43,
    "start_time": "2022-10-15T21:18:20.062Z"
   },
   {
    "duration": 131,
    "start_time": "2022-10-15T21:18:20.107Z"
   },
   {
    "duration": 122,
    "start_time": "2022-10-15T21:18:20.240Z"
   },
   {
    "duration": 0,
    "start_time": "2022-10-15T21:18:20.363Z"
   },
   {
    "duration": 0,
    "start_time": "2022-10-15T21:18:20.365Z"
   },
   {
    "duration": 0,
    "start_time": "2022-10-15T21:18:20.365Z"
   },
   {
    "duration": 0,
    "start_time": "2022-10-15T21:18:20.366Z"
   },
   {
    "duration": 0,
    "start_time": "2022-10-15T21:18:20.367Z"
   },
   {
    "duration": 0,
    "start_time": "2022-10-15T21:18:20.368Z"
   },
   {
    "duration": 0,
    "start_time": "2022-10-15T21:18:20.369Z"
   },
   {
    "duration": 0,
    "start_time": "2022-10-15T21:18:20.370Z"
   },
   {
    "duration": 0,
    "start_time": "2022-10-15T21:18:20.384Z"
   },
   {
    "duration": 13,
    "start_time": "2022-10-15T21:18:37.877Z"
   },
   {
    "duration": 9,
    "start_time": "2022-10-15T21:18:40.805Z"
   },
   {
    "duration": 1378,
    "start_time": "2022-10-15T21:18:45.672Z"
   },
   {
    "duration": 25,
    "start_time": "2022-10-15T21:18:47.054Z"
   },
   {
    "duration": 69,
    "start_time": "2022-10-15T21:18:47.080Z"
   },
   {
    "duration": 13,
    "start_time": "2022-10-15T21:18:47.152Z"
   },
   {
    "duration": 48,
    "start_time": "2022-10-15T21:18:47.166Z"
   },
   {
    "duration": 14,
    "start_time": "2022-10-15T21:18:47.215Z"
   },
   {
    "duration": 4,
    "start_time": "2022-10-15T21:18:47.231Z"
   },
   {
    "duration": 8,
    "start_time": "2022-10-15T21:18:47.237Z"
   },
   {
    "duration": 9,
    "start_time": "2022-10-15T21:18:47.246Z"
   },
   {
    "duration": 751,
    "start_time": "2022-10-15T21:18:47.257Z"
   },
   {
    "duration": 89,
    "start_time": "2022-10-15T21:18:48.009Z"
   },
   {
    "duration": 241,
    "start_time": "2022-10-15T21:18:48.099Z"
   },
   {
    "duration": 377,
    "start_time": "2022-10-15T21:18:48.342Z"
   },
   {
    "duration": 460,
    "start_time": "2022-10-15T21:18:48.720Z"
   },
   {
    "duration": 256,
    "start_time": "2022-10-15T21:18:49.184Z"
   },
   {
    "duration": 263,
    "start_time": "2022-10-15T21:18:49.441Z"
   },
   {
    "duration": 136,
    "start_time": "2022-10-15T21:18:49.706Z"
   },
   {
    "duration": 33,
    "start_time": "2022-10-15T21:18:49.844Z"
   },
   {
    "duration": 113,
    "start_time": "2022-10-15T21:18:49.885Z"
   },
   {
    "duration": 188,
    "start_time": "2022-10-15T21:18:50.000Z"
   },
   {
    "duration": 6,
    "start_time": "2022-10-15T21:18:50.189Z"
   },
   {
    "duration": 12,
    "start_time": "2022-10-15T21:18:50.196Z"
   },
   {
    "duration": 11,
    "start_time": "2022-10-15T21:18:50.209Z"
   },
   {
    "duration": 136,
    "start_time": "2022-10-15T21:18:50.221Z"
   },
   {
    "duration": 7,
    "start_time": "2022-10-15T21:18:50.359Z"
   },
   {
    "duration": 18,
    "start_time": "2022-10-15T21:18:50.368Z"
   },
   {
    "duration": 11,
    "start_time": "2022-10-15T21:18:50.387Z"
   },
   {
    "duration": 21,
    "start_time": "2022-10-15T21:18:50.401Z"
   },
   {
    "duration": 108,
    "start_time": "2022-10-15T21:18:50.423Z"
   },
   {
    "duration": 12,
    "start_time": "2022-10-15T21:18:50.533Z"
   },
   {
    "duration": 19,
    "start_time": "2022-10-15T21:18:50.546Z"
   },
   {
    "duration": 6,
    "start_time": "2022-10-15T21:18:50.566Z"
   },
   {
    "duration": 971,
    "start_time": "2022-10-15T21:18:50.584Z"
   },
   {
    "duration": 963,
    "start_time": "2022-10-15T21:18:51.557Z"
   },
   {
    "duration": 11,
    "start_time": "2022-10-15T21:18:52.522Z"
   },
   {
    "duration": 6,
    "start_time": "2022-10-15T21:18:52.534Z"
   },
   {
    "duration": 15,
    "start_time": "2022-10-15T21:18:52.541Z"
   },
   {
    "duration": 33,
    "start_time": "2022-10-15T21:18:52.558Z"
   },
   {
    "duration": 20,
    "start_time": "2022-10-15T21:18:52.593Z"
   },
   {
    "duration": 12,
    "start_time": "2022-10-15T21:19:24.955Z"
   },
   {
    "duration": 12,
    "start_time": "2022-10-15T21:19:39.909Z"
   },
   {
    "duration": 12,
    "start_time": "2022-10-15T21:19:46.462Z"
   },
   {
    "duration": 1490,
    "start_time": "2022-10-15T21:20:58.828Z"
   },
   {
    "duration": 21,
    "start_time": "2022-10-15T21:21:00.321Z"
   },
   {
    "duration": 64,
    "start_time": "2022-10-15T21:21:00.343Z"
   },
   {
    "duration": 11,
    "start_time": "2022-10-15T21:21:00.409Z"
   },
   {
    "duration": 63,
    "start_time": "2022-10-15T21:21:00.422Z"
   },
   {
    "duration": 16,
    "start_time": "2022-10-15T21:21:00.487Z"
   },
   {
    "duration": 4,
    "start_time": "2022-10-15T21:21:00.505Z"
   },
   {
    "duration": 21,
    "start_time": "2022-10-15T21:21:00.510Z"
   },
   {
    "duration": 20,
    "start_time": "2022-10-15T21:21:00.532Z"
   },
   {
    "duration": 1437,
    "start_time": "2022-10-15T21:21:00.554Z"
   },
   {
    "duration": 138,
    "start_time": "2022-10-15T21:21:01.993Z"
   },
   {
    "duration": 273,
    "start_time": "2022-10-15T21:21:02.185Z"
   },
   {
    "duration": 356,
    "start_time": "2022-10-15T21:21:02.460Z"
   },
   {
    "duration": 436,
    "start_time": "2022-10-15T21:21:02.818Z"
   },
   {
    "duration": 233,
    "start_time": "2022-10-15T21:21:03.256Z"
   },
   {
    "duration": 257,
    "start_time": "2022-10-15T21:21:03.491Z"
   },
   {
    "duration": 126,
    "start_time": "2022-10-15T21:21:03.750Z"
   },
   {
    "duration": 29,
    "start_time": "2022-10-15T21:21:03.877Z"
   },
   {
    "duration": 109,
    "start_time": "2022-10-15T21:21:03.908Z"
   },
   {
    "duration": 192,
    "start_time": "2022-10-15T21:21:04.018Z"
   },
   {
    "duration": 5,
    "start_time": "2022-10-15T21:21:04.212Z"
   },
   {
    "duration": 9,
    "start_time": "2022-10-15T21:21:04.218Z"
   },
   {
    "duration": 8,
    "start_time": "2022-10-15T21:21:04.228Z"
   },
   {
    "duration": 129,
    "start_time": "2022-10-15T21:21:04.238Z"
   },
   {
    "duration": 5,
    "start_time": "2022-10-15T21:21:04.368Z"
   },
   {
    "duration": 15,
    "start_time": "2022-10-15T21:21:04.374Z"
   },
   {
    "duration": 9,
    "start_time": "2022-10-15T21:21:04.390Z"
   },
   {
    "duration": 4,
    "start_time": "2022-10-15T21:21:04.402Z"
   },
   {
    "duration": 118,
    "start_time": "2022-10-15T21:21:04.407Z"
   },
   {
    "duration": 12,
    "start_time": "2022-10-15T21:21:04.526Z"
   },
   {
    "duration": 14,
    "start_time": "2022-10-15T21:21:04.539Z"
   },
   {
    "duration": 4,
    "start_time": "2022-10-15T21:21:04.554Z"
   },
   {
    "duration": 935,
    "start_time": "2022-10-15T21:21:04.560Z"
   },
   {
    "duration": 977,
    "start_time": "2022-10-15T21:21:05.496Z"
   },
   {
    "duration": 18,
    "start_time": "2022-10-15T21:21:06.474Z"
   },
   {
    "duration": 6,
    "start_time": "2022-10-15T21:21:06.494Z"
   },
   {
    "duration": 16,
    "start_time": "2022-10-15T21:21:06.502Z"
   },
   {
    "duration": 9,
    "start_time": "2022-10-15T21:21:06.520Z"
   },
   {
    "duration": 34,
    "start_time": "2022-10-15T21:21:06.530Z"
   },
   {
    "duration": 11,
    "start_time": "2022-10-15T21:21:17.817Z"
   },
   {
    "duration": 1301,
    "start_time": "2022-10-15T21:24:00.698Z"
   },
   {
    "duration": 20,
    "start_time": "2022-10-15T21:24:02.001Z"
   },
   {
    "duration": 91,
    "start_time": "2022-10-15T21:24:02.022Z"
   },
   {
    "duration": 12,
    "start_time": "2022-10-15T21:24:02.114Z"
   },
   {
    "duration": 79,
    "start_time": "2022-10-15T21:24:02.127Z"
   },
   {
    "duration": 14,
    "start_time": "2022-10-15T21:24:02.207Z"
   },
   {
    "duration": 4,
    "start_time": "2022-10-15T21:24:02.222Z"
   },
   {
    "duration": 47,
    "start_time": "2022-10-15T21:24:02.227Z"
   },
   {
    "duration": 31,
    "start_time": "2022-10-15T21:24:02.275Z"
   },
   {
    "duration": 747,
    "start_time": "2022-10-15T21:24:02.308Z"
   },
   {
    "duration": 82,
    "start_time": "2022-10-15T21:24:03.057Z"
   },
   {
    "duration": 244,
    "start_time": "2022-10-15T21:24:03.141Z"
   },
   {
    "duration": 332,
    "start_time": "2022-10-15T21:24:03.387Z"
   },
   {
    "duration": 458,
    "start_time": "2022-10-15T21:24:03.720Z"
   },
   {
    "duration": 237,
    "start_time": "2022-10-15T21:24:04.179Z"
   },
   {
    "duration": 263,
    "start_time": "2022-10-15T21:24:04.418Z"
   },
   {
    "duration": 117,
    "start_time": "2022-10-15T21:24:04.684Z"
   },
   {
    "duration": 23,
    "start_time": "2022-10-15T21:24:04.802Z"
   },
   {
    "duration": 112,
    "start_time": "2022-10-15T21:24:04.827Z"
   },
   {
    "duration": 204,
    "start_time": "2022-10-15T21:24:04.941Z"
   },
   {
    "duration": 5,
    "start_time": "2022-10-15T21:24:05.146Z"
   },
   {
    "duration": 28,
    "start_time": "2022-10-15T21:24:05.152Z"
   },
   {
    "duration": 9,
    "start_time": "2022-10-15T21:24:05.181Z"
   },
   {
    "duration": 120,
    "start_time": "2022-10-15T21:24:05.191Z"
   },
   {
    "duration": 5,
    "start_time": "2022-10-15T21:24:05.313Z"
   },
   {
    "duration": 13,
    "start_time": "2022-10-15T21:24:05.320Z"
   },
   {
    "duration": 13,
    "start_time": "2022-10-15T21:24:05.335Z"
   },
   {
    "duration": 4,
    "start_time": "2022-10-15T21:24:05.352Z"
   },
   {
    "duration": 227,
    "start_time": "2022-10-15T21:24:05.358Z"
   },
   {
    "duration": 11,
    "start_time": "2022-10-15T21:24:05.587Z"
   },
   {
    "duration": 11,
    "start_time": "2022-10-15T21:24:05.600Z"
   },
   {
    "duration": 7,
    "start_time": "2022-10-15T21:24:05.612Z"
   },
   {
    "duration": 1801,
    "start_time": "2022-10-15T21:24:05.621Z"
   },
   {
    "duration": 931,
    "start_time": "2022-10-15T21:24:07.424Z"
   },
   {
    "duration": 10,
    "start_time": "2022-10-15T21:24:08.356Z"
   },
   {
    "duration": 6,
    "start_time": "2022-10-15T21:24:08.368Z"
   },
   {
    "duration": 23,
    "start_time": "2022-10-15T21:24:08.375Z"
   },
   {
    "duration": 8,
    "start_time": "2022-10-15T21:24:08.400Z"
   },
   {
    "duration": 18,
    "start_time": "2022-10-15T21:24:08.410Z"
   },
   {
    "duration": 10,
    "start_time": "2022-10-15T21:24:48.050Z"
   },
   {
    "duration": 62,
    "start_time": "2022-10-16T07:25:24.023Z"
   },
   {
    "duration": 1511,
    "start_time": "2022-10-16T07:25:29.210Z"
   },
   {
    "duration": 22,
    "start_time": "2022-10-16T07:25:30.724Z"
   },
   {
    "duration": 88,
    "start_time": "2022-10-16T07:25:30.748Z"
   },
   {
    "duration": 13,
    "start_time": "2022-10-16T07:25:30.838Z"
   },
   {
    "duration": 55,
    "start_time": "2022-10-16T07:25:30.852Z"
   },
   {
    "duration": 28,
    "start_time": "2022-10-16T07:25:30.908Z"
   },
   {
    "duration": 9,
    "start_time": "2022-10-16T07:25:30.938Z"
   },
   {
    "duration": 23,
    "start_time": "2022-10-16T07:25:30.949Z"
   },
   {
    "duration": 16,
    "start_time": "2022-10-16T07:25:30.974Z"
   },
   {
    "duration": 746,
    "start_time": "2022-10-16T07:25:30.992Z"
   },
   {
    "duration": 91,
    "start_time": "2022-10-16T07:25:31.740Z"
   },
   {
    "duration": 258,
    "start_time": "2022-10-16T07:25:31.832Z"
   },
   {
    "duration": 369,
    "start_time": "2022-10-16T07:25:32.092Z"
   },
   {
    "duration": 458,
    "start_time": "2022-10-16T07:25:32.462Z"
   },
   {
    "duration": 284,
    "start_time": "2022-10-16T07:25:32.922Z"
   },
   {
    "duration": 270,
    "start_time": "2022-10-16T07:25:33.207Z"
   },
   {
    "duration": 131,
    "start_time": "2022-10-16T07:25:33.478Z"
   },
   {
    "duration": 30,
    "start_time": "2022-10-16T07:25:33.611Z"
   },
   {
    "duration": 118,
    "start_time": "2022-10-16T07:25:33.643Z"
   },
   {
    "duration": 207,
    "start_time": "2022-10-16T07:25:33.763Z"
   },
   {
    "duration": 6,
    "start_time": "2022-10-16T07:25:33.971Z"
   },
   {
    "duration": 12,
    "start_time": "2022-10-16T07:25:33.978Z"
   },
   {
    "duration": 9,
    "start_time": "2022-10-16T07:25:33.992Z"
   },
   {
    "duration": 135,
    "start_time": "2022-10-16T07:25:34.002Z"
   },
   {
    "duration": 5,
    "start_time": "2022-10-16T07:25:34.139Z"
   },
   {
    "duration": 29,
    "start_time": "2022-10-16T07:25:34.146Z"
   },
   {
    "duration": 9,
    "start_time": "2022-10-16T07:25:34.177Z"
   },
   {
    "duration": 4,
    "start_time": "2022-10-16T07:25:34.190Z"
   },
   {
    "duration": 139,
    "start_time": "2022-10-16T07:25:34.196Z"
   },
   {
    "duration": 12,
    "start_time": "2022-10-16T07:25:34.337Z"
   },
   {
    "duration": 18,
    "start_time": "2022-10-16T07:25:34.350Z"
   },
   {
    "duration": 7,
    "start_time": "2022-10-16T07:25:34.370Z"
   },
   {
    "duration": 991,
    "start_time": "2022-10-16T07:25:34.378Z"
   },
   {
    "duration": 1056,
    "start_time": "2022-10-16T07:25:35.371Z"
   },
   {
    "duration": 14,
    "start_time": "2022-10-16T07:25:36.429Z"
   },
   {
    "duration": 6,
    "start_time": "2022-10-16T07:25:36.445Z"
   },
   {
    "duration": 17,
    "start_time": "2022-10-16T07:25:36.452Z"
   },
   {
    "duration": 9,
    "start_time": "2022-10-16T07:25:36.470Z"
   },
   {
    "duration": 52,
    "start_time": "2022-10-16T07:25:36.480Z"
   },
   {
    "duration": 778,
    "start_time": "2022-10-16T07:26:23.199Z"
   },
   {
    "duration": 25,
    "start_time": "2022-10-16T07:27:01.241Z"
   },
   {
    "duration": 18,
    "start_time": "2022-10-16T07:27:05.443Z"
   },
   {
    "duration": 785,
    "start_time": "2022-10-16T07:27:59.745Z"
   },
   {
    "duration": 21,
    "start_time": "2022-10-16T07:29:13.642Z"
   },
   {
    "duration": 18,
    "start_time": "2022-10-16T07:29:17.890Z"
   },
   {
    "duration": 781,
    "start_time": "2022-10-16T07:29:46.909Z"
   },
   {
    "duration": 8,
    "start_time": "2022-10-16T07:29:52.278Z"
   },
   {
    "duration": 21,
    "start_time": "2022-10-16T07:30:09.504Z"
   },
   {
    "duration": 19,
    "start_time": "2022-10-16T07:30:15.144Z"
   },
   {
    "duration": 1302,
    "start_time": "2022-10-16T07:30:28.248Z"
   },
   {
    "duration": 22,
    "start_time": "2022-10-16T07:30:29.552Z"
   },
   {
    "duration": 44,
    "start_time": "2022-10-16T07:30:29.576Z"
   },
   {
    "duration": 11,
    "start_time": "2022-10-16T07:30:29.622Z"
   },
   {
    "duration": 47,
    "start_time": "2022-10-16T07:30:29.634Z"
   },
   {
    "duration": 14,
    "start_time": "2022-10-16T07:30:29.683Z"
   },
   {
    "duration": 38,
    "start_time": "2022-10-16T07:30:29.699Z"
   },
   {
    "duration": 5,
    "start_time": "2022-10-16T07:30:29.738Z"
   },
   {
    "duration": 5,
    "start_time": "2022-10-16T07:30:29.744Z"
   },
   {
    "duration": 5,
    "start_time": "2022-10-16T07:30:29.752Z"
   },
   {
    "duration": 757,
    "start_time": "2022-10-16T07:30:29.758Z"
   },
   {
    "duration": 81,
    "start_time": "2022-10-16T07:30:30.517Z"
   },
   {
    "duration": 262,
    "start_time": "2022-10-16T07:30:30.599Z"
   },
   {
    "duration": 360,
    "start_time": "2022-10-16T07:30:30.863Z"
   },
   {
    "duration": 466,
    "start_time": "2022-10-16T07:30:31.225Z"
   },
   {
    "duration": 261,
    "start_time": "2022-10-16T07:30:31.692Z"
   },
   {
    "duration": 289,
    "start_time": "2022-10-16T07:30:31.954Z"
   },
   {
    "duration": 124,
    "start_time": "2022-10-16T07:30:32.245Z"
   },
   {
    "duration": 24,
    "start_time": "2022-10-16T07:30:32.370Z"
   },
   {
    "duration": 126,
    "start_time": "2022-10-16T07:30:32.396Z"
   },
   {
    "duration": 207,
    "start_time": "2022-10-16T07:30:32.523Z"
   },
   {
    "duration": 5,
    "start_time": "2022-10-16T07:30:32.732Z"
   },
   {
    "duration": 15,
    "start_time": "2022-10-16T07:30:32.739Z"
   },
   {
    "duration": 9,
    "start_time": "2022-10-16T07:30:32.756Z"
   },
   {
    "duration": 146,
    "start_time": "2022-10-16T07:30:32.766Z"
   },
   {
    "duration": 9,
    "start_time": "2022-10-16T07:30:32.914Z"
   },
   {
    "duration": 20,
    "start_time": "2022-10-16T07:30:32.924Z"
   },
   {
    "duration": 19,
    "start_time": "2022-10-16T07:30:32.948Z"
   },
   {
    "duration": 22,
    "start_time": "2022-10-16T07:30:32.969Z"
   },
   {
    "duration": 145,
    "start_time": "2022-10-16T07:30:32.993Z"
   },
   {
    "duration": 15,
    "start_time": "2022-10-16T07:30:33.140Z"
   },
   {
    "duration": 35,
    "start_time": "2022-10-16T07:30:33.158Z"
   },
   {
    "duration": 16,
    "start_time": "2022-10-16T07:30:33.195Z"
   },
   {
    "duration": 1900,
    "start_time": "2022-10-16T07:30:33.213Z"
   },
   {
    "duration": 1062,
    "start_time": "2022-10-16T07:30:35.115Z"
   },
   {
    "duration": 13,
    "start_time": "2022-10-16T07:30:36.179Z"
   },
   {
    "duration": 10,
    "start_time": "2022-10-16T07:30:36.194Z"
   },
   {
    "duration": 35,
    "start_time": "2022-10-16T07:30:36.205Z"
   },
   {
    "duration": 13,
    "start_time": "2022-10-16T07:30:36.242Z"
   },
   {
    "duration": 40,
    "start_time": "2022-10-16T07:30:36.257Z"
   },
   {
    "duration": 23,
    "start_time": "2022-10-16T07:31:01.176Z"
   },
   {
    "duration": 1325,
    "start_time": "2022-10-16T07:31:05.809Z"
   },
   {
    "duration": 22,
    "start_time": "2022-10-16T07:31:07.136Z"
   },
   {
    "duration": 47,
    "start_time": "2022-10-16T07:31:07.159Z"
   },
   {
    "duration": 12,
    "start_time": "2022-10-16T07:31:07.208Z"
   },
   {
    "duration": 44,
    "start_time": "2022-10-16T07:31:07.222Z"
   },
   {
    "duration": 15,
    "start_time": "2022-10-16T07:31:07.267Z"
   },
   {
    "duration": 39,
    "start_time": "2022-10-16T07:31:07.283Z"
   },
   {
    "duration": 4,
    "start_time": "2022-10-16T07:31:07.324Z"
   },
   {
    "duration": 10,
    "start_time": "2022-10-16T07:31:07.329Z"
   },
   {
    "duration": 11,
    "start_time": "2022-10-16T07:31:07.341Z"
   },
   {
    "duration": 743,
    "start_time": "2022-10-16T07:31:07.354Z"
   },
   {
    "duration": 85,
    "start_time": "2022-10-16T07:31:08.099Z"
   },
   {
    "duration": 444,
    "start_time": "2022-10-16T07:31:08.185Z"
   },
   {
    "duration": 799,
    "start_time": "2022-10-16T07:31:08.631Z"
   },
   {
    "duration": 690,
    "start_time": "2022-10-16T07:31:09.432Z"
   },
   {
    "duration": 244,
    "start_time": "2022-10-16T07:31:10.124Z"
   },
   {
    "duration": 272,
    "start_time": "2022-10-16T07:31:10.369Z"
   },
   {
    "duration": 127,
    "start_time": "2022-10-16T07:31:10.643Z"
   },
   {
    "duration": 23,
    "start_time": "2022-10-16T07:31:10.771Z"
   },
   {
    "duration": 106,
    "start_time": "2022-10-16T07:31:10.796Z"
   },
   {
    "duration": 212,
    "start_time": "2022-10-16T07:31:10.904Z"
   },
   {
    "duration": 5,
    "start_time": "2022-10-16T07:31:11.122Z"
   },
   {
    "duration": 10,
    "start_time": "2022-10-16T07:31:11.128Z"
   },
   {
    "duration": 10,
    "start_time": "2022-10-16T07:31:11.139Z"
   },
   {
    "duration": 140,
    "start_time": "2022-10-16T07:31:11.150Z"
   },
   {
    "duration": 7,
    "start_time": "2022-10-16T07:31:11.292Z"
   },
   {
    "duration": 21,
    "start_time": "2022-10-16T07:31:11.301Z"
   },
   {
    "duration": 9,
    "start_time": "2022-10-16T07:31:11.326Z"
   },
   {
    "duration": 7,
    "start_time": "2022-10-16T07:31:11.336Z"
   },
   {
    "duration": 131,
    "start_time": "2022-10-16T07:31:11.344Z"
   },
   {
    "duration": 13,
    "start_time": "2022-10-16T07:31:11.476Z"
   },
   {
    "duration": 13,
    "start_time": "2022-10-16T07:31:11.490Z"
   },
   {
    "duration": 21,
    "start_time": "2022-10-16T07:31:11.504Z"
   },
   {
    "duration": 1022,
    "start_time": "2022-10-16T07:31:11.527Z"
   },
   {
    "duration": 1203,
    "start_time": "2022-10-16T07:31:12.550Z"
   },
   {
    "duration": 11,
    "start_time": "2022-10-16T07:31:13.755Z"
   },
   {
    "duration": 8,
    "start_time": "2022-10-16T07:31:13.767Z"
   },
   {
    "duration": 17,
    "start_time": "2022-10-16T07:31:13.777Z"
   },
   {
    "duration": 32,
    "start_time": "2022-10-16T07:31:13.795Z"
   },
   {
    "duration": 20,
    "start_time": "2022-10-16T07:31:13.828Z"
   },
   {
    "duration": 203,
    "start_time": "2022-10-16T07:39:49.283Z"
   },
   {
    "duration": 109,
    "start_time": "2022-10-16T07:40:44.472Z"
   },
   {
    "duration": 99,
    "start_time": "2022-10-16T07:41:10.803Z"
   },
   {
    "duration": 95,
    "start_time": "2022-10-16T07:42:00.945Z"
   },
   {
    "duration": 102,
    "start_time": "2022-10-16T07:42:16.378Z"
   },
   {
    "duration": 98,
    "start_time": "2022-10-16T07:42:29.395Z"
   },
   {
    "duration": 4,
    "start_time": "2022-10-16T07:42:45.013Z"
   },
   {
    "duration": 10,
    "start_time": "2022-10-16T07:44:58.124Z"
   },
   {
    "duration": 10,
    "start_time": "2022-10-16T07:45:22.015Z"
   },
   {
    "duration": 12,
    "start_time": "2022-10-16T07:45:39.745Z"
   },
   {
    "duration": 4,
    "start_time": "2022-10-16T07:46:36.679Z"
   },
   {
    "duration": 3,
    "start_time": "2022-10-16T07:47:15.720Z"
   },
   {
    "duration": 11,
    "start_time": "2022-10-16T07:47:20.116Z"
   },
   {
    "duration": 11,
    "start_time": "2022-10-16T07:48:39.189Z"
   },
   {
    "duration": 3,
    "start_time": "2022-10-16T07:48:42.717Z"
   },
   {
    "duration": 11,
    "start_time": "2022-10-16T07:48:49.149Z"
   },
   {
    "duration": 5,
    "start_time": "2022-10-16T07:49:13.269Z"
   },
   {
    "duration": 5,
    "start_time": "2022-10-16T07:49:16.668Z"
   },
   {
    "duration": 5,
    "start_time": "2022-10-16T07:49:20.505Z"
   },
   {
    "duration": 4,
    "start_time": "2022-10-16T07:49:26.930Z"
   },
   {
    "duration": 10,
    "start_time": "2022-10-16T07:49:31.547Z"
   },
   {
    "duration": 10,
    "start_time": "2022-10-16T07:50:33.363Z"
   },
   {
    "duration": 4,
    "start_time": "2022-10-16T07:50:54.485Z"
   },
   {
    "duration": 5,
    "start_time": "2022-10-16T07:51:11.486Z"
   },
   {
    "duration": 4,
    "start_time": "2022-10-16T07:51:18.303Z"
   },
   {
    "duration": 124,
    "start_time": "2022-10-16T07:51:25.104Z"
   },
   {
    "duration": 126,
    "start_time": "2022-10-16T07:51:32.704Z"
   },
   {
    "duration": 130,
    "start_time": "2022-10-16T07:52:39.625Z"
   },
   {
    "duration": 137,
    "start_time": "2022-10-16T07:56:23.306Z"
   },
   {
    "duration": 109,
    "start_time": "2022-10-16T07:58:00.989Z"
   },
   {
    "duration": 100,
    "start_time": "2022-10-16T07:58:09.267Z"
   },
   {
    "duration": 166,
    "start_time": "2022-10-16T07:58:20.151Z"
   },
   {
    "duration": 259,
    "start_time": "2022-10-16T07:58:27.591Z"
   },
   {
    "duration": 133,
    "start_time": "2022-10-16T08:00:20.679Z"
   },
   {
    "duration": 524,
    "start_time": "2022-10-16T08:00:34.575Z"
   },
   {
    "duration": 414,
    "start_time": "2022-10-16T08:00:44.230Z"
   },
   {
    "duration": 511,
    "start_time": "2022-10-16T08:01:57.368Z"
   },
   {
    "duration": 445,
    "start_time": "2022-10-16T08:02:07.345Z"
   },
   {
    "duration": 402,
    "start_time": "2022-10-16T08:03:08.375Z"
   },
   {
    "duration": 440,
    "start_time": "2022-10-16T08:03:17.273Z"
   },
   {
    "duration": 402,
    "start_time": "2022-10-16T08:04:22.440Z"
   },
   {
    "duration": 495,
    "start_time": "2022-10-16T08:04:28.897Z"
   },
   {
    "duration": 420,
    "start_time": "2022-10-16T08:04:33.129Z"
   },
   {
    "duration": 515,
    "start_time": "2022-10-16T08:04:37.177Z"
   },
   {
    "duration": 404,
    "start_time": "2022-10-16T08:04:43.426Z"
   },
   {
    "duration": 418,
    "start_time": "2022-10-16T08:04:46.962Z"
   },
   {
    "duration": 402,
    "start_time": "2022-10-16T08:04:49.939Z"
   },
   {
    "duration": 411,
    "start_time": "2022-10-16T08:05:22.399Z"
   },
   {
    "duration": 437,
    "start_time": "2022-10-16T08:05:44.689Z"
   },
   {
    "duration": 420,
    "start_time": "2022-10-16T08:07:59.657Z"
   },
   {
    "duration": 414,
    "start_time": "2022-10-16T08:12:38.274Z"
   },
   {
    "duration": 1223,
    "start_time": "2022-10-16T08:12:48.618Z"
   },
   {
    "duration": 1077,
    "start_time": "2022-10-16T08:13:25.615Z"
   },
   {
    "duration": 64,
    "start_time": "2022-10-16T08:13:37.168Z"
   },
   {
    "duration": 1150,
    "start_time": "2022-10-16T08:13:44.000Z"
   },
   {
    "duration": 1292,
    "start_time": "2022-10-16T08:14:44.959Z"
   },
   {
    "duration": 474,
    "start_time": "2022-10-16T08:15:02.042Z"
   },
   {
    "duration": 4,
    "start_time": "2022-10-16T08:22:34.317Z"
   },
   {
    "duration": 474,
    "start_time": "2022-10-16T08:23:09.802Z"
   },
   {
    "duration": 453,
    "start_time": "2022-10-16T08:23:19.593Z"
   },
   {
    "duration": 466,
    "start_time": "2022-10-16T08:23:27.123Z"
   },
   {
    "duration": 444,
    "start_time": "2022-10-16T08:23:56.950Z"
   },
   {
    "duration": 438,
    "start_time": "2022-10-16T08:24:26.058Z"
   },
   {
    "duration": 546,
    "start_time": "2022-10-16T08:24:32.938Z"
   },
   {
    "duration": 447,
    "start_time": "2022-10-16T08:24:41.779Z"
   },
   {
    "duration": 452,
    "start_time": "2022-10-16T08:25:07.039Z"
   },
   {
    "duration": 22,
    "start_time": "2022-10-16T08:44:59.515Z"
   },
   {
    "duration": 22,
    "start_time": "2022-10-16T08:47:33.784Z"
   },
   {
    "duration": 1342,
    "start_time": "2022-10-16T08:50:26.397Z"
   },
   {
    "duration": 22,
    "start_time": "2022-10-16T08:50:27.741Z"
   },
   {
    "duration": 48,
    "start_time": "2022-10-16T08:50:27.764Z"
   },
   {
    "duration": 12,
    "start_time": "2022-10-16T08:50:27.813Z"
   },
   {
    "duration": 45,
    "start_time": "2022-10-16T08:50:27.826Z"
   },
   {
    "duration": 4,
    "start_time": "2022-10-16T08:50:27.873Z"
   },
   {
    "duration": 17,
    "start_time": "2022-10-16T08:50:27.879Z"
   },
   {
    "duration": 40,
    "start_time": "2022-10-16T08:50:27.897Z"
   },
   {
    "duration": 477,
    "start_time": "2022-10-16T08:50:27.938Z"
   },
   {
    "duration": 5,
    "start_time": "2022-10-16T08:50:28.421Z"
   },
   {
    "duration": 11,
    "start_time": "2022-10-16T08:50:28.427Z"
   },
   {
    "duration": 766,
    "start_time": "2022-10-16T08:50:28.440Z"
   },
   {
    "duration": 82,
    "start_time": "2022-10-16T08:50:29.208Z"
   },
   {
    "duration": 245,
    "start_time": "2022-10-16T08:50:29.291Z"
   },
   {
    "duration": 347,
    "start_time": "2022-10-16T08:50:29.538Z"
   },
   {
    "duration": 443,
    "start_time": "2022-10-16T08:50:29.887Z"
   },
   {
    "duration": 251,
    "start_time": "2022-10-16T08:50:30.332Z"
   },
   {
    "duration": 269,
    "start_time": "2022-10-16T08:50:30.585Z"
   },
   {
    "duration": 215,
    "start_time": "2022-10-16T08:50:30.855Z"
   },
   {
    "duration": 27,
    "start_time": "2022-10-16T08:50:31.072Z"
   },
   {
    "duration": 116,
    "start_time": "2022-10-16T08:50:31.101Z"
   },
   {
    "duration": 101,
    "start_time": "2022-10-16T08:50:31.222Z"
   },
   {
    "duration": 6,
    "start_time": "2022-10-16T08:50:31.325Z"
   },
   {
    "duration": 25,
    "start_time": "2022-10-16T08:50:31.332Z"
   },
   {
    "duration": 16,
    "start_time": "2022-10-16T08:50:31.359Z"
   },
   {
    "duration": 118,
    "start_time": "2022-10-16T08:50:31.376Z"
   },
   {
    "duration": 5,
    "start_time": "2022-10-16T08:50:31.496Z"
   },
   {
    "duration": 21,
    "start_time": "2022-10-16T08:50:31.504Z"
   },
   {
    "duration": 8,
    "start_time": "2022-10-16T08:50:31.526Z"
   },
   {
    "duration": 5,
    "start_time": "2022-10-16T08:50:31.536Z"
   },
   {
    "duration": 120,
    "start_time": "2022-10-16T08:50:31.542Z"
   },
   {
    "duration": 12,
    "start_time": "2022-10-16T08:50:31.663Z"
   },
   {
    "duration": 8,
    "start_time": "2022-10-16T08:50:31.677Z"
   },
   {
    "duration": 6,
    "start_time": "2022-10-16T08:50:31.687Z"
   },
   {
    "duration": 983,
    "start_time": "2022-10-16T08:50:31.694Z"
   },
   {
    "duration": 973,
    "start_time": "2022-10-16T08:50:32.678Z"
   },
   {
    "duration": 10,
    "start_time": "2022-10-16T08:50:33.653Z"
   },
   {
    "duration": 4,
    "start_time": "2022-10-16T08:50:33.665Z"
   },
   {
    "duration": 16,
    "start_time": "2022-10-16T08:50:33.671Z"
   },
   {
    "duration": 8,
    "start_time": "2022-10-16T08:50:33.688Z"
   },
   {
    "duration": 20,
    "start_time": "2022-10-16T08:50:33.721Z"
   },
   {
    "duration": 1329,
    "start_time": "2022-10-16T08:51:21.507Z"
   },
   {
    "duration": 24,
    "start_time": "2022-10-16T08:51:22.838Z"
   },
   {
    "duration": 47,
    "start_time": "2022-10-16T08:51:22.863Z"
   },
   {
    "duration": 12,
    "start_time": "2022-10-16T08:51:22.912Z"
   },
   {
    "duration": 49,
    "start_time": "2022-10-16T08:51:22.925Z"
   },
   {
    "duration": 4,
    "start_time": "2022-10-16T08:51:22.975Z"
   },
   {
    "duration": 20,
    "start_time": "2022-10-16T08:51:22.981Z"
   },
   {
    "duration": 35,
    "start_time": "2022-10-16T08:51:23.002Z"
   },
   {
    "duration": 488,
    "start_time": "2022-10-16T08:51:23.039Z"
   },
   {
    "duration": 5,
    "start_time": "2022-10-16T08:51:23.529Z"
   },
   {
    "duration": 8,
    "start_time": "2022-10-16T08:51:23.536Z"
   },
   {
    "duration": 682,
    "start_time": "2022-10-16T08:51:25.922Z"
   },
   {
    "duration": 1955,
    "start_time": "2022-10-16T08:53:11.890Z"
   },
   {
    "duration": 23,
    "start_time": "2022-10-16T08:53:13.847Z"
   },
   {
    "duration": 69,
    "start_time": "2022-10-16T08:53:13.872Z"
   },
   {
    "duration": 12,
    "start_time": "2022-10-16T08:53:13.944Z"
   },
   {
    "duration": 65,
    "start_time": "2022-10-16T08:53:13.958Z"
   },
   {
    "duration": 5,
    "start_time": "2022-10-16T08:53:14.026Z"
   },
   {
    "duration": 34,
    "start_time": "2022-10-16T08:53:14.035Z"
   },
   {
    "duration": 31,
    "start_time": "2022-10-16T08:53:14.071Z"
   },
   {
    "duration": 568,
    "start_time": "2022-10-16T08:53:14.104Z"
   },
   {
    "duration": 5,
    "start_time": "2022-10-16T08:53:14.676Z"
   },
   {
    "duration": 11,
    "start_time": "2022-10-16T08:53:14.682Z"
   },
   {
    "duration": 816,
    "start_time": "2022-10-16T08:53:14.695Z"
   },
   {
    "duration": 90,
    "start_time": "2022-10-16T08:53:15.513Z"
   },
   {
    "duration": 295,
    "start_time": "2022-10-16T08:53:15.605Z"
   },
   {
    "duration": 391,
    "start_time": "2022-10-16T08:53:15.903Z"
   },
   {
    "duration": 510,
    "start_time": "2022-10-16T08:53:16.297Z"
   },
   {
    "duration": 271,
    "start_time": "2022-10-16T08:53:16.809Z"
   },
   {
    "duration": 312,
    "start_time": "2022-10-16T08:53:17.082Z"
   },
   {
    "duration": 263,
    "start_time": "2022-10-16T08:53:17.396Z"
   },
   {
    "duration": 26,
    "start_time": "2022-10-16T08:53:17.660Z"
   },
   {
    "duration": 120,
    "start_time": "2022-10-16T08:53:17.688Z"
   },
   {
    "duration": 106,
    "start_time": "2022-10-16T08:53:17.810Z"
   },
   {
    "duration": 7,
    "start_time": "2022-10-16T08:53:17.923Z"
   },
   {
    "duration": 24,
    "start_time": "2022-10-16T08:53:17.931Z"
   },
   {
    "duration": 13,
    "start_time": "2022-10-16T08:53:17.957Z"
   },
   {
    "duration": 141,
    "start_time": "2022-10-16T08:53:17.972Z"
   },
   {
    "duration": 10,
    "start_time": "2022-10-16T08:53:18.121Z"
   },
   {
    "duration": 18,
    "start_time": "2022-10-16T08:53:18.135Z"
   },
   {
    "duration": 12,
    "start_time": "2022-10-16T08:53:18.155Z"
   },
   {
    "duration": 7,
    "start_time": "2022-10-16T08:53:18.168Z"
   },
   {
    "duration": 140,
    "start_time": "2022-10-16T08:53:18.176Z"
   },
   {
    "duration": 21,
    "start_time": "2022-10-16T08:53:18.322Z"
   },
   {
    "duration": 26,
    "start_time": "2022-10-16T08:53:18.346Z"
   },
   {
    "duration": 6,
    "start_time": "2022-10-16T08:53:18.374Z"
   },
   {
    "duration": 1164,
    "start_time": "2022-10-16T08:53:18.381Z"
   },
   {
    "duration": 1180,
    "start_time": "2022-10-16T08:53:19.547Z"
   },
   {
    "duration": 14,
    "start_time": "2022-10-16T08:53:20.729Z"
   },
   {
    "duration": 6,
    "start_time": "2022-10-16T08:53:20.745Z"
   },
   {
    "duration": 17,
    "start_time": "2022-10-16T08:53:20.753Z"
   },
   {
    "duration": 9,
    "start_time": "2022-10-16T08:53:20.771Z"
   },
   {
    "duration": 58,
    "start_time": "2022-10-16T08:53:20.781Z"
   },
   {
    "duration": 6,
    "start_time": "2022-10-16T10:47:04.474Z"
   },
   {
    "duration": 7,
    "start_time": "2022-10-16T10:48:06.512Z"
   },
   {
    "duration": 8,
    "start_time": "2022-10-16T10:48:14.143Z"
   },
   {
    "duration": 1275,
    "start_time": "2022-10-16T10:50:36.164Z"
   },
   {
    "duration": 28,
    "start_time": "2022-10-16T10:50:37.442Z"
   },
   {
    "duration": 58,
    "start_time": "2022-10-16T10:50:37.472Z"
   },
   {
    "duration": 13,
    "start_time": "2022-10-16T10:50:37.532Z"
   },
   {
    "duration": 48,
    "start_time": "2022-10-16T10:50:37.547Z"
   },
   {
    "duration": 3,
    "start_time": "2022-10-16T10:50:37.597Z"
   },
   {
    "duration": 35,
    "start_time": "2022-10-16T10:50:37.602Z"
   },
   {
    "duration": 20,
    "start_time": "2022-10-16T10:50:37.638Z"
   },
   {
    "duration": 488,
    "start_time": "2022-10-16T10:50:37.660Z"
   },
   {
    "duration": 5,
    "start_time": "2022-10-16T10:50:38.150Z"
   },
   {
    "duration": 8,
    "start_time": "2022-10-16T10:50:38.156Z"
   },
   {
    "duration": 690,
    "start_time": "2022-10-16T10:50:38.165Z"
   },
   {
    "duration": 113,
    "start_time": "2022-10-16T10:50:38.857Z"
   },
   {
    "duration": 260,
    "start_time": "2022-10-16T10:50:38.972Z"
   },
   {
    "duration": 379,
    "start_time": "2022-10-16T10:50:39.233Z"
   },
   {
    "duration": 449,
    "start_time": "2022-10-16T10:50:39.614Z"
   },
   {
    "duration": 244,
    "start_time": "2022-10-16T10:50:40.065Z"
   },
   {
    "duration": 268,
    "start_time": "2022-10-16T10:50:40.311Z"
   },
   {
    "duration": 218,
    "start_time": "2022-10-16T10:50:40.581Z"
   },
   {
    "duration": 7,
    "start_time": "2022-10-16T10:50:40.801Z"
   },
   {
    "duration": 20,
    "start_time": "2022-10-16T10:50:40.809Z"
   },
   {
    "duration": 8,
    "start_time": "2022-10-16T10:50:40.831Z"
   },
   {
    "duration": 121,
    "start_time": "2022-10-16T10:50:40.841Z"
   },
   {
    "duration": 5,
    "start_time": "2022-10-16T10:50:40.964Z"
   },
   {
    "duration": 10,
    "start_time": "2022-10-16T10:50:40.971Z"
   },
   {
    "duration": 8,
    "start_time": "2022-10-16T10:50:40.982Z"
   },
   {
    "duration": 7,
    "start_time": "2022-10-16T10:50:40.992Z"
   },
   {
    "duration": 112,
    "start_time": "2022-10-16T10:50:41.021Z"
   },
   {
    "duration": 14,
    "start_time": "2022-10-16T10:50:41.135Z"
   },
   {
    "duration": 14,
    "start_time": "2022-10-16T10:50:41.150Z"
   },
   {
    "duration": 5,
    "start_time": "2022-10-16T10:50:41.166Z"
   },
   {
    "duration": 953,
    "start_time": "2022-10-16T10:50:41.172Z"
   },
   {
    "duration": 957,
    "start_time": "2022-10-16T10:50:42.126Z"
   },
   {
    "duration": 10,
    "start_time": "2022-10-16T10:50:43.084Z"
   },
   {
    "duration": 7,
    "start_time": "2022-10-16T10:50:43.096Z"
   },
   {
    "duration": 28,
    "start_time": "2022-10-16T10:50:43.104Z"
   },
   {
    "duration": 9,
    "start_time": "2022-10-16T10:50:43.134Z"
   },
   {
    "duration": 19,
    "start_time": "2022-10-16T10:50:43.145Z"
   },
   {
    "duration": 23,
    "start_time": "2022-10-16T10:50:43.165Z"
   },
   {
    "duration": 1296,
    "start_time": "2022-10-16T14:13:50.942Z"
   },
   {
    "duration": 23,
    "start_time": "2022-10-16T14:13:52.241Z"
   },
   {
    "duration": 49,
    "start_time": "2022-10-16T14:13:52.265Z"
   },
   {
    "duration": 17,
    "start_time": "2022-10-16T14:13:52.317Z"
   },
   {
    "duration": 51,
    "start_time": "2022-10-16T14:13:52.337Z"
   },
   {
    "duration": 4,
    "start_time": "2022-10-16T14:13:52.390Z"
   },
   {
    "duration": 37,
    "start_time": "2022-10-16T14:13:52.396Z"
   },
   {
    "duration": 22,
    "start_time": "2022-10-16T14:13:52.435Z"
   },
   {
    "duration": 483,
    "start_time": "2022-10-16T14:13:52.458Z"
   },
   {
    "duration": 5,
    "start_time": "2022-10-16T14:13:52.943Z"
   },
   {
    "duration": 11,
    "start_time": "2022-10-16T14:13:52.949Z"
   },
   {
    "duration": 708,
    "start_time": "2022-10-16T14:13:52.962Z"
   },
   {
    "duration": 87,
    "start_time": "2022-10-16T14:13:53.671Z"
   },
   {
    "duration": 243,
    "start_time": "2022-10-16T14:13:53.759Z"
   },
   {
    "duration": 346,
    "start_time": "2022-10-16T14:13:54.004Z"
   },
   {
    "duration": 434,
    "start_time": "2022-10-16T14:13:54.351Z"
   },
   {
    "duration": 257,
    "start_time": "2022-10-16T14:13:54.786Z"
   },
   {
    "duration": 337,
    "start_time": "2022-10-16T14:13:55.045Z"
   },
   {
    "duration": 212,
    "start_time": "2022-10-16T14:13:55.384Z"
   },
   {
    "duration": 5,
    "start_time": "2022-10-16T14:13:55.597Z"
   },
   {
    "duration": 18,
    "start_time": "2022-10-16T14:13:55.604Z"
   },
   {
    "duration": 8,
    "start_time": "2022-10-16T14:13:55.623Z"
   },
   {
    "duration": 136,
    "start_time": "2022-10-16T14:13:55.632Z"
   },
   {
    "duration": 5,
    "start_time": "2022-10-16T14:13:55.770Z"
   },
   {
    "duration": 10,
    "start_time": "2022-10-16T14:13:55.777Z"
   },
   {
    "duration": 8,
    "start_time": "2022-10-16T14:13:55.789Z"
   },
   {
    "duration": 26,
    "start_time": "2022-10-16T14:13:55.798Z"
   },
   {
    "duration": 109,
    "start_time": "2022-10-16T14:13:55.826Z"
   },
   {
    "duration": 13,
    "start_time": "2022-10-16T14:13:55.936Z"
   },
   {
    "duration": 13,
    "start_time": "2022-10-16T14:13:55.950Z"
   },
   {
    "duration": 5,
    "start_time": "2022-10-16T14:13:55.965Z"
   },
   {
    "duration": 973,
    "start_time": "2022-10-16T14:13:55.972Z"
   },
   {
    "duration": 974,
    "start_time": "2022-10-16T14:13:56.946Z"
   },
   {
    "duration": 11,
    "start_time": "2022-10-16T14:13:57.922Z"
   },
   {
    "duration": 20,
    "start_time": "2022-10-16T14:13:57.934Z"
   },
   {
    "duration": 34,
    "start_time": "2022-10-16T14:13:57.955Z"
   },
   {
    "duration": 16,
    "start_time": "2022-10-16T14:14:41.854Z"
   },
   {
    "duration": 6,
    "start_time": "2022-10-16T14:27:46.190Z"
   },
   {
    "duration": 9,
    "start_time": "2022-10-16T14:29:28.763Z"
   },
   {
    "duration": 7,
    "start_time": "2022-10-16T14:29:30.579Z"
   },
   {
    "duration": 9,
    "start_time": "2022-10-16T14:30:20.191Z"
   },
   {
    "duration": 7,
    "start_time": "2022-10-16T14:30:22.281Z"
   },
   {
    "duration": 10,
    "start_time": "2022-10-16T14:30:43.595Z"
   },
   {
    "duration": 11,
    "start_time": "2022-10-16T14:30:48.283Z"
   },
   {
    "duration": 10,
    "start_time": "2022-10-16T14:30:51.329Z"
   },
   {
    "duration": 10,
    "start_time": "2022-10-16T14:30:54.309Z"
   },
   {
    "duration": 10,
    "start_time": "2022-10-16T14:30:57.133Z"
   },
   {
    "duration": 10,
    "start_time": "2022-10-16T14:30:59.892Z"
   },
   {
    "duration": 10,
    "start_time": "2022-10-16T14:31:24.608Z"
   },
   {
    "duration": 8,
    "start_time": "2022-10-16T14:31:26.983Z"
   },
   {
    "duration": 9,
    "start_time": "2022-10-16T14:31:42.634Z"
   },
   {
    "duration": 10,
    "start_time": "2022-10-16T14:31:45.386Z"
   },
   {
    "duration": 9,
    "start_time": "2022-10-16T14:31:49.290Z"
   },
   {
    "duration": 10,
    "start_time": "2022-10-16T14:31:52.123Z"
   },
   {
    "duration": 8,
    "start_time": "2022-10-16T14:31:54.058Z"
   },
   {
    "duration": 10,
    "start_time": "2022-10-16T14:32:53.858Z"
   },
   {
    "duration": 10,
    "start_time": "2022-10-16T14:32:56.338Z"
   },
   {
    "duration": 8,
    "start_time": "2022-10-16T14:33:29.437Z"
   },
   {
    "duration": 5,
    "start_time": "2022-10-16T14:33:31.495Z"
   },
   {
    "duration": 14,
    "start_time": "2022-10-16T14:33:33.462Z"
   },
   {
    "duration": 9,
    "start_time": "2022-10-16T14:33:44.191Z"
   },
   {
    "duration": 10,
    "start_time": "2022-10-16T14:33:47.319Z"
   },
   {
    "duration": 7,
    "start_time": "2022-10-16T14:33:49.920Z"
   },
   {
    "duration": 8,
    "start_time": "2022-10-16T14:34:16.395Z"
   },
   {
    "duration": 7,
    "start_time": "2022-10-16T14:34:22.987Z"
   },
   {
    "duration": 5,
    "start_time": "2022-10-16T14:34:26.532Z"
   },
   {
    "duration": 15,
    "start_time": "2022-10-16T14:34:28.220Z"
   },
   {
    "duration": 9,
    "start_time": "2022-10-16T14:34:33.652Z"
   },
   {
    "duration": 8,
    "start_time": "2022-10-16T14:34:36.077Z"
   },
   {
    "duration": 10,
    "start_time": "2022-10-16T14:35:18.531Z"
   },
   {
    "duration": 8,
    "start_time": "2022-10-16T14:35:22.243Z"
   },
   {
    "duration": 10,
    "start_time": "2022-10-16T14:35:57.671Z"
   },
   {
    "duration": 9,
    "start_time": "2022-10-16T14:35:59.711Z"
   },
   {
    "duration": 11,
    "start_time": "2022-10-16T14:36:04.407Z"
   },
   {
    "duration": 8,
    "start_time": "2022-10-16T14:36:06.247Z"
   },
   {
    "duration": 10,
    "start_time": "2022-10-16T14:36:09.463Z"
   },
   {
    "duration": 8,
    "start_time": "2022-10-16T14:36:10.863Z"
   },
   {
    "duration": 9,
    "start_time": "2022-10-16T14:36:30.922Z"
   },
   {
    "duration": 9,
    "start_time": "2022-10-16T14:36:33.643Z"
   },
   {
    "duration": 9,
    "start_time": "2022-10-16T14:37:09.166Z"
   },
   {
    "duration": 5,
    "start_time": "2022-10-16T14:37:11.143Z"
   },
   {
    "duration": 15,
    "start_time": "2022-10-16T14:37:12.133Z"
   },
   {
    "duration": 11,
    "start_time": "2022-10-16T14:37:14.982Z"
   },
   {
    "duration": 9,
    "start_time": "2022-10-16T14:37:16.342Z"
   },
   {
    "duration": 12,
    "start_time": "2022-10-16T14:45:18.782Z"
   },
   {
    "duration": 10,
    "start_time": "2022-10-16T14:47:08.611Z"
   },
   {
    "duration": 8,
    "start_time": "2022-10-16T14:47:09.618Z"
   },
   {
    "duration": 5,
    "start_time": "2022-10-16T14:50:12.783Z"
   },
   {
    "duration": 7,
    "start_time": "2022-10-16T14:50:34.090Z"
   },
   {
    "duration": 5,
    "start_time": "2022-10-16T14:50:57.852Z"
   },
   {
    "duration": 5,
    "start_time": "2022-10-16T14:56:53.717Z"
   },
   {
    "duration": 24,
    "start_time": "2022-10-16T14:57:36.345Z"
   },
   {
    "duration": 870,
    "start_time": "2022-10-16T15:19:45.492Z"
   },
   {
    "duration": 457,
    "start_time": "2022-10-16T15:20:27.990Z"
   },
   {
    "duration": 3,
    "start_time": "2022-10-16T15:33:51.352Z"
   },
   {
    "duration": 3,
    "start_time": "2022-10-16T15:39:19.781Z"
   },
   {
    "duration": 3,
    "start_time": "2022-10-16T15:39:22.159Z"
   },
   {
    "duration": 3,
    "start_time": "2022-10-16T15:39:24.054Z"
   },
   {
    "duration": 163,
    "start_time": "2022-10-16T15:42:00.160Z"
   },
   {
    "duration": 26,
    "start_time": "2022-10-16T15:42:02.249Z"
   },
   {
    "duration": 149,
    "start_time": "2022-10-16T15:42:04.097Z"
   },
   {
    "duration": 166,
    "start_time": "2022-10-16T15:43:36.563Z"
   },
   {
    "duration": 31,
    "start_time": "2022-10-16T15:43:38.929Z"
   },
   {
    "duration": 28,
    "start_time": "2022-10-16T15:43:41.204Z"
   },
   {
    "duration": 31,
    "start_time": "2022-10-16T15:43:54.037Z"
   },
   {
    "duration": 147,
    "start_time": "2022-10-16T15:44:04.271Z"
   },
   {
    "duration": 162,
    "start_time": "2022-10-16T15:44:06.311Z"
   },
   {
    "duration": 3,
    "start_time": "2022-10-16T15:46:25.199Z"
   },
   {
    "duration": 4,
    "start_time": "2022-10-16T15:46:31.239Z"
   },
   {
    "duration": 108,
    "start_time": "2022-10-16T15:46:43.049Z"
   },
   {
    "duration": 4,
    "start_time": "2022-10-16T15:46:49.481Z"
   },
   {
    "duration": 4,
    "start_time": "2022-10-16T15:47:18.797Z"
   },
   {
    "duration": 4,
    "start_time": "2022-10-16T15:47:48.889Z"
   },
   {
    "duration": 3,
    "start_time": "2022-10-16T15:48:44.831Z"
   },
   {
    "duration": 116,
    "start_time": "2022-10-16T15:49:24.507Z"
   },
   {
    "duration": 138,
    "start_time": "2022-10-16T15:49:36.485Z"
   },
   {
    "duration": 115,
    "start_time": "2022-10-16T15:49:55.407Z"
   },
   {
    "duration": 19,
    "start_time": "2022-10-16T15:50:20.083Z"
   },
   {
    "duration": 97,
    "start_time": "2022-10-16T15:52:36.913Z"
   },
   {
    "duration": 2,
    "start_time": "2022-10-16T15:54:06.508Z"
   },
   {
    "duration": 4,
    "start_time": "2022-10-16T15:54:13.996Z"
   },
   {
    "duration": 171,
    "start_time": "2022-10-16T15:54:18.053Z"
   },
   {
    "duration": 24,
    "start_time": "2022-10-16T15:54:24.797Z"
   },
   {
    "duration": 133,
    "start_time": "2022-10-16T15:54:30.485Z"
   },
   {
    "duration": 3,
    "start_time": "2022-10-16T15:54:49.056Z"
   },
   {
    "duration": 4,
    "start_time": "2022-10-16T15:54:53.825Z"
   },
   {
    "duration": 183,
    "start_time": "2022-10-16T15:54:58.140Z"
   },
   {
    "duration": 22,
    "start_time": "2022-10-16T15:55:02.385Z"
   },
   {
    "duration": 119,
    "start_time": "2022-10-16T15:55:23.723Z"
   },
   {
    "duration": 2,
    "start_time": "2022-10-16T15:56:31.109Z"
   },
   {
    "duration": 4,
    "start_time": "2022-10-16T15:56:34.661Z"
   },
   {
    "duration": 319,
    "start_time": "2022-10-16T15:56:40.506Z"
   },
   {
    "duration": 21,
    "start_time": "2022-10-16T15:56:54.102Z"
   },
   {
    "duration": 126,
    "start_time": "2022-10-16T15:57:00.119Z"
   },
   {
    "duration": 2,
    "start_time": "2022-10-16T15:57:10.192Z"
   },
   {
    "duration": 3,
    "start_time": "2022-10-16T15:57:39.660Z"
   },
   {
    "duration": 3,
    "start_time": "2022-10-16T15:58:06.760Z"
   },
   {
    "duration": 128,
    "start_time": "2022-10-16T15:58:10.095Z"
   },
   {
    "duration": 28,
    "start_time": "2022-10-16T15:58:17.064Z"
   },
   {
    "duration": 146,
    "start_time": "2022-10-16T15:58:22.906Z"
   },
   {
    "duration": 4,
    "start_time": "2022-10-16T15:58:35.665Z"
   },
   {
    "duration": 390,
    "start_time": "2022-10-16T15:58:39.035Z"
   },
   {
    "duration": 26,
    "start_time": "2022-10-16T15:58:42.619Z"
   },
   {
    "duration": 147,
    "start_time": "2022-10-16T15:58:45.778Z"
   },
   {
    "duration": 4,
    "start_time": "2022-10-16T15:58:54.268Z"
   },
   {
    "duration": 127,
    "start_time": "2022-10-16T15:58:57.396Z"
   },
   {
    "duration": 35,
    "start_time": "2022-10-16T15:59:05.534Z"
   },
   {
    "duration": 177,
    "start_time": "2022-10-16T15:59:08.899Z"
   },
   {
    "duration": 5,
    "start_time": "2022-10-16T16:01:53.800Z"
   },
   {
    "duration": 142,
    "start_time": "2022-10-16T16:01:57.281Z"
   },
   {
    "duration": 28,
    "start_time": "2022-10-16T16:02:01.177Z"
   },
   {
    "duration": 152,
    "start_time": "2022-10-16T16:02:04.451Z"
   },
   {
    "duration": 4,
    "start_time": "2022-10-16T16:04:46.268Z"
   },
   {
    "duration": 2,
    "start_time": "2022-10-16T16:04:56.710Z"
   },
   {
    "duration": 4,
    "start_time": "2022-10-16T16:05:07.423Z"
   },
   {
    "duration": 2,
    "start_time": "2022-10-16T16:07:21.000Z"
   },
   {
    "duration": 2,
    "start_time": "2022-10-16T16:07:29.975Z"
   },
   {
    "duration": 12,
    "start_time": "2022-10-16T16:07:43.424Z"
   },
   {
    "duration": 3,
    "start_time": "2022-10-16T16:07:54.425Z"
   },
   {
    "duration": 7,
    "start_time": "2022-10-16T16:09:26.036Z"
   },
   {
    "duration": 3,
    "start_time": "2022-10-16T16:09:41.734Z"
   },
   {
    "duration": 2,
    "start_time": "2022-10-16T16:09:51.687Z"
   },
   {
    "duration": 4,
    "start_time": "2022-10-16T16:09:59.520Z"
   },
   {
    "duration": 4,
    "start_time": "2022-10-16T16:10:14.450Z"
   },
   {
    "duration": 3,
    "start_time": "2022-10-16T16:11:30.805Z"
   },
   {
    "duration": 4,
    "start_time": "2022-10-16T16:12:10.799Z"
   },
   {
    "duration": 3,
    "start_time": "2022-10-16T16:12:15.911Z"
   },
   {
    "duration": 4,
    "start_time": "2022-10-16T16:12:28.505Z"
   },
   {
    "duration": 4,
    "start_time": "2022-10-16T16:12:35.545Z"
   },
   {
    "duration": 4,
    "start_time": "2022-10-16T16:12:38.545Z"
   },
   {
    "duration": 5,
    "start_time": "2022-10-16T16:13:24.064Z"
   },
   {
    "duration": 4,
    "start_time": "2022-10-16T16:14:15.116Z"
   },
   {
    "duration": 4,
    "start_time": "2022-10-16T16:14:19.045Z"
   },
   {
    "duration": 4,
    "start_time": "2022-10-16T16:17:52.157Z"
   },
   {
    "duration": 865,
    "start_time": "2022-10-16T16:19:14.688Z"
   },
   {
    "duration": 876,
    "start_time": "2022-10-16T16:19:26.946Z"
   },
   {
    "duration": 2236,
    "start_time": "2022-10-16T16:20:49.587Z"
   },
   {
    "duration": 119,
    "start_time": "2022-10-16T16:21:47.737Z"
   },
   {
    "duration": 895,
    "start_time": "2022-10-16T16:22:01.906Z"
   },
   {
    "duration": 1898,
    "start_time": "2022-10-16T16:23:17.330Z"
   },
   {
    "duration": 143,
    "start_time": "2022-10-16T16:31:09.305Z"
   },
   {
    "duration": 843,
    "start_time": "2022-10-16T16:31:43.828Z"
   },
   {
    "duration": 843,
    "start_time": "2022-10-16T16:31:49.990Z"
   },
   {
    "duration": 906,
    "start_time": "2022-10-16T16:32:13.016Z"
   },
   {
    "duration": 127,
    "start_time": "2022-10-16T16:33:00.638Z"
   },
   {
    "duration": 1788,
    "start_time": "2022-10-16T16:33:35.041Z"
   },
   {
    "duration": 43,
    "start_time": "2022-10-16T16:38:46.471Z"
   },
   {
    "duration": 138,
    "start_time": "2022-10-16T16:39:23.785Z"
   },
   {
    "duration": 135,
    "start_time": "2022-10-16T16:39:31.937Z"
   },
   {
    "duration": 153,
    "start_time": "2022-10-16T16:41:40.305Z"
   },
   {
    "duration": 138,
    "start_time": "2022-10-16T16:41:57.266Z"
   },
   {
    "duration": 145,
    "start_time": "2022-10-16T16:42:07.772Z"
   },
   {
    "duration": 878,
    "start_time": "2022-10-16T16:42:57.233Z"
   },
   {
    "duration": 2087,
    "start_time": "2022-10-16T16:43:06.843Z"
   },
   {
    "duration": 197,
    "start_time": "2022-10-16T16:46:02.126Z"
   },
   {
    "duration": 209,
    "start_time": "2022-10-16T16:46:04.615Z"
   },
   {
    "duration": 1962,
    "start_time": "2022-10-16T16:46:06.463Z"
   },
   {
    "duration": 140,
    "start_time": "2022-10-16T16:46:33.585Z"
   },
   {
    "duration": 361,
    "start_time": "2022-10-16T16:46:35.762Z"
   },
   {
    "duration": 1530,
    "start_time": "2022-10-16T16:46:38.103Z"
   },
   {
    "duration": 342,
    "start_time": "2022-10-16T16:47:35.489Z"
   },
   {
    "duration": 157,
    "start_time": "2022-10-16T16:47:37.569Z"
   },
   {
    "duration": 219,
    "start_time": "2022-10-16T16:47:58.003Z"
   },
   {
    "duration": 207,
    "start_time": "2022-10-16T16:48:00.420Z"
   },
   {
    "duration": 1653,
    "start_time": "2022-10-16T16:48:02.676Z"
   },
   {
    "duration": 31,
    "start_time": "2022-10-16T16:48:48.826Z"
   },
   {
    "duration": 29,
    "start_time": "2022-10-16T16:48:50.945Z"
   },
   {
    "duration": 141,
    "start_time": "2022-10-16T16:48:52.968Z"
   },
   {
    "duration": 31,
    "start_time": "2022-10-16T16:49:14.652Z"
   },
   {
    "duration": 29,
    "start_time": "2022-10-16T16:49:16.677Z"
   },
   {
    "duration": 139,
    "start_time": "2022-10-16T16:49:20.548Z"
   },
   {
    "duration": 154,
    "start_time": "2022-10-16T16:50:10.197Z"
   },
   {
    "duration": 156,
    "start_time": "2022-10-16T16:50:12.219Z"
   },
   {
    "duration": 873,
    "start_time": "2022-10-16T16:50:14.443Z"
   },
   {
    "duration": 151,
    "start_time": "2022-10-16T16:50:33.437Z"
   },
   {
    "duration": 159,
    "start_time": "2022-10-16T16:50:35.614Z"
   },
   {
    "duration": 879,
    "start_time": "2022-10-16T16:50:38.037Z"
   },
   {
    "duration": 165,
    "start_time": "2022-10-16T16:57:01.084Z"
   },
   {
    "duration": 4,
    "start_time": "2022-10-16T16:58:27.451Z"
   },
   {
    "duration": 4,
    "start_time": "2022-10-16T17:00:49.780Z"
   },
   {
    "duration": 5,
    "start_time": "2022-10-16T17:03:07.888Z"
   },
   {
    "duration": 4,
    "start_time": "2022-10-16T17:03:59.689Z"
   },
   {
    "duration": 91,
    "start_time": "2022-10-16T17:04:10.107Z"
   },
   {
    "duration": 4,
    "start_time": "2022-10-16T17:04:24.275Z"
   },
   {
    "duration": 4,
    "start_time": "2022-10-16T17:04:39.894Z"
   },
   {
    "duration": 12,
    "start_time": "2022-10-16T17:05:30.083Z"
   },
   {
    "duration": 13,
    "start_time": "2022-10-16T17:05:59.430Z"
   },
   {
    "duration": 13,
    "start_time": "2022-10-16T17:06:36.235Z"
   },
   {
    "duration": 12,
    "start_time": "2022-10-16T17:06:50.444Z"
   },
   {
    "duration": 2053,
    "start_time": "2022-10-16T17:09:03.180Z"
   },
   {
    "duration": 143,
    "start_time": "2022-10-16T17:09:24.182Z"
   },
   {
    "duration": 163,
    "start_time": "2022-10-16T17:09:26.262Z"
   },
   {
    "duration": 1950,
    "start_time": "2022-10-16T17:09:28.382Z"
   },
   {
    "duration": 136,
    "start_time": "2022-10-16T17:13:01.592Z"
   },
   {
    "duration": 206,
    "start_time": "2022-10-16T17:13:03.623Z"
   },
   {
    "duration": 2420,
    "start_time": "2022-10-16T17:13:05.503Z"
   },
   {
    "duration": 184,
    "start_time": "2022-10-16T17:16:59.041Z"
   },
   {
    "duration": 376,
    "start_time": "2022-10-16T17:17:01.146Z"
   },
   {
    "duration": 2279,
    "start_time": "2022-10-16T17:17:04.344Z"
   },
   {
    "duration": 3,
    "start_time": "2022-10-16T17:17:20.436Z"
   },
   {
    "duration": 29,
    "start_time": "2022-10-16T17:17:27.764Z"
   },
   {
    "duration": 31,
    "start_time": "2022-10-16T17:17:29.899Z"
   },
   {
    "duration": 137,
    "start_time": "2022-10-16T17:17:32.413Z"
   },
   {
    "duration": 155,
    "start_time": "2022-10-16T17:17:35.350Z"
   },
   {
    "duration": 152,
    "start_time": "2022-10-16T17:17:37.325Z"
   },
   {
    "duration": 929,
    "start_time": "2022-10-16T17:17:40.494Z"
   },
   {
    "duration": 3,
    "start_time": "2022-10-16T17:18:21.018Z"
   },
   {
    "duration": 202,
    "start_time": "2022-10-16T17:19:13.823Z"
   },
   {
    "duration": 169,
    "start_time": "2022-10-16T17:19:15.154Z"
   },
   {
    "duration": 2500,
    "start_time": "2022-10-16T17:19:18.129Z"
   },
   {
    "duration": 29,
    "start_time": "2022-10-16T17:19:22.345Z"
   },
   {
    "duration": 29,
    "start_time": "2022-10-16T17:19:24.411Z"
   },
   {
    "duration": 136,
    "start_time": "2022-10-16T17:19:26.657Z"
   },
   {
    "duration": 154,
    "start_time": "2022-10-16T17:19:29.721Z"
   },
   {
    "duration": 173,
    "start_time": "2022-10-16T17:19:31.883Z"
   },
   {
    "duration": 963,
    "start_time": "2022-10-16T17:19:36.883Z"
   },
   {
    "duration": 3,
    "start_time": "2022-10-16T17:19:40.252Z"
   },
   {
    "duration": 182,
    "start_time": "2022-10-16T17:20:20.944Z"
   },
   {
    "duration": 153,
    "start_time": "2022-10-16T17:20:22.770Z"
   },
   {
    "duration": 2094,
    "start_time": "2022-10-16T17:20:24.537Z"
   },
   {
    "duration": 29,
    "start_time": "2022-10-16T17:20:41.987Z"
   },
   {
    "duration": 31,
    "start_time": "2022-10-16T17:20:44.015Z"
   },
   {
    "duration": 146,
    "start_time": "2022-10-16T17:20:46.075Z"
   },
   {
    "duration": 156,
    "start_time": "2022-10-16T17:20:52.220Z"
   },
   {
    "duration": 149,
    "start_time": "2022-10-16T17:20:54.209Z"
   },
   {
    "duration": 877,
    "start_time": "2022-10-16T17:20:56.219Z"
   },
   {
    "duration": 3,
    "start_time": "2022-10-16T17:21:22.820Z"
   },
   {
    "duration": 210,
    "start_time": "2022-10-16T17:24:57.116Z"
   },
   {
    "duration": 211,
    "start_time": "2022-10-16T17:24:59.015Z"
   },
   {
    "duration": 1960,
    "start_time": "2022-10-16T17:25:01.272Z"
   },
   {
    "duration": 1969,
    "start_time": "2022-10-16T17:25:08.561Z"
   },
   {
    "duration": 310,
    "start_time": "2022-10-16T17:25:17.714Z"
   },
   {
    "duration": 192,
    "start_time": "2022-10-16T17:25:19.634Z"
   },
   {
    "duration": 2108,
    "start_time": "2022-10-16T17:25:21.515Z"
   },
   {
    "duration": 31,
    "start_time": "2022-10-16T17:25:26.347Z"
   },
   {
    "duration": 30,
    "start_time": "2022-10-16T17:25:28.419Z"
   },
   {
    "duration": 139,
    "start_time": "2022-10-16T17:25:32.660Z"
   },
   {
    "duration": 157,
    "start_time": "2022-10-16T17:25:35.763Z"
   },
   {
    "duration": 156,
    "start_time": "2022-10-16T17:25:38.021Z"
   },
   {
    "duration": 894,
    "start_time": "2022-10-16T17:25:41.966Z"
   },
   {
    "duration": 4,
    "start_time": "2022-10-16T17:25:45.061Z"
   },
   {
    "duration": 10,
    "start_time": "2022-10-16T17:30:13.748Z"
   },
   {
    "duration": 196,
    "start_time": "2022-10-16T17:30:27.837Z"
   },
   {
    "duration": 57,
    "start_time": "2022-10-16T17:31:12.474Z"
   },
   {
    "duration": 194,
    "start_time": "2022-10-16T17:31:20.540Z"
   },
   {
    "duration": 28,
    "start_time": "2022-10-16T17:31:22.380Z"
   },
   {
    "duration": 201,
    "start_time": "2022-10-16T17:31:40.262Z"
   },
   {
    "duration": 165,
    "start_time": "2022-10-16T17:32:26.363Z"
   },
   {
    "duration": 31,
    "start_time": "2022-10-16T17:32:39.912Z"
   },
   {
    "duration": 192,
    "start_time": "2022-10-16T17:32:54.318Z"
   },
   {
    "duration": 311,
    "start_time": "2022-10-16T17:33:55.112Z"
   },
   {
    "duration": 251,
    "start_time": "2022-10-16T17:34:19.872Z"
   },
   {
    "duration": 31,
    "start_time": "2022-10-16T17:34:24.856Z"
   },
   {
    "duration": 31,
    "start_time": "2022-10-16T17:34:27.048Z"
   },
   {
    "duration": 216,
    "start_time": "2022-10-16T17:34:30.016Z"
   },
   {
    "duration": 185,
    "start_time": "2022-10-16T17:34:32.618Z"
   },
   {
    "duration": 193,
    "start_time": "2022-10-16T17:34:44.770Z"
   },
   {
    "duration": 194,
    "start_time": "2022-10-16T17:34:45.786Z"
   },
   {
    "duration": 195,
    "start_time": "2022-10-16T17:34:46.707Z"
   },
   {
    "duration": 177,
    "start_time": "2022-10-16T17:34:48.683Z"
   },
   {
    "duration": 1358,
    "start_time": "2022-10-16T17:34:58.676Z"
   },
   {
    "duration": 24,
    "start_time": "2022-10-16T17:35:00.036Z"
   },
   {
    "duration": 55,
    "start_time": "2022-10-16T17:35:00.062Z"
   },
   {
    "duration": 12,
    "start_time": "2022-10-16T17:35:00.119Z"
   },
   {
    "duration": 50,
    "start_time": "2022-10-16T17:35:00.134Z"
   },
   {
    "duration": 5,
    "start_time": "2022-10-16T17:35:00.186Z"
   },
   {
    "duration": 35,
    "start_time": "2022-10-16T17:35:00.192Z"
   },
   {
    "duration": 21,
    "start_time": "2022-10-16T17:35:00.229Z"
   },
   {
    "duration": 485,
    "start_time": "2022-10-16T17:35:00.252Z"
   },
   {
    "duration": 5,
    "start_time": "2022-10-16T17:35:00.739Z"
   },
   {
    "duration": 13,
    "start_time": "2022-10-16T17:35:00.746Z"
   },
   {
    "duration": 13,
    "start_time": "2022-10-16T17:35:00.761Z"
   },
   {
    "duration": 795,
    "start_time": "2022-10-16T17:35:00.776Z"
   },
   {
    "duration": 130,
    "start_time": "2022-10-16T17:35:01.574Z"
   },
   {
    "duration": 296,
    "start_time": "2022-10-16T17:35:01.706Z"
   },
   {
    "duration": 407,
    "start_time": "2022-10-16T17:35:02.003Z"
   },
   {
    "duration": 501,
    "start_time": "2022-10-16T17:35:02.412Z"
   },
   {
    "duration": 316,
    "start_time": "2022-10-16T17:35:02.915Z"
   },
   {
    "duration": 295,
    "start_time": "2022-10-16T17:35:03.233Z"
   },
   {
    "duration": 230,
    "start_time": "2022-10-16T17:35:03.530Z"
   },
   {
    "duration": 6,
    "start_time": "2022-10-16T17:35:03.762Z"
   },
   {
    "duration": 23,
    "start_time": "2022-10-16T17:35:03.769Z"
   },
   {
    "duration": 34,
    "start_time": "2022-10-16T17:35:03.794Z"
   },
   {
    "duration": 125,
    "start_time": "2022-10-16T17:35:03.830Z"
   },
   {
    "duration": 5,
    "start_time": "2022-10-16T17:35:03.957Z"
   },
   {
    "duration": 18,
    "start_time": "2022-10-16T17:35:03.964Z"
   },
   {
    "duration": 14,
    "start_time": "2022-10-16T17:35:03.983Z"
   },
   {
    "duration": 9,
    "start_time": "2022-10-16T17:35:03.999Z"
   },
   {
    "duration": 124,
    "start_time": "2022-10-16T17:35:04.010Z"
   },
   {
    "duration": 14,
    "start_time": "2022-10-16T17:35:04.135Z"
   },
   {
    "duration": 14,
    "start_time": "2022-10-16T17:35:04.151Z"
   },
   {
    "duration": 14,
    "start_time": "2022-10-16T17:35:04.167Z"
   },
   {
    "duration": 994,
    "start_time": "2022-10-16T17:35:04.183Z"
   },
   {
    "duration": 1007,
    "start_time": "2022-10-16T17:35:05.179Z"
   },
   {
    "duration": 14,
    "start_time": "2022-10-16T17:35:06.189Z"
   },
   {
    "duration": 22,
    "start_time": "2022-10-16T17:35:06.205Z"
   },
   {
    "duration": 6,
    "start_time": "2022-10-16T17:35:06.229Z"
   },
   {
    "duration": 17,
    "start_time": "2022-10-16T17:35:06.237Z"
   },
   {
    "duration": 117,
    "start_time": "2022-10-16T17:35:06.255Z"
   },
   {
    "duration": 0,
    "start_time": "2022-10-16T17:35:06.374Z"
   },
   {
    "duration": 0,
    "start_time": "2022-10-16T17:35:06.375Z"
   },
   {
    "duration": 0,
    "start_time": "2022-10-16T17:35:06.377Z"
   },
   {
    "duration": 0,
    "start_time": "2022-10-16T17:35:06.378Z"
   },
   {
    "duration": 0,
    "start_time": "2022-10-16T17:35:06.379Z"
   },
   {
    "duration": 0,
    "start_time": "2022-10-16T17:35:06.381Z"
   },
   {
    "duration": 0,
    "start_time": "2022-10-16T17:35:06.382Z"
   },
   {
    "duration": 0,
    "start_time": "2022-10-16T17:35:06.383Z"
   },
   {
    "duration": 0,
    "start_time": "2022-10-16T17:35:06.384Z"
   },
   {
    "duration": 0,
    "start_time": "2022-10-16T17:35:06.385Z"
   },
   {
    "duration": 0,
    "start_time": "2022-10-16T17:35:06.386Z"
   },
   {
    "duration": 0,
    "start_time": "2022-10-16T17:35:06.387Z"
   },
   {
    "duration": 0,
    "start_time": "2022-10-16T17:35:06.388Z"
   },
   {
    "duration": 0,
    "start_time": "2022-10-16T17:35:06.389Z"
   },
   {
    "duration": 0,
    "start_time": "2022-10-16T17:35:06.390Z"
   },
   {
    "duration": 0,
    "start_time": "2022-10-16T17:35:06.391Z"
   },
   {
    "duration": 0,
    "start_time": "2022-10-16T17:35:06.422Z"
   },
   {
    "duration": 0,
    "start_time": "2022-10-16T17:35:06.424Z"
   },
   {
    "duration": 0,
    "start_time": "2022-10-16T17:35:06.425Z"
   },
   {
    "duration": 0,
    "start_time": "2022-10-16T17:35:06.426Z"
   },
   {
    "duration": 1336,
    "start_time": "2022-10-16T17:35:49.899Z"
   },
   {
    "duration": 22,
    "start_time": "2022-10-16T17:35:51.237Z"
   },
   {
    "duration": 65,
    "start_time": "2022-10-16T17:35:51.261Z"
   },
   {
    "duration": 12,
    "start_time": "2022-10-16T17:35:51.328Z"
   },
   {
    "duration": 47,
    "start_time": "2022-10-16T17:35:51.341Z"
   },
   {
    "duration": 4,
    "start_time": "2022-10-16T17:35:51.390Z"
   },
   {
    "duration": 15,
    "start_time": "2022-10-16T17:35:51.421Z"
   },
   {
    "duration": 22,
    "start_time": "2022-10-16T17:35:51.437Z"
   },
   {
    "duration": 462,
    "start_time": "2022-10-16T17:35:51.460Z"
   },
   {
    "duration": 4,
    "start_time": "2022-10-16T17:35:51.925Z"
   },
   {
    "duration": 25,
    "start_time": "2022-10-16T17:35:51.930Z"
   },
   {
    "duration": 33,
    "start_time": "2022-10-16T17:35:51.957Z"
   },
   {
    "duration": 698,
    "start_time": "2022-10-16T17:35:51.991Z"
   },
   {
    "duration": 85,
    "start_time": "2022-10-16T17:35:52.691Z"
   },
   {
    "duration": 265,
    "start_time": "2022-10-16T17:35:52.778Z"
   },
   {
    "duration": 352,
    "start_time": "2022-10-16T17:35:53.045Z"
   },
   {
    "duration": 437,
    "start_time": "2022-10-16T17:35:53.399Z"
   },
   {
    "duration": 239,
    "start_time": "2022-10-16T17:35:53.838Z"
   },
   {
    "duration": 271,
    "start_time": "2022-10-16T17:35:54.079Z"
   },
   {
    "duration": 214,
    "start_time": "2022-10-16T17:35:54.352Z"
   },
   {
    "duration": 5,
    "start_time": "2022-10-16T17:35:54.567Z"
   },
   {
    "duration": 12,
    "start_time": "2022-10-16T17:35:54.573Z"
   },
   {
    "duration": 7,
    "start_time": "2022-10-16T17:35:54.587Z"
   },
   {
    "duration": 130,
    "start_time": "2022-10-16T17:35:54.596Z"
   },
   {
    "duration": 5,
    "start_time": "2022-10-16T17:35:54.728Z"
   },
   {
    "duration": 17,
    "start_time": "2022-10-16T17:35:54.734Z"
   },
   {
    "duration": 7,
    "start_time": "2022-10-16T17:35:54.753Z"
   },
   {
    "duration": 4,
    "start_time": "2022-10-16T17:35:54.763Z"
   },
   {
    "duration": 128,
    "start_time": "2022-10-16T17:35:54.769Z"
   },
   {
    "duration": 12,
    "start_time": "2022-10-16T17:35:54.898Z"
   },
   {
    "duration": 17,
    "start_time": "2022-10-16T17:35:54.911Z"
   },
   {
    "duration": 6,
    "start_time": "2022-10-16T17:35:54.929Z"
   },
   {
    "duration": 969,
    "start_time": "2022-10-16T17:35:54.936Z"
   },
   {
    "duration": 964,
    "start_time": "2022-10-16T17:35:55.906Z"
   },
   {
    "duration": 10,
    "start_time": "2022-10-16T17:35:56.872Z"
   },
   {
    "duration": 14,
    "start_time": "2022-10-16T17:35:56.884Z"
   },
   {
    "duration": 5,
    "start_time": "2022-10-16T17:35:56.899Z"
   },
   {
    "duration": 25,
    "start_time": "2022-10-16T17:35:56.906Z"
   },
   {
    "duration": 22,
    "start_time": "2022-10-16T17:35:56.933Z"
   },
   {
    "duration": 13,
    "start_time": "2022-10-16T17:35:56.957Z"
   },
   {
    "duration": 43,
    "start_time": "2022-10-16T17:35:56.972Z"
   },
   {
    "duration": 213,
    "start_time": "2022-10-16T17:35:57.016Z"
   },
   {
    "duration": 302,
    "start_time": "2022-10-16T17:35:57.231Z"
   },
   {
    "duration": 2100,
    "start_time": "2022-10-16T17:35:57.623Z"
   },
   {
    "duration": 30,
    "start_time": "2022-10-16T17:35:59.724Z"
   },
   {
    "duration": 28,
    "start_time": "2022-10-16T17:35:59.755Z"
   },
   {
    "duration": 162,
    "start_time": "2022-10-16T17:35:59.785Z"
   },
   {
    "duration": 161,
    "start_time": "2022-10-16T17:35:59.948Z"
   },
   {
    "duration": 163,
    "start_time": "2022-10-16T17:36:00.110Z"
   },
   {
    "duration": 888,
    "start_time": "2022-10-16T17:36:00.275Z"
   },
   {
    "duration": 168,
    "start_time": "2022-10-16T17:36:01.165Z"
   },
   {
    "duration": 5,
    "start_time": "2022-10-16T17:36:01.334Z"
   },
   {
    "duration": 38,
    "start_time": "2022-10-16T17:36:01.341Z"
   },
   {
    "duration": 244,
    "start_time": "2022-10-16T17:36:01.380Z"
   },
   {
    "duration": 303,
    "start_time": "2022-10-16T17:36:01.626Z"
   },
   {
    "duration": 206,
    "start_time": "2022-10-16T17:36:01.932Z"
   },
   {
    "duration": 19,
    "start_time": "2022-10-16T17:36:02.140Z"
   },
   {
    "duration": 216,
    "start_time": "2022-10-16T17:36:02.160Z"
   },
   {
    "duration": 129,
    "start_time": "2022-10-16T17:36:02.378Z"
   },
   {
    "duration": 246,
    "start_time": "2022-10-16T17:36:35.377Z"
   },
   {
    "duration": 396,
    "start_time": "2022-10-16T17:36:35.627Z"
   },
   {
    "duration": 121,
    "start_time": "2022-10-16T17:36:36.025Z"
   },
   {
    "duration": 18,
    "start_time": "2022-10-16T17:36:36.148Z"
   },
   {
    "duration": 216,
    "start_time": "2022-10-16T17:36:36.168Z"
   },
   {
    "duration": 130,
    "start_time": "2022-10-16T17:36:36.385Z"
   },
   {
    "duration": 1293,
    "start_time": "2022-10-16T17:36:57.227Z"
   },
   {
    "duration": 22,
    "start_time": "2022-10-16T17:36:58.522Z"
   },
   {
    "duration": 49,
    "start_time": "2022-10-16T17:36:58.545Z"
   },
   {
    "duration": 12,
    "start_time": "2022-10-16T17:36:58.595Z"
   },
   {
    "duration": 47,
    "start_time": "2022-10-16T17:36:58.608Z"
   },
   {
    "duration": 4,
    "start_time": "2022-10-16T17:36:58.657Z"
   },
   {
    "duration": 18,
    "start_time": "2022-10-16T17:36:58.662Z"
   },
   {
    "duration": 20,
    "start_time": "2022-10-16T17:36:58.682Z"
   },
   {
    "duration": 527,
    "start_time": "2022-10-16T17:36:58.722Z"
   },
   {
    "duration": 4,
    "start_time": "2022-10-16T17:36:59.252Z"
   },
   {
    "duration": 6,
    "start_time": "2022-10-16T17:36:59.258Z"
   },
   {
    "duration": 11,
    "start_time": "2022-10-16T17:36:59.265Z"
   },
   {
    "duration": 682,
    "start_time": "2022-10-16T17:36:59.277Z"
   },
   {
    "duration": 83,
    "start_time": "2022-10-16T17:36:59.960Z"
   },
   {
    "duration": 240,
    "start_time": "2022-10-16T17:37:00.045Z"
   },
   {
    "duration": 340,
    "start_time": "2022-10-16T17:37:00.287Z"
   },
   {
    "duration": 458,
    "start_time": "2022-10-16T17:37:00.629Z"
   },
   {
    "duration": 247,
    "start_time": "2022-10-16T17:37:01.089Z"
   },
   {
    "duration": 273,
    "start_time": "2022-10-16T17:37:01.338Z"
   },
   {
    "duration": 225,
    "start_time": "2022-10-16T17:37:01.613Z"
   },
   {
    "duration": 6,
    "start_time": "2022-10-16T17:37:01.839Z"
   },
   {
    "duration": 21,
    "start_time": "2022-10-16T17:37:01.846Z"
   },
   {
    "duration": 14,
    "start_time": "2022-10-16T17:37:01.869Z"
   },
   {
    "duration": 137,
    "start_time": "2022-10-16T17:37:01.885Z"
   },
   {
    "duration": 7,
    "start_time": "2022-10-16T17:37:02.024Z"
   },
   {
    "duration": 36,
    "start_time": "2022-10-16T17:37:02.033Z"
   },
   {
    "duration": 13,
    "start_time": "2022-10-16T17:37:02.071Z"
   },
   {
    "duration": 7,
    "start_time": "2022-10-16T17:37:02.089Z"
   },
   {
    "duration": 106,
    "start_time": "2022-10-16T17:37:02.098Z"
   },
   {
    "duration": 12,
    "start_time": "2022-10-16T17:37:02.205Z"
   },
   {
    "duration": 14,
    "start_time": "2022-10-16T17:37:02.222Z"
   },
   {
    "duration": 5,
    "start_time": "2022-10-16T17:37:02.238Z"
   },
   {
    "duration": 980,
    "start_time": "2022-10-16T17:37:02.245Z"
   },
   {
    "duration": 976,
    "start_time": "2022-10-16T17:37:03.227Z"
   },
   {
    "duration": 19,
    "start_time": "2022-10-16T17:37:04.204Z"
   },
   {
    "duration": 7,
    "start_time": "2022-10-16T17:37:04.225Z"
   },
   {
    "duration": 5,
    "start_time": "2022-10-16T17:37:04.233Z"
   },
   {
    "duration": 17,
    "start_time": "2022-10-16T17:37:04.240Z"
   },
   {
    "duration": 10,
    "start_time": "2022-10-16T17:37:04.258Z"
   },
   {
    "duration": 8,
    "start_time": "2022-10-16T17:37:04.269Z"
   },
   {
    "duration": 54,
    "start_time": "2022-10-16T17:37:04.279Z"
   },
   {
    "duration": 192,
    "start_time": "2022-10-16T17:37:04.335Z"
   },
   {
    "duration": 298,
    "start_time": "2022-10-16T17:37:04.532Z"
   },
   {
    "duration": 2390,
    "start_time": "2022-10-16T17:37:04.832Z"
   },
   {
    "duration": 29,
    "start_time": "2022-10-16T17:37:07.224Z"
   },
   {
    "duration": 28,
    "start_time": "2022-10-16T17:37:07.254Z"
   },
   {
    "duration": 149,
    "start_time": "2022-10-16T17:37:07.284Z"
   },
   {
    "duration": 243,
    "start_time": "2022-10-16T17:37:07.435Z"
   },
   {
    "duration": 222,
    "start_time": "2022-10-16T17:37:07.680Z"
   },
   {
    "duration": 891,
    "start_time": "2022-10-16T17:37:07.903Z"
   },
   {
    "duration": 189,
    "start_time": "2022-10-16T17:37:08.796Z"
   },
   {
    "duration": 6,
    "start_time": "2022-10-16T17:37:08.987Z"
   },
   {
    "duration": 35,
    "start_time": "2022-10-16T17:37:08.995Z"
   },
   {
    "duration": 295,
    "start_time": "2022-10-16T17:37:09.032Z"
   },
   {
    "duration": 299,
    "start_time": "2022-10-16T17:37:09.330Z"
   },
   {
    "duration": 200,
    "start_time": "2022-10-16T17:37:09.631Z"
   },
   {
    "duration": 21,
    "start_time": "2022-10-16T17:37:09.833Z"
   },
   {
    "duration": 216,
    "start_time": "2022-10-16T17:37:09.856Z"
   },
   {
    "duration": 138,
    "start_time": "2022-10-16T17:37:10.075Z"
   },
   {
    "duration": 317,
    "start_time": "2022-10-16T17:43:10.912Z"
   },
   {
    "duration": 11,
    "start_time": "2022-10-16T17:49:53.975Z"
   },
   {
    "duration": 20,
    "start_time": "2022-10-16T17:51:53.108Z"
   },
   {
    "duration": 20,
    "start_time": "2022-10-16T17:51:53.858Z"
   },
   {
    "duration": 19,
    "start_time": "2022-10-16T17:51:54.507Z"
   },
   {
    "duration": 19,
    "start_time": "2022-10-16T17:51:55.123Z"
   },
   {
    "duration": 24,
    "start_time": "2022-10-16T17:51:55.714Z"
   },
   {
    "duration": 32,
    "start_time": "2022-10-16T17:51:57.707Z"
   },
   {
    "duration": 22,
    "start_time": "2022-10-16T17:52:51.338Z"
   },
   {
    "duration": 22,
    "start_time": "2022-10-16T17:53:13.156Z"
   },
   {
    "duration": 23,
    "start_time": "2022-10-16T17:53:18.508Z"
   },
   {
    "duration": 1324,
    "start_time": "2022-10-16T17:53:22.889Z"
   },
   {
    "duration": 24,
    "start_time": "2022-10-16T17:53:24.215Z"
   },
   {
    "duration": 65,
    "start_time": "2022-10-16T17:53:24.240Z"
   },
   {
    "duration": 11,
    "start_time": "2022-10-16T17:53:24.308Z"
   },
   {
    "duration": 44,
    "start_time": "2022-10-16T17:53:24.321Z"
   },
   {
    "duration": 3,
    "start_time": "2022-10-16T17:53:24.367Z"
   },
   {
    "duration": 23,
    "start_time": "2022-10-16T17:53:24.372Z"
   },
   {
    "duration": 34,
    "start_time": "2022-10-16T17:53:24.396Z"
   },
   {
    "duration": 459,
    "start_time": "2022-10-16T17:53:24.431Z"
   },
   {
    "duration": 5,
    "start_time": "2022-10-16T17:53:24.893Z"
   },
   {
    "duration": 19,
    "start_time": "2022-10-16T17:53:24.900Z"
   },
   {
    "duration": 17,
    "start_time": "2022-10-16T17:53:24.921Z"
   },
   {
    "duration": 685,
    "start_time": "2022-10-16T17:53:24.939Z"
   },
   {
    "duration": 102,
    "start_time": "2022-10-16T17:53:25.626Z"
   },
   {
    "duration": 258,
    "start_time": "2022-10-16T17:53:25.729Z"
   },
   {
    "duration": 350,
    "start_time": "2022-10-16T17:53:25.988Z"
   },
   {
    "duration": 431,
    "start_time": "2022-10-16T17:53:26.340Z"
   },
   {
    "duration": 244,
    "start_time": "2022-10-16T17:53:26.772Z"
   },
   {
    "duration": 272,
    "start_time": "2022-10-16T17:53:27.018Z"
   },
   {
    "duration": 224,
    "start_time": "2022-10-16T17:53:27.292Z"
   },
   {
    "duration": 8,
    "start_time": "2022-10-16T17:53:27.518Z"
   },
   {
    "duration": 17,
    "start_time": "2022-10-16T17:53:27.527Z"
   },
   {
    "duration": 33,
    "start_time": "2022-10-16T17:53:27.546Z"
   },
   {
    "duration": 112,
    "start_time": "2022-10-16T17:53:27.581Z"
   },
   {
    "duration": 5,
    "start_time": "2022-10-16T17:53:27.695Z"
   },
   {
    "duration": 33,
    "start_time": "2022-10-16T17:53:27.701Z"
   },
   {
    "duration": 31,
    "start_time": "2022-10-16T17:53:27.735Z"
   },
   {
    "duration": 26,
    "start_time": "2022-10-16T17:53:27.770Z"
   },
   {
    "duration": 126,
    "start_time": "2022-10-16T17:53:27.798Z"
   },
   {
    "duration": 14,
    "start_time": "2022-10-16T17:53:27.926Z"
   },
   {
    "duration": 41,
    "start_time": "2022-10-16T17:53:27.942Z"
   },
   {
    "duration": 23,
    "start_time": "2022-10-16T17:53:27.984Z"
   },
   {
    "duration": 961,
    "start_time": "2022-10-16T17:53:28.008Z"
   },
   {
    "duration": 993,
    "start_time": "2022-10-16T17:53:28.971Z"
   },
   {
    "duration": 11,
    "start_time": "2022-10-16T17:53:29.966Z"
   },
   {
    "duration": 6,
    "start_time": "2022-10-16T17:53:29.979Z"
   },
   {
    "duration": 5,
    "start_time": "2022-10-16T17:53:29.986Z"
   },
   {
    "duration": 35,
    "start_time": "2022-10-16T17:53:29.993Z"
   },
   {
    "duration": 10,
    "start_time": "2022-10-16T17:53:30.030Z"
   },
   {
    "duration": 9,
    "start_time": "2022-10-16T17:53:30.042Z"
   },
   {
    "duration": 26,
    "start_time": "2022-10-16T17:53:30.052Z"
   },
   {
    "duration": 11,
    "start_time": "2022-10-16T17:53:30.080Z"
   },
   {
    "duration": 233,
    "start_time": "2022-10-16T17:53:30.093Z"
   },
   {
    "duration": 395,
    "start_time": "2022-10-16T17:53:30.328Z"
   },
   {
    "duration": 2396,
    "start_time": "2022-10-16T17:53:30.725Z"
   },
   {
    "duration": 30,
    "start_time": "2022-10-16T17:53:33.123Z"
   },
   {
    "duration": 28,
    "start_time": "2022-10-16T17:53:33.155Z"
   },
   {
    "duration": 163,
    "start_time": "2022-10-16T17:53:33.185Z"
   },
   {
    "duration": 160,
    "start_time": "2022-10-16T17:53:33.350Z"
   },
   {
    "duration": 156,
    "start_time": "2022-10-16T17:53:33.512Z"
   },
   {
    "duration": 899,
    "start_time": "2022-10-16T17:53:33.670Z"
   },
   {
    "duration": 156,
    "start_time": "2022-10-16T17:53:34.570Z"
   },
   {
    "duration": 5,
    "start_time": "2022-10-16T17:53:34.727Z"
   },
   {
    "duration": 17,
    "start_time": "2022-10-16T17:53:34.733Z"
   },
   {
    "duration": 177,
    "start_time": "2022-10-16T17:53:34.752Z"
   },
   {
    "duration": 300,
    "start_time": "2022-10-16T17:53:34.931Z"
   },
   {
    "duration": 30,
    "start_time": "2022-10-16T17:53:35.323Z"
   },
   {
    "duration": 20,
    "start_time": "2022-10-16T17:53:35.355Z"
   },
   {
    "duration": 203,
    "start_time": "2022-10-16T17:53:35.423Z"
   },
   {
    "duration": 139,
    "start_time": "2022-10-16T17:53:35.628Z"
   },
   {
    "duration": 376,
    "start_time": "2022-10-16T17:53:35.769Z"
   },
   {
    "duration": 5,
    "start_time": "2022-10-16T17:55:23.880Z"
   },
   {
    "duration": 31,
    "start_time": "2022-10-16T17:55:23.887Z"
   },
   {
    "duration": 114,
    "start_time": "2022-10-16T17:55:23.920Z"
   },
   {
    "duration": 392,
    "start_time": "2022-10-16T17:55:24.037Z"
   },
   {
    "duration": 199,
    "start_time": "2022-10-16T17:55:24.431Z"
   },
   {
    "duration": 23,
    "start_time": "2022-10-16T17:55:24.631Z"
   },
   {
    "duration": 220,
    "start_time": "2022-10-16T17:55:24.656Z"
   },
   {
    "duration": 184,
    "start_time": "2022-10-16T17:55:24.878Z"
   },
   {
    "duration": 318,
    "start_time": "2022-10-16T17:55:25.064Z"
   },
   {
    "duration": 25840,
    "start_time": "2022-10-16T17:58:56.148Z"
   },
   {
    "duration": 25506,
    "start_time": "2022-10-16T17:59:43.841Z"
   },
   {
    "duration": 29258,
    "start_time": "2022-10-16T18:00:53.721Z"
   },
   {
    "duration": 13677,
    "start_time": "2022-10-16T18:01:58.720Z"
   },
   {
    "duration": 108,
    "start_time": "2022-10-16T18:02:57.023Z"
   },
   {
    "duration": 13595,
    "start_time": "2022-10-16T18:03:09.224Z"
   },
   {
    "duration": 363,
    "start_time": "2022-10-16T18:03:30.866Z"
   },
   {
    "duration": 15520,
    "start_time": "2022-10-16T18:04:43.986Z"
   },
   {
    "duration": 20834,
    "start_time": "2022-10-16T18:05:18.231Z"
   },
   {
    "duration": 40795,
    "start_time": "2022-10-16T18:05:46.505Z"
   },
   {
    "duration": 8,
    "start_time": "2022-10-16T18:07:47.864Z"
   },
   {
    "duration": 1395,
    "start_time": "2022-10-16T18:08:18.614Z"
   },
   {
    "duration": 22,
    "start_time": "2022-10-16T18:08:20.011Z"
   },
   {
    "duration": 53,
    "start_time": "2022-10-16T18:08:20.034Z"
   },
   {
    "duration": 11,
    "start_time": "2022-10-16T18:08:20.089Z"
   },
   {
    "duration": 45,
    "start_time": "2022-10-16T18:08:20.102Z"
   },
   {
    "duration": 4,
    "start_time": "2022-10-16T18:08:20.149Z"
   },
   {
    "duration": 23,
    "start_time": "2022-10-16T18:08:20.154Z"
   },
   {
    "duration": 20,
    "start_time": "2022-10-16T18:08:20.178Z"
   },
   {
    "duration": 480,
    "start_time": "2022-10-16T18:08:20.199Z"
   },
   {
    "duration": 4,
    "start_time": "2022-10-16T18:08:20.681Z"
   },
   {
    "duration": 6,
    "start_time": "2022-10-16T18:08:20.686Z"
   },
   {
    "duration": 7,
    "start_time": "2022-10-16T18:08:20.693Z"
   },
   {
    "duration": 705,
    "start_time": "2022-10-16T18:08:20.701Z"
   },
   {
    "duration": 85,
    "start_time": "2022-10-16T18:08:21.408Z"
   },
   {
    "duration": 237,
    "start_time": "2022-10-16T18:08:21.495Z"
   },
   {
    "duration": 349,
    "start_time": "2022-10-16T18:08:21.734Z"
   },
   {
    "duration": 426,
    "start_time": "2022-10-16T18:08:22.086Z"
   },
   {
    "duration": 236,
    "start_time": "2022-10-16T18:08:22.514Z"
   },
   {
    "duration": 272,
    "start_time": "2022-10-16T18:08:22.752Z"
   },
   {
    "duration": 222,
    "start_time": "2022-10-16T18:08:23.026Z"
   },
   {
    "duration": 6,
    "start_time": "2022-10-16T18:08:23.249Z"
   },
   {
    "duration": 12,
    "start_time": "2022-10-16T18:08:23.256Z"
   },
   {
    "duration": 23,
    "start_time": "2022-10-16T18:08:23.269Z"
   },
   {
    "duration": 110,
    "start_time": "2022-10-16T18:08:23.294Z"
   },
   {
    "duration": 5,
    "start_time": "2022-10-16T18:08:23.406Z"
   },
   {
    "duration": 15,
    "start_time": "2022-10-16T18:08:23.423Z"
   },
   {
    "duration": 19,
    "start_time": "2022-10-16T18:08:23.439Z"
   },
   {
    "duration": 7,
    "start_time": "2022-10-16T18:08:23.461Z"
   },
   {
    "duration": 110,
    "start_time": "2022-10-16T18:08:23.470Z"
   },
   {
    "duration": 12,
    "start_time": "2022-10-16T18:08:23.582Z"
   },
   {
    "duration": 22,
    "start_time": "2022-10-16T18:08:23.595Z"
   },
   {
    "duration": 13,
    "start_time": "2022-10-16T18:08:23.622Z"
   },
   {
    "duration": 949,
    "start_time": "2022-10-16T18:08:23.636Z"
   },
   {
    "duration": 1001,
    "start_time": "2022-10-16T18:08:24.586Z"
   },
   {
    "duration": 10,
    "start_time": "2022-10-16T18:08:25.589Z"
   },
   {
    "duration": 23,
    "start_time": "2022-10-16T18:08:25.601Z"
   },
   {
    "duration": 5,
    "start_time": "2022-10-16T18:08:25.625Z"
   },
   {
    "duration": 22,
    "start_time": "2022-10-16T18:08:25.631Z"
   },
   {
    "duration": 10,
    "start_time": "2022-10-16T18:08:25.656Z"
   },
   {
    "duration": 20,
    "start_time": "2022-10-16T18:08:25.668Z"
   },
   {
    "duration": 38,
    "start_time": "2022-10-16T18:08:25.690Z"
   },
   {
    "duration": 22,
    "start_time": "2022-10-16T18:08:25.729Z"
   },
   {
    "duration": 270,
    "start_time": "2022-10-16T18:08:25.753Z"
   },
   {
    "duration": 298,
    "start_time": "2022-10-16T18:08:26.025Z"
   },
   {
    "duration": 2904,
    "start_time": "2022-10-16T18:08:26.325Z"
   },
   {
    "duration": 121,
    "start_time": "2022-10-16T18:08:29.230Z"
   },
   {
    "duration": 88,
    "start_time": "2022-10-16T18:08:29.353Z"
   },
   {
    "duration": 306,
    "start_time": "2022-10-16T18:08:29.443Z"
   },
   {
    "duration": 371,
    "start_time": "2022-10-16T18:08:29.751Z"
   },
   {
    "duration": 319,
    "start_time": "2022-10-16T18:08:30.124Z"
   },
   {
    "duration": 1065,
    "start_time": "2022-10-16T18:08:30.445Z"
   },
   {
    "duration": 169,
    "start_time": "2022-10-16T18:08:31.511Z"
   },
   {
    "duration": 5,
    "start_time": "2022-10-16T18:08:31.681Z"
   },
   {
    "duration": 15,
    "start_time": "2022-10-16T18:08:31.688Z"
   },
   {
    "duration": 226,
    "start_time": "2022-10-16T18:08:31.705Z"
   },
   {
    "duration": 306,
    "start_time": "2022-10-16T18:08:32.023Z"
   },
   {
    "duration": 207,
    "start_time": "2022-10-16T18:08:32.331Z"
   },
   {
    "duration": 19,
    "start_time": "2022-10-16T18:08:32.539Z"
   },
   {
    "duration": 225,
    "start_time": "2022-10-16T18:08:32.559Z"
   },
   {
    "duration": 171,
    "start_time": "2022-10-16T18:08:32.785Z"
   },
   {
    "duration": 252,
    "start_time": "2022-10-16T18:08:32.957Z"
   },
   {
    "duration": 13238,
    "start_time": "2022-10-16T18:08:33.210Z"
   },
   {
    "duration": 45260,
    "start_time": "2022-10-16T18:08:46.450Z"
   },
   {
    "duration": 454,
    "start_time": "2022-10-16T18:09:31.711Z"
   },
   {
    "duration": 1348,
    "start_time": "2022-10-16T18:10:41.192Z"
   },
   {
    "duration": 22,
    "start_time": "2022-10-16T18:10:42.542Z"
   },
   {
    "duration": 55,
    "start_time": "2022-10-16T18:10:42.566Z"
   },
   {
    "duration": 14,
    "start_time": "2022-10-16T18:10:42.623Z"
   },
   {
    "duration": 48,
    "start_time": "2022-10-16T18:10:42.638Z"
   },
   {
    "duration": 4,
    "start_time": "2022-10-16T18:10:42.688Z"
   },
   {
    "duration": 40,
    "start_time": "2022-10-16T18:10:42.693Z"
   },
   {
    "duration": 20,
    "start_time": "2022-10-16T18:10:42.735Z"
   },
   {
    "duration": 479,
    "start_time": "2022-10-16T18:10:42.757Z"
   },
   {
    "duration": 5,
    "start_time": "2022-10-16T18:10:43.239Z"
   },
   {
    "duration": 5,
    "start_time": "2022-10-16T18:10:43.246Z"
   },
   {
    "duration": 9,
    "start_time": "2022-10-16T18:10:43.252Z"
   },
   {
    "duration": 698,
    "start_time": "2022-10-16T18:10:43.262Z"
   },
   {
    "duration": 81,
    "start_time": "2022-10-16T18:10:43.962Z"
   },
   {
    "duration": 233,
    "start_time": "2022-10-16T18:10:44.045Z"
   },
   {
    "duration": 343,
    "start_time": "2022-10-16T18:10:44.280Z"
   },
   {
    "duration": 437,
    "start_time": "2022-10-16T18:10:44.625Z"
   },
   {
    "duration": 252,
    "start_time": "2022-10-16T18:10:45.064Z"
   },
   {
    "duration": 266,
    "start_time": "2022-10-16T18:10:45.318Z"
   },
   {
    "duration": 225,
    "start_time": "2022-10-16T18:10:45.586Z"
   },
   {
    "duration": 10,
    "start_time": "2022-10-16T18:10:45.812Z"
   },
   {
    "duration": 9,
    "start_time": "2022-10-16T18:10:45.823Z"
   },
   {
    "duration": 8,
    "start_time": "2022-10-16T18:10:45.834Z"
   },
   {
    "duration": 130,
    "start_time": "2022-10-16T18:10:45.843Z"
   },
   {
    "duration": 5,
    "start_time": "2022-10-16T18:10:45.975Z"
   },
   {
    "duration": 11,
    "start_time": "2022-10-16T18:10:45.982Z"
   },
   {
    "duration": 8,
    "start_time": "2022-10-16T18:10:45.994Z"
   },
   {
    "duration": 4,
    "start_time": "2022-10-16T18:10:46.021Z"
   },
   {
    "duration": 110,
    "start_time": "2022-10-16T18:10:46.027Z"
   },
   {
    "duration": 13,
    "start_time": "2022-10-16T18:10:46.139Z"
   },
   {
    "duration": 10,
    "start_time": "2022-10-16T18:10:46.153Z"
   },
   {
    "duration": 6,
    "start_time": "2022-10-16T18:10:46.165Z"
   },
   {
    "duration": 929,
    "start_time": "2022-10-16T18:10:46.172Z"
   },
   {
    "duration": 965,
    "start_time": "2022-10-16T18:10:47.103Z"
   },
   {
    "duration": 10,
    "start_time": "2022-10-16T18:10:48.070Z"
   },
   {
    "duration": 11,
    "start_time": "2022-10-16T18:10:48.081Z"
   },
   {
    "duration": 8,
    "start_time": "2022-10-16T18:10:48.093Z"
   },
   {
    "duration": 32,
    "start_time": "2022-10-16T18:10:48.102Z"
   },
   {
    "duration": 10,
    "start_time": "2022-10-16T18:10:48.136Z"
   },
   {
    "duration": 7,
    "start_time": "2022-10-16T18:10:48.147Z"
   },
   {
    "duration": 23,
    "start_time": "2022-10-16T18:10:48.155Z"
   },
   {
    "duration": 10,
    "start_time": "2022-10-16T18:10:48.179Z"
   },
   {
    "duration": 236,
    "start_time": "2022-10-16T18:10:48.191Z"
   },
   {
    "duration": 297,
    "start_time": "2022-10-16T18:10:48.430Z"
   },
   {
    "duration": 2092,
    "start_time": "2022-10-16T18:10:48.730Z"
   },
   {
    "duration": 30,
    "start_time": "2022-10-16T18:10:50.824Z"
   },
   {
    "duration": 29,
    "start_time": "2022-10-16T18:10:50.855Z"
   },
   {
    "duration": 165,
    "start_time": "2022-10-16T18:10:50.886Z"
   },
   {
    "duration": 157,
    "start_time": "2022-10-16T18:10:51.053Z"
   },
   {
    "duration": 159,
    "start_time": "2022-10-16T18:10:51.212Z"
   },
   {
    "duration": 925,
    "start_time": "2022-10-16T18:10:51.373Z"
   },
   {
    "duration": 174,
    "start_time": "2022-10-16T18:10:52.299Z"
   },
   {
    "duration": 4,
    "start_time": "2022-10-16T18:10:52.475Z"
   },
   {
    "duration": 16,
    "start_time": "2022-10-16T18:10:52.481Z"
   },
   {
    "duration": 1027,
    "start_time": "2022-10-16T18:10:52.498Z"
   },
   {
    "duration": 702,
    "start_time": "2022-10-16T18:10:53.527Z"
   },
   {
    "duration": 195,
    "start_time": "2022-10-16T18:10:54.231Z"
   },
   {
    "duration": 27,
    "start_time": "2022-10-16T18:10:54.428Z"
   },
   {
    "duration": 235,
    "start_time": "2022-10-16T18:10:54.457Z"
   },
   {
    "duration": 184,
    "start_time": "2022-10-16T18:10:54.693Z"
   },
   {
    "duration": 324,
    "start_time": "2022-10-16T18:10:54.879Z"
   },
   {
    "duration": 14358,
    "start_time": "2022-10-16T18:10:55.205Z"
   },
   {
    "duration": 42528,
    "start_time": "2022-10-16T18:11:09.564Z"
   },
   {
    "duration": 522,
    "start_time": "2022-10-16T18:11:52.094Z"
   },
   {
    "duration": 469,
    "start_time": "2022-10-16T18:12:27.160Z"
   },
   {
    "duration": 14195,
    "start_time": "2022-10-16T18:12:52.361Z"
   },
   {
    "duration": 424,
    "start_time": "2022-10-16T18:13:31.511Z"
   },
   {
    "duration": 23659,
    "start_time": "2022-10-16T18:15:45.687Z"
   },
   {
    "duration": 12045,
    "start_time": "2022-10-16T18:17:12.729Z"
   },
   {
    "duration": 308,
    "start_time": "2022-10-16T18:18:29.570Z"
   },
   {
    "duration": 25,
    "start_time": "2022-10-16T18:18:32.377Z"
   },
   {
    "duration": 1292,
    "start_time": "2022-10-16T18:21:09.836Z"
   },
   {
    "duration": 1386,
    "start_time": "2022-10-16T18:21:31.838Z"
   },
   {
    "duration": 137,
    "start_time": "2022-10-16T18:21:54.493Z"
   },
   {
    "duration": 492,
    "start_time": "2022-10-16T18:22:35.374Z"
   },
   {
    "duration": 2002,
    "start_time": "2022-10-16T18:22:44.726Z"
   },
   {
    "duration": 1434,
    "start_time": "2022-10-16T18:24:47.018Z"
   },
   {
    "duration": 23,
    "start_time": "2022-10-16T18:24:48.455Z"
   },
   {
    "duration": 49,
    "start_time": "2022-10-16T18:24:48.480Z"
   },
   {
    "duration": 13,
    "start_time": "2022-10-16T18:24:48.531Z"
   },
   {
    "duration": 48,
    "start_time": "2022-10-16T18:24:48.546Z"
   },
   {
    "duration": 4,
    "start_time": "2022-10-16T18:24:48.595Z"
   },
   {
    "duration": 38,
    "start_time": "2022-10-16T18:24:48.601Z"
   },
   {
    "duration": 20,
    "start_time": "2022-10-16T18:24:48.641Z"
   },
   {
    "duration": 554,
    "start_time": "2022-10-16T18:24:48.662Z"
   },
   {
    "duration": 5,
    "start_time": "2022-10-16T18:24:49.219Z"
   },
   {
    "duration": 12,
    "start_time": "2022-10-16T18:24:49.225Z"
   },
   {
    "duration": 7,
    "start_time": "2022-10-16T18:24:49.239Z"
   },
   {
    "duration": 717,
    "start_time": "2022-10-16T18:24:49.247Z"
   },
   {
    "duration": 91,
    "start_time": "2022-10-16T18:24:49.965Z"
   },
   {
    "duration": 247,
    "start_time": "2022-10-16T18:24:50.057Z"
   },
   {
    "duration": 356,
    "start_time": "2022-10-16T18:24:50.306Z"
   },
   {
    "duration": 443,
    "start_time": "2022-10-16T18:24:50.663Z"
   },
   {
    "duration": 246,
    "start_time": "2022-10-16T18:24:51.108Z"
   },
   {
    "duration": 275,
    "start_time": "2022-10-16T18:24:51.356Z"
   },
   {
    "duration": 219,
    "start_time": "2022-10-16T18:24:51.633Z"
   },
   {
    "duration": 6,
    "start_time": "2022-10-16T18:24:51.854Z"
   },
   {
    "duration": 14,
    "start_time": "2022-10-16T18:24:51.862Z"
   },
   {
    "duration": 8,
    "start_time": "2022-10-16T18:24:51.878Z"
   },
   {
    "duration": 138,
    "start_time": "2022-10-16T18:24:51.888Z"
   },
   {
    "duration": 6,
    "start_time": "2022-10-16T18:24:52.028Z"
   },
   {
    "duration": 17,
    "start_time": "2022-10-16T18:24:52.037Z"
   },
   {
    "duration": 9,
    "start_time": "2022-10-16T18:24:52.055Z"
   },
   {
    "duration": 6,
    "start_time": "2022-10-16T18:24:52.067Z"
   },
   {
    "duration": 120,
    "start_time": "2022-10-16T18:24:52.074Z"
   },
   {
    "duration": 15,
    "start_time": "2022-10-16T18:24:52.196Z"
   },
   {
    "duration": 19,
    "start_time": "2022-10-16T18:24:52.212Z"
   },
   {
    "duration": 6,
    "start_time": "2022-10-16T18:24:52.234Z"
   },
   {
    "duration": 972,
    "start_time": "2022-10-16T18:24:52.241Z"
   },
   {
    "duration": 1018,
    "start_time": "2022-10-16T18:24:53.215Z"
   },
   {
    "duration": 11,
    "start_time": "2022-10-16T18:24:54.234Z"
   },
   {
    "duration": 11,
    "start_time": "2022-10-16T18:24:54.246Z"
   },
   {
    "duration": 5,
    "start_time": "2022-10-16T18:24:54.259Z"
   },
   {
    "duration": 18,
    "start_time": "2022-10-16T18:24:54.266Z"
   },
   {
    "duration": 41,
    "start_time": "2022-10-16T18:24:54.286Z"
   },
   {
    "duration": 8,
    "start_time": "2022-10-16T18:24:54.329Z"
   },
   {
    "duration": 24,
    "start_time": "2022-10-16T18:24:54.338Z"
   },
   {
    "duration": 26,
    "start_time": "2022-10-16T18:24:54.364Z"
   },
   {
    "duration": 231,
    "start_time": "2022-10-16T18:24:54.392Z"
   },
   {
    "duration": 299,
    "start_time": "2022-10-16T18:24:54.626Z"
   },
   {
    "duration": 2001,
    "start_time": "2022-10-16T18:24:54.930Z"
   },
   {
    "duration": 117,
    "start_time": "2022-10-16T18:24:56.933Z"
   },
   {
    "duration": 36,
    "start_time": "2022-10-16T18:24:57.052Z"
   },
   {
    "duration": 168,
    "start_time": "2022-10-16T18:24:57.092Z"
   },
   {
    "duration": 169,
    "start_time": "2022-10-16T18:24:57.262Z"
   },
   {
    "duration": 162,
    "start_time": "2022-10-16T18:24:57.432Z"
   },
   {
    "duration": 908,
    "start_time": "2022-10-16T18:24:57.596Z"
   },
   {
    "duration": 161,
    "start_time": "2022-10-16T18:24:58.506Z"
   },
   {
    "duration": 5,
    "start_time": "2022-10-16T18:24:58.669Z"
   },
   {
    "duration": 20,
    "start_time": "2022-10-16T18:24:58.675Z"
   },
   {
    "duration": 237,
    "start_time": "2022-10-16T18:24:58.696Z"
   },
   {
    "duration": 390,
    "start_time": "2022-10-16T18:24:58.935Z"
   },
   {
    "duration": 125,
    "start_time": "2022-10-16T18:24:59.327Z"
   },
   {
    "duration": 23,
    "start_time": "2022-10-16T18:24:59.454Z"
   },
   {
    "duration": 215,
    "start_time": "2022-10-16T18:24:59.479Z"
   },
   {
    "duration": 182,
    "start_time": "2022-10-16T18:24:59.696Z"
   },
   {
    "duration": 2144,
    "start_time": "2022-10-16T18:24:59.880Z"
   },
   {
    "duration": 397,
    "start_time": "2022-10-16T18:25:02.026Z"
   },
   {
    "duration": 1503,
    "start_time": "2022-10-16T18:25:02.428Z"
   },
   {
    "duration": 361,
    "start_time": "2022-10-16T18:25:04.021Z"
   },
   {
    "duration": 38,
    "start_time": "2022-10-16T18:25:04.385Z"
   },
   {
    "duration": 540,
    "start_time": "2022-10-16T18:25:04.425Z"
   },
   {
    "duration": 30911,
    "start_time": "2022-10-16T18:25:04.967Z"
   },
   {
    "duration": 664,
    "start_time": "2022-10-16T18:25:35.879Z"
   },
   {
    "duration": 12225,
    "start_time": "2022-10-16T18:25:36.545Z"
   },
   {
    "duration": 13675,
    "start_time": "2022-10-16T18:26:28.548Z"
   },
   {
    "duration": 702,
    "start_time": "2022-10-16T18:26:42.226Z"
   },
   {
    "duration": 12178,
    "start_time": "2022-10-16T18:26:42.930Z"
   },
   {
    "duration": 3,
    "start_time": "2022-10-16T18:30:00.869Z"
   },
   {
    "duration": 16620,
    "start_time": "2022-10-16T18:30:12.016Z"
   },
   {
    "duration": 531,
    "start_time": "2022-10-16T18:30:28.638Z"
   },
   {
    "duration": 12263,
    "start_time": "2022-10-16T18:30:29.173Z"
   },
   {
    "duration": 1467,
    "start_time": "2022-10-16T18:33:03.326Z"
   },
   {
    "duration": 23,
    "start_time": "2022-10-16T18:33:04.795Z"
   },
   {
    "duration": 53,
    "start_time": "2022-10-16T18:33:04.819Z"
   },
   {
    "duration": 14,
    "start_time": "2022-10-16T18:33:04.874Z"
   },
   {
    "duration": 50,
    "start_time": "2022-10-16T18:33:04.890Z"
   },
   {
    "duration": 5,
    "start_time": "2022-10-16T18:33:04.942Z"
   },
   {
    "duration": 18,
    "start_time": "2022-10-16T18:33:04.949Z"
   },
   {
    "duration": 22,
    "start_time": "2022-10-16T18:33:04.969Z"
   },
   {
    "duration": 505,
    "start_time": "2022-10-16T18:33:04.993Z"
   },
   {
    "duration": 5,
    "start_time": "2022-10-16T18:33:05.502Z"
   },
   {
    "duration": 14,
    "start_time": "2022-10-16T18:33:05.508Z"
   },
   {
    "duration": 8,
    "start_time": "2022-10-16T18:33:05.524Z"
   },
   {
    "duration": 997,
    "start_time": "2022-10-16T18:33:05.534Z"
   },
   {
    "duration": 95,
    "start_time": "2022-10-16T18:33:06.533Z"
   },
   {
    "duration": 263,
    "start_time": "2022-10-16T18:33:06.629Z"
   },
   {
    "duration": 396,
    "start_time": "2022-10-16T18:33:06.894Z"
   },
   {
    "duration": 465,
    "start_time": "2022-10-16T18:33:07.293Z"
   },
   {
    "duration": 272,
    "start_time": "2022-10-16T18:33:07.760Z"
   },
   {
    "duration": 324,
    "start_time": "2022-10-16T18:33:08.034Z"
   },
   {
    "duration": 254,
    "start_time": "2022-10-16T18:33:08.360Z"
   },
   {
    "duration": 7,
    "start_time": "2022-10-16T18:33:08.621Z"
   },
   {
    "duration": 32,
    "start_time": "2022-10-16T18:33:08.630Z"
   },
   {
    "duration": 15,
    "start_time": "2022-10-16T18:33:08.664Z"
   },
   {
    "duration": 142,
    "start_time": "2022-10-16T18:33:08.681Z"
   },
   {
    "duration": 6,
    "start_time": "2022-10-16T18:33:08.825Z"
   },
   {
    "duration": 41,
    "start_time": "2022-10-16T18:33:08.832Z"
   },
   {
    "duration": 40,
    "start_time": "2022-10-16T18:33:08.875Z"
   },
   {
    "duration": 20,
    "start_time": "2022-10-16T18:33:08.919Z"
   },
   {
    "duration": 179,
    "start_time": "2022-10-16T18:33:08.942Z"
   },
   {
    "duration": 15,
    "start_time": "2022-10-16T18:33:09.123Z"
   },
   {
    "duration": 27,
    "start_time": "2022-10-16T18:33:09.140Z"
   },
   {
    "duration": 15,
    "start_time": "2022-10-16T18:33:09.169Z"
   },
   {
    "duration": 1096,
    "start_time": "2022-10-16T18:33:09.185Z"
   },
   {
    "duration": 1012,
    "start_time": "2022-10-16T18:33:10.284Z"
   },
   {
    "duration": 24,
    "start_time": "2022-10-16T18:33:11.298Z"
   },
   {
    "duration": 20,
    "start_time": "2022-10-16T18:33:11.324Z"
   },
   {
    "duration": 25,
    "start_time": "2022-10-16T18:33:11.346Z"
   },
   {
    "duration": 34,
    "start_time": "2022-10-16T18:33:11.373Z"
   },
   {
    "duration": 28,
    "start_time": "2022-10-16T18:33:11.409Z"
   },
   {
    "duration": 20,
    "start_time": "2022-10-16T18:33:11.439Z"
   },
   {
    "duration": 46,
    "start_time": "2022-10-16T18:33:11.461Z"
   },
   {
    "duration": 24,
    "start_time": "2022-10-16T18:33:11.510Z"
   },
   {
    "duration": 193,
    "start_time": "2022-10-16T18:33:11.537Z"
   },
   {
    "duration": 293,
    "start_time": "2022-10-16T18:33:11.732Z"
   },
   {
    "duration": 2303,
    "start_time": "2022-10-16T18:33:12.027Z"
   },
   {
    "duration": 129,
    "start_time": "2022-10-16T18:33:14.332Z"
   },
   {
    "duration": 29,
    "start_time": "2022-10-16T18:33:14.463Z"
   },
   {
    "duration": 168,
    "start_time": "2022-10-16T18:33:14.494Z"
   },
   {
    "duration": 166,
    "start_time": "2022-10-16T18:33:14.663Z"
   },
   {
    "duration": 165,
    "start_time": "2022-10-16T18:33:14.830Z"
   },
   {
    "duration": 939,
    "start_time": "2022-10-16T18:33:14.997Z"
   },
   {
    "duration": 160,
    "start_time": "2022-10-16T18:33:15.938Z"
   },
   {
    "duration": 5,
    "start_time": "2022-10-16T18:33:16.100Z"
   },
   {
    "duration": 24,
    "start_time": "2022-10-16T18:33:16.106Z"
   },
   {
    "duration": 201,
    "start_time": "2022-10-16T18:33:16.131Z"
   },
   {
    "duration": 396,
    "start_time": "2022-10-16T18:33:16.333Z"
   },
   {
    "duration": 118,
    "start_time": "2022-10-16T18:33:16.732Z"
   },
   {
    "duration": 23,
    "start_time": "2022-10-16T18:33:16.852Z"
   },
   {
    "duration": 225,
    "start_time": "2022-10-16T18:33:16.877Z"
   },
   {
    "duration": 193,
    "start_time": "2022-10-16T18:33:17.103Z"
   },
   {
    "duration": 1324,
    "start_time": "2022-10-16T18:33:17.298Z"
   },
   {
    "duration": 598,
    "start_time": "2022-10-16T18:33:18.625Z"
   },
   {
    "duration": 1702,
    "start_time": "2022-10-16T18:33:19.224Z"
   },
   {
    "duration": 424,
    "start_time": "2022-10-16T18:33:20.928Z"
   },
   {
    "duration": 24,
    "start_time": "2022-10-16T18:33:21.354Z"
   },
   {
    "duration": 485,
    "start_time": "2022-10-16T18:33:21.380Z"
   },
   {
    "duration": 13830,
    "start_time": "2022-10-16T18:33:21.867Z"
   },
   {
    "duration": 682,
    "start_time": "2022-10-16T18:33:35.699Z"
   },
   {
    "duration": 12463,
    "start_time": "2022-10-16T18:33:36.383Z"
   },
   {
    "duration": 13798,
    "start_time": "2022-10-16T18:38:09.775Z"
   },
   {
    "duration": 136,
    "start_time": "2022-10-16T18:38:23.575Z"
   },
   {
    "duration": 0,
    "start_time": "2022-10-16T18:38:23.713Z"
   },
   {
    "duration": 0,
    "start_time": "2022-10-16T18:38:23.722Z"
   },
   {
    "duration": 0,
    "start_time": "2022-10-16T18:38:23.724Z"
   },
   {
    "duration": 54,
    "start_time": "2022-10-16T18:38:48.858Z"
   },
   {
    "duration": 13653,
    "start_time": "2022-10-16T18:39:10.033Z"
   },
   {
    "duration": 56,
    "start_time": "2022-10-16T18:39:23.688Z"
   },
   {
    "duration": 684,
    "start_time": "2022-10-16T18:39:23.746Z"
   },
   {
    "duration": 12177,
    "start_time": "2022-10-16T18:39:24.432Z"
   },
   {
    "duration": 38,
    "start_time": "2022-10-16T18:39:36.611Z"
   },
   {
    "duration": 13740,
    "start_time": "2022-10-16T18:40:10.049Z"
   },
   {
    "duration": 52,
    "start_time": "2022-10-16T18:40:23.790Z"
   },
   {
    "duration": 651,
    "start_time": "2022-10-16T18:40:23.844Z"
   },
   {
    "duration": 12333,
    "start_time": "2022-10-16T18:40:24.498Z"
   },
   {
    "duration": 35,
    "start_time": "2022-10-16T18:40:36.833Z"
   },
   {
    "duration": 1296,
    "start_time": "2022-10-16T18:42:42.266Z"
   },
   {
    "duration": 23,
    "start_time": "2022-10-16T18:42:43.564Z"
   },
   {
    "duration": 48,
    "start_time": "2022-10-16T18:42:43.589Z"
   },
   {
    "duration": 13,
    "start_time": "2022-10-16T18:42:43.640Z"
   },
   {
    "duration": 83,
    "start_time": "2022-10-16T18:42:43.654Z"
   },
   {
    "duration": 5,
    "start_time": "2022-10-16T18:42:43.739Z"
   },
   {
    "duration": 21,
    "start_time": "2022-10-16T18:42:43.747Z"
   },
   {
    "duration": 24,
    "start_time": "2022-10-16T18:42:43.770Z"
   },
   {
    "duration": 509,
    "start_time": "2022-10-16T18:42:43.795Z"
   },
   {
    "duration": 4,
    "start_time": "2022-10-16T18:42:44.307Z"
   },
   {
    "duration": 2,
    "start_time": "2022-10-16T18:42:44.322Z"
   },
   {
    "duration": 10,
    "start_time": "2022-10-16T18:42:44.326Z"
   },
   {
    "duration": 699,
    "start_time": "2022-10-16T18:42:44.338Z"
   },
   {
    "duration": 7,
    "start_time": "2022-10-16T18:42:52.103Z"
   },
   {
    "duration": 9,
    "start_time": "2022-10-16T18:43:00.183Z"
   },
   {
    "duration": 17,
    "start_time": "2022-10-16T18:43:00.194Z"
   },
   {
    "duration": 31,
    "start_time": "2022-10-16T18:43:00.213Z"
   },
   {
    "duration": 13,
    "start_time": "2022-10-16T18:43:00.246Z"
   },
   {
    "duration": 21,
    "start_time": "2022-10-16T18:43:00.261Z"
   },
   {
    "duration": 42,
    "start_time": "2022-10-16T18:43:00.284Z"
   },
   {
    "duration": 10,
    "start_time": "2022-10-16T18:43:00.328Z"
   },
   {
    "duration": 131,
    "start_time": "2022-10-16T18:43:00.340Z"
   },
   {
    "duration": 0,
    "start_time": "2022-10-16T18:43:00.474Z"
   },
   {
    "duration": 0,
    "start_time": "2022-10-16T18:43:00.475Z"
   },
   {
    "duration": 0,
    "start_time": "2022-10-16T18:43:00.476Z"
   },
   {
    "duration": 0,
    "start_time": "2022-10-16T18:43:00.477Z"
   },
   {
    "duration": 0,
    "start_time": "2022-10-16T18:43:00.479Z"
   },
   {
    "duration": 0,
    "start_time": "2022-10-16T18:43:00.480Z"
   },
   {
    "duration": 0,
    "start_time": "2022-10-16T18:43:00.481Z"
   },
   {
    "duration": 0,
    "start_time": "2022-10-16T18:43:00.482Z"
   },
   {
    "duration": 0,
    "start_time": "2022-10-16T18:43:00.482Z"
   },
   {
    "duration": 0,
    "start_time": "2022-10-16T18:43:00.483Z"
   },
   {
    "duration": 0,
    "start_time": "2022-10-16T18:43:00.484Z"
   },
   {
    "duration": 0,
    "start_time": "2022-10-16T18:43:00.485Z"
   },
   {
    "duration": 0,
    "start_time": "2022-10-16T18:43:00.486Z"
   },
   {
    "duration": 0,
    "start_time": "2022-10-16T18:43:00.487Z"
   },
   {
    "duration": 0,
    "start_time": "2022-10-16T18:43:00.488Z"
   },
   {
    "duration": 0,
    "start_time": "2022-10-16T18:43:00.489Z"
   },
   {
    "duration": 0,
    "start_time": "2022-10-16T18:43:00.490Z"
   },
   {
    "duration": 0,
    "start_time": "2022-10-16T18:43:00.491Z"
   },
   {
    "duration": 0,
    "start_time": "2022-10-16T18:43:00.492Z"
   },
   {
    "duration": 0,
    "start_time": "2022-10-16T18:43:00.493Z"
   },
   {
    "duration": 0,
    "start_time": "2022-10-16T18:43:00.494Z"
   },
   {
    "duration": 0,
    "start_time": "2022-10-16T18:43:00.494Z"
   },
   {
    "duration": 0,
    "start_time": "2022-10-16T18:43:00.523Z"
   },
   {
    "duration": 0,
    "start_time": "2022-10-16T18:43:00.524Z"
   },
   {
    "duration": 0,
    "start_time": "2022-10-16T18:43:00.525Z"
   },
   {
    "duration": 0,
    "start_time": "2022-10-16T18:43:00.526Z"
   },
   {
    "duration": 0,
    "start_time": "2022-10-16T18:43:00.527Z"
   },
   {
    "duration": 0,
    "start_time": "2022-10-16T18:43:00.528Z"
   },
   {
    "duration": 1403,
    "start_time": "2022-10-16T18:43:38.142Z"
   },
   {
    "duration": 24,
    "start_time": "2022-10-16T18:43:39.547Z"
   },
   {
    "duration": 50,
    "start_time": "2022-10-16T18:43:39.573Z"
   },
   {
    "duration": 15,
    "start_time": "2022-10-16T18:43:39.626Z"
   },
   {
    "duration": 57,
    "start_time": "2022-10-16T18:43:39.643Z"
   },
   {
    "duration": 24,
    "start_time": "2022-10-16T18:43:39.702Z"
   },
   {
    "duration": 24,
    "start_time": "2022-10-16T18:43:39.728Z"
   },
   {
    "duration": 21,
    "start_time": "2022-10-16T18:43:39.754Z"
   },
   {
    "duration": 559,
    "start_time": "2022-10-16T18:43:39.776Z"
   },
   {
    "duration": 7,
    "start_time": "2022-10-16T18:43:40.339Z"
   },
   {
    "duration": 6,
    "start_time": "2022-10-16T18:43:40.348Z"
   },
   {
    "duration": 9,
    "start_time": "2022-10-16T18:43:40.356Z"
   },
   {
    "duration": 743,
    "start_time": "2022-10-16T18:43:40.367Z"
   },
   {
    "duration": 84,
    "start_time": "2022-10-16T18:43:41.111Z"
   },
   {
    "duration": 253,
    "start_time": "2022-10-16T18:43:41.197Z"
   },
   {
    "duration": 428,
    "start_time": "2022-10-16T18:43:41.452Z"
   },
   {
    "duration": 467,
    "start_time": "2022-10-16T18:43:41.882Z"
   },
   {
    "duration": 252,
    "start_time": "2022-10-16T18:43:42.350Z"
   },
   {
    "duration": 272,
    "start_time": "2022-10-16T18:43:42.604Z"
   },
   {
    "duration": 230,
    "start_time": "2022-10-16T18:43:42.878Z"
   },
   {
    "duration": 12,
    "start_time": "2022-10-16T18:43:43.110Z"
   },
   {
    "duration": 10,
    "start_time": "2022-10-16T18:43:43.124Z"
   },
   {
    "duration": 12,
    "start_time": "2022-10-16T18:43:43.135Z"
   },
   {
    "duration": 130,
    "start_time": "2022-10-16T18:43:43.149Z"
   },
   {
    "duration": 5,
    "start_time": "2022-10-16T18:43:43.281Z"
   },
   {
    "duration": 13,
    "start_time": "2022-10-16T18:43:43.288Z"
   },
   {
    "duration": 19,
    "start_time": "2022-10-16T18:43:43.303Z"
   },
   {
    "duration": 4,
    "start_time": "2022-10-16T18:43:43.327Z"
   },
   {
    "duration": 119,
    "start_time": "2022-10-16T18:43:43.333Z"
   },
   {
    "duration": 12,
    "start_time": "2022-10-16T18:43:43.454Z"
   },
   {
    "duration": 10,
    "start_time": "2022-10-16T18:43:43.467Z"
   },
   {
    "duration": 5,
    "start_time": "2022-10-16T18:43:43.478Z"
   },
   {
    "duration": 981,
    "start_time": "2022-10-16T18:43:43.484Z"
   },
   {
    "duration": 1000,
    "start_time": "2022-10-16T18:43:44.466Z"
   },
   {
    "duration": 11,
    "start_time": "2022-10-16T18:43:45.468Z"
   },
   {
    "duration": 8,
    "start_time": "2022-10-16T18:43:45.481Z"
   },
   {
    "duration": 7,
    "start_time": "2022-10-16T18:43:45.491Z"
   },
   {
    "duration": 16,
    "start_time": "2022-10-16T18:43:45.523Z"
   },
   {
    "duration": 11,
    "start_time": "2022-10-16T18:43:45.541Z"
   },
   {
    "duration": 7,
    "start_time": "2022-10-16T18:43:45.554Z"
   },
   {
    "duration": 59,
    "start_time": "2022-10-16T18:43:45.563Z"
   },
   {
    "duration": 12,
    "start_time": "2022-10-16T18:43:45.624Z"
   },
   {
    "duration": 291,
    "start_time": "2022-10-16T18:43:45.638Z"
   },
   {
    "duration": 397,
    "start_time": "2022-10-16T18:43:45.931Z"
   },
   {
    "duration": 1601,
    "start_time": "2022-10-16T18:43:46.330Z"
   },
   {
    "duration": 120,
    "start_time": "2022-10-16T18:43:47.933Z"
   },
   {
    "duration": 31,
    "start_time": "2022-10-16T18:43:48.055Z"
   },
   {
    "duration": 175,
    "start_time": "2022-10-16T18:43:48.087Z"
   },
   {
    "duration": 163,
    "start_time": "2022-10-16T18:43:48.264Z"
   },
   {
    "duration": 163,
    "start_time": "2022-10-16T18:43:48.429Z"
   },
   {
    "duration": 960,
    "start_time": "2022-10-16T18:43:48.594Z"
   },
   {
    "duration": 161,
    "start_time": "2022-10-16T18:43:49.556Z"
   },
   {
    "duration": 8,
    "start_time": "2022-10-16T18:43:49.718Z"
   },
   {
    "duration": 17,
    "start_time": "2022-10-16T18:43:49.728Z"
   },
   {
    "duration": 379,
    "start_time": "2022-10-16T18:43:49.747Z"
   },
   {
    "duration": 300,
    "start_time": "2022-10-16T18:43:50.128Z"
   },
   {
    "duration": 115,
    "start_time": "2022-10-16T18:43:50.430Z"
   },
   {
    "duration": 24,
    "start_time": "2022-10-16T18:43:50.547Z"
   },
   {
    "duration": 227,
    "start_time": "2022-10-16T18:43:50.573Z"
   },
   {
    "duration": 183,
    "start_time": "2022-10-16T18:43:50.802Z"
   },
   {
    "duration": 1045,
    "start_time": "2022-10-16T18:43:50.986Z"
   },
   {
    "duration": 489,
    "start_time": "2022-10-16T18:43:52.033Z"
   },
   {
    "duration": 1604,
    "start_time": "2022-10-16T18:43:52.525Z"
   },
   {
    "duration": 421,
    "start_time": "2022-10-16T18:43:54.132Z"
   },
   {
    "duration": 26,
    "start_time": "2022-10-16T18:43:54.554Z"
   },
   {
    "duration": 483,
    "start_time": "2022-10-16T18:43:54.582Z"
   },
   {
    "duration": 14054,
    "start_time": "2022-10-16T18:43:55.068Z"
   },
   {
    "duration": 44,
    "start_time": "2022-10-16T18:44:09.123Z"
   },
   {
    "duration": 677,
    "start_time": "2022-10-16T18:44:09.169Z"
   },
   {
    "duration": 12244,
    "start_time": "2022-10-16T18:44:09.848Z"
   },
   {
    "duration": 42,
    "start_time": "2022-10-16T18:44:22.093Z"
   },
   {
    "duration": 13973,
    "start_time": "2022-10-16T18:47:31.378Z"
   },
   {
    "duration": 691,
    "start_time": "2022-10-16T18:47:45.353Z"
   },
   {
    "duration": 658,
    "start_time": "2022-10-16T18:47:46.046Z"
   },
   {
    "duration": 12217,
    "start_time": "2022-10-16T18:47:46.706Z"
   },
   {
    "duration": 704,
    "start_time": "2022-10-16T18:47:58.926Z"
   },
   {
    "duration": 627,
    "start_time": "2022-10-16T18:49:09.231Z"
   },
   {
    "duration": 25,
    "start_time": "2022-10-16T18:50:56.227Z"
   },
   {
    "duration": 651,
    "start_time": "2022-10-16T18:51:10.060Z"
   },
   {
    "duration": 741,
    "start_time": "2022-10-16T18:51:40.784Z"
   },
   {
    "duration": 1426,
    "start_time": "2022-10-16T19:15:58.292Z"
   },
   {
    "duration": 24,
    "start_time": "2022-10-16T19:15:59.720Z"
   },
   {
    "duration": 46,
    "start_time": "2022-10-16T19:15:59.746Z"
   },
   {
    "duration": 13,
    "start_time": "2022-10-16T19:15:59.794Z"
   },
   {
    "duration": 52,
    "start_time": "2022-10-16T19:15:59.809Z"
   },
   {
    "duration": 4,
    "start_time": "2022-10-16T19:15:59.863Z"
   },
   {
    "duration": 19,
    "start_time": "2022-10-16T19:15:59.868Z"
   },
   {
    "duration": 39,
    "start_time": "2022-10-16T19:15:59.889Z"
   },
   {
    "duration": 482,
    "start_time": "2022-10-16T19:15:59.930Z"
   },
   {
    "duration": 10,
    "start_time": "2022-10-16T19:16:00.414Z"
   },
   {
    "duration": 48,
    "start_time": "2022-10-16T19:16:00.426Z"
   },
   {
    "duration": 28,
    "start_time": "2022-10-16T19:16:00.476Z"
   },
   {
    "duration": 774,
    "start_time": "2022-10-16T19:16:00.506Z"
   },
   {
    "duration": 85,
    "start_time": "2022-10-16T19:16:01.281Z"
   },
   {
    "duration": 260,
    "start_time": "2022-10-16T19:16:01.368Z"
   },
   {
    "duration": 372,
    "start_time": "2022-10-16T19:16:01.630Z"
   },
   {
    "duration": 457,
    "start_time": "2022-10-16T19:16:02.004Z"
   },
   {
    "duration": 281,
    "start_time": "2022-10-16T19:16:02.462Z"
   },
   {
    "duration": 283,
    "start_time": "2022-10-16T19:16:02.744Z"
   },
   {
    "duration": 234,
    "start_time": "2022-10-16T19:16:03.029Z"
   },
   {
    "duration": 6,
    "start_time": "2022-10-16T19:16:03.264Z"
   },
   {
    "duration": 25,
    "start_time": "2022-10-16T19:16:03.271Z"
   },
   {
    "duration": 16,
    "start_time": "2022-10-16T19:16:03.298Z"
   },
   {
    "duration": 126,
    "start_time": "2022-10-16T19:16:03.316Z"
   },
   {
    "duration": 5,
    "start_time": "2022-10-16T19:16:03.444Z"
   },
   {
    "duration": 26,
    "start_time": "2022-10-16T19:16:03.450Z"
   },
   {
    "duration": 14,
    "start_time": "2022-10-16T19:16:03.478Z"
   },
   {
    "duration": 15,
    "start_time": "2022-10-16T19:16:03.498Z"
   },
   {
    "duration": 108,
    "start_time": "2022-10-16T19:16:03.514Z"
   },
   {
    "duration": 12,
    "start_time": "2022-10-16T19:16:03.624Z"
   },
   {
    "duration": 13,
    "start_time": "2022-10-16T19:16:03.638Z"
   },
   {
    "duration": 7,
    "start_time": "2022-10-16T19:16:03.652Z"
   },
   {
    "duration": 1016,
    "start_time": "2022-10-16T19:16:03.661Z"
   },
   {
    "duration": 1072,
    "start_time": "2022-10-16T19:16:04.679Z"
   },
   {
    "duration": 12,
    "start_time": "2022-10-16T19:16:05.753Z"
   },
   {
    "duration": 13,
    "start_time": "2022-10-16T19:16:05.767Z"
   },
   {
    "duration": 14,
    "start_time": "2022-10-16T19:16:05.782Z"
   },
   {
    "duration": 39,
    "start_time": "2022-10-16T19:16:05.798Z"
   },
   {
    "duration": 11,
    "start_time": "2022-10-16T19:16:05.839Z"
   },
   {
    "duration": 7,
    "start_time": "2022-10-16T19:16:05.853Z"
   },
   {
    "duration": 24,
    "start_time": "2022-10-16T19:16:05.862Z"
   },
   {
    "duration": 35,
    "start_time": "2022-10-16T19:16:05.888Z"
   },
   {
    "duration": 305,
    "start_time": "2022-10-16T19:16:05.925Z"
   },
   {
    "duration": 293,
    "start_time": "2022-10-16T19:16:06.233Z"
   },
   {
    "duration": 2795,
    "start_time": "2022-10-16T19:16:06.528Z"
   },
   {
    "duration": 35,
    "start_time": "2022-10-16T19:16:09.326Z"
   },
   {
    "duration": 37,
    "start_time": "2022-10-16T19:16:09.363Z"
   },
   {
    "duration": 196,
    "start_time": "2022-10-16T19:16:09.401Z"
   },
   {
    "duration": 166,
    "start_time": "2022-10-16T19:16:09.598Z"
   },
   {
    "duration": 174,
    "start_time": "2022-10-16T19:16:09.766Z"
   },
   {
    "duration": 897,
    "start_time": "2022-10-16T19:16:09.942Z"
   },
   {
    "duration": 167,
    "start_time": "2022-10-16T19:16:10.841Z"
   },
   {
    "duration": 4,
    "start_time": "2022-10-16T19:16:11.010Z"
   },
   {
    "duration": 12,
    "start_time": "2022-10-16T19:16:11.021Z"
   },
   {
    "duration": 297,
    "start_time": "2022-10-16T19:16:11.034Z"
   },
   {
    "duration": 308,
    "start_time": "2022-10-16T19:16:11.424Z"
   },
   {
    "duration": 105,
    "start_time": "2022-10-16T19:16:11.824Z"
   },
   {
    "duration": 24,
    "start_time": "2022-10-16T19:16:11.931Z"
   },
   {
    "duration": 227,
    "start_time": "2022-10-16T19:16:11.957Z"
   },
   {
    "duration": 190,
    "start_time": "2022-10-16T19:16:12.186Z"
   },
   {
    "duration": 1450,
    "start_time": "2022-10-16T19:16:12.378Z"
   },
   {
    "duration": 201,
    "start_time": "2022-10-16T19:16:13.830Z"
   },
   {
    "duration": 1591,
    "start_time": "2022-10-16T19:16:14.033Z"
   },
   {
    "duration": 420,
    "start_time": "2022-10-16T19:16:15.629Z"
   },
   {
    "duration": 25,
    "start_time": "2022-10-16T19:16:16.051Z"
   },
   {
    "duration": 488,
    "start_time": "2022-10-16T19:16:16.078Z"
   },
   {
    "duration": 13743,
    "start_time": "2022-10-16T19:16:16.568Z"
   },
   {
    "duration": 51,
    "start_time": "2022-10-16T19:16:30.312Z"
   },
   {
    "duration": 680,
    "start_time": "2022-10-16T19:16:30.366Z"
   },
   {
    "duration": 12318,
    "start_time": "2022-10-16T19:16:31.048Z"
   },
   {
    "duration": 36,
    "start_time": "2022-10-16T19:16:43.367Z"
   },
   {
    "duration": 2208,
    "start_time": "2022-10-16T19:16:43.404Z"
   },
   {
    "duration": 5,
    "start_time": "2022-10-16T19:27:35.678Z"
   },
   {
    "duration": 5,
    "start_time": "2022-10-16T19:28:30.022Z"
   },
   {
    "duration": 5,
    "start_time": "2022-10-16T19:29:20.724Z"
   },
   {
    "duration": 286,
    "start_time": "2022-10-16T19:29:23.580Z"
   },
   {
    "duration": 5,
    "start_time": "2022-10-16T19:29:56.705Z"
   },
   {
    "duration": 17,
    "start_time": "2022-10-16T19:29:58.876Z"
   },
   {
    "duration": 1334,
    "start_time": "2022-10-16T19:30:38.840Z"
   },
   {
    "duration": 23,
    "start_time": "2022-10-16T19:30:40.177Z"
   },
   {
    "duration": 48,
    "start_time": "2022-10-16T19:30:40.202Z"
   },
   {
    "duration": 13,
    "start_time": "2022-10-16T19:30:40.252Z"
   },
   {
    "duration": 61,
    "start_time": "2022-10-16T19:30:40.267Z"
   },
   {
    "duration": 4,
    "start_time": "2022-10-16T19:30:40.329Z"
   },
   {
    "duration": 19,
    "start_time": "2022-10-16T19:30:40.335Z"
   },
   {
    "duration": 21,
    "start_time": "2022-10-16T19:30:40.356Z"
   },
   {
    "duration": 515,
    "start_time": "2022-10-16T19:30:40.379Z"
   },
   {
    "duration": 5,
    "start_time": "2022-10-16T19:30:40.897Z"
   },
   {
    "duration": 19,
    "start_time": "2022-10-16T19:30:40.904Z"
   },
   {
    "duration": 13,
    "start_time": "2022-10-16T19:30:40.925Z"
   },
   {
    "duration": 740,
    "start_time": "2022-10-16T19:30:40.940Z"
   },
   {
    "duration": 90,
    "start_time": "2022-10-16T19:30:41.681Z"
   },
   {
    "duration": 250,
    "start_time": "2022-10-16T19:30:41.773Z"
   },
   {
    "duration": 364,
    "start_time": "2022-10-16T19:30:42.025Z"
   },
   {
    "duration": 459,
    "start_time": "2022-10-16T19:30:42.391Z"
   },
   {
    "duration": 271,
    "start_time": "2022-10-16T19:30:42.851Z"
   },
   {
    "duration": 272,
    "start_time": "2022-10-16T19:30:43.123Z"
   },
   {
    "duration": 221,
    "start_time": "2022-10-16T19:30:43.396Z"
   },
   {
    "duration": 5,
    "start_time": "2022-10-16T19:30:43.619Z"
   },
   {
    "duration": 8,
    "start_time": "2022-10-16T19:30:43.626Z"
   },
   {
    "duration": 8,
    "start_time": "2022-10-16T19:30:43.636Z"
   },
   {
    "duration": 141,
    "start_time": "2022-10-16T19:30:43.645Z"
   },
   {
    "duration": 5,
    "start_time": "2022-10-16T19:30:43.787Z"
   },
   {
    "duration": 28,
    "start_time": "2022-10-16T19:30:43.794Z"
   },
   {
    "duration": 8,
    "start_time": "2022-10-16T19:30:43.824Z"
   },
   {
    "duration": 5,
    "start_time": "2022-10-16T19:30:43.836Z"
   },
   {
    "duration": 126,
    "start_time": "2022-10-16T19:30:43.842Z"
   },
   {
    "duration": 12,
    "start_time": "2022-10-16T19:30:43.970Z"
   },
   {
    "duration": 10,
    "start_time": "2022-10-16T19:30:43.984Z"
   },
   {
    "duration": 26,
    "start_time": "2022-10-16T19:30:43.996Z"
   },
   {
    "duration": 969,
    "start_time": "2022-10-16T19:30:44.024Z"
   },
   {
    "duration": 994,
    "start_time": "2022-10-16T19:30:44.995Z"
   },
   {
    "duration": 12,
    "start_time": "2022-10-16T19:30:45.991Z"
   },
   {
    "duration": 23,
    "start_time": "2022-10-16T19:30:46.005Z"
   },
   {
    "duration": 11,
    "start_time": "2022-10-16T19:30:46.030Z"
   },
   {
    "duration": 22,
    "start_time": "2022-10-16T19:30:46.042Z"
   },
   {
    "duration": 11,
    "start_time": "2022-10-16T19:30:46.065Z"
   },
   {
    "duration": 8,
    "start_time": "2022-10-16T19:30:46.078Z"
   },
   {
    "duration": 48,
    "start_time": "2022-10-16T19:30:46.088Z"
   },
   {
    "duration": 11,
    "start_time": "2022-10-16T19:30:46.137Z"
   },
   {
    "duration": 272,
    "start_time": "2022-10-16T19:30:46.150Z"
   },
   {
    "duration": 308,
    "start_time": "2022-10-16T19:30:46.425Z"
   },
   {
    "duration": 2510,
    "start_time": "2022-10-16T19:30:46.823Z"
   },
   {
    "duration": 30,
    "start_time": "2022-10-16T19:30:49.423Z"
   },
   {
    "duration": 39,
    "start_time": "2022-10-16T19:30:49.454Z"
   },
   {
    "duration": 175,
    "start_time": "2022-10-16T19:30:49.495Z"
   },
   {
    "duration": 167,
    "start_time": "2022-10-16T19:30:49.671Z"
   },
   {
    "duration": 159,
    "start_time": "2022-10-16T19:30:49.839Z"
   },
   {
    "duration": 899,
    "start_time": "2022-10-16T19:30:50.000Z"
   },
   {
    "duration": 162,
    "start_time": "2022-10-16T19:30:50.902Z"
   },
   {
    "duration": 7,
    "start_time": "2022-10-16T19:30:51.065Z"
   },
   {
    "duration": 37,
    "start_time": "2022-10-16T19:30:51.074Z"
   },
   {
    "duration": 114,
    "start_time": "2022-10-16T19:30:51.112Z"
   },
   {
    "duration": 194,
    "start_time": "2022-10-16T19:30:51.228Z"
   },
   {
    "duration": 125,
    "start_time": "2022-10-16T19:30:51.425Z"
   },
   {
    "duration": 24,
    "start_time": "2022-10-16T19:30:51.551Z"
   },
   {
    "duration": 206,
    "start_time": "2022-10-16T19:30:51.577Z"
   },
   {
    "duration": 180,
    "start_time": "2022-10-16T19:30:51.785Z"
   },
   {
    "duration": 1762,
    "start_time": "2022-10-16T19:30:51.967Z"
   },
   {
    "duration": 299,
    "start_time": "2022-10-16T19:30:53.732Z"
   },
   {
    "duration": 1593,
    "start_time": "2022-10-16T19:30:54.033Z"
   },
   {
    "duration": 391,
    "start_time": "2022-10-16T19:30:55.629Z"
   },
   {
    "duration": 24,
    "start_time": "2022-10-16T19:30:56.022Z"
   },
   {
    "duration": 478,
    "start_time": "2022-10-16T19:30:56.048Z"
   },
   {
    "duration": 14211,
    "start_time": "2022-10-16T19:30:56.528Z"
   },
   {
    "duration": 46,
    "start_time": "2022-10-16T19:31:10.741Z"
   },
   {
    "duration": 744,
    "start_time": "2022-10-16T19:31:10.789Z"
   },
   {
    "duration": 11508,
    "start_time": "2022-10-16T19:31:11.535Z"
   },
   {
    "duration": 31,
    "start_time": "2022-10-16T19:31:23.045Z"
   },
   {
    "duration": 6,
    "start_time": "2022-10-16T19:32:49.920Z"
   },
   {
    "duration": 13,
    "start_time": "2022-10-16T19:33:10.266Z"
   },
   {
    "duration": 8,
    "start_time": "2022-10-16T19:33:12.417Z"
   },
   {
    "duration": 9,
    "start_time": "2022-10-16T19:33:13.433Z"
   },
   {
    "duration": 5,
    "start_time": "2022-10-16T19:33:22.211Z"
   },
   {
    "duration": 6,
    "start_time": "2022-10-16T19:33:23.075Z"
   },
   {
    "duration": 6,
    "start_time": "2022-10-16T19:33:23.563Z"
   },
   {
    "duration": 5,
    "start_time": "2022-10-16T19:33:23.946Z"
   },
   {
    "duration": 7,
    "start_time": "2022-10-16T19:33:24.251Z"
   },
   {
    "duration": 8,
    "start_time": "2022-10-16T19:33:24.507Z"
   },
   {
    "duration": 6,
    "start_time": "2022-10-16T19:33:24.747Z"
   },
   {
    "duration": 3,
    "start_time": "2022-10-16T19:38:41.871Z"
   },
   {
    "duration": 1848,
    "start_time": "2022-10-16T19:38:50.375Z"
   },
   {
    "duration": 3,
    "start_time": "2022-10-16T19:39:32.902Z"
   },
   {
    "duration": 174,
    "start_time": "2022-10-16T19:39:41.445Z"
   },
   {
    "duration": 154,
    "start_time": "2022-10-16T19:39:43.332Z"
   },
   {
    "duration": 31271,
    "start_time": "2022-10-16T19:39:55.582Z"
   },
   {
    "duration": 256708,
    "start_time": "2022-10-16T19:41:15.096Z"
   },
   {
    "duration": 901,
    "start_time": "2022-10-16T19:46:02.163Z"
   },
   {
    "duration": 165,
    "start_time": "2022-10-16T19:46:15.306Z"
   },
   {
    "duration": 151,
    "start_time": "2022-10-16T19:46:17.797Z"
   },
   {
    "duration": 913,
    "start_time": "2022-10-16T19:46:19.738Z"
   },
   {
    "duration": 5,
    "start_time": "2022-10-16T19:48:38.659Z"
   },
   {
    "duration": 14,
    "start_time": "2022-10-16T19:48:41.018Z"
   },
   {
    "duration": 1704,
    "start_time": "2022-10-17T15:44:41.141Z"
   },
   {
    "duration": 26,
    "start_time": "2022-10-17T15:44:42.848Z"
   },
   {
    "duration": 195,
    "start_time": "2022-10-17T15:44:42.877Z"
   },
   {
    "duration": 19,
    "start_time": "2022-10-17T15:44:43.074Z"
   },
   {
    "duration": 60,
    "start_time": "2022-10-17T15:44:43.097Z"
   },
   {
    "duration": 4,
    "start_time": "2022-10-17T15:44:43.159Z"
   },
   {
    "duration": 46,
    "start_time": "2022-10-17T15:44:43.165Z"
   },
   {
    "duration": 25,
    "start_time": "2022-10-17T15:44:43.213Z"
   },
   {
    "duration": 597,
    "start_time": "2022-10-17T15:44:43.241Z"
   },
   {
    "duration": 6,
    "start_time": "2022-10-17T15:44:43.840Z"
   },
   {
    "duration": 6,
    "start_time": "2022-10-17T15:44:43.849Z"
   },
   {
    "duration": 9,
    "start_time": "2022-10-17T15:44:43.858Z"
   },
   {
    "duration": 877,
    "start_time": "2022-10-17T15:44:43.869Z"
   },
   {
    "duration": 144,
    "start_time": "2022-10-17T15:44:44.751Z"
   },
   {
    "duration": 299,
    "start_time": "2022-10-17T15:44:44.898Z"
   },
   {
    "duration": 384,
    "start_time": "2022-10-17T15:44:45.199Z"
   },
   {
    "duration": 526,
    "start_time": "2022-10-17T15:44:45.586Z"
   },
   {
    "duration": 273,
    "start_time": "2022-10-17T15:44:46.114Z"
   },
   {
    "duration": 301,
    "start_time": "2022-10-17T15:44:46.388Z"
   },
   {
    "duration": 276,
    "start_time": "2022-10-17T15:44:46.691Z"
   },
   {
    "duration": 6,
    "start_time": "2022-10-17T15:44:46.969Z"
   },
   {
    "duration": 24,
    "start_time": "2022-10-17T15:44:46.977Z"
   },
   {
    "duration": 9,
    "start_time": "2022-10-17T15:44:47.003Z"
   },
   {
    "duration": 140,
    "start_time": "2022-10-17T15:44:47.014Z"
   },
   {
    "duration": 9,
    "start_time": "2022-10-17T15:44:47.156Z"
   },
   {
    "duration": 15,
    "start_time": "2022-10-17T15:44:47.167Z"
   },
   {
    "duration": 28,
    "start_time": "2022-10-17T15:44:47.183Z"
   },
   {
    "duration": 20,
    "start_time": "2022-10-17T15:44:47.213Z"
   },
   {
    "duration": 203,
    "start_time": "2022-10-17T15:44:47.236Z"
   },
   {
    "duration": 14,
    "start_time": "2022-10-17T15:44:47.441Z"
   },
   {
    "duration": 25,
    "start_time": "2022-10-17T15:44:47.456Z"
   },
   {
    "duration": 26,
    "start_time": "2022-10-17T15:44:47.482Z"
   },
   {
    "duration": 1151,
    "start_time": "2022-10-17T15:44:47.510Z"
   },
   {
    "duration": 1125,
    "start_time": "2022-10-17T15:44:48.663Z"
   },
   {
    "duration": 14,
    "start_time": "2022-10-17T15:44:49.790Z"
   },
   {
    "duration": 23,
    "start_time": "2022-10-17T15:44:49.805Z"
   },
   {
    "duration": 18,
    "start_time": "2022-10-17T15:44:49.830Z"
   },
   {
    "duration": 41,
    "start_time": "2022-10-17T15:44:49.850Z"
   },
   {
    "duration": 22,
    "start_time": "2022-10-17T15:44:49.893Z"
   },
   {
    "duration": 26,
    "start_time": "2022-10-17T15:44:49.917Z"
   },
   {
    "duration": 42,
    "start_time": "2022-10-17T15:44:49.947Z"
   },
   {
    "duration": 26,
    "start_time": "2022-10-17T15:44:49.991Z"
   },
   {
    "duration": 279,
    "start_time": "2022-10-17T15:44:50.019Z"
   },
   {
    "duration": 36,
    "start_time": "2022-10-17T15:44:50.301Z"
   },
   {
    "duration": 185,
    "start_time": "2022-10-17T15:44:50.339Z"
   },
   {
    "duration": 5,
    "start_time": "2022-10-17T15:44:50.526Z"
   },
   {
    "duration": 21,
    "start_time": "2022-10-17T15:44:50.532Z"
   },
   {
    "duration": 155,
    "start_time": "2022-10-17T15:44:50.554Z"
   },
   {
    "duration": 395,
    "start_time": "2022-10-17T15:44:50.711Z"
   },
   {
    "duration": 123,
    "start_time": "2022-10-17T15:44:51.108Z"
   },
   {
    "duration": 45,
    "start_time": "2022-10-17T15:44:51.233Z"
   },
   {
    "duration": 173,
    "start_time": "2022-10-17T15:44:51.296Z"
   },
   {
    "duration": 225,
    "start_time": "2022-10-17T15:44:51.471Z"
   },
   {
    "duration": 4542,
    "start_time": "2022-10-17T15:45:03.862Z"
   },
   {
    "duration": 1409,
    "start_time": "2022-10-17T15:48:48.809Z"
   },
   {
    "duration": 24,
    "start_time": "2022-10-17T15:48:50.220Z"
   },
   {
    "duration": 63,
    "start_time": "2022-10-17T15:48:50.245Z"
   },
   {
    "duration": 17,
    "start_time": "2022-10-17T15:48:50.310Z"
   },
   {
    "duration": 52,
    "start_time": "2022-10-17T15:48:50.329Z"
   },
   {
    "duration": 4,
    "start_time": "2022-10-17T15:48:50.396Z"
   },
   {
    "duration": 23,
    "start_time": "2022-10-17T15:48:50.402Z"
   },
   {
    "duration": 23,
    "start_time": "2022-10-17T15:48:50.426Z"
   },
   {
    "duration": 540,
    "start_time": "2022-10-17T15:48:50.451Z"
   },
   {
    "duration": 6,
    "start_time": "2022-10-17T15:48:50.994Z"
   },
   {
    "duration": 5,
    "start_time": "2022-10-17T15:48:51.002Z"
   },
   {
    "duration": 11,
    "start_time": "2022-10-17T15:48:51.009Z"
   },
   {
    "duration": 776,
    "start_time": "2022-10-17T15:48:51.022Z"
   },
   {
    "duration": 102,
    "start_time": "2022-10-17T15:48:51.800Z"
   },
   {
    "duration": 293,
    "start_time": "2022-10-17T15:48:51.904Z"
   },
   {
    "duration": 384,
    "start_time": "2022-10-17T15:48:52.198Z"
   },
   {
    "duration": 488,
    "start_time": "2022-10-17T15:48:52.584Z"
   },
   {
    "duration": 266,
    "start_time": "2022-10-17T15:48:53.074Z"
   },
   {
    "duration": 286,
    "start_time": "2022-10-17T15:48:53.341Z"
   },
   {
    "duration": 219,
    "start_time": "2022-10-17T15:48:53.629Z"
   },
   {
    "duration": 6,
    "start_time": "2022-10-17T15:48:53.850Z"
   },
   {
    "duration": 9,
    "start_time": "2022-10-17T15:48:53.858Z"
   },
   {
    "duration": 27,
    "start_time": "2022-10-17T15:48:53.869Z"
   },
   {
    "duration": 124,
    "start_time": "2022-10-17T15:48:53.898Z"
   },
   {
    "duration": 7,
    "start_time": "2022-10-17T15:48:54.024Z"
   },
   {
    "duration": 10,
    "start_time": "2022-10-17T15:48:54.032Z"
   },
   {
    "duration": 10,
    "start_time": "2022-10-17T15:48:54.044Z"
   },
   {
    "duration": 4,
    "start_time": "2022-10-17T15:48:54.058Z"
   },
   {
    "duration": 142,
    "start_time": "2022-10-17T15:48:54.064Z"
   },
   {
    "duration": 12,
    "start_time": "2022-10-17T15:48:54.208Z"
   },
   {
    "duration": 10,
    "start_time": "2022-10-17T15:48:54.222Z"
   },
   {
    "duration": 6,
    "start_time": "2022-10-17T15:48:54.234Z"
   },
   {
    "duration": 1062,
    "start_time": "2022-10-17T15:48:54.241Z"
   },
   {
    "duration": 1069,
    "start_time": "2022-10-17T15:48:55.304Z"
   },
   {
    "duration": 11,
    "start_time": "2022-10-17T15:48:56.374Z"
   },
   {
    "duration": 7,
    "start_time": "2022-10-17T15:48:56.396Z"
   },
   {
    "duration": 8,
    "start_time": "2022-10-17T15:48:56.405Z"
   },
   {
    "duration": 18,
    "start_time": "2022-10-17T15:48:56.414Z"
   },
   {
    "duration": 11,
    "start_time": "2022-10-17T15:48:56.434Z"
   },
   {
    "duration": 8,
    "start_time": "2022-10-17T15:48:56.446Z"
   },
   {
    "duration": 53,
    "start_time": "2022-10-17T15:48:56.455Z"
   },
   {
    "duration": 12,
    "start_time": "2022-10-17T15:48:56.509Z"
   },
   {
    "duration": 280,
    "start_time": "2022-10-17T15:48:56.523Z"
   },
   {
    "duration": 121,
    "start_time": "2022-10-17T15:48:56.806Z"
   },
   {
    "duration": 181,
    "start_time": "2022-10-17T15:48:56.929Z"
   },
   {
    "duration": 5,
    "start_time": "2022-10-17T15:48:57.111Z"
   },
   {
    "duration": 20,
    "start_time": "2022-10-17T15:48:57.118Z"
   },
   {
    "duration": 259,
    "start_time": "2022-10-17T15:48:57.139Z"
   },
   {
    "duration": 399,
    "start_time": "2022-10-17T15:48:57.400Z"
   },
   {
    "duration": 124,
    "start_time": "2022-10-17T15:48:57.801Z"
   },
   {
    "duration": 38,
    "start_time": "2022-10-17T15:48:57.926Z"
   },
   {
    "duration": 215,
    "start_time": "2022-10-17T15:48:57.966Z"
   },
   {
    "duration": 244,
    "start_time": "2022-10-17T15:48:58.183Z"
   },
   {
    "duration": 2574,
    "start_time": "2022-10-17T15:48:58.428Z"
   },
   {
    "duration": 1369,
    "start_time": "2022-10-17T15:49:42.436Z"
   },
   {
    "duration": 498,
    "start_time": "2022-10-17T15:49:50.999Z"
   },
   {
    "duration": 1609,
    "start_time": "2022-10-17T15:49:59.289Z"
   },
   {
    "duration": 149,
    "start_time": "2022-10-17T15:50:17.055Z"
   },
   {
    "duration": 344,
    "start_time": "2022-10-17T15:50:28.556Z"
   },
   {
    "duration": 27,
    "start_time": "2022-10-17T15:50:31.245Z"
   },
   {
    "duration": 507,
    "start_time": "2022-10-17T15:50:34.020Z"
   },
   {
    "duration": 931,
    "start_time": "2022-10-17T15:50:40.085Z"
   },
   {
    "duration": 14129,
    "start_time": "2022-10-17T15:50:46.262Z"
   },
   {
    "duration": 47,
    "start_time": "2022-10-17T15:51:05.456Z"
   },
   {
    "duration": 718,
    "start_time": "2022-10-17T15:51:07.688Z"
   },
   {
    "duration": 12699,
    "start_time": "2022-10-17T15:51:20.793Z"
   },
   {
    "duration": 14468,
    "start_time": "2022-10-17T15:52:28.089Z"
   },
   {
    "duration": 14697,
    "start_time": "2022-10-17T15:53:16.295Z"
   },
   {
    "duration": 2380,
    "start_time": "2022-10-17T15:55:33.750Z"
   },
   {
    "duration": 1499,
    "start_time": "2022-10-17T15:55:51.277Z"
   },
   {
    "duration": 26,
    "start_time": "2022-10-17T15:55:52.778Z"
   },
   {
    "duration": 68,
    "start_time": "2022-10-17T15:55:52.806Z"
   },
   {
    "duration": 14,
    "start_time": "2022-10-17T15:55:52.876Z"
   },
   {
    "duration": 49,
    "start_time": "2022-10-17T15:55:52.892Z"
   },
   {
    "duration": 4,
    "start_time": "2022-10-17T15:55:52.943Z"
   },
   {
    "duration": 23,
    "start_time": "2022-10-17T15:55:52.949Z"
   },
   {
    "duration": 24,
    "start_time": "2022-10-17T15:55:52.973Z"
   },
   {
    "duration": 668,
    "start_time": "2022-10-17T15:55:52.999Z"
   },
   {
    "duration": 5,
    "start_time": "2022-10-17T15:55:53.669Z"
   },
   {
    "duration": 10,
    "start_time": "2022-10-17T15:55:53.675Z"
   },
   {
    "duration": 13,
    "start_time": "2022-10-17T15:55:53.686Z"
   },
   {
    "duration": 726,
    "start_time": "2022-10-17T15:55:53.701Z"
   },
   {
    "duration": 101,
    "start_time": "2022-10-17T15:55:54.430Z"
   },
   {
    "duration": 271,
    "start_time": "2022-10-17T15:55:54.533Z"
   },
   {
    "duration": 378,
    "start_time": "2022-10-17T15:55:54.806Z"
   },
   {
    "duration": 459,
    "start_time": "2022-10-17T15:55:55.185Z"
   },
   {
    "duration": 271,
    "start_time": "2022-10-17T15:55:55.645Z"
   },
   {
    "duration": 299,
    "start_time": "2022-10-17T15:55:55.918Z"
   },
   {
    "duration": 235,
    "start_time": "2022-10-17T15:55:56.220Z"
   },
   {
    "duration": 6,
    "start_time": "2022-10-17T15:55:56.457Z"
   },
   {
    "duration": 10,
    "start_time": "2022-10-17T15:55:56.465Z"
   },
   {
    "duration": 26,
    "start_time": "2022-10-17T15:55:56.477Z"
   },
   {
    "duration": 127,
    "start_time": "2022-10-17T15:55:56.505Z"
   },
   {
    "duration": 7,
    "start_time": "2022-10-17T15:55:56.634Z"
   },
   {
    "duration": 16,
    "start_time": "2022-10-17T15:55:56.643Z"
   },
   {
    "duration": 15,
    "start_time": "2022-10-17T15:55:56.660Z"
   },
   {
    "duration": 21,
    "start_time": "2022-10-17T15:55:56.677Z"
   },
   {
    "duration": 128,
    "start_time": "2022-10-17T15:55:56.699Z"
   },
   {
    "duration": 12,
    "start_time": "2022-10-17T15:55:56.828Z"
   },
   {
    "duration": 13,
    "start_time": "2022-10-17T15:55:56.842Z"
   },
   {
    "duration": 5,
    "start_time": "2022-10-17T15:55:56.856Z"
   },
   {
    "duration": 1057,
    "start_time": "2022-10-17T15:55:56.863Z"
   },
   {
    "duration": 1096,
    "start_time": "2022-10-17T15:55:57.922Z"
   },
   {
    "duration": 12,
    "start_time": "2022-10-17T15:55:59.020Z"
   },
   {
    "duration": 9,
    "start_time": "2022-10-17T15:55:59.034Z"
   },
   {
    "duration": 6,
    "start_time": "2022-10-17T15:55:59.045Z"
   },
   {
    "duration": 45,
    "start_time": "2022-10-17T15:55:59.053Z"
   },
   {
    "duration": 11,
    "start_time": "2022-10-17T15:55:59.100Z"
   },
   {
    "duration": 8,
    "start_time": "2022-10-17T15:55:59.112Z"
   },
   {
    "duration": 24,
    "start_time": "2022-10-17T15:55:59.124Z"
   },
   {
    "duration": 12,
    "start_time": "2022-10-17T15:55:59.149Z"
   },
   {
    "duration": 334,
    "start_time": "2022-10-17T15:55:59.163Z"
   },
   {
    "duration": 35,
    "start_time": "2022-10-17T15:55:59.499Z"
   },
   {
    "duration": 208,
    "start_time": "2022-10-17T15:55:59.535Z"
   },
   {
    "duration": 5,
    "start_time": "2022-10-17T15:55:59.744Z"
   },
   {
    "duration": 17,
    "start_time": "2022-10-17T15:55:59.751Z"
   },
   {
    "duration": 229,
    "start_time": "2022-10-17T15:55:59.770Z"
   },
   {
    "duration": 402,
    "start_time": "2022-10-17T15:56:00.001Z"
   },
   {
    "duration": 123,
    "start_time": "2022-10-17T15:56:00.406Z"
   },
   {
    "duration": 34,
    "start_time": "2022-10-17T15:56:00.531Z"
   },
   {
    "duration": 189,
    "start_time": "2022-10-17T15:56:00.567Z"
   },
   {
    "duration": 225,
    "start_time": "2022-10-17T15:56:00.757Z"
   },
   {
    "duration": 3316,
    "start_time": "2022-10-17T15:56:00.984Z"
   },
   {
    "duration": 1396,
    "start_time": "2022-10-17T15:56:04.302Z"
   },
   {
    "duration": 394,
    "start_time": "2022-10-17T15:56:05.702Z"
   },
   {
    "duration": 1799,
    "start_time": "2022-10-17T15:56:06.099Z"
   },
   {
    "duration": 271,
    "start_time": "2022-10-17T15:56:07.900Z"
   },
   {
    "duration": 364,
    "start_time": "2022-10-17T15:56:08.173Z"
   },
   {
    "duration": 26,
    "start_time": "2022-10-17T15:56:08.539Z"
   },
   {
    "duration": 500,
    "start_time": "2022-10-17T15:56:08.567Z"
   },
   {
    "duration": 2266,
    "start_time": "2022-10-17T15:56:09.069Z"
   },
   {
    "duration": 14804,
    "start_time": "2022-10-17T15:56:11.337Z"
   },
   {
    "duration": 32,
    "start_time": "2022-10-17T15:56:26.142Z"
   },
   {
    "duration": 415,
    "start_time": "2022-10-17T15:56:26.175Z"
   },
   {
    "duration": 12825,
    "start_time": "2022-10-17T15:56:26.591Z"
   },
   {
    "duration": 33,
    "start_time": "2022-10-17T15:56:39.417Z"
   },
   {
    "duration": 173,
    "start_time": "2022-10-17T15:56:39.452Z"
   },
   {
    "duration": 31831,
    "start_time": "2022-10-17T16:14:29.844Z"
   },
   {
    "duration": 5,
    "start_time": "2022-10-17T16:18:51.577Z"
   },
   {
    "duration": 5,
    "start_time": "2022-10-17T16:19:00.610Z"
   },
   {
    "duration": 4,
    "start_time": "2022-10-17T16:19:05.395Z"
   },
   {
    "duration": 180880,
    "start_time": "2022-10-17T16:19:50.064Z"
   },
   {
    "duration": 3,
    "start_time": "2022-10-17T16:24:43.224Z"
   },
   {
    "duration": 4,
    "start_time": "2022-10-17T16:24:59.844Z"
   },
   {
    "duration": 4,
    "start_time": "2022-10-17T16:26:06.195Z"
   },
   {
    "duration": 65478,
    "start_time": "2022-10-17T16:29:18.551Z"
   },
   {
    "duration": 238126,
    "start_time": "2022-10-17T16:30:52.742Z"
   },
   {
    "duration": 4835,
    "start_time": "2022-10-17T16:35:51.239Z"
   },
   {
    "duration": 154182,
    "start_time": "2022-10-17T16:38:55.549Z"
   },
   {
    "duration": 340401,
    "start_time": "2022-10-17T16:42:31.149Z"
   },
   {
    "duration": 3336,
    "start_time": "2022-10-17T16:50:22.623Z"
   },
   {
    "duration": 2856,
    "start_time": "2022-10-17T16:51:04.904Z"
   },
   {
    "duration": 3224,
    "start_time": "2022-10-17T16:51:13.936Z"
   },
   {
    "duration": 3398,
    "start_time": "2022-10-17T16:51:31.769Z"
   },
   {
    "duration": 3,
    "start_time": "2022-10-17T16:56:06.914Z"
   },
   {
    "duration": 4,
    "start_time": "2022-10-17T16:56:19.840Z"
   },
   {
    "duration": 4,
    "start_time": "2022-10-17T16:56:28.300Z"
   },
   {
    "duration": 13,
    "start_time": "2022-10-17T16:59:16.751Z"
   },
   {
    "duration": 13,
    "start_time": "2022-10-17T16:59:39.481Z"
   },
   {
    "duration": 13,
    "start_time": "2022-10-17T17:00:27.471Z"
   },
   {
    "duration": 5,
    "start_time": "2022-10-17T17:00:41.723Z"
   },
   {
    "duration": 5,
    "start_time": "2022-10-17T17:00:49.339Z"
   },
   {
    "duration": 4,
    "start_time": "2022-10-17T17:01:22.957Z"
   },
   {
    "duration": 3269,
    "start_time": "2022-10-17T17:02:53.175Z"
   },
   {
    "duration": 3273,
    "start_time": "2022-10-17T17:03:54.943Z"
   },
   {
    "duration": 340794,
    "start_time": "2022-10-17T17:06:33.601Z"
   },
   {
    "duration": 258514,
    "start_time": "2022-10-17T17:15:18.386Z"
   },
   {
    "duration": 236852,
    "start_time": "2022-10-17T17:19:58.725Z"
   },
   {
    "duration": 298771,
    "start_time": "2022-10-17T17:25:08.521Z"
   },
   {
    "duration": 1397,
    "start_time": "2022-10-17T17:37:38.831Z"
   },
   {
    "duration": 22,
    "start_time": "2022-10-17T17:37:40.230Z"
   },
   {
    "duration": 60,
    "start_time": "2022-10-17T17:37:40.253Z"
   },
   {
    "duration": 14,
    "start_time": "2022-10-17T17:37:40.315Z"
   },
   {
    "duration": 49,
    "start_time": "2022-10-17T17:37:40.330Z"
   },
   {
    "duration": 17,
    "start_time": "2022-10-17T17:37:40.381Z"
   },
   {
    "duration": 23,
    "start_time": "2022-10-17T17:37:40.400Z"
   },
   {
    "duration": 5,
    "start_time": "2022-10-17T17:37:40.424Z"
   },
   {
    "duration": 5,
    "start_time": "2022-10-17T17:37:40.431Z"
   },
   {
    "duration": 761,
    "start_time": "2022-10-17T17:37:40.438Z"
   },
   {
    "duration": 78,
    "start_time": "2022-10-17T17:37:41.201Z"
   },
   {
    "duration": 258,
    "start_time": "2022-10-17T17:37:41.281Z"
   },
   {
    "duration": 387,
    "start_time": "2022-10-17T17:37:41.541Z"
   },
   {
    "duration": 462,
    "start_time": "2022-10-17T17:37:41.930Z"
   },
   {
    "duration": 262,
    "start_time": "2022-10-17T17:37:42.397Z"
   },
   {
    "duration": 290,
    "start_time": "2022-10-17T17:37:42.662Z"
   },
   {
    "duration": 128,
    "start_time": "2022-10-17T17:37:42.953Z"
   },
   {
    "duration": 15,
    "start_time": "2022-10-17T17:37:43.082Z"
   },
   {
    "duration": 15,
    "start_time": "2022-10-17T17:37:43.098Z"
   },
   {
    "duration": 48,
    "start_time": "2022-10-17T17:37:43.115Z"
   },
   {
    "duration": 148,
    "start_time": "2022-10-17T17:37:43.166Z"
   },
   {
    "duration": 6,
    "start_time": "2022-10-17T17:37:43.316Z"
   },
   {
    "duration": 36,
    "start_time": "2022-10-17T17:37:43.323Z"
   },
   {
    "duration": 33,
    "start_time": "2022-10-17T17:37:43.360Z"
   },
   {
    "duration": 14,
    "start_time": "2022-10-17T17:37:43.394Z"
   },
   {
    "duration": 247,
    "start_time": "2022-10-17T17:37:43.409Z"
   },
   {
    "duration": 12,
    "start_time": "2022-10-17T17:37:43.658Z"
   },
   {
    "duration": 32,
    "start_time": "2022-10-17T17:37:43.674Z"
   },
   {
    "duration": 23,
    "start_time": "2022-10-17T17:37:43.708Z"
   },
   {
    "duration": 1008,
    "start_time": "2022-10-17T17:37:43.733Z"
   },
   {
    "duration": 917,
    "start_time": "2022-10-17T17:37:44.742Z"
   },
   {
    "duration": 11,
    "start_time": "2022-10-17T17:37:45.661Z"
   },
   {
    "duration": 7,
    "start_time": "2022-10-17T17:37:45.673Z"
   },
   {
    "duration": 5,
    "start_time": "2022-10-17T17:37:45.697Z"
   },
   {
    "duration": 19,
    "start_time": "2022-10-17T17:37:45.703Z"
   },
   {
    "duration": 10,
    "start_time": "2022-10-17T17:37:45.724Z"
   },
   {
    "duration": 129,
    "start_time": "2022-10-17T17:37:45.736Z"
   },
   {
    "duration": 38,
    "start_time": "2022-10-17T17:37:45.867Z"
   },
   {
    "duration": 11,
    "start_time": "2022-10-17T17:37:45.907Z"
   },
   {
    "duration": 185,
    "start_time": "2022-10-17T17:37:45.919Z"
   },
   {
    "duration": 30,
    "start_time": "2022-10-17T17:37:46.196Z"
   },
   {
    "duration": 201,
    "start_time": "2022-10-17T17:37:46.227Z"
   },
   {
    "duration": 5,
    "start_time": "2022-10-17T17:37:46.430Z"
   },
   {
    "duration": 20,
    "start_time": "2022-10-17T17:37:46.436Z"
   },
   {
    "duration": 147,
    "start_time": "2022-10-17T17:37:46.457Z"
   },
   {
    "duration": 298,
    "start_time": "2022-10-17T17:37:46.606Z"
   },
   {
    "duration": 206,
    "start_time": "2022-10-17T17:37:46.905Z"
   },
   {
    "duration": 30,
    "start_time": "2022-10-17T17:37:47.113Z"
   },
   {
    "duration": 175,
    "start_time": "2022-10-17T17:37:47.144Z"
   },
   {
    "duration": 214,
    "start_time": "2022-10-17T17:37:47.321Z"
   },
   {
    "duration": 1372,
    "start_time": "2022-10-17T17:37:47.536Z"
   },
   {
    "duration": 537,
    "start_time": "2022-10-17T17:37:48.910Z"
   },
   {
    "duration": 15879,
    "start_time": "2022-10-17T17:37:49.449Z"
   },
   {
    "duration": 6,
    "start_time": "2022-10-17T17:39:03.371Z"
   },
   {
    "duration": 20,
    "start_time": "2022-10-17T17:39:03.379Z"
   },
   {
    "duration": 198,
    "start_time": "2022-10-17T17:39:03.400Z"
   },
   {
    "duration": 397,
    "start_time": "2022-10-17T17:39:03.601Z"
   },
   {
    "duration": 122,
    "start_time": "2022-10-17T17:39:04.000Z"
   },
   {
    "duration": 32,
    "start_time": "2022-10-17T17:39:04.124Z"
   },
   {
    "duration": 184,
    "start_time": "2022-10-17T17:39:04.157Z"
   },
   {
    "duration": 218,
    "start_time": "2022-10-17T17:39:04.343Z"
   },
   {
    "duration": 1738,
    "start_time": "2022-10-17T17:39:04.563Z"
   },
   {
    "duration": 426,
    "start_time": "2022-10-17T17:39:06.305Z"
   },
   {
    "duration": 14530,
    "start_time": "2022-10-17T17:39:06.732Z"
   },
   {
    "duration": 17667,
    "start_time": "2022-10-17T17:39:30.769Z"
   },
   {
    "duration": 17463,
    "start_time": "2022-10-17T17:41:04.156Z"
   },
   {
    "duration": 18314,
    "start_time": "2022-10-17T17:41:47.201Z"
   },
   {
    "duration": 17932,
    "start_time": "2022-10-17T17:42:21.869Z"
   },
   {
    "duration": 7,
    "start_time": "2022-10-17T17:45:07.303Z"
   },
   {
    "duration": 18,
    "start_time": "2022-10-17T17:45:07.313Z"
   },
   {
    "duration": 369,
    "start_time": "2022-10-17T17:45:07.333Z"
   },
   {
    "duration": 498,
    "start_time": "2022-10-17T17:45:07.706Z"
   },
   {
    "duration": 118,
    "start_time": "2022-10-17T17:45:08.206Z"
   },
   {
    "duration": 38,
    "start_time": "2022-10-17T17:45:08.326Z"
   },
   {
    "duration": 201,
    "start_time": "2022-10-17T17:45:08.366Z"
   },
   {
    "duration": 237,
    "start_time": "2022-10-17T17:45:08.568Z"
   },
   {
    "duration": 1791,
    "start_time": "2022-10-17T17:45:08.807Z"
   },
   {
    "duration": 456,
    "start_time": "2022-10-17T17:45:10.601Z"
   },
   {
    "duration": 18995,
    "start_time": "2022-10-17T17:45:11.059Z"
   },
   {
    "duration": 6,
    "start_time": "2022-10-17T17:46:00.372Z"
   },
   {
    "duration": 6,
    "start_time": "2022-10-17T17:46:02.853Z"
   },
   {
    "duration": 1327,
    "start_time": "2022-10-17T17:46:51.036Z"
   },
   {
    "duration": 22,
    "start_time": "2022-10-17T17:46:52.365Z"
   },
   {
    "duration": 61,
    "start_time": "2022-10-17T17:46:52.388Z"
   },
   {
    "duration": 14,
    "start_time": "2022-10-17T17:46:52.451Z"
   },
   {
    "duration": 49,
    "start_time": "2022-10-17T17:46:52.466Z"
   },
   {
    "duration": 4,
    "start_time": "2022-10-17T17:46:52.517Z"
   },
   {
    "duration": 20,
    "start_time": "2022-10-17T17:46:52.522Z"
   },
   {
    "duration": 4,
    "start_time": "2022-10-17T17:46:52.543Z"
   },
   {
    "duration": 7,
    "start_time": "2022-10-17T17:46:52.549Z"
   },
   {
    "duration": 1541,
    "start_time": "2022-10-17T17:46:52.558Z"
   },
   {
    "duration": 142,
    "start_time": "2022-10-17T17:46:54.100Z"
   },
   {
    "duration": 334,
    "start_time": "2022-10-17T17:46:54.243Z"
   },
   {
    "duration": 392,
    "start_time": "2022-10-17T17:46:54.578Z"
   },
   {
    "duration": 472,
    "start_time": "2022-10-17T17:46:54.972Z"
   },
   {
    "duration": 257,
    "start_time": "2022-10-17T17:46:55.446Z"
   },
   {
    "duration": 295,
    "start_time": "2022-10-17T17:46:55.705Z"
   },
   {
    "duration": 140,
    "start_time": "2022-10-17T17:46:56.001Z"
   },
   {
    "duration": 7,
    "start_time": "2022-10-17T17:46:56.143Z"
   },
   {
    "duration": 11,
    "start_time": "2022-10-17T17:46:56.151Z"
   },
   {
    "duration": 8,
    "start_time": "2022-10-17T17:46:56.164Z"
   },
   {
    "duration": 142,
    "start_time": "2022-10-17T17:46:56.174Z"
   },
   {
    "duration": 6,
    "start_time": "2022-10-17T17:46:56.317Z"
   },
   {
    "duration": 9,
    "start_time": "2022-10-17T17:46:56.324Z"
   },
   {
    "duration": 7,
    "start_time": "2022-10-17T17:46:56.335Z"
   },
   {
    "duration": 5,
    "start_time": "2022-10-17T17:46:56.343Z"
   },
   {
    "duration": 236,
    "start_time": "2022-10-17T17:46:56.349Z"
   },
   {
    "duration": 17,
    "start_time": "2022-10-17T17:46:56.587Z"
   },
   {
    "duration": 11,
    "start_time": "2022-10-17T17:46:56.607Z"
   },
   {
    "duration": 6,
    "start_time": "2022-10-17T17:46:56.620Z"
   },
   {
    "duration": 997,
    "start_time": "2022-10-17T17:46:56.628Z"
   },
   {
    "duration": 964,
    "start_time": "2022-10-17T17:46:57.627Z"
   },
   {
    "duration": 14,
    "start_time": "2022-10-17T17:46:58.592Z"
   },
   {
    "duration": 20,
    "start_time": "2022-10-17T17:46:58.607Z"
   },
   {
    "duration": 5,
    "start_time": "2022-10-17T17:46:58.629Z"
   },
   {
    "duration": 18,
    "start_time": "2022-10-17T17:46:58.636Z"
   },
   {
    "duration": 12,
    "start_time": "2022-10-17T17:46:58.656Z"
   },
   {
    "duration": 140,
    "start_time": "2022-10-17T17:46:58.669Z"
   },
   {
    "duration": 25,
    "start_time": "2022-10-17T17:46:58.810Z"
   },
   {
    "duration": 12,
    "start_time": "2022-10-17T17:46:58.837Z"
   },
   {
    "duration": 247,
    "start_time": "2022-10-17T17:46:58.851Z"
   },
   {
    "duration": 117,
    "start_time": "2022-10-17T17:46:59.100Z"
   },
   {
    "duration": 168,
    "start_time": "2022-10-17T17:46:59.218Z"
   },
   {
    "duration": 5,
    "start_time": "2022-10-17T17:46:59.387Z"
   },
   {
    "duration": 12,
    "start_time": "2022-10-17T17:46:59.397Z"
   },
   {
    "duration": 195,
    "start_time": "2022-10-17T17:46:59.411Z"
   },
   {
    "duration": 402,
    "start_time": "2022-10-17T17:46:59.698Z"
   },
   {
    "duration": 115,
    "start_time": "2022-10-17T17:47:00.102Z"
   },
   {
    "duration": 32,
    "start_time": "2022-10-17T17:47:00.219Z"
   },
   {
    "duration": 177,
    "start_time": "2022-10-17T17:47:00.252Z"
   },
   {
    "duration": 225,
    "start_time": "2022-10-17T17:47:00.430Z"
   },
   {
    "duration": 1643,
    "start_time": "2022-10-17T17:47:00.657Z"
   },
   {
    "duration": 443,
    "start_time": "2022-10-17T17:47:02.307Z"
   },
   {
    "duration": 18584,
    "start_time": "2022-10-17T17:47:02.752Z"
   },
   {
    "duration": 5,
    "start_time": "2022-10-17T17:51:56.196Z"
   },
   {
    "duration": 959,
    "start_time": "2022-10-17T17:51:58.458Z"
   },
   {
    "duration": 6,
    "start_time": "2022-10-17T17:52:26.023Z"
   },
   {
    "duration": 809,
    "start_time": "2022-10-17T17:52:34.607Z"
   },
   {
    "duration": 6,
    "start_time": "2022-10-17T17:52:46.521Z"
   },
   {
    "duration": 22,
    "start_time": "2022-10-17T17:52:48.600Z"
   },
   {
    "duration": 7,
    "start_time": "2022-10-17T17:53:05.082Z"
   },
   {
    "duration": 25,
    "start_time": "2022-10-17T17:53:09.018Z"
   },
   {
    "duration": 6,
    "start_time": "2022-10-17T17:53:43.503Z"
   },
   {
    "duration": 25,
    "start_time": "2022-10-17T17:53:46.143Z"
   },
   {
    "duration": 5,
    "start_time": "2022-10-17T17:54:05.841Z"
   },
   {
    "duration": 15,
    "start_time": "2022-10-17T17:54:07.738Z"
   },
   {
    "duration": 5,
    "start_time": "2022-10-17T17:54:22.147Z"
   },
   {
    "duration": 14,
    "start_time": "2022-10-17T17:54:24.914Z"
   },
   {
    "duration": 6,
    "start_time": "2022-10-17T17:54:47.469Z"
   },
   {
    "duration": 13,
    "start_time": "2022-10-17T17:54:49.597Z"
   },
   {
    "duration": 5,
    "start_time": "2022-10-17T17:55:05.497Z"
   },
   {
    "duration": 14,
    "start_time": "2022-10-17T17:55:07.528Z"
   },
   {
    "duration": 5,
    "start_time": "2022-10-17T17:55:31.964Z"
   },
   {
    "duration": 14,
    "start_time": "2022-10-17T17:55:34.046Z"
   },
   {
    "duration": 6,
    "start_time": "2022-10-17T17:55:50.911Z"
   },
   {
    "duration": 13,
    "start_time": "2022-10-17T17:55:53.476Z"
   },
   {
    "duration": 5,
    "start_time": "2022-10-17T17:56:06.398Z"
   },
   {
    "duration": 19,
    "start_time": "2022-10-17T17:56:08.590Z"
   },
   {
    "duration": 6,
    "start_time": "2022-10-17T17:56:30.289Z"
   },
   {
    "duration": 24,
    "start_time": "2022-10-17T17:56:32.537Z"
   },
   {
    "duration": 5,
    "start_time": "2022-10-17T17:57:55.252Z"
   },
   {
    "duration": 25,
    "start_time": "2022-10-17T17:57:57.444Z"
   },
   {
    "duration": 5,
    "start_time": "2022-10-17T17:58:15.997Z"
   },
   {
    "duration": 13,
    "start_time": "2022-10-17T17:58:18.429Z"
   },
   {
    "duration": 6,
    "start_time": "2022-10-17T17:59:05.116Z"
   },
   {
    "duration": 13,
    "start_time": "2022-10-17T17:59:07.314Z"
   },
   {
    "duration": 5,
    "start_time": "2022-10-17T17:59:42.800Z"
   },
   {
    "duration": 25,
    "start_time": "2022-10-17T17:59:44.839Z"
   },
   {
    "duration": 5,
    "start_time": "2022-10-17T17:59:58.354Z"
   },
   {
    "duration": 25,
    "start_time": "2022-10-17T18:00:00.433Z"
   },
   {
    "duration": 6,
    "start_time": "2022-10-17T18:00:13.387Z"
   },
   {
    "duration": 14,
    "start_time": "2022-10-17T18:00:15.708Z"
   },
   {
    "duration": 8,
    "start_time": "2022-10-17T18:00:32.557Z"
   },
   {
    "duration": 14,
    "start_time": "2022-10-17T18:00:34.741Z"
   },
   {
    "duration": 5,
    "start_time": "2022-10-17T18:00:53.615Z"
   },
   {
    "duration": 23,
    "start_time": "2022-10-17T18:00:55.631Z"
   },
   {
    "duration": 5,
    "start_time": "2022-10-17T18:01:40.301Z"
   },
   {
    "duration": 26,
    "start_time": "2022-10-17T18:01:42.652Z"
   },
   {
    "duration": 5,
    "start_time": "2022-10-17T18:01:47.110Z"
   },
   {
    "duration": 25,
    "start_time": "2022-10-17T18:01:49.093Z"
   },
   {
    "duration": 6,
    "start_time": "2022-10-17T18:02:28.075Z"
   },
   {
    "duration": 23,
    "start_time": "2022-10-17T18:02:30.099Z"
   },
   {
    "duration": 6,
    "start_time": "2022-10-17T18:02:51.734Z"
   },
   {
    "duration": 15,
    "start_time": "2022-10-17T18:02:54.101Z"
   },
   {
    "duration": 18011,
    "start_time": "2022-10-17T18:03:17.834Z"
   },
   {
    "duration": 5,
    "start_time": "2022-10-17T18:04:18.509Z"
   },
   {
    "duration": 12,
    "start_time": "2022-10-17T18:04:20.559Z"
   },
   {
    "duration": 5,
    "start_time": "2022-10-17T18:04:45.570Z"
   },
   {
    "duration": 17,
    "start_time": "2022-10-17T18:04:48.137Z"
   },
   {
    "duration": 18721,
    "start_time": "2022-10-17T18:04:52.723Z"
   },
   {
    "duration": 1472,
    "start_time": "2022-10-17T18:05:43.890Z"
   },
   {
    "duration": 24,
    "start_time": "2022-10-17T18:05:45.364Z"
   },
   {
    "duration": 63,
    "start_time": "2022-10-17T18:05:45.390Z"
   },
   {
    "duration": 11,
    "start_time": "2022-10-17T18:05:45.456Z"
   },
   {
    "duration": 46,
    "start_time": "2022-10-17T18:05:45.469Z"
   },
   {
    "duration": 3,
    "start_time": "2022-10-17T18:05:45.517Z"
   },
   {
    "duration": 20,
    "start_time": "2022-10-17T18:05:45.521Z"
   },
   {
    "duration": 5,
    "start_time": "2022-10-17T18:05:45.542Z"
   },
   {
    "duration": 7,
    "start_time": "2022-10-17T18:05:45.548Z"
   },
   {
    "duration": 971,
    "start_time": "2022-10-17T18:05:45.558Z"
   },
   {
    "duration": 202,
    "start_time": "2022-10-17T18:05:46.531Z"
   },
   {
    "duration": 569,
    "start_time": "2022-10-17T18:05:46.735Z"
   },
   {
    "duration": 711,
    "start_time": "2022-10-17T18:05:47.306Z"
   },
   {
    "duration": 548,
    "start_time": "2022-10-17T18:05:48.019Z"
   },
   {
    "duration": 277,
    "start_time": "2022-10-17T18:05:48.569Z"
   },
   {
    "duration": 321,
    "start_time": "2022-10-17T18:05:48.848Z"
   },
   {
    "duration": 136,
    "start_time": "2022-10-17T18:05:49.171Z"
   },
   {
    "duration": 6,
    "start_time": "2022-10-17T18:05:49.308Z"
   },
   {
    "duration": 27,
    "start_time": "2022-10-17T18:05:49.316Z"
   },
   {
    "duration": 24,
    "start_time": "2022-10-17T18:05:49.344Z"
   },
   {
    "duration": 131,
    "start_time": "2022-10-17T18:05:49.370Z"
   },
   {
    "duration": 6,
    "start_time": "2022-10-17T18:05:49.503Z"
   },
   {
    "duration": 26,
    "start_time": "2022-10-17T18:05:49.511Z"
   },
   {
    "duration": 17,
    "start_time": "2022-10-17T18:05:49.538Z"
   },
   {
    "duration": 17,
    "start_time": "2022-10-17T18:05:49.557Z"
   },
   {
    "duration": 242,
    "start_time": "2022-10-17T18:05:49.576Z"
   },
   {
    "duration": 16,
    "start_time": "2022-10-17T18:05:49.819Z"
   },
   {
    "duration": 10,
    "start_time": "2022-10-17T18:05:49.840Z"
   },
   {
    "duration": 7,
    "start_time": "2022-10-17T18:05:49.852Z"
   },
   {
    "duration": 1044,
    "start_time": "2022-10-17T18:05:49.861Z"
   },
   {
    "duration": 948,
    "start_time": "2022-10-17T18:05:50.906Z"
   },
   {
    "duration": 13,
    "start_time": "2022-10-17T18:05:51.856Z"
   },
   {
    "duration": 9,
    "start_time": "2022-10-17T18:05:51.871Z"
   },
   {
    "duration": 18,
    "start_time": "2022-10-17T18:05:51.882Z"
   },
   {
    "duration": 19,
    "start_time": "2022-10-17T18:05:51.902Z"
   },
   {
    "duration": 10,
    "start_time": "2022-10-17T18:05:51.923Z"
   },
   {
    "duration": 146,
    "start_time": "2022-10-17T18:05:51.935Z"
   },
   {
    "duration": 27,
    "start_time": "2022-10-17T18:05:52.083Z"
   },
   {
    "duration": 11,
    "start_time": "2022-10-17T18:05:52.112Z"
   },
   {
    "duration": 481,
    "start_time": "2022-10-17T18:05:52.125Z"
   },
   {
    "duration": 119,
    "start_time": "2022-10-17T18:05:52.610Z"
   },
   {
    "duration": 236,
    "start_time": "2022-10-17T18:05:52.731Z"
   },
   {
    "duration": 5,
    "start_time": "2022-10-17T18:05:52.968Z"
   },
   {
    "duration": 17,
    "start_time": "2022-10-17T18:05:52.975Z"
   },
   {
    "duration": 508,
    "start_time": "2022-10-17T18:05:52.994Z"
   },
   {
    "duration": 401,
    "start_time": "2022-10-17T18:05:53.505Z"
   },
   {
    "duration": 201,
    "start_time": "2022-10-17T18:05:53.908Z"
   },
   {
    "duration": 92,
    "start_time": "2022-10-17T18:05:54.111Z"
   },
   {
    "duration": 229,
    "start_time": "2022-10-17T18:05:54.205Z"
   },
   {
    "duration": 302,
    "start_time": "2022-10-17T18:05:54.437Z"
   },
   {
    "duration": 1557,
    "start_time": "2022-10-17T18:05:54.741Z"
   },
   {
    "duration": 448,
    "start_time": "2022-10-17T18:05:56.308Z"
   },
   {
    "duration": 19729,
    "start_time": "2022-10-17T18:05:56.758Z"
   },
   {
    "duration": 659,
    "start_time": "2022-10-17T18:06:57.057Z"
   },
   {
    "duration": 686,
    "start_time": "2022-10-17T18:07:40.806Z"
   },
   {
    "duration": 688,
    "start_time": "2022-10-17T18:07:56.560Z"
   },
   {
    "duration": 670,
    "start_time": "2022-10-17T18:08:13.762Z"
   },
   {
    "duration": 854,
    "start_time": "2022-10-17T18:08:31.380Z"
   },
   {
    "duration": 885,
    "start_time": "2022-10-17T18:09:54.821Z"
   },
   {
    "duration": 982,
    "start_time": "2022-10-17T18:10:19.968Z"
   },
   {
    "duration": 1007,
    "start_time": "2022-10-17T18:10:25.329Z"
   },
   {
    "duration": 22337,
    "start_time": "2022-10-17T18:10:37.033Z"
   },
   {
    "duration": 13,
    "start_time": "2022-10-17T18:11:16.590Z"
   },
   {
    "duration": 18558,
    "start_time": "2022-10-17T18:11:22.015Z"
   },
   {
    "duration": 37,
    "start_time": "2022-10-17T18:11:43.889Z"
   },
   {
    "duration": 37,
    "start_time": "2022-10-17T18:11:59.772Z"
   },
   {
    "duration": 613,
    "start_time": "2022-10-17T18:12:08.668Z"
   },
   {
    "duration": 747,
    "start_time": "2022-10-17T18:14:31.397Z"
   },
   {
    "duration": 593,
    "start_time": "2022-10-17T18:14:52.382Z"
   },
   {
    "duration": 19530,
    "start_time": "2022-10-17T18:15:12.665Z"
   },
   {
    "duration": 38,
    "start_time": "2022-10-17T18:15:38.668Z"
   },
   {
    "duration": 545,
    "start_time": "2022-10-17T18:16:00.271Z"
   },
   {
    "duration": 699,
    "start_time": "2022-10-17T18:16:13.728Z"
   },
   {
    "duration": 538,
    "start_time": "2022-10-17T18:16:24.561Z"
   },
   {
    "duration": 716,
    "start_time": "2022-10-17T18:16:32.211Z"
   },
   {
    "duration": 513,
    "start_time": "2022-10-17T18:17:16.367Z"
   },
   {
    "duration": 545,
    "start_time": "2022-10-17T18:21:31.448Z"
   },
   {
    "duration": 684,
    "start_time": "2022-10-17T18:21:39.429Z"
   },
   {
    "duration": 1290,
    "start_time": "2022-10-17T18:22:04.377Z"
   },
   {
    "duration": 18691,
    "start_time": "2022-10-17T18:23:33.258Z"
   },
   {
    "duration": 743,
    "start_time": "2022-10-17T18:23:54.597Z"
   },
   {
    "duration": 725,
    "start_time": "2022-10-17T18:26:48.281Z"
   },
   {
    "duration": 19171,
    "start_time": "2022-10-17T18:32:24.669Z"
   },
   {
    "duration": 743,
    "start_time": "2022-10-17T18:32:47.137Z"
   },
   {
    "duration": 1436,
    "start_time": "2022-10-17T18:33:25.311Z"
   },
   {
    "duration": 23,
    "start_time": "2022-10-17T18:33:26.749Z"
   },
   {
    "duration": 66,
    "start_time": "2022-10-17T18:33:26.775Z"
   },
   {
    "duration": 14,
    "start_time": "2022-10-17T18:33:26.844Z"
   },
   {
    "duration": 60,
    "start_time": "2022-10-17T18:33:26.860Z"
   },
   {
    "duration": 4,
    "start_time": "2022-10-17T18:33:26.921Z"
   },
   {
    "duration": 22,
    "start_time": "2022-10-17T18:33:26.927Z"
   },
   {
    "duration": 4,
    "start_time": "2022-10-17T18:33:26.951Z"
   },
   {
    "duration": 12,
    "start_time": "2022-10-17T18:33:26.957Z"
   },
   {
    "duration": 901,
    "start_time": "2022-10-17T18:33:26.972Z"
   },
   {
    "duration": 101,
    "start_time": "2022-10-17T18:33:27.875Z"
   },
   {
    "duration": 379,
    "start_time": "2022-10-17T18:33:27.978Z"
   },
   {
    "duration": 392,
    "start_time": "2022-10-17T18:33:28.359Z"
   },
   {
    "duration": 519,
    "start_time": "2022-10-17T18:33:28.753Z"
   },
   {
    "duration": 267,
    "start_time": "2022-10-17T18:33:29.274Z"
   },
   {
    "duration": 296,
    "start_time": "2022-10-17T18:33:29.544Z"
   },
   {
    "duration": 135,
    "start_time": "2022-10-17T18:33:29.842Z"
   },
   {
    "duration": 8,
    "start_time": "2022-10-17T18:33:29.979Z"
   },
   {
    "duration": 12,
    "start_time": "2022-10-17T18:33:29.997Z"
   },
   {
    "duration": 11,
    "start_time": "2022-10-17T18:33:30.011Z"
   },
   {
    "duration": 147,
    "start_time": "2022-10-17T18:33:30.023Z"
   },
   {
    "duration": 7,
    "start_time": "2022-10-17T18:33:30.173Z"
   },
   {
    "duration": 44,
    "start_time": "2022-10-17T18:33:30.196Z"
   },
   {
    "duration": 12,
    "start_time": "2022-10-17T18:33:30.242Z"
   },
   {
    "duration": 24,
    "start_time": "2022-10-17T18:33:30.256Z"
   },
   {
    "duration": 242,
    "start_time": "2022-10-17T18:33:30.281Z"
   },
   {
    "duration": 15,
    "start_time": "2022-10-17T18:33:30.526Z"
   },
   {
    "duration": 31,
    "start_time": "2022-10-17T18:33:30.545Z"
   },
   {
    "duration": 29,
    "start_time": "2022-10-17T18:33:30.578Z"
   },
   {
    "duration": 1116,
    "start_time": "2022-10-17T18:33:30.609Z"
   },
   {
    "duration": 951,
    "start_time": "2022-10-17T18:33:31.726Z"
   },
   {
    "duration": 24,
    "start_time": "2022-10-17T18:33:32.680Z"
   },
   {
    "duration": 11,
    "start_time": "2022-10-17T18:33:32.706Z"
   },
   {
    "duration": 40,
    "start_time": "2022-10-17T18:33:32.720Z"
   },
   {
    "duration": 48,
    "start_time": "2022-10-17T18:33:32.762Z"
   },
   {
    "duration": 34,
    "start_time": "2022-10-17T18:33:32.812Z"
   },
   {
    "duration": 28,
    "start_time": "2022-10-17T18:33:32.848Z"
   },
   {
    "duration": 173,
    "start_time": "2022-10-17T18:33:32.877Z"
   },
   {
    "duration": 16,
    "start_time": "2022-10-17T18:33:33.052Z"
   },
   {
    "duration": 227,
    "start_time": "2022-10-17T18:33:33.070Z"
   },
   {
    "duration": 131,
    "start_time": "2022-10-17T18:33:33.299Z"
   },
   {
    "duration": 168,
    "start_time": "2022-10-17T18:33:33.432Z"
   },
   {
    "duration": 6,
    "start_time": "2022-10-17T18:33:33.601Z"
   },
   {
    "duration": 34,
    "start_time": "2022-10-17T18:33:33.608Z"
   },
   {
    "duration": 153,
    "start_time": "2022-10-17T18:33:33.645Z"
   },
   {
    "duration": 302,
    "start_time": "2022-10-17T18:33:33.802Z"
   },
   {
    "duration": 201,
    "start_time": "2022-10-17T18:33:34.107Z"
   },
   {
    "duration": 38,
    "start_time": "2022-10-17T18:33:34.310Z"
   },
   {
    "duration": 192,
    "start_time": "2022-10-17T18:33:34.349Z"
   },
   {
    "duration": 243,
    "start_time": "2022-10-17T18:33:34.542Z"
   },
   {
    "duration": 1619,
    "start_time": "2022-10-17T18:33:34.787Z"
   },
   {
    "duration": 539,
    "start_time": "2022-10-17T18:33:36.409Z"
   },
   {
    "duration": 19387,
    "start_time": "2022-10-17T18:33:36.950Z"
   },
   {
    "duration": 724,
    "start_time": "2022-10-17T18:33:56.338Z"
   },
   {
    "duration": 23,
    "start_time": "2022-10-17T18:46:46.338Z"
   },
   {
    "duration": 1643,
    "start_time": "2022-10-18T10:31:40.788Z"
   },
   {
    "duration": 39,
    "start_time": "2022-10-18T10:31:42.433Z"
   },
   {
    "duration": 86,
    "start_time": "2022-10-18T10:31:42.474Z"
   },
   {
    "duration": 12,
    "start_time": "2022-10-18T10:31:42.563Z"
   },
   {
    "duration": 46,
    "start_time": "2022-10-18T10:31:42.577Z"
   },
   {
    "duration": 4,
    "start_time": "2022-10-18T10:31:42.625Z"
   },
   {
    "duration": 22,
    "start_time": "2022-10-18T10:31:42.631Z"
   },
   {
    "duration": 4,
    "start_time": "2022-10-18T10:31:42.655Z"
   },
   {
    "duration": 14,
    "start_time": "2022-10-18T10:31:42.661Z"
   },
   {
    "duration": 788,
    "start_time": "2022-10-18T10:31:42.680Z"
   },
   {
    "duration": 93,
    "start_time": "2022-10-18T10:31:43.469Z"
   },
   {
    "duration": 285,
    "start_time": "2022-10-18T10:31:43.564Z"
   },
   {
    "duration": 393,
    "start_time": "2022-10-18T10:31:43.851Z"
   },
   {
    "duration": 560,
    "start_time": "2022-10-18T10:31:44.246Z"
   },
   {
    "duration": 256,
    "start_time": "2022-10-18T10:31:44.808Z"
   },
   {
    "duration": 292,
    "start_time": "2022-10-18T10:31:45.066Z"
   },
   {
    "duration": 128,
    "start_time": "2022-10-18T10:31:45.360Z"
   },
   {
    "duration": 13,
    "start_time": "2022-10-18T10:31:45.490Z"
   },
   {
    "duration": 16,
    "start_time": "2022-10-18T10:31:45.505Z"
   },
   {
    "duration": 25,
    "start_time": "2022-10-18T10:31:45.522Z"
   },
   {
    "duration": 114,
    "start_time": "2022-10-18T10:31:45.550Z"
   },
   {
    "duration": 6,
    "start_time": "2022-10-18T10:31:45.666Z"
   },
   {
    "duration": 9,
    "start_time": "2022-10-18T10:31:45.673Z"
   },
   {
    "duration": 8,
    "start_time": "2022-10-18T10:31:45.700Z"
   },
   {
    "duration": 15,
    "start_time": "2022-10-18T10:31:45.710Z"
   },
   {
    "duration": 233,
    "start_time": "2022-10-18T10:31:45.727Z"
   },
   {
    "duration": 17,
    "start_time": "2022-10-18T10:31:45.962Z"
   },
   {
    "duration": 10,
    "start_time": "2022-10-18T10:31:45.999Z"
   },
   {
    "duration": 8,
    "start_time": "2022-10-18T10:31:46.010Z"
   },
   {
    "duration": 1000,
    "start_time": "2022-10-18T10:31:46.019Z"
   },
   {
    "duration": 897,
    "start_time": "2022-10-18T10:31:47.021Z"
   },
   {
    "duration": 11,
    "start_time": "2022-10-18T10:31:47.919Z"
   },
   {
    "duration": 11,
    "start_time": "2022-10-18T10:31:47.932Z"
   },
   {
    "duration": 12,
    "start_time": "2022-10-18T10:31:47.944Z"
   },
   {
    "duration": 16,
    "start_time": "2022-10-18T10:31:47.957Z"
   },
   {
    "duration": 13,
    "start_time": "2022-10-18T10:31:48.000Z"
   },
   {
    "duration": 117,
    "start_time": "2022-10-18T10:31:48.015Z"
   },
   {
    "duration": 28,
    "start_time": "2022-10-18T10:31:48.134Z"
   },
   {
    "duration": 12,
    "start_time": "2022-10-18T10:31:48.164Z"
   },
   {
    "duration": 137,
    "start_time": "2022-10-18T10:31:48.177Z"
   },
   {
    "duration": 198,
    "start_time": "2022-10-18T10:31:48.315Z"
   },
   {
    "duration": 174,
    "start_time": "2022-10-18T10:31:48.515Z"
   },
   {
    "duration": 20,
    "start_time": "2022-10-18T10:31:48.690Z"
   },
   {
    "duration": 492,
    "start_time": "2022-10-18T10:31:48.711Z"
   },
   {
    "duration": 303,
    "start_time": "2022-10-18T10:31:49.206Z"
   },
   {
    "duration": 118,
    "start_time": "2022-10-18T10:31:49.511Z"
   },
   {
    "duration": 30,
    "start_time": "2022-10-18T10:31:49.630Z"
   },
   {
    "duration": 201,
    "start_time": "2022-10-18T10:31:49.662Z"
   },
   {
    "duration": 212,
    "start_time": "2022-10-18T10:31:49.866Z"
   },
   {
    "duration": 1624,
    "start_time": "2022-10-18T10:31:50.080Z"
   },
   {
    "duration": 399,
    "start_time": "2022-10-18T10:31:51.706Z"
   },
   {
    "duration": 17757,
    "start_time": "2022-10-18T10:31:52.107Z"
   },
   {
    "duration": 691,
    "start_time": "2022-10-18T10:32:09.867Z"
   },
   {
    "duration": 1296,
    "start_time": "2022-10-18T10:47:19.477Z"
   },
   {
    "duration": 27,
    "start_time": "2022-10-18T10:47:20.775Z"
   },
   {
    "duration": 90,
    "start_time": "2022-10-18T10:47:20.803Z"
   },
   {
    "duration": 13,
    "start_time": "2022-10-18T10:47:20.895Z"
   },
   {
    "duration": 47,
    "start_time": "2022-10-18T10:47:20.910Z"
   },
   {
    "duration": 3,
    "start_time": "2022-10-18T10:47:20.959Z"
   },
   {
    "duration": 75,
    "start_time": "2022-10-18T10:47:20.964Z"
   },
   {
    "duration": 5,
    "start_time": "2022-10-18T10:47:21.041Z"
   },
   {
    "duration": 15,
    "start_time": "2022-10-18T10:47:21.048Z"
   },
   {
    "duration": 735,
    "start_time": "2022-10-18T10:47:21.068Z"
   },
   {
    "duration": 73,
    "start_time": "2022-10-18T10:47:21.805Z"
   },
   {
    "duration": 275,
    "start_time": "2022-10-18T10:47:21.880Z"
   },
   {
    "duration": 385,
    "start_time": "2022-10-18T10:47:22.157Z"
   },
   {
    "duration": 492,
    "start_time": "2022-10-18T10:47:22.544Z"
   },
   {
    "duration": 254,
    "start_time": "2022-10-18T10:47:23.038Z"
   },
   {
    "duration": 300,
    "start_time": "2022-10-18T10:47:23.300Z"
   },
   {
    "duration": 154,
    "start_time": "2022-10-18T10:47:23.602Z"
   },
   {
    "duration": 6,
    "start_time": "2022-10-18T10:47:23.759Z"
   },
   {
    "duration": 27,
    "start_time": "2022-10-18T10:47:23.767Z"
   },
   {
    "duration": 24,
    "start_time": "2022-10-18T10:47:23.801Z"
   },
   {
    "duration": 144,
    "start_time": "2022-10-18T10:47:23.827Z"
   },
   {
    "duration": 6,
    "start_time": "2022-10-18T10:47:23.973Z"
   },
   {
    "duration": 32,
    "start_time": "2022-10-18T10:47:23.981Z"
   },
   {
    "duration": 14,
    "start_time": "2022-10-18T10:47:24.015Z"
   },
   {
    "duration": 9,
    "start_time": "2022-10-18T10:47:24.032Z"
   },
   {
    "duration": 241,
    "start_time": "2022-10-18T10:47:24.043Z"
   },
   {
    "duration": 19,
    "start_time": "2022-10-18T10:47:24.285Z"
   },
   {
    "duration": 14,
    "start_time": "2022-10-18T10:47:24.307Z"
   },
   {
    "duration": 6,
    "start_time": "2022-10-18T10:47:24.322Z"
   },
   {
    "duration": 1051,
    "start_time": "2022-10-18T10:47:24.330Z"
   },
   {
    "duration": 884,
    "start_time": "2022-10-18T10:47:25.384Z"
   },
   {
    "duration": 12,
    "start_time": "2022-10-18T10:47:26.270Z"
   },
   {
    "duration": 23,
    "start_time": "2022-10-18T10:47:26.283Z"
   },
   {
    "duration": 23,
    "start_time": "2022-10-18T10:47:26.307Z"
   },
   {
    "duration": 47,
    "start_time": "2022-10-18T10:47:26.332Z"
   },
   {
    "duration": 35,
    "start_time": "2022-10-18T10:47:26.381Z"
   },
   {
    "duration": 46,
    "start_time": "2022-10-18T10:47:26.417Z"
   },
   {
    "duration": 168,
    "start_time": "2022-10-18T10:47:26.464Z"
   },
   {
    "duration": 12,
    "start_time": "2022-10-18T10:47:26.634Z"
   },
   {
    "duration": 64,
    "start_time": "2022-10-18T10:47:26.648Z"
   },
   {
    "duration": 134,
    "start_time": "2022-10-18T10:47:26.800Z"
   },
   {
    "duration": 151,
    "start_time": "2022-10-18T10:47:26.935Z"
   },
   {
    "duration": 21,
    "start_time": "2022-10-18T10:47:27.088Z"
   },
   {
    "duration": 90,
    "start_time": "2022-10-18T10:47:27.110Z"
   },
   {
    "duration": 203,
    "start_time": "2022-10-18T10:47:27.202Z"
   },
   {
    "duration": 141,
    "start_time": "2022-10-18T10:47:27.406Z"
   },
   {
    "duration": 28,
    "start_time": "2022-10-18T10:47:27.549Z"
   },
   {
    "duration": 161,
    "start_time": "2022-10-18T10:47:27.578Z"
   },
   {
    "duration": 205,
    "start_time": "2022-10-18T10:47:27.741Z"
   },
   {
    "duration": 760,
    "start_time": "2022-10-18T10:47:27.948Z"
   },
   {
    "duration": 497,
    "start_time": "2022-10-18T10:47:28.709Z"
   },
   {
    "duration": 17200,
    "start_time": "2022-10-18T10:47:29.208Z"
   },
   {
    "duration": 662,
    "start_time": "2022-10-18T10:47:46.409Z"
   },
   {
    "duration": 1269,
    "start_time": "2022-10-18T10:51:00.951Z"
   },
   {
    "duration": 25,
    "start_time": "2022-10-18T10:51:02.222Z"
   },
   {
    "duration": 187,
    "start_time": "2022-10-18T10:51:02.249Z"
   },
   {
    "duration": 16,
    "start_time": "2022-10-18T10:51:02.438Z"
   },
   {
    "duration": 91,
    "start_time": "2022-10-18T10:51:02.455Z"
   },
   {
    "duration": 3,
    "start_time": "2022-10-18T10:51:02.548Z"
   },
   {
    "duration": 36,
    "start_time": "2022-10-18T10:51:02.552Z"
   },
   {
    "duration": 4,
    "start_time": "2022-10-18T10:51:02.590Z"
   },
   {
    "duration": 10,
    "start_time": "2022-10-18T10:51:02.595Z"
   },
   {
    "duration": 685,
    "start_time": "2022-10-18T10:51:02.608Z"
   },
   {
    "duration": 76,
    "start_time": "2022-10-18T10:51:03.294Z"
   },
   {
    "duration": 233,
    "start_time": "2022-10-18T10:51:03.371Z"
   },
   {
    "duration": 339,
    "start_time": "2022-10-18T10:51:03.605Z"
   },
   {
    "duration": 511,
    "start_time": "2022-10-18T10:51:03.946Z"
   },
   {
    "duration": 365,
    "start_time": "2022-10-18T10:51:04.460Z"
   },
   {
    "duration": 266,
    "start_time": "2022-10-18T10:51:04.826Z"
   },
   {
    "duration": 133,
    "start_time": "2022-10-18T10:51:05.094Z"
   },
   {
    "duration": 6,
    "start_time": "2022-10-18T10:51:05.228Z"
   },
   {
    "duration": 21,
    "start_time": "2022-10-18T10:51:05.235Z"
   },
   {
    "duration": 17,
    "start_time": "2022-10-18T10:51:05.257Z"
   },
   {
    "duration": 118,
    "start_time": "2022-10-18T10:51:05.276Z"
   },
   {
    "duration": 9,
    "start_time": "2022-10-18T10:51:05.396Z"
   },
   {
    "duration": 24,
    "start_time": "2022-10-18T10:51:05.407Z"
   },
   {
    "duration": 33,
    "start_time": "2022-10-18T10:51:05.433Z"
   },
   {
    "duration": 13,
    "start_time": "2022-10-18T10:51:05.469Z"
   },
   {
    "duration": 208,
    "start_time": "2022-10-18T10:51:05.484Z"
   },
   {
    "duration": 11,
    "start_time": "2022-10-18T10:51:05.700Z"
   },
   {
    "duration": 46,
    "start_time": "2022-10-18T10:51:05.715Z"
   },
   {
    "duration": 10,
    "start_time": "2022-10-18T10:51:05.762Z"
   },
   {
    "duration": 909,
    "start_time": "2022-10-18T10:51:05.774Z"
   },
   {
    "duration": 850,
    "start_time": "2022-10-18T10:51:06.685Z"
   },
   {
    "duration": 11,
    "start_time": "2022-10-18T10:51:07.536Z"
   },
   {
    "duration": 36,
    "start_time": "2022-10-18T10:51:07.548Z"
   },
   {
    "duration": 19,
    "start_time": "2022-10-18T10:51:07.586Z"
   },
   {
    "duration": 9,
    "start_time": "2022-10-18T10:51:07.606Z"
   },
   {
    "duration": 11,
    "start_time": "2022-10-18T10:51:07.617Z"
   },
   {
    "duration": 121,
    "start_time": "2022-10-18T10:51:07.629Z"
   },
   {
    "duration": 11,
    "start_time": "2022-10-18T10:51:07.751Z"
   },
   {
    "duration": 438,
    "start_time": "2022-10-18T10:51:07.764Z"
   },
   {
    "duration": 108,
    "start_time": "2022-10-18T10:51:08.204Z"
   },
   {
    "duration": 162,
    "start_time": "2022-10-18T10:51:08.314Z"
   },
   {
    "duration": 14,
    "start_time": "2022-10-18T10:51:08.478Z"
   },
   {
    "duration": 300,
    "start_time": "2022-10-18T10:51:08.501Z"
   },
   {
    "duration": 311,
    "start_time": "2022-10-18T10:51:08.803Z"
   },
   {
    "duration": 112,
    "start_time": "2022-10-18T10:51:09.202Z"
   },
   {
    "duration": 29,
    "start_time": "2022-10-18T10:51:09.315Z"
   },
   {
    "duration": 290,
    "start_time": "2022-10-18T10:51:09.346Z"
   },
   {
    "duration": 398,
    "start_time": "2022-10-18T10:51:09.638Z"
   },
   {
    "duration": 1468,
    "start_time": "2022-10-18T10:51:10.037Z"
   },
   {
    "duration": 698,
    "start_time": "2022-10-18T10:51:11.507Z"
   },
   {
    "duration": 18064,
    "start_time": "2022-10-18T10:51:12.207Z"
   },
   {
    "duration": 687,
    "start_time": "2022-10-18T10:51:30.272Z"
   },
   {
    "duration": 25,
    "start_time": "2022-10-18T10:56:09.515Z"
   },
   {
    "duration": 84,
    "start_time": "2022-10-18T10:56:17.330Z"
   },
   {
    "duration": 7,
    "start_time": "2022-10-18T17:24:55.715Z"
   },
   {
    "duration": 7,
    "start_time": "2022-10-18T17:25:55.667Z"
   },
   {
    "duration": 10,
    "start_time": "2022-10-18T17:28:57.472Z"
   },
   {
    "duration": 10,
    "start_time": "2022-10-18T17:29:47.709Z"
   },
   {
    "duration": 7,
    "start_time": "2022-10-18T17:29:53.156Z"
   }
  ],
  "kernelspec": {
   "display_name": "Python 3 (ipykernel)",
   "language": "python",
   "name": "python3"
  },
  "language_info": {
   "codemirror_mode": {
    "name": "ipython",
    "version": 3
   },
   "file_extension": ".py",
   "mimetype": "text/x-python",
   "name": "python",
   "nbconvert_exporter": "python",
   "pygments_lexer": "ipython3",
   "version": "3.9.12"
  },
  "toc": {
   "base_numbering": 1,
   "nav_menu": {},
   "number_sections": true,
   "sideBar": true,
   "skip_h1_title": true,
   "title_cell": "Содержание",
   "title_sidebar": "Contents",
   "toc_cell": true,
   "toc_position": {
    "height": "calc(100% - 180px)",
    "left": "10px",
    "top": "150px",
    "width": "409px"
   },
   "toc_section_display": true,
   "toc_window_display": true
  }
 },
 "nbformat": 4,
 "nbformat_minor": 2
}
